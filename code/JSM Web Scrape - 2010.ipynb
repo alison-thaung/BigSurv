{
 "cells": [
  {
   "cell_type": "markdown",
   "metadata": {},
   "source": [
    "# I. Import Needed Libraries"
   ]
  },
  {
   "cell_type": "markdown",
   "metadata": {},
   "source": [
    "Selenium: accesses and controls web browser to submit search and locate web elements by xpath\n",
    "\n",
    "CSV: reads and writes CSV files\n",
    "\n",
    "re: regular expression for pattern matching\n",
    "\n",
    "requests: makes HTTP requests\n",
    "\n",
    "BeautifulSoup:parses HTML\n",
    "\n",
    "pandas: data analysis library to manage dataframes\n"
   ]
  },
  {
   "cell_type": "code",
   "execution_count": 1,
   "metadata": {
    "collapsed": false
   },
   "outputs": [
    {
     "name": "stdout",
     "output_type": "stream",
     "text": [
      "The history saving thread hit an unexpected error (DatabaseError('database disk image is malformed',)).History will not be written to the database.\n"
     ]
    }
   ],
   "source": [
    "from selenium import webdriver\n",
    "from selenium.webdriver.support.ui import Select\n",
    "from selenium.webdriver.common.by import By\n",
    "from selenium.webdriver.support.ui import WebDriverWait\n",
    "from selenium.webdriver.support import expected_conditions as EC\n",
    "\n",
    "import csv, re, requests\n",
    "from bs4 import BeautifulSoup\n",
    "import pandas as pd"
   ]
  },
  {
   "cell_type": "markdown",
   "metadata": {},
   "source": [
    "# II. Instantiate Browser Object "
   ]
  },
  {
   "cell_type": "code",
   "execution_count": 2,
   "metadata": {
    "collapsed": false
   },
   "outputs": [],
   "source": [
    "url = 'https://ww2.amstat.org/meetings/jsm/2010/onlineprogram/'\n",
    "\n",
    "# chromedriver needs to be in exectuable path or you need to map to where your chromedriver is\n",
    "browser = webdriver.Chrome()\n",
    "browser.get(url)\n"
   ]
  },
  {
   "cell_type": "markdown",
   "metadata": {},
   "source": [
    "# III. Navigate through webpage and scrape objects"
   ]
  },
  {
   "cell_type": "markdown",
   "metadata": {},
   "source": [
    "### Creat xpaths for needed items"
   ]
  },
  {
   "cell_type": "code",
   "execution_count": 4,
   "metadata": {
    "collapsed": true
   },
   "outputs": [],
   "source": [
    "xpath_search = '//*[@id=\"content_full\"]/table[1]/tbody/tr/td/form/input[6]'\n",
    "xpath_session = '//tr//td[1]//a[contains(@href, \"ActivityDetails\")]'\n",
    "xpath_titles = '//tbody//tr//td[2]//a[contains(@href, \"ActivityDetails\")]'\n",
    "xpath_sponsors = '//tbody//tr//td[3]'\n",
    "xpath_type = '//tbody//tr/td[4]'"
   ]
  },
  {
   "cell_type": "markdown",
   "metadata": {},
   "source": [
    "### Click search with empty fields"
   ]
  },
  {
   "cell_type": "code",
   "execution_count": 5,
   "metadata": {
    "collapsed": false
   },
   "outputs": [],
   "source": [
    "# wouldn't click on this page so had to execute script instead of standard click() method\n",
    "element = browser.find_element_by_xpath(xpath_search)\n",
    "browser.execute_script(\"arguments[0].click();\", element)\n",
    "\n",
    "\n",
    "# browser.find_element_by_xpath(xpath_search).click()\n",
    "# wait = WebDriverWait(browser, 30)\n",
    "# wait.until(EC.presence_of_element_located((By.XPATH, xpath_search)))\n",
    "# browser.find_element_by_xpath(xpath_search).click()"
   ]
  },
  {
   "cell_type": "markdown",
   "metadata": {},
   "source": [
    "### Create lists of each field needed"
   ]
  },
  {
   "cell_type": "code",
   "execution_count": 6,
   "metadata": {
    "collapsed": false
   },
   "outputs": [],
   "source": [
    "sessions = [item.text for item in browser.find_elements_by_xpath(xpath_session) if 'Session' not in item.text]\n",
    "titles = [item.text for item in browser.find_elements_by_xpath(xpath_titles)]\n",
    "sponsors = [item.text.replace('\\n', ', ') for item in browser.find_elements_by_xpath(xpath_sponsors) \n",
    "            if item.text != 'Sponsor(s)']\n",
    "session_type = [item.text for item in browser.find_elements_by_xpath(xpath_type) \n",
    "                if item.text != \"Type\" ]\n",
    "session_linkToAbstract = [item.get_attribute('href') for item in browser.find_elements_by_xpath(xpath_titles)]\n"
   ]
  },
  {
   "cell_type": "code",
   "execution_count": 7,
   "metadata": {
    "collapsed": false
   },
   "outputs": [
    {
     "data": {
      "text/plain": [
       "True"
      ]
     },
     "execution_count": 7,
     "metadata": {},
     "output_type": "execute_result"
    }
   ],
   "source": [
    "len(sessions) == len(titles) == len(sponsors) == len(session_linkToAbstract)"
   ]
  },
  {
   "cell_type": "code",
   "execution_count": 8,
   "metadata": {
    "collapsed": true
   },
   "outputs": [],
   "source": [
    "df = pd.DataFrame({'Session_No' : sessions,\n",
    "                   'Session_Title' : titles,\n",
    "                   'Sponsors': sponsors,\n",
    "                   'Type': session_type,\n",
    "                   'Session_URL': session_linkToAbstract                   \n",
    "                  })"
   ]
  },
  {
   "cell_type": "code",
   "execution_count": 9,
   "metadata": {
    "collapsed": true
   },
   "outputs": [],
   "source": [
    "df['Session_ID'] = df['Session_URL'].apply(lambda x: re.sub(r'https\\S+((\\d){6})', r'\\1', x))"
   ]
  },
  {
   "cell_type": "code",
   "execution_count": 10,
   "metadata": {
    "collapsed": false
   },
   "outputs": [
    {
     "data": {
      "text/html": [
       "<div>\n",
       "<table border=\"1\" class=\"dataframe\">\n",
       "  <thead>\n",
       "    <tr style=\"text-align: right;\">\n",
       "      <th></th>\n",
       "      <th>Session_No</th>\n",
       "      <th>Session_Title</th>\n",
       "      <th>Session_URL</th>\n",
       "      <th>Sponsors</th>\n",
       "      <th>Type</th>\n",
       "      <th>Session_ID</th>\n",
       "    </tr>\n",
       "  </thead>\n",
       "  <tbody>\n",
       "    <tr>\n",
       "      <th>0</th>\n",
       "      <td>205476</td>\n",
       "      <td>Intermediate R Programming</td>\n",
       "      <td>https://ww2.amstat.org/meetings/jsm/2010/onlin...</td>\n",
       "      <td>Section for Statistical Programmers and Analysts</td>\n",
       "      <td>Continuing Education Course</td>\n",
       "      <td>205476</td>\n",
       "    </tr>\n",
       "  </tbody>\n",
       "</table>\n",
       "</div>"
      ],
      "text/plain": [
       "  Session_No               Session_Title  \\\n",
       "0     205476  Intermediate R Programming   \n",
       "\n",
       "                                         Session_URL  \\\n",
       "0  https://ww2.amstat.org/meetings/jsm/2010/onlin...   \n",
       "\n",
       "                                           Sponsors  \\\n",
       "0  Section for Statistical Programmers and Analysts   \n",
       "\n",
       "                          Type Session_ID  \n",
       "0  Continuing Education Course     205476  "
      ]
     },
     "execution_count": 10,
     "metadata": {},
     "output_type": "execute_result"
    }
   ],
   "source": [
    "df.head(1)"
   ]
  },
  {
   "cell_type": "code",
   "execution_count": 20,
   "metadata": {
    "collapsed": false
   },
   "outputs": [],
   "source": [
    "df.drop_duplicates(subset = 'Session_URL', inplace = True)\n",
    "df.reset_index(inplace = True, drop= True)"
   ]
  },
  {
   "cell_type": "code",
   "execution_count": 11,
   "metadata": {
    "collapsed": false
   },
   "outputs": [],
   "source": [
    "dest = r'C:\\Users\\Thaunga\\Scripts\\02. Presentations\\JSM\\Datasets'\n",
    "df.to_excel(r'{}\\2010Sessions.xlsx'.format(dest))"
   ]
  },
  {
   "cell_type": "markdown",
   "metadata": {},
   "source": [
    "# Test Code for this year's object locations (xpaths)"
   ]
  },
  {
   "cell_type": "code",
   "execution_count": 12,
   "metadata": {
    "collapsed": false
   },
   "outputs": [
    {
     "data": {
      "text/html": [
       "<div>\n",
       "<table border=\"1\" class=\"dataframe\">\n",
       "  <thead>\n",
       "    <tr style=\"text-align: right;\">\n",
       "      <th></th>\n",
       "      <th>Session_No</th>\n",
       "      <th>Session_Title</th>\n",
       "      <th>Session_URL</th>\n",
       "      <th>Sponsors</th>\n",
       "      <th>Type</th>\n",
       "      <th>Session_ID</th>\n",
       "    </tr>\n",
       "  </thead>\n",
       "  <tbody>\n",
       "    <tr>\n",
       "      <th>15</th>\n",
       "      <td>CE_03C</td>\n",
       "      <td>Monte Carlo and Bayesian Computation with R</td>\n",
       "      <td>https://ww2.amstat.org/meetings/jsm/2010/onlin...</td>\n",
       "      <td>Section on Physical and Engineering Sciences, ...</td>\n",
       "      <td>Continuing Education Course</td>\n",
       "      <td>205449</td>\n",
       "    </tr>\n",
       "    <tr>\n",
       "      <th>16</th>\n",
       "      <td>CE_02C</td>\n",
       "      <td>Methods for Designing and Analyzing Mixture Ex...</td>\n",
       "      <td>https://ww2.amstat.org/meetings/jsm/2010/onlin...</td>\n",
       "      <td>ASA</td>\n",
       "      <td>Continuing Education Course</td>\n",
       "      <td>205507</td>\n",
       "    </tr>\n",
       "    <tr>\n",
       "      <th>17</th>\n",
       "      <td>CE_01C</td>\n",
       "      <td>Causal Inference</td>\n",
       "      <td>https://ww2.amstat.org/meetings/jsm/2010/onlin...</td>\n",
       "      <td>ASA</td>\n",
       "      <td>Continuing Education Course</td>\n",
       "      <td>205508</td>\n",
       "    </tr>\n",
       "    <tr>\n",
       "      <th>28</th>\n",
       "      <td>CE_06C</td>\n",
       "      <td>Practical Bayesian Computation</td>\n",
       "      <td>https://ww2.amstat.org/meetings/jsm/2010/onlin...</td>\n",
       "      <td>Section for Statistical Programmers and Analysts</td>\n",
       "      <td>Continuing Education Course</td>\n",
       "      <td>205481</td>\n",
       "    </tr>\n",
       "    <tr>\n",
       "      <th>29</th>\n",
       "      <td>CE_08C</td>\n",
       "      <td>Analysis of Clinical Trials: Theory and Applic...</td>\n",
       "      <td>https://ww2.amstat.org/meetings/jsm/2010/onlin...</td>\n",
       "      <td>Biopharmaceutical Section</td>\n",
       "      <td>Continuing Education Course</td>\n",
       "      <td>205210</td>\n",
       "    </tr>\n",
       "    <tr>\n",
       "      <th>30</th>\n",
       "      <td>CE_01C</td>\n",
       "      <td>Causal Inference</td>\n",
       "      <td>https://ww2.amstat.org/meetings/jsm/2010/onlin...</td>\n",
       "      <td>ASA</td>\n",
       "      <td>Continuing Education Course</td>\n",
       "      <td>205965</td>\n",
       "    </tr>\n",
       "    <tr>\n",
       "      <th>40</th>\n",
       "      <td>CE_10C</td>\n",
       "      <td>Bayesian Ecology: Hierarchical Modeling for Ec...</td>\n",
       "      <td>https://ww2.amstat.org/meetings/jsm/2010/onlin...</td>\n",
       "      <td>Section on Bayesian Statistical Science</td>\n",
       "      <td>Continuing Education Course</td>\n",
       "      <td>205434</td>\n",
       "    </tr>\n",
       "    <tr>\n",
       "      <th>43</th>\n",
       "      <td>23</td>\n",
       "      <td>Data Expo 2009: A Second Look at Flight Delays</td>\n",
       "      <td>https://ww2.amstat.org/meetings/jsm/2010/onlin...</td>\n",
       "      <td>Section on Statistical Graphics, Section on St...</td>\n",
       "      <td>Topic Contributed Papers</td>\n",
       "      <td>205726</td>\n",
       "    </tr>\n",
       "    <tr>\n",
       "      <th>44</th>\n",
       "      <td>37</td>\n",
       "      <td>Analysis and Modeling of Networks</td>\n",
       "      <td>https://ww2.amstat.org/meetings/jsm/2010/onlin...</td>\n",
       "      <td>Section on Physical and Engineering Sciences, ...</td>\n",
       "      <td>Contributed Papers</td>\n",
       "      <td>205798</td>\n",
       "    </tr>\n",
       "    <tr>\n",
       "      <th>45</th>\n",
       "      <td>1</td>\n",
       "      <td>Spatial Epidemiology, GIS, and Disease Mapping</td>\n",
       "      <td>https://ww2.amstat.org/meetings/jsm/2010/onlin...</td>\n",
       "      <td>Section on Statistics in Epidemiology, CHANCE,...</td>\n",
       "      <td>Invited Papers</td>\n",
       "      <td>205133</td>\n",
       "    </tr>\n",
       "    <tr>\n",
       "      <th>46</th>\n",
       "      <td>2</td>\n",
       "      <td>Inferring Selection Mechanisms from Genomic Data</td>\n",
       "      <td>https://ww2.amstat.org/meetings/jsm/2010/onlin...</td>\n",
       "      <td>WNAR, Biometrics Section, CHANCE, ENAR, IMS</td>\n",
       "      <td>Invited Papers</td>\n",
       "      <td>205160</td>\n",
       "    </tr>\n",
       "    <tr>\n",
       "      <th>47</th>\n",
       "      <td>8</td>\n",
       "      <td>The BC Forest Resource in a Changing Climate</td>\n",
       "      <td>https://ww2.amstat.org/meetings/jsm/2010/onlin...</td>\n",
       "      <td>Council of Chapters, CHANCE, Section on Statis...</td>\n",
       "      <td>Invited Papers</td>\n",
       "      <td>205384</td>\n",
       "    </tr>\n",
       "    <tr>\n",
       "      <th>48</th>\n",
       "      <td>11</td>\n",
       "      <td>Improving the Dialogue Between the Consulting ...</td>\n",
       "      <td>https://ww2.amstat.org/meetings/jsm/2010/onlin...</td>\n",
       "      <td>Section on Statistical Consulting, CHANCE, Com...</td>\n",
       "      <td>Invited Panel</td>\n",
       "      <td>205353</td>\n",
       "    </tr>\n",
       "    <tr>\n",
       "      <th>49</th>\n",
       "      <td>22</td>\n",
       "      <td>CANCELLED - Environmental Statistics</td>\n",
       "      <td>https://ww2.amstat.org/meetings/jsm/2010/onlin...</td>\n",
       "      <td>Section on Statistics and the Environment, Sci...</td>\n",
       "      <td>Topic Contributed Papers</td>\n",
       "      <td>205689</td>\n",
       "    </tr>\n",
       "    <tr>\n",
       "      <th>50</th>\n",
       "      <td>18</td>\n",
       "      <td>Bayesian and Adaptive Design Applications in E...</td>\n",
       "      <td>https://ww2.amstat.org/meetings/jsm/2010/onlin...</td>\n",
       "      <td>Biopharmaceutical Section, ENAR, Section on Ba...</td>\n",
       "      <td>Topic Contributed Papers</td>\n",
       "      <td>205626</td>\n",
       "    </tr>\n",
       "    <tr>\n",
       "      <th>51</th>\n",
       "      <td>26</td>\n",
       "      <td>Recent Developments of Bayesian Methods with A...</td>\n",
       "      <td>https://ww2.amstat.org/meetings/jsm/2010/onlin...</td>\n",
       "      <td>Section on Nonparametric Statistics, Biometric...</td>\n",
       "      <td>Topic Contributed Papers</td>\n",
       "      <td>205947</td>\n",
       "    </tr>\n",
       "    <tr>\n",
       "      <th>52</th>\n",
       "      <td>17</td>\n",
       "      <td>Pharmaceutical Stability Shelf Life: Philosoph...</td>\n",
       "      <td>https://ww2.amstat.org/meetings/jsm/2010/onlin...</td>\n",
       "      <td>Biopharmaceutical Section, ENAR</td>\n",
       "      <td>Topic Contributed Papers</td>\n",
       "      <td>205565</td>\n",
       "    </tr>\n",
       "    <tr>\n",
       "      <th>53</th>\n",
       "      <td>42</td>\n",
       "      <td>Spatial Epidemiology and Disease Mapping</td>\n",
       "      <td>https://ww2.amstat.org/meetings/jsm/2010/onlin...</td>\n",
       "      <td>Section on Statistics in Epidemiology, Biometr...</td>\n",
       "      <td>Contributed Papers</td>\n",
       "      <td>205862</td>\n",
       "    </tr>\n",
       "    <tr>\n",
       "      <th>54</th>\n",
       "      <td>43</td>\n",
       "      <td>Topics in Testing</td>\n",
       "      <td>https://ww2.amstat.org/meetings/jsm/2010/onlin...</td>\n",
       "      <td>Section on Statistics in Epidemiology</td>\n",
       "      <td>Contributed Papers</td>\n",
       "      <td>205863</td>\n",
       "    </tr>\n",
       "    <tr>\n",
       "      <th>55</th>\n",
       "      <td>44</td>\n",
       "      <td>Clustered Data</td>\n",
       "      <td>https://ww2.amstat.org/meetings/jsm/2010/onlin...</td>\n",
       "      <td>Section on Statistics in Epidemiology</td>\n",
       "      <td>Contributed Papers</td>\n",
       "      <td>205869</td>\n",
       "    </tr>\n",
       "    <tr>\n",
       "      <th>56</th>\n",
       "      <td>24</td>\n",
       "      <td>New Advances in Disparity and Divergence Metho...</td>\n",
       "      <td>https://ww2.amstat.org/meetings/jsm/2010/onlin...</td>\n",
       "      <td>IMS</td>\n",
       "      <td>Topic Contributed Papers</td>\n",
       "      <td>205912</td>\n",
       "    </tr>\n",
       "    <tr>\n",
       "      <th>57</th>\n",
       "      <td>25</td>\n",
       "      <td>Nonparametric Curve Estimation</td>\n",
       "      <td>https://ww2.amstat.org/meetings/jsm/2010/onlin...</td>\n",
       "      <td>IMS, Section on Nonparametric Statistics</td>\n",
       "      <td>Topic Contributed Papers</td>\n",
       "      <td>205915</td>\n",
       "    </tr>\n",
       "    <tr>\n",
       "      <th>58</th>\n",
       "      <td>3</td>\n",
       "      <td>Topics in Nonstandard Asymptotics</td>\n",
       "      <td>https://ww2.amstat.org/meetings/jsm/2010/onlin...</td>\n",
       "      <td>General Methodology, Business and Economic Sta...</td>\n",
       "      <td>Invited Papers</td>\n",
       "      <td>205172</td>\n",
       "    </tr>\n",
       "    <tr>\n",
       "      <th>59</th>\n",
       "      <td>2</td>\n",
       "      <td>Inferring Selection Mechanisms from Genomic Data</td>\n",
       "      <td>https://ww2.amstat.org/meetings/jsm/2010/onlin...</td>\n",
       "      <td>WNAR, Biometrics Section, CHANCE, ENAR, IMS</td>\n",
       "      <td>Invited Papers</td>\n",
       "      <td>205160</td>\n",
       "    </tr>\n",
       "    <tr>\n",
       "      <th>60</th>\n",
       "      <td>9</td>\n",
       "      <td>Multiple Imputations for Survey Sampling and T...</td>\n",
       "      <td>https://ww2.amstat.org/meetings/jsm/2010/onlin...</td>\n",
       "      <td>Section on Survey Research Methods, IMS, Healt...</td>\n",
       "      <td>Invited Papers</td>\n",
       "      <td>205419</td>\n",
       "    </tr>\n",
       "    <tr>\n",
       "      <th>61</th>\n",
       "      <td>10</td>\n",
       "      <td>Global Statistical Capacity and the Role of St...</td>\n",
       "      <td>https://ww2.amstat.org/meetings/jsm/2010/onlin...</td>\n",
       "      <td>Social Statistics Section, Biometrics Section,...</td>\n",
       "      <td>Invited Panel</td>\n",
       "      <td>205351</td>\n",
       "    </tr>\n",
       "    <tr>\n",
       "      <th>62</th>\n",
       "      <td>5</td>\n",
       "      <td>How Fast Can We Compute? How Fast Will We Comp...</td>\n",
       "      <td>https://ww2.amstat.org/meetings/jsm/2010/onlin...</td>\n",
       "      <td>Section on Bayesian Statistical Science, Inter...</td>\n",
       "      <td>Invited Papers</td>\n",
       "      <td>205178</td>\n",
       "    </tr>\n",
       "    <tr>\n",
       "      <th>63</th>\n",
       "      <td>7</td>\n",
       "      <td>Multicriteria Prioritization and Ranking Innov...</td>\n",
       "      <td>https://ww2.amstat.org/meetings/jsm/2010/onlin...</td>\n",
       "      <td>Environmental and Ecological Statistics, ENAR</td>\n",
       "      <td>Invited Papers</td>\n",
       "      <td>205355</td>\n",
       "    </tr>\n",
       "    <tr>\n",
       "      <th>64</th>\n",
       "      <td>1</td>\n",
       "      <td>Spatial Epidemiology, GIS, and Disease Mapping</td>\n",
       "      <td>https://ww2.amstat.org/meetings/jsm/2010/onlin...</td>\n",
       "      <td>Section on Statistics in Epidemiology, CHANCE,...</td>\n",
       "      <td>Invited Papers</td>\n",
       "      <td>205133</td>\n",
       "    </tr>\n",
       "    <tr>\n",
       "      <th>65</th>\n",
       "      <td>6</td>\n",
       "      <td>Modern-Day Design and Analysis of Experiments</td>\n",
       "      <td>https://ww2.amstat.org/meetings/jsm/2010/onlin...</td>\n",
       "      <td>Section on Physical and Engineering Sciences, ...</td>\n",
       "      <td>Invited Papers</td>\n",
       "      <td>205342</td>\n",
       "    </tr>\n",
       "    <tr>\n",
       "      <th>...</th>\n",
       "      <td>...</td>\n",
       "      <td>...</td>\n",
       "      <td>...</td>\n",
       "      <td>...</td>\n",
       "      <td>...</td>\n",
       "      <td>...</td>\n",
       "    </tr>\n",
       "    <tr>\n",
       "      <th>1279</th>\n",
       "      <td>655</td>\n",
       "      <td>Measurement Issues in Counting Workplace Injur...</td>\n",
       "      <td>https://ww2.amstat.org/meetings/jsm/2010/onlin...</td>\n",
       "      <td>Section on Survey Research Methods, Section on...</td>\n",
       "      <td>Topic Contributed Papers</td>\n",
       "      <td>205648</td>\n",
       "    </tr>\n",
       "    <tr>\n",
       "      <th>1280</th>\n",
       "      <td>669</td>\n",
       "      <td>Analysis Strategies for Count Data, Data with ...</td>\n",
       "      <td>https://ww2.amstat.org/meetings/jsm/2010/onlin...</td>\n",
       "      <td>Biopharmaceutical Section</td>\n",
       "      <td>Contributed Papers</td>\n",
       "      <td>205618</td>\n",
       "    </tr>\n",
       "    <tr>\n",
       "      <th>1281</th>\n",
       "      <td>654</td>\n",
       "      <td>Recent Developments in Address-Based Sampling ...</td>\n",
       "      <td>https://ww2.amstat.org/meetings/jsm/2010/onlin...</td>\n",
       "      <td>Section on Survey Research Methods</td>\n",
       "      <td>Topic Contributed Papers</td>\n",
       "      <td>205611</td>\n",
       "    </tr>\n",
       "    <tr>\n",
       "      <th>1282</th>\n",
       "      <td>672</td>\n",
       "      <td>Applications Cross Section II</td>\n",
       "      <td>https://ww2.amstat.org/meetings/jsm/2010/onlin...</td>\n",
       "      <td>Business and Economic Statistics Section</td>\n",
       "      <td>Contributed Papers</td>\n",
       "      <td>205680</td>\n",
       "    </tr>\n",
       "    <tr>\n",
       "      <th>1283</th>\n",
       "      <td>656</td>\n",
       "      <td>Hierarchical Models for Health Disparity: A Ro...</td>\n",
       "      <td>https://ww2.amstat.org/meetings/jsm/2010/onlin...</td>\n",
       "      <td>Section on Statistics in Epidemiology, Biometr...</td>\n",
       "      <td>Topic Contributed Papers</td>\n",
       "      <td>205684</td>\n",
       "    </tr>\n",
       "    <tr>\n",
       "      <th>1284</th>\n",
       "      <td>673</td>\n",
       "      <td>Analysis of Gene Expression Data</td>\n",
       "      <td>https://ww2.amstat.org/meetings/jsm/2010/onlin...</td>\n",
       "      <td>ENAR, Biometrics Section</td>\n",
       "      <td>Contributed Papers</td>\n",
       "      <td>205694</td>\n",
       "    </tr>\n",
       "    <tr>\n",
       "      <th>1285</th>\n",
       "      <td>657</td>\n",
       "      <td>Challenges in Interdisciplinary Spatial and Sp...</td>\n",
       "      <td>https://ww2.amstat.org/meetings/jsm/2010/onlin...</td>\n",
       "      <td>Section on Statistics and the Environment</td>\n",
       "      <td>Topic Contributed Papers</td>\n",
       "      <td>205695</td>\n",
       "    </tr>\n",
       "    <tr>\n",
       "      <th>1286</th>\n",
       "      <td>674</td>\n",
       "      <td>Bayesian Applications in Science with Complex ...</td>\n",
       "      <td>https://ww2.amstat.org/meetings/jsm/2010/onlin...</td>\n",
       "      <td>Section on Bayesian Statistical Science</td>\n",
       "      <td>Contributed Papers</td>\n",
       "      <td>205733</td>\n",
       "    </tr>\n",
       "    <tr>\n",
       "      <th>1287</th>\n",
       "      <td>679</td>\n",
       "      <td>Reliability Analysis and Yield Modeling</td>\n",
       "      <td>https://ww2.amstat.org/meetings/jsm/2010/onlin...</td>\n",
       "      <td>Section on Quality and Productivity</td>\n",
       "      <td>Contributed Papers</td>\n",
       "      <td>205803</td>\n",
       "    </tr>\n",
       "    <tr>\n",
       "      <th>1288</th>\n",
       "      <td>678</td>\n",
       "      <td>New Developments in Classical and Optimal Desi...</td>\n",
       "      <td>https://ww2.amstat.org/meetings/jsm/2010/onlin...</td>\n",
       "      <td>Section on Physical and Engineering Sciences, ...</td>\n",
       "      <td>Contributed Papers</td>\n",
       "      <td>205795</td>\n",
       "    </tr>\n",
       "    <tr>\n",
       "      <th>1289</th>\n",
       "      <td>677</td>\n",
       "      <td>Nonparametric Approaches to Moderate and High-...</td>\n",
       "      <td>https://ww2.amstat.org/meetings/jsm/2010/onlin...</td>\n",
       "      <td>Section on Nonparametric Statistics</td>\n",
       "      <td>Contributed Papers</td>\n",
       "      <td>205786</td>\n",
       "    </tr>\n",
       "    <tr>\n",
       "      <th>1290</th>\n",
       "      <td>675</td>\n",
       "      <td>Quality-of-Life Measurement and Categorical Mo...</td>\n",
       "      <td>https://ww2.amstat.org/meetings/jsm/2010/onlin...</td>\n",
       "      <td>Health Policy Statistics Section, Biometrics S...</td>\n",
       "      <td>Contributed Papers</td>\n",
       "      <td>205771</td>\n",
       "    </tr>\n",
       "    <tr>\n",
       "      <th>1291</th>\n",
       "      <td>676</td>\n",
       "      <td>Semi- and Nonparametric Regression</td>\n",
       "      <td>https://ww2.amstat.org/meetings/jsm/2010/onlin...</td>\n",
       "      <td>Section on Nonparametric Statistics</td>\n",
       "      <td>Contributed Papers</td>\n",
       "      <td>205781</td>\n",
       "    </tr>\n",
       "    <tr>\n",
       "      <th>1292</th>\n",
       "      <td>682</td>\n",
       "      <td>Theoretical Approaches and Visualization Techn...</td>\n",
       "      <td>https://ww2.amstat.org/meetings/jsm/2010/onlin...</td>\n",
       "      <td>Section on Statistical Graphics</td>\n",
       "      <td>Contributed Papers</td>\n",
       "      <td>205832</td>\n",
       "    </tr>\n",
       "    <tr>\n",
       "      <th>1293</th>\n",
       "      <td>683</td>\n",
       "      <td>Statistical Methods and Applications in Marketing</td>\n",
       "      <td>https://ww2.amstat.org/meetings/jsm/2010/onlin...</td>\n",
       "      <td>Section on Statistics and Marketing</td>\n",
       "      <td>Contributed Papers</td>\n",
       "      <td>205847</td>\n",
       "    </tr>\n",
       "    <tr>\n",
       "      <th>1294</th>\n",
       "      <td>680</td>\n",
       "      <td>Algorithms</td>\n",
       "      <td>https://ww2.amstat.org/meetings/jsm/2010/onlin...</td>\n",
       "      <td>Section on Statistical Computing</td>\n",
       "      <td>Contributed Papers</td>\n",
       "      <td>205814</td>\n",
       "    </tr>\n",
       "    <tr>\n",
       "      <th>1295</th>\n",
       "      <td>681</td>\n",
       "      <td>OMICS</td>\n",
       "      <td>https://ww2.amstat.org/meetings/jsm/2010/onlin...</td>\n",
       "      <td>Section on Statistical Computing</td>\n",
       "      <td>Contributed Papers</td>\n",
       "      <td>205815</td>\n",
       "    </tr>\n",
       "    <tr>\n",
       "      <th>1296</th>\n",
       "      <td>644</td>\n",
       "      <td>Mixture Models: Applications, a Critical Appra...</td>\n",
       "      <td>https://ww2.amstat.org/meetings/jsm/2010/onlin...</td>\n",
       "      <td>ENAR, Committee on Applied Statisticians, IMS,...</td>\n",
       "      <td>Invited Papers</td>\n",
       "      <td>205255</td>\n",
       "    </tr>\n",
       "    <tr>\n",
       "      <th>1297</th>\n",
       "      <td>643</td>\n",
       "      <td>Biostatistical Innovations in the Australasian...</td>\n",
       "      <td>https://ww2.amstat.org/meetings/jsm/2010/onlin...</td>\n",
       "      <td>Statistical Society of Australia, Biometrics S...</td>\n",
       "      <td>Invited Papers</td>\n",
       "      <td>205218</td>\n",
       "    </tr>\n",
       "    <tr>\n",
       "      <th>1298</th>\n",
       "      <td>642</td>\n",
       "      <td>Modeling and Analyzing Temporal/Spatial Event ...</td>\n",
       "      <td>https://ww2.amstat.org/meetings/jsm/2010/onlin...</td>\n",
       "      <td>SSC, Committee on Applied Statisticians, IMS, ...</td>\n",
       "      <td>Invited Papers</td>\n",
       "      <td>205189</td>\n",
       "    </tr>\n",
       "    <tr>\n",
       "      <th>1299</th>\n",
       "      <td>651</td>\n",
       "      <td>Initiatives to Create Guidelines for Statistic...</td>\n",
       "      <td>https://ww2.amstat.org/meetings/jsm/2010/onlin...</td>\n",
       "      <td>ASA NCTM Joint Committee on Curriculum in Stat...</td>\n",
       "      <td>Invited Panel</td>\n",
       "      <td>205314</td>\n",
       "    </tr>\n",
       "    <tr>\n",
       "      <th>1300</th>\n",
       "      <td>645</td>\n",
       "      <td>Key Multiplicity Issues in Clinical Trials</td>\n",
       "      <td>https://ww2.amstat.org/meetings/jsm/2010/onlin...</td>\n",
       "      <td>Biopharmaceutical Section, Committee on Applie...</td>\n",
       "      <td>Invited Papers</td>\n",
       "      <td>205272</td>\n",
       "    </tr>\n",
       "    <tr>\n",
       "      <th>1301</th>\n",
       "      <td>646</td>\n",
       "      <td>Getting More from Genomewide Association Studies</td>\n",
       "      <td>https://ww2.amstat.org/meetings/jsm/2010/onlin...</td>\n",
       "      <td>Biometrics Section, ENAR, IMS, International C...</td>\n",
       "      <td>Invited Papers</td>\n",
       "      <td>205302</td>\n",
       "    </tr>\n",
       "    <tr>\n",
       "      <th>1302</th>\n",
       "      <td>652</td>\n",
       "      <td>Statistics Training in a Data-Centric World</td>\n",
       "      <td>https://ww2.amstat.org/meetings/jsm/2010/onlin...</td>\n",
       "      <td>The American Statistician, Committee on Career...</td>\n",
       "      <td>Invited Panel</td>\n",
       "      <td>205336</td>\n",
       "    </tr>\n",
       "    <tr>\n",
       "      <th>1303</th>\n",
       "      <td>647</td>\n",
       "      <td>Effective Use of Instructional Technology</td>\n",
       "      <td>https://ww2.amstat.org/meetings/jsm/2010/onlin...</td>\n",
       "      <td>Section on Statistical Education, Section on S...</td>\n",
       "      <td>Invited Papers</td>\n",
       "      <td>205337</td>\n",
       "    </tr>\n",
       "    <tr>\n",
       "      <th>1304</th>\n",
       "      <td>650</td>\n",
       "      <td>Current Applications of Small-Area Estimation ...</td>\n",
       "      <td>https://ww2.amstat.org/meetings/jsm/2010/onlin...</td>\n",
       "      <td>Section on Survey Research Methods, Committee ...</td>\n",
       "      <td>Invited Papers</td>\n",
       "      <td>205418</td>\n",
       "    </tr>\n",
       "    <tr>\n",
       "      <th>1305</th>\n",
       "      <td>648</td>\n",
       "      <td>Measurement of Elusive Populations and Phenome...</td>\n",
       "      <td>https://ww2.amstat.org/meetings/jsm/2010/onlin...</td>\n",
       "      <td>Social Statistics Section, Section on Governme...</td>\n",
       "      <td>Invited Papers</td>\n",
       "      <td>205383</td>\n",
       "    </tr>\n",
       "    <tr>\n",
       "      <th>1306</th>\n",
       "      <td>649</td>\n",
       "      <td>Variable Selection and Multiple Hypothesis Tes...</td>\n",
       "      <td>https://ww2.amstat.org/meetings/jsm/2010/onlin...</td>\n",
       "      <td>Section on Nonparametric Statistics, IMS, Sect...</td>\n",
       "      <td>Invited Papers</td>\n",
       "      <td>205393</td>\n",
       "    </tr>\n",
       "    <tr>\n",
       "      <th>1307</th>\n",
       "      <td>650</td>\n",
       "      <td>Current Applications of Small-Area Estimation ...</td>\n",
       "      <td>https://ww2.amstat.org/meetings/jsm/2010/onlin...</td>\n",
       "      <td>Section on Survey Research Methods, Committee ...</td>\n",
       "      <td>Invited Papers</td>\n",
       "      <td>205418</td>\n",
       "    </tr>\n",
       "    <tr>\n",
       "      <th>1308</th>\n",
       "      <td>648</td>\n",
       "      <td>Measurement of Elusive Populations and Phenome...</td>\n",
       "      <td>https://ww2.amstat.org/meetings/jsm/2010/onlin...</td>\n",
       "      <td>Social Statistics Section, Section on Governme...</td>\n",
       "      <td>Invited Papers</td>\n",
       "      <td>205383</td>\n",
       "    </tr>\n",
       "  </tbody>\n",
       "</table>\n",
       "<p>1078 rows × 6 columns</p>\n",
       "</div>"
      ],
      "text/plain": [
       "     Session_No                                      Session_Title  \\\n",
       "15       CE_03C        Monte Carlo and Bayesian Computation with R   \n",
       "16       CE_02C  Methods for Designing and Analyzing Mixture Ex...   \n",
       "17       CE_01C                                   Causal Inference   \n",
       "28       CE_06C                     Practical Bayesian Computation   \n",
       "29       CE_08C  Analysis of Clinical Trials: Theory and Applic...   \n",
       "30       CE_01C                                   Causal Inference   \n",
       "40       CE_10C  Bayesian Ecology: Hierarchical Modeling for Ec...   \n",
       "43           23     Data Expo 2009: A Second Look at Flight Delays   \n",
       "44           37                  Analysis and Modeling of Networks   \n",
       "45            1     Spatial Epidemiology, GIS, and Disease Mapping   \n",
       "46            2   Inferring Selection Mechanisms from Genomic Data   \n",
       "47            8       The BC Forest Resource in a Changing Climate   \n",
       "48           11  Improving the Dialogue Between the Consulting ...   \n",
       "49           22               CANCELLED - Environmental Statistics   \n",
       "50           18  Bayesian and Adaptive Design Applications in E...   \n",
       "51           26  Recent Developments of Bayesian Methods with A...   \n",
       "52           17  Pharmaceutical Stability Shelf Life: Philosoph...   \n",
       "53           42           Spatial Epidemiology and Disease Mapping   \n",
       "54           43                                  Topics in Testing   \n",
       "55           44                                     Clustered Data   \n",
       "56           24  New Advances in Disparity and Divergence Metho...   \n",
       "57           25                     Nonparametric Curve Estimation   \n",
       "58            3                  Topics in Nonstandard Asymptotics   \n",
       "59            2   Inferring Selection Mechanisms from Genomic Data   \n",
       "60            9  Multiple Imputations for Survey Sampling and T...   \n",
       "61           10  Global Statistical Capacity and the Role of St...   \n",
       "62            5  How Fast Can We Compute? How Fast Will We Comp...   \n",
       "63            7  Multicriteria Prioritization and Ranking Innov...   \n",
       "64            1     Spatial Epidemiology, GIS, and Disease Mapping   \n",
       "65            6      Modern-Day Design and Analysis of Experiments   \n",
       "...         ...                                                ...   \n",
       "1279        655  Measurement Issues in Counting Workplace Injur...   \n",
       "1280        669  Analysis Strategies for Count Data, Data with ...   \n",
       "1281        654  Recent Developments in Address-Based Sampling ...   \n",
       "1282        672                      Applications Cross Section II   \n",
       "1283        656  Hierarchical Models for Health Disparity: A Ro...   \n",
       "1284        673                   Analysis of Gene Expression Data   \n",
       "1285        657  Challenges in Interdisciplinary Spatial and Sp...   \n",
       "1286        674  Bayesian Applications in Science with Complex ...   \n",
       "1287        679            Reliability Analysis and Yield Modeling   \n",
       "1288        678  New Developments in Classical and Optimal Desi...   \n",
       "1289        677  Nonparametric Approaches to Moderate and High-...   \n",
       "1290        675  Quality-of-Life Measurement and Categorical Mo...   \n",
       "1291        676                 Semi- and Nonparametric Regression   \n",
       "1292        682  Theoretical Approaches and Visualization Techn...   \n",
       "1293        683  Statistical Methods and Applications in Marketing   \n",
       "1294        680                                         Algorithms   \n",
       "1295        681                                              OMICS   \n",
       "1296        644  Mixture Models: Applications, a Critical Appra...   \n",
       "1297        643  Biostatistical Innovations in the Australasian...   \n",
       "1298        642  Modeling and Analyzing Temporal/Spatial Event ...   \n",
       "1299        651  Initiatives to Create Guidelines for Statistic...   \n",
       "1300        645         Key Multiplicity Issues in Clinical Trials   \n",
       "1301        646   Getting More from Genomewide Association Studies   \n",
       "1302        652        Statistics Training in a Data-Centric World   \n",
       "1303        647          Effective Use of Instructional Technology   \n",
       "1304        650  Current Applications of Small-Area Estimation ...   \n",
       "1305        648  Measurement of Elusive Populations and Phenome...   \n",
       "1306        649  Variable Selection and Multiple Hypothesis Tes...   \n",
       "1307        650  Current Applications of Small-Area Estimation ...   \n",
       "1308        648  Measurement of Elusive Populations and Phenome...   \n",
       "\n",
       "                                            Session_URL  \\\n",
       "15    https://ww2.amstat.org/meetings/jsm/2010/onlin...   \n",
       "16    https://ww2.amstat.org/meetings/jsm/2010/onlin...   \n",
       "17    https://ww2.amstat.org/meetings/jsm/2010/onlin...   \n",
       "28    https://ww2.amstat.org/meetings/jsm/2010/onlin...   \n",
       "29    https://ww2.amstat.org/meetings/jsm/2010/onlin...   \n",
       "30    https://ww2.amstat.org/meetings/jsm/2010/onlin...   \n",
       "40    https://ww2.amstat.org/meetings/jsm/2010/onlin...   \n",
       "43    https://ww2.amstat.org/meetings/jsm/2010/onlin...   \n",
       "44    https://ww2.amstat.org/meetings/jsm/2010/onlin...   \n",
       "45    https://ww2.amstat.org/meetings/jsm/2010/onlin...   \n",
       "46    https://ww2.amstat.org/meetings/jsm/2010/onlin...   \n",
       "47    https://ww2.amstat.org/meetings/jsm/2010/onlin...   \n",
       "48    https://ww2.amstat.org/meetings/jsm/2010/onlin...   \n",
       "49    https://ww2.amstat.org/meetings/jsm/2010/onlin...   \n",
       "50    https://ww2.amstat.org/meetings/jsm/2010/onlin...   \n",
       "51    https://ww2.amstat.org/meetings/jsm/2010/onlin...   \n",
       "52    https://ww2.amstat.org/meetings/jsm/2010/onlin...   \n",
       "53    https://ww2.amstat.org/meetings/jsm/2010/onlin...   \n",
       "54    https://ww2.amstat.org/meetings/jsm/2010/onlin...   \n",
       "55    https://ww2.amstat.org/meetings/jsm/2010/onlin...   \n",
       "56    https://ww2.amstat.org/meetings/jsm/2010/onlin...   \n",
       "57    https://ww2.amstat.org/meetings/jsm/2010/onlin...   \n",
       "58    https://ww2.amstat.org/meetings/jsm/2010/onlin...   \n",
       "59    https://ww2.amstat.org/meetings/jsm/2010/onlin...   \n",
       "60    https://ww2.amstat.org/meetings/jsm/2010/onlin...   \n",
       "61    https://ww2.amstat.org/meetings/jsm/2010/onlin...   \n",
       "62    https://ww2.amstat.org/meetings/jsm/2010/onlin...   \n",
       "63    https://ww2.amstat.org/meetings/jsm/2010/onlin...   \n",
       "64    https://ww2.amstat.org/meetings/jsm/2010/onlin...   \n",
       "65    https://ww2.amstat.org/meetings/jsm/2010/onlin...   \n",
       "...                                                 ...   \n",
       "1279  https://ww2.amstat.org/meetings/jsm/2010/onlin...   \n",
       "1280  https://ww2.amstat.org/meetings/jsm/2010/onlin...   \n",
       "1281  https://ww2.amstat.org/meetings/jsm/2010/onlin...   \n",
       "1282  https://ww2.amstat.org/meetings/jsm/2010/onlin...   \n",
       "1283  https://ww2.amstat.org/meetings/jsm/2010/onlin...   \n",
       "1284  https://ww2.amstat.org/meetings/jsm/2010/onlin...   \n",
       "1285  https://ww2.amstat.org/meetings/jsm/2010/onlin...   \n",
       "1286  https://ww2.amstat.org/meetings/jsm/2010/onlin...   \n",
       "1287  https://ww2.amstat.org/meetings/jsm/2010/onlin...   \n",
       "1288  https://ww2.amstat.org/meetings/jsm/2010/onlin...   \n",
       "1289  https://ww2.amstat.org/meetings/jsm/2010/onlin...   \n",
       "1290  https://ww2.amstat.org/meetings/jsm/2010/onlin...   \n",
       "1291  https://ww2.amstat.org/meetings/jsm/2010/onlin...   \n",
       "1292  https://ww2.amstat.org/meetings/jsm/2010/onlin...   \n",
       "1293  https://ww2.amstat.org/meetings/jsm/2010/onlin...   \n",
       "1294  https://ww2.amstat.org/meetings/jsm/2010/onlin...   \n",
       "1295  https://ww2.amstat.org/meetings/jsm/2010/onlin...   \n",
       "1296  https://ww2.amstat.org/meetings/jsm/2010/onlin...   \n",
       "1297  https://ww2.amstat.org/meetings/jsm/2010/onlin...   \n",
       "1298  https://ww2.amstat.org/meetings/jsm/2010/onlin...   \n",
       "1299  https://ww2.amstat.org/meetings/jsm/2010/onlin...   \n",
       "1300  https://ww2.amstat.org/meetings/jsm/2010/onlin...   \n",
       "1301  https://ww2.amstat.org/meetings/jsm/2010/onlin...   \n",
       "1302  https://ww2.amstat.org/meetings/jsm/2010/onlin...   \n",
       "1303  https://ww2.amstat.org/meetings/jsm/2010/onlin...   \n",
       "1304  https://ww2.amstat.org/meetings/jsm/2010/onlin...   \n",
       "1305  https://ww2.amstat.org/meetings/jsm/2010/onlin...   \n",
       "1306  https://ww2.amstat.org/meetings/jsm/2010/onlin...   \n",
       "1307  https://ww2.amstat.org/meetings/jsm/2010/onlin...   \n",
       "1308  https://ww2.amstat.org/meetings/jsm/2010/onlin...   \n",
       "\n",
       "                                               Sponsors  \\\n",
       "15    Section on Physical and Engineering Sciences, ...   \n",
       "16                                                  ASA   \n",
       "17                                                  ASA   \n",
       "28     Section for Statistical Programmers and Analysts   \n",
       "29                            Biopharmaceutical Section   \n",
       "30                                                  ASA   \n",
       "40              Section on Bayesian Statistical Science   \n",
       "43    Section on Statistical Graphics, Section on St...   \n",
       "44    Section on Physical and Engineering Sciences, ...   \n",
       "45    Section on Statistics in Epidemiology, CHANCE,...   \n",
       "46          WNAR, Biometrics Section, CHANCE, ENAR, IMS   \n",
       "47    Council of Chapters, CHANCE, Section on Statis...   \n",
       "48    Section on Statistical Consulting, CHANCE, Com...   \n",
       "49    Section on Statistics and the Environment, Sci...   \n",
       "50    Biopharmaceutical Section, ENAR, Section on Ba...   \n",
       "51    Section on Nonparametric Statistics, Biometric...   \n",
       "52                      Biopharmaceutical Section, ENAR   \n",
       "53    Section on Statistics in Epidemiology, Biometr...   \n",
       "54                Section on Statistics in Epidemiology   \n",
       "55                Section on Statistics in Epidemiology   \n",
       "56                                                  IMS   \n",
       "57             IMS, Section on Nonparametric Statistics   \n",
       "58    General Methodology, Business and Economic Sta...   \n",
       "59          WNAR, Biometrics Section, CHANCE, ENAR, IMS   \n",
       "60    Section on Survey Research Methods, IMS, Healt...   \n",
       "61    Social Statistics Section, Biometrics Section,...   \n",
       "62    Section on Bayesian Statistical Science, Inter...   \n",
       "63        Environmental and Ecological Statistics, ENAR   \n",
       "64    Section on Statistics in Epidemiology, CHANCE,...   \n",
       "65    Section on Physical and Engineering Sciences, ...   \n",
       "...                                                 ...   \n",
       "1279  Section on Survey Research Methods, Section on...   \n",
       "1280                          Biopharmaceutical Section   \n",
       "1281                 Section on Survey Research Methods   \n",
       "1282           Business and Economic Statistics Section   \n",
       "1283  Section on Statistics in Epidemiology, Biometr...   \n",
       "1284                           ENAR, Biometrics Section   \n",
       "1285          Section on Statistics and the Environment   \n",
       "1286            Section on Bayesian Statistical Science   \n",
       "1287                Section on Quality and Productivity   \n",
       "1288  Section on Physical and Engineering Sciences, ...   \n",
       "1289                Section on Nonparametric Statistics   \n",
       "1290  Health Policy Statistics Section, Biometrics S...   \n",
       "1291                Section on Nonparametric Statistics   \n",
       "1292                    Section on Statistical Graphics   \n",
       "1293                Section on Statistics and Marketing   \n",
       "1294                   Section on Statistical Computing   \n",
       "1295                   Section on Statistical Computing   \n",
       "1296  ENAR, Committee on Applied Statisticians, IMS,...   \n",
       "1297  Statistical Society of Australia, Biometrics S...   \n",
       "1298  SSC, Committee on Applied Statisticians, IMS, ...   \n",
       "1299  ASA NCTM Joint Committee on Curriculum in Stat...   \n",
       "1300  Biopharmaceutical Section, Committee on Applie...   \n",
       "1301  Biometrics Section, ENAR, IMS, International C...   \n",
       "1302  The American Statistician, Committee on Career...   \n",
       "1303  Section on Statistical Education, Section on S...   \n",
       "1304  Section on Survey Research Methods, Committee ...   \n",
       "1305  Social Statistics Section, Section on Governme...   \n",
       "1306  Section on Nonparametric Statistics, IMS, Sect...   \n",
       "1307  Section on Survey Research Methods, Committee ...   \n",
       "1308  Social Statistics Section, Section on Governme...   \n",
       "\n",
       "                             Type Session_ID  \n",
       "15    Continuing Education Course     205449  \n",
       "16    Continuing Education Course     205507  \n",
       "17    Continuing Education Course     205508  \n",
       "28    Continuing Education Course     205481  \n",
       "29    Continuing Education Course     205210  \n",
       "30    Continuing Education Course     205965  \n",
       "40    Continuing Education Course     205434  \n",
       "43       Topic Contributed Papers     205726  \n",
       "44             Contributed Papers     205798  \n",
       "45                 Invited Papers     205133  \n",
       "46                 Invited Papers     205160  \n",
       "47                 Invited Papers     205384  \n",
       "48                  Invited Panel     205353  \n",
       "49       Topic Contributed Papers     205689  \n",
       "50       Topic Contributed Papers     205626  \n",
       "51       Topic Contributed Papers     205947  \n",
       "52       Topic Contributed Papers     205565  \n",
       "53             Contributed Papers     205862  \n",
       "54             Contributed Papers     205863  \n",
       "55             Contributed Papers     205869  \n",
       "56       Topic Contributed Papers     205912  \n",
       "57       Topic Contributed Papers     205915  \n",
       "58                 Invited Papers     205172  \n",
       "59                 Invited Papers     205160  \n",
       "60                 Invited Papers     205419  \n",
       "61                  Invited Panel     205351  \n",
       "62                 Invited Papers     205178  \n",
       "63                 Invited Papers     205355  \n",
       "64                 Invited Papers     205133  \n",
       "65                 Invited Papers     205342  \n",
       "...                           ...        ...  \n",
       "1279     Topic Contributed Papers     205648  \n",
       "1280           Contributed Papers     205618  \n",
       "1281     Topic Contributed Papers     205611  \n",
       "1282           Contributed Papers     205680  \n",
       "1283     Topic Contributed Papers     205684  \n",
       "1284           Contributed Papers     205694  \n",
       "1285     Topic Contributed Papers     205695  \n",
       "1286           Contributed Papers     205733  \n",
       "1287           Contributed Papers     205803  \n",
       "1288           Contributed Papers     205795  \n",
       "1289           Contributed Papers     205786  \n",
       "1290           Contributed Papers     205771  \n",
       "1291           Contributed Papers     205781  \n",
       "1292           Contributed Papers     205832  \n",
       "1293           Contributed Papers     205847  \n",
       "1294           Contributed Papers     205814  \n",
       "1295           Contributed Papers     205815  \n",
       "1296               Invited Papers     205255  \n",
       "1297               Invited Papers     205218  \n",
       "1298               Invited Papers     205189  \n",
       "1299                Invited Panel     205314  \n",
       "1300               Invited Papers     205272  \n",
       "1301               Invited Papers     205302  \n",
       "1302                Invited Panel     205336  \n",
       "1303               Invited Papers     205337  \n",
       "1304               Invited Papers     205418  \n",
       "1305               Invited Papers     205383  \n",
       "1306               Invited Papers     205393  \n",
       "1307               Invited Papers     205418  \n",
       "1308               Invited Papers     205383  \n",
       "\n",
       "[1078 rows x 6 columns]"
      ]
     },
     "execution_count": 12,
     "metadata": {},
     "output_type": "execute_result"
    }
   ],
   "source": [
    "df[df['Session_No'].apply(lambda x: bool(re.search(r'(?<!\\d)\\d{1,3}(?!\\d)',x)))]"
   ]
  },
  {
   "cell_type": "code",
   "execution_count": 18,
   "metadata": {
    "collapsed": false
   },
   "outputs": [
    {
     "data": {
      "text/plain": [
       "'https://ww2.amstat.org/meetings/jsm/2010/onlineprogram/ActivityDetails.cfm?SessionID=205481'"
      ]
     },
     "execution_count": 18,
     "metadata": {},
     "output_type": "execute_result"
    }
   ],
   "source": [
    "test = df['Session_URL'].iloc[28]\n",
    "test"
   ]
  },
  {
   "cell_type": "code",
   "execution_count": 19,
   "metadata": {
    "collapsed": true
   },
   "outputs": [],
   "source": [
    "r = requests.get(test)\n",
    "soup = BeautifulSoup(r.text, 'lxml')"
   ]
  },
  {
   "cell_type": "code",
   "execution_count": 22,
   "metadata": {
    "collapsed": false
   },
   "outputs": [
    {
     "data": {
      "text/plain": [
       "'CE_06C'"
      ]
     },
     "execution_count": 22,
     "metadata": {},
     "output_type": "execute_result"
    }
   ],
   "source": [
    "soup.find_all('tr')[0].find('b').text.strip()"
   ]
  },
  {
   "cell_type": "markdown",
   "metadata": {},
   "source": [
    "# Run Code to extract workshops and abstract_urls"
   ]
  },
  {
   "cell_type": "code",
   "execution_count": 23,
   "metadata": {
    "collapsed": true
   },
   "outputs": [],
   "source": [
    "# dataframe of abstracts to scrape with new urls\n",
    "session_url = []\n",
    "abstract_url = []\n",
    "abstract_title = []\n",
    "session_no_v2 = []\n",
    "\n",
    "#dataframe of abstracts already written in the session\n",
    "workshop_abstract = []\n",
    "workshop_session_no = []\n",
    "workshop_session_url = []\n",
    "\n",
    "for link in session_linkToAbstract:\n",
    "    r = requests.get(link)\n",
    "    soup = BeautifulSoup(r.text, 'lxml')\n",
    "    \n",
    "    # extract abstract titles and links\n",
    "    abstract_links = [item.get('href') for item in soup.find_all('a') if re.search('AbstractDetails', str(item.get('href')))]\n",
    "    \n",
    "    if len(abstract_links) == 0:\n",
    "        try:\n",
    "            abstract_workshop = re.sub(r'(\\n|\\r|\\t)', '', soup.find_all('tr')[4].text)\n",
    "            id_no = soup.find_all('tr')[0].find('b').text.strip()\n",
    "            \n",
    "            workshop_abstract.append(abstract_workshop)\n",
    "            workshop_session_no.append(id_no)\n",
    "            workshop_session_url.append(link)\n",
    "        except:\n",
    "            continue\n",
    "    \n",
    "    else:\n",
    "        abstract_titles = [item.text for item in soup.find_all('a') \n",
    "            if re.search('AbstractDetails', str(item.get('href')))]\n",
    "\n",
    "        # map back to session id and original link for later joining\n",
    "        session_ids = [soup.find_all('tr')[0].find('b').text] * len(abstract_links)\n",
    "        original_link = [link] * len(abstract_links)\n",
    "\n",
    "        # create list of \n",
    "        session_url = session_url + original_link\n",
    "        abstract_url = abstract_url + abstract_links\n",
    "        abstract_title = abstract_title + abstract_titles\n",
    "        session_no_v2 = session_no_v2 + session_ids\n",
    "\n",
    "    "
   ]
  },
  {
   "cell_type": "code",
   "execution_count": 24,
   "metadata": {
    "collapsed": false
   },
   "outputs": [
    {
     "data": {
      "text/plain": [
       "True"
      ]
     },
     "execution_count": 24,
     "metadata": {},
     "output_type": "execute_result"
    }
   ],
   "source": [
    "len(session_url) == len(abstract_url) == len(abstract_title) == len(session_no_v2)"
   ]
  },
  {
   "cell_type": "code",
   "execution_count": 25,
   "metadata": {
    "collapsed": false
   },
   "outputs": [
    {
     "data": {
      "text/plain": [
       "4437"
      ]
     },
     "execution_count": 25,
     "metadata": {},
     "output_type": "execute_result"
    }
   ],
   "source": [
    "len(session_url)"
   ]
  },
  {
   "cell_type": "code",
   "execution_count": 26,
   "metadata": {
    "collapsed": false
   },
   "outputs": [
    {
     "data": {
      "text/plain": [
       "True"
      ]
     },
     "execution_count": 26,
     "metadata": {},
     "output_type": "execute_result"
    }
   ],
   "source": [
    "len(workshop_abstract) == len(workshop_session_no) == len(workshop_session_url)"
   ]
  },
  {
   "cell_type": "code",
   "execution_count": 27,
   "metadata": {
    "collapsed": false
   },
   "outputs": [
    {
     "data": {
      "text/plain": [
       "38"
      ]
     },
     "execution_count": 27,
     "metadata": {},
     "output_type": "execute_result"
    }
   ],
   "source": [
    "len(workshop_abstract)"
   ]
  },
  {
   "cell_type": "code",
   "execution_count": 28,
   "metadata": {
    "collapsed": false
   },
   "outputs": [],
   "source": [
    "df_abstracts = pd.DataFrame({'Session_URL': session_url,\n",
    "                            'Abstract_URL' : abstract_url,\n",
    "                            'Abstract_Title': abstract_title,\n",
    "                            'Session_No_v2': session_no_v2})"
   ]
  },
  {
   "cell_type": "code",
   "execution_count": 29,
   "metadata": {
    "collapsed": true
   },
   "outputs": [],
   "source": [
    "df_abstracts['Session_ID'] = df_abstracts['Session_URL'].apply(lambda x: re.sub(r'https\\S+((\\d){6})', r'\\1', x))\n",
    "df_abstracts['Abstract_URL'] = df_abstracts['Abstract_URL'].apply(lambda x: url + x)"
   ]
  },
  {
   "cell_type": "code",
   "execution_count": 30,
   "metadata": {
    "collapsed": false
   },
   "outputs": [
    {
     "data": {
      "text/html": [
       "<div>\n",
       "<table border=\"1\" class=\"dataframe\">\n",
       "  <thead>\n",
       "    <tr style=\"text-align: right;\">\n",
       "      <th></th>\n",
       "      <th>Abstract_Title</th>\n",
       "      <th>Abstract_URL</th>\n",
       "      <th>Session_No_v2</th>\n",
       "      <th>Session_URL</th>\n",
       "      <th>Session_ID</th>\n",
       "    </tr>\n",
       "  </thead>\n",
       "  <tbody>\n",
       "    <tr>\n",
       "      <th>0</th>\n",
       "      <td>Visualizing Domestic Airline Traffic with SAS ...</td>\n",
       "      <td>https://ww2.amstat.org/meetings/jsm/2010/onlin...</td>\n",
       "      <td>23 *</td>\n",
       "      <td>https://ww2.amstat.org/meetings/jsm/2010/onlin...</td>\n",
       "      <td>205726</td>\n",
       "    </tr>\n",
       "  </tbody>\n",
       "</table>\n",
       "</div>"
      ],
      "text/plain": [
       "                                      Abstract_Title  \\\n",
       "0  Visualizing Domestic Airline Traffic with SAS ...   \n",
       "\n",
       "                                        Abstract_URL Session_No_v2  \\\n",
       "0  https://ww2.amstat.org/meetings/jsm/2010/onlin...         23 *    \n",
       "\n",
       "                                         Session_URL Session_ID  \n",
       "0  https://ww2.amstat.org/meetings/jsm/2010/onlin...     205726  "
      ]
     },
     "execution_count": 30,
     "metadata": {},
     "output_type": "execute_result"
    }
   ],
   "source": [
    "df_abstracts.head(1)"
   ]
  },
  {
   "cell_type": "code",
   "execution_count": 31,
   "metadata": {
    "collapsed": true
   },
   "outputs": [],
   "source": [
    "df_workshops = pd.DataFrame({'Session_No': workshop_session_no,\n",
    "                            'Abstract_Text': workshop_abstract,\n",
    "                            'Session_URL': workshop_session_url})\n"
   ]
  },
  {
   "cell_type": "code",
   "execution_count": 32,
   "metadata": {
    "collapsed": false
   },
   "outputs": [],
   "source": [
    "df_workshops['Session_ID']= df_workshops['Session_URL'].apply(lambda x:re.sub(r'https\\S+((\\d){6})', r'\\1', x))\n",
    "df_workshops = df_workshops[df_workshops['Abstract_Text'].str.contains('Organizer\\(s\\)|Chair\\(s\\)') == False]"
   ]
  },
  {
   "cell_type": "code",
   "execution_count": 33,
   "metadata": {
    "collapsed": false
   },
   "outputs": [
    {
     "data": {
      "text/html": [
       "<div>\n",
       "<table border=\"1\" class=\"dataframe\">\n",
       "  <thead>\n",
       "    <tr style=\"text-align: right;\">\n",
       "      <th></th>\n",
       "      <th>Abstract_Text</th>\n",
       "      <th>Session_No</th>\n",
       "      <th>Session_URL</th>\n",
       "      <th>Session_ID</th>\n",
       "    </tr>\n",
       "  </thead>\n",
       "  <tbody>\n",
       "    <tr>\n",
       "      <th>0</th>\n",
       "      <td>This course will cover R from a programming pe...</td>\n",
       "      <td>205476</td>\n",
       "      <td>https://ww2.amstat.org/meetings/jsm/2010/onlin...</td>\n",
       "      <td>205476</td>\n",
       "    </tr>\n",
       "    <tr>\n",
       "      <th>1</th>\n",
       "      <td>This course describes the use of the statistic...</td>\n",
       "      <td>CE_03C</td>\n",
       "      <td>https://ww2.amstat.org/meetings/jsm/2010/onlin...</td>\n",
       "      <td>205449</td>\n",
       "    </tr>\n",
       "    <tr>\n",
       "      <th>2</th>\n",
       "      <td>Mixture experiments involve varying the compon...</td>\n",
       "      <td>CE_02C</td>\n",
       "      <td>https://ww2.amstat.org/meetings/jsm/2010/onlin...</td>\n",
       "      <td>205507</td>\n",
       "    </tr>\n",
       "  </tbody>\n",
       "</table>\n",
       "</div>"
      ],
      "text/plain": [
       "                                       Abstract_Text Session_No  \\\n",
       "0  This course will cover R from a programming pe...     205476   \n",
       "1  This course describes the use of the statistic...     CE_03C   \n",
       "2  Mixture experiments involve varying the compon...     CE_02C   \n",
       "\n",
       "                                         Session_URL Session_ID  \n",
       "0  https://ww2.amstat.org/meetings/jsm/2010/onlin...     205476  \n",
       "1  https://ww2.amstat.org/meetings/jsm/2010/onlin...     205449  \n",
       "2  https://ww2.amstat.org/meetings/jsm/2010/onlin...     205507  "
      ]
     },
     "execution_count": 33,
     "metadata": {},
     "output_type": "execute_result"
    }
   ],
   "source": [
    "df_workshops.head(3)"
   ]
  },
  {
   "cell_type": "code",
   "execution_count": 34,
   "metadata": {
    "collapsed": false,
    "scrolled": true
   },
   "outputs": [],
   "source": [
    "df_abstracts.drop_duplicates(subset = 'Abstract_URL', inplace = True)\n",
    "df_abstracts.reset_index(drop = True, inplace = True)"
   ]
  },
  {
   "cell_type": "code",
   "execution_count": 35,
   "metadata": {
    "collapsed": true
   },
   "outputs": [],
   "source": [
    "df_abstracts.to_excel(r'{}\\2010Abstracts.xlsx'.format(dest))\n",
    "df_workshops.to_excel(r'{}\\2010Workshops.xlsx'.format(dest))"
   ]
  },
  {
   "cell_type": "markdown",
   "metadata": {},
   "source": [
    "# Test extraction of abstract info here"
   ]
  },
  {
   "cell_type": "code",
   "execution_count": 36,
   "metadata": {
    "collapsed": false
   },
   "outputs": [
    {
     "data": {
      "text/plain": [
       "'https://ww2.amstat.org/meetings/jsm/2010/onlineprogram/AbstractDetails.cfm?abstractid=306873'"
      ]
     },
     "execution_count": 36,
     "metadata": {},
     "output_type": "execute_result"
    }
   ],
   "source": [
    "test = df_abstracts['Abstract_URL'].iloc[0]\n",
    "test"
   ]
  },
  {
   "cell_type": "code",
   "execution_count": 37,
   "metadata": {
    "collapsed": true
   },
   "outputs": [],
   "source": [
    "r = requests.get(test)\n",
    "soup = BeautifulSoup(r.text, 'lxml')"
   ]
  },
  {
   "cell_type": "code",
   "execution_count": 44,
   "metadata": {
    "collapsed": false,
    "scrolled": true
   },
   "outputs": [
    {
     "data": {
      "text/plain": [
       "'306873'"
      ]
     },
     "execution_count": 44,
     "metadata": {},
     "output_type": "execute_result"
    }
   ],
   "source": [
    "re.sub(r'\\S+abstractid=(\\d+)', r'\\1', test)"
   ]
  },
  {
   "cell_type": "markdown",
   "metadata": {},
   "source": [
    "# Code to extract abstract details from abstract URLs"
   ]
  },
  {
   "cell_type": "code",
   "execution_count": 46,
   "metadata": {
    "collapsed": false
   },
   "outputs": [],
   "source": [
    "abs_num = []\n",
    "abs_keyword = []\n",
    "abs_type = []\n",
    "abs_text = []\n",
    "\n",
    "for link in df_abstracts['Abstract_URL']:\n",
    "    r = requests.get(link)\n",
    "    soup = BeautifulSoup(r.text, 'lxml')\n",
    "    \n",
    "    # abstract number\n",
    "    try:\n",
    "        number = re.sub(r'\\S+abstractid=(\\d+)', r'\\1', link)\n",
    "        abs_num.append(number)\n",
    "    except:\n",
    "        abs_num.append(None)\n",
    "    \n",
    "    # abstract keywords\n",
    "    try:\n",
    "        keywords = [item.text for item in soup.find_all('a') if re.search('keyword', str(item.get('href')))]\n",
    "        keywords = ', '.join(keywords)\n",
    "        abs_keyword.append(keywords)\n",
    "    except:\n",
    "        abs_keyword.append(None)\n",
    "        \n",
    "    \n",
    "    # abstract type\n",
    "    try:\n",
    "        talk_type = re.sub(r'Type:|\\n|\\r|\\t', '', soup.find_all('tr')[2].text)\n",
    "        abs_type.append(talk_type)\n",
    "    except:\n",
    "        abs_type.append(None)\n",
    "    \n",
    "    # abstract text\n",
    "    try:\n",
    "        abstract_text = re.sub(r'\\r|\\n|\\t', '', soup.find_all('tr')[11].find('p').text)\n",
    "        abs_text.append(abstract_text)\n",
    "    except:\n",
    "        abs_text.append(None)\n",
    "    "
   ]
  },
  {
   "cell_type": "code",
   "execution_count": 47,
   "metadata": {
    "collapsed": true
   },
   "outputs": [],
   "source": [
    "df_abstracts['Abstract_ID'] = abs_num\n",
    "df_abstracts['Abstract_Keywords'] = abs_keyword\n",
    "df_abstracts['Abstract_Type'] = abs_type\n",
    "df_abstracts['Abstract_Text'] = abs_text"
   ]
  },
  {
   "cell_type": "code",
   "execution_count": 48,
   "metadata": {
    "collapsed": true
   },
   "outputs": [],
   "source": [
    "df_abstracts.to_excel(r'{}\\2010Abstracts.xlsx'.format(dest))"
   ]
  },
  {
   "cell_type": "code",
   "execution_count": 49,
   "metadata": {
    "collapsed": false,
    "scrolled": true
   },
   "outputs": [
    {
     "data": {
      "text/html": [
       "<div>\n",
       "<table border=\"1\" class=\"dataframe\">\n",
       "  <thead>\n",
       "    <tr style=\"text-align: right;\">\n",
       "      <th></th>\n",
       "      <th>Abstract_Title</th>\n",
       "      <th>Abstract_URL</th>\n",
       "      <th>Session_No_v2</th>\n",
       "      <th>Session_URL</th>\n",
       "      <th>Session_ID</th>\n",
       "      <th>Abstract_ID</th>\n",
       "      <th>Abstract_Keywords</th>\n",
       "      <th>Abstract_Type</th>\n",
       "      <th>Abstract_Text</th>\n",
       "    </tr>\n",
       "  </thead>\n",
       "  <tbody>\n",
       "    <tr>\n",
       "      <th>0</th>\n",
       "      <td>Visualizing Domestic Airline Traffic with SAS ...</td>\n",
       "      <td>https://ww2.amstat.org/meetings/jsm/2010/onlin...</td>\n",
       "      <td>23 *</td>\n",
       "      <td>https://ww2.amstat.org/meetings/jsm/2010/onlin...</td>\n",
       "      <td>205726</td>\n",
       "      <td>306873</td>\n",
       "      <td>Data Expo, data analysis, statistical graphics...</td>\n",
       "      <td>Topic Contributed</td>\n",
       "      <td>Millions of flights. Hundreds of airports. Doz...</td>\n",
       "    </tr>\n",
       "  </tbody>\n",
       "</table>\n",
       "</div>"
      ],
      "text/plain": [
       "                                      Abstract_Title  \\\n",
       "0  Visualizing Domestic Airline Traffic with SAS ...   \n",
       "\n",
       "                                        Abstract_URL Session_No_v2  \\\n",
       "0  https://ww2.amstat.org/meetings/jsm/2010/onlin...         23 *    \n",
       "\n",
       "                                         Session_URL Session_ID Abstract_ID  \\\n",
       "0  https://ww2.amstat.org/meetings/jsm/2010/onlin...     205726      306873   \n",
       "\n",
       "                                   Abstract_Keywords      Abstract_Type  \\\n",
       "0  Data Expo, data analysis, statistical graphics...  Topic Contributed   \n",
       "\n",
       "                                       Abstract_Text  \n",
       "0  Millions of flights. Hundreds of airports. Doz...  "
      ]
     },
     "execution_count": 49,
     "metadata": {},
     "output_type": "execute_result"
    }
   ],
   "source": [
    "df_abstracts.head(1)"
   ]
  },
  {
   "cell_type": "code",
   "execution_count": 50,
   "metadata": {
    "collapsed": false
   },
   "outputs": [],
   "source": [
    "df_details = df_workshops.append(df_abstracts)"
   ]
  },
  {
   "cell_type": "code",
   "execution_count": 51,
   "metadata": {
    "collapsed": false
   },
   "outputs": [
    {
     "data": {
      "text/html": [
       "<div>\n",
       "<table border=\"1\" class=\"dataframe\">\n",
       "  <thead>\n",
       "    <tr style=\"text-align: right;\">\n",
       "      <th></th>\n",
       "      <th>Session_No</th>\n",
       "      <th>Session_Title</th>\n",
       "      <th>Session_URL</th>\n",
       "      <th>Sponsors</th>\n",
       "      <th>Type</th>\n",
       "      <th>Session_ID</th>\n",
       "    </tr>\n",
       "  </thead>\n",
       "  <tbody>\n",
       "  </tbody>\n",
       "</table>\n",
       "</div>"
      ],
      "text/plain": [
       "Empty DataFrame\n",
       "Columns: [Session_No, Session_Title, Session_URL, Sponsors, Type, Session_ID]\n",
       "Index: []"
      ]
     },
     "execution_count": 51,
     "metadata": {},
     "output_type": "execute_result"
    }
   ],
   "source": [
    "df.head(0)"
   ]
  },
  {
   "cell_type": "code",
   "execution_count": 52,
   "metadata": {
    "collapsed": false
   },
   "outputs": [],
   "source": [
    "df_final = df_details.merge(df[['Session_Title', 'Sponsors', 'Type', 'Session_ID']], on = 'Session_ID', how= 'outer')"
   ]
  },
  {
   "cell_type": "code",
   "execution_count": 53,
   "metadata": {
    "collapsed": false
   },
   "outputs": [],
   "source": [
    "df_final['Unique'] = df_final['Session_ID'].map(str) + df_final['Abstract_ID'].map(str)"
   ]
  },
  {
   "cell_type": "code",
   "execution_count": 54,
   "metadata": {
    "collapsed": true
   },
   "outputs": [],
   "source": [
    "df_final.drop_duplicates(subset= 'Unique', inplace = True)\n",
    "df_final.reset_index(drop = True, inplace = True)"
   ]
  },
  {
   "cell_type": "code",
   "execution_count": 55,
   "metadata": {
    "collapsed": false
   },
   "outputs": [],
   "source": [
    "df_final['Session_No'] = df_final['Session_No'].apply(lambda x: x if bool(str(x).startswith('CE') or str(x)[0].isdigit()) else \"\")"
   ]
  },
  {
   "cell_type": "code",
   "execution_count": 56,
   "metadata": {
    "collapsed": true
   },
   "outputs": [],
   "source": [
    "df_final['Session_No_Keep'] = df_final['Session_No_v2'].combine_first(df_final['Session_No'])"
   ]
  },
  {
   "cell_type": "code",
   "execution_count": 57,
   "metadata": {
    "collapsed": false
   },
   "outputs": [],
   "source": [
    "del df_final['Session_No']\n",
    "del df_final['Session_No_v2']"
   ]
  },
  {
   "cell_type": "code",
   "execution_count": 58,
   "metadata": {
    "collapsed": false
   },
   "outputs": [],
   "source": [
    "df_final.rename(columns = {'Session_No_Keep': 'Session_No'}, inplace=True)"
   ]
  },
  {
   "cell_type": "code",
   "execution_count": 59,
   "metadata": {
    "collapsed": false
   },
   "outputs": [],
   "source": [
    "new_dest = r'C:\\Users\\Thaunga\\Scripts\\02. Presentations\\JSM\\Final Data'\n",
    "df_final.to_excel(r'{}\\2010_JSM_data.xlsx'.format(new_dest))"
   ]
  },
  {
   "cell_type": "code",
   "execution_count": null,
   "metadata": {
    "collapsed": true
   },
   "outputs": [],
   "source": []
  }
 ],
 "metadata": {
  "kernelspec": {
   "display_name": "Python 3",
   "language": "python",
   "name": "python3"
  },
  "language_info": {
   "codemirror_mode": {
    "name": "ipython",
    "version": 3
   },
   "file_extension": ".py",
   "mimetype": "text/x-python",
   "name": "python",
   "nbconvert_exporter": "python",
   "pygments_lexer": "ipython3",
   "version": "3.5.2"
  }
 },
 "nbformat": 4,
 "nbformat_minor": 2
}
