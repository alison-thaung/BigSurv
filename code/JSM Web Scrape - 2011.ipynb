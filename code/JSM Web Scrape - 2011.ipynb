{
 "cells": [
  {
   "cell_type": "markdown",
   "metadata": {},
   "source": [
    "# I. Import Needed Libraries"
   ]
  },
  {
   "cell_type": "markdown",
   "metadata": {},
   "source": [
    "Selenium: accesses and controls web browser to submit search and locate web elements by xpath\n",
    "\n",
    "CSV: reads and writes CSV files\n",
    "\n",
    "re: regular expression for pattern matching\n",
    "\n",
    "requests: makes HTTP requests\n",
    "\n",
    "BeautifulSoup:parses HTML\n",
    "\n",
    "pandas: data analysis library to manage dataframes\n"
   ]
  },
  {
   "cell_type": "code",
   "execution_count": 1,
   "metadata": {
    "collapsed": false
   },
   "outputs": [
    {
     "name": "stdout",
     "output_type": "stream",
     "text": [
      "The history saving thread hit an unexpected error (DatabaseError('database disk image is malformed',)).History will not be written to the database.\n"
     ]
    }
   ],
   "source": [
    "from selenium import webdriver\n",
    "from selenium.webdriver.support.ui import Select\n",
    "from selenium.webdriver.common.by import By\n",
    "from selenium.webdriver.support.ui import WebDriverWait\n",
    "from selenium.webdriver.support import expected_conditions as EC\n",
    "\n",
    "import csv, re, requests\n",
    "from bs4 import BeautifulSoup\n",
    "import pandas as pd"
   ]
  },
  {
   "cell_type": "markdown",
   "metadata": {},
   "source": [
    "# II. Instantiate Browser Object "
   ]
  },
  {
   "cell_type": "code",
   "execution_count": 2,
   "metadata": {
    "collapsed": false
   },
   "outputs": [],
   "source": [
    "url = 'https://ww2.amstat.org/meetings/jsm/2011/onlineprogram/'\n",
    "\n",
    "# chromedriver needs to be in exectuable path or you need to map to where your chromedriver is\n",
    "browser = webdriver.Chrome()\n",
    "browser.get(url)\n"
   ]
  },
  {
   "cell_type": "markdown",
   "metadata": {},
   "source": [
    "# III. Navigate through webpage and scrape objects"
   ]
  },
  {
   "cell_type": "markdown",
   "metadata": {},
   "source": [
    "### Creat xpaths for needed items"
   ]
  },
  {
   "cell_type": "code",
   "execution_count": 3,
   "metadata": {
    "collapsed": true
   },
   "outputs": [],
   "source": [
    "xpath_search = '//*[@id=\"content_full\"]/table[1]/tbody/tr/td/form/input[@type = \"submit\"]'\n",
    "xpath_session = '//tr//td[1]//a[contains(@href, \"ActivityDetails\")]'\n",
    "xpath_titles = '//tbody//tr//td[2]//a[contains(@href, \"ActivityDetails\")]'\n",
    "xpath_sponsors = '//tbody//tr//td[3]'\n",
    "xpath_type = '//tbody//tr/td[4]'"
   ]
  },
  {
   "cell_type": "markdown",
   "metadata": {},
   "source": [
    "### Click search with empty fields"
   ]
  },
  {
   "cell_type": "code",
   "execution_count": 5,
   "metadata": {
    "collapsed": false
   },
   "outputs": [],
   "source": [
    "# wouldn't click on this page so had to execute script instead of standard click() method\n",
    "element = browser.find_element_by_xpath(xpath_search)\n",
    "browser.execute_script(\"arguments[0].click();\", element)\n",
    "\n",
    "\n",
    "# browser.find_element_by_xpath(xpath_search).click()\n",
    "# wait = WebDriverWait(browser, 30)\n",
    "# wait.until(EC.presence_of_element_located((By.XPATH, xpath_search)))\n",
    "# browser.find_element_by_xpath(xpath_search).click()"
   ]
  },
  {
   "cell_type": "markdown",
   "metadata": {},
   "source": [
    "### Create lists of each field needed"
   ]
  },
  {
   "cell_type": "code",
   "execution_count": 6,
   "metadata": {
    "collapsed": false
   },
   "outputs": [],
   "source": [
    "sessions = [item.text for item in browser.find_elements_by_xpath(xpath_session) if 'Session' not in item.text]\n",
    "titles = [item.text for item in browser.find_elements_by_xpath(xpath_titles)]\n",
    "sponsors = [item.text.replace('\\n', ', ') for item in browser.find_elements_by_xpath(xpath_sponsors) \n",
    "            if item.text != 'Sponsor(s)']\n",
    "session_type = [item.text for item in browser.find_elements_by_xpath(xpath_type) \n",
    "                if item.text != \"Type\" ]\n",
    "session_linkToAbstract = [item.get_attribute('href') for item in browser.find_elements_by_xpath(xpath_titles)]"
   ]
  },
  {
   "cell_type": "code",
   "execution_count": 7,
   "metadata": {
    "collapsed": false
   },
   "outputs": [
    {
     "data": {
      "text/plain": [
       "True"
      ]
     },
     "execution_count": 7,
     "metadata": {},
     "output_type": "execute_result"
    }
   ],
   "source": [
    "len(sessions) == len(titles) == len(sponsors) == len(session_linkToAbstract)"
   ]
  },
  {
   "cell_type": "code",
   "execution_count": 8,
   "metadata": {
    "collapsed": true
   },
   "outputs": [],
   "source": [
    "df = pd.DataFrame({'Session_No' : sessions,\n",
    "                   'Session_Title' : titles,\n",
    "                   'Sponsors': sponsors,\n",
    "                   'Type': session_type,\n",
    "                   'Session_URL': session_linkToAbstract                   \n",
    "                  })"
   ]
  },
  {
   "cell_type": "code",
   "execution_count": 9,
   "metadata": {
    "collapsed": true
   },
   "outputs": [],
   "source": [
    "df['Session_ID'] = df['Session_URL'].apply(lambda x: re.sub(r'https\\S+((\\d){6})', r'\\1', x))"
   ]
  },
  {
   "cell_type": "code",
   "execution_count": 10,
   "metadata": {
    "collapsed": false
   },
   "outputs": [
    {
     "data": {
      "text/html": [
       "<div>\n",
       "<table border=\"1\" class=\"dataframe\">\n",
       "  <thead>\n",
       "    <tr style=\"text-align: right;\">\n",
       "      <th></th>\n",
       "      <th>Session_No</th>\n",
       "      <th>Session_Title</th>\n",
       "      <th>Session_URL</th>\n",
       "      <th>Sponsors</th>\n",
       "      <th>Type</th>\n",
       "      <th>Session_ID</th>\n",
       "    </tr>\n",
       "  </thead>\n",
       "  <tbody>\n",
       "    <tr>\n",
       "      <th>0</th>\n",
       "      <td>207119</td>\n",
       "      <td>CANCELLED: ASA Development Committee Meeting</td>\n",
       "      <td>https://ww2.amstat.org/meetings/jsm/2011/onlin...</td>\n",
       "      <td>Development Committee</td>\n",
       "      <td>Other Cmte/Business</td>\n",
       "      <td>207119</td>\n",
       "    </tr>\n",
       "  </tbody>\n",
       "</table>\n",
       "</div>"
      ],
      "text/plain": [
       "  Session_No                                 Session_Title  \\\n",
       "0     207119  CANCELLED: ASA Development Committee Meeting   \n",
       "\n",
       "                                         Session_URL               Sponsors  \\\n",
       "0  https://ww2.amstat.org/meetings/jsm/2011/onlin...  Development Committee   \n",
       "\n",
       "                  Type Session_ID  \n",
       "0  Other Cmte/Business     207119  "
      ]
     },
     "execution_count": 10,
     "metadata": {},
     "output_type": "execute_result"
    }
   ],
   "source": [
    "df.head(1)"
   ]
  },
  {
   "cell_type": "code",
   "execution_count": 11,
   "metadata": {
    "collapsed": false
   },
   "outputs": [],
   "source": [
    "df.drop_duplicates(subset = 'Session_URL', inplace = True)\n",
    "df.reset_index(inplace = True, drop= True)"
   ]
  },
  {
   "cell_type": "code",
   "execution_count": 12,
   "metadata": {
    "collapsed": false
   },
   "outputs": [],
   "source": [
    "dest = r'C:\\Users\\Thaunga\\Scripts\\02. Presentations\\JSM\\Datasets'\n",
    "df.to_excel(r'{}\\2011Sessions.xlsx'.format(dest))"
   ]
  },
  {
   "cell_type": "markdown",
   "metadata": {},
   "source": [
    "# Test Code for this year's object locations (xpaths)"
   ]
  },
  {
   "cell_type": "code",
   "execution_count": 13,
   "metadata": {
    "collapsed": false
   },
   "outputs": [
    {
     "data": {
      "text/html": [
       "<div>\n",
       "<table border=\"1\" class=\"dataframe\">\n",
       "  <thead>\n",
       "    <tr style=\"text-align: right;\">\n",
       "      <th></th>\n",
       "      <th>Session_No</th>\n",
       "      <th>Session_Title</th>\n",
       "      <th>Session_URL</th>\n",
       "      <th>Sponsors</th>\n",
       "      <th>Type</th>\n",
       "      <th>Session_ID</th>\n",
       "    </tr>\n",
       "  </thead>\n",
       "  <tbody>\n",
       "    <tr>\n",
       "      <th>8</th>\n",
       "      <td>CE_01C</td>\n",
       "      <td>Foundations and Recent Advances in Longitudina...</td>\n",
       "      <td>https://ww2.amstat.org/meetings/jsm/2011/onlin...</td>\n",
       "      <td>ASA</td>\n",
       "      <td>Continuing Education Course</td>\n",
       "      <td>206444</td>\n",
       "    </tr>\n",
       "    <tr>\n",
       "      <th>9</th>\n",
       "      <td>CE_04C</td>\n",
       "      <td>Administrative Data for Statistical Purposes</td>\n",
       "      <td>https://ww2.amstat.org/meetings/jsm/2011/onlin...</td>\n",
       "      <td>ASA</td>\n",
       "      <td>Continuing Education Course</td>\n",
       "      <td>206415</td>\n",
       "    </tr>\n",
       "    <tr>\n",
       "      <th>10</th>\n",
       "      <td>CE_05C</td>\n",
       "      <td>Wavelets in the Real World</td>\n",
       "      <td>https://ww2.amstat.org/meetings/jsm/2011/onlin...</td>\n",
       "      <td>ASA, Section on Nonparametric Statistics</td>\n",
       "      <td>Continuing Education Course</td>\n",
       "      <td>206416</td>\n",
       "    </tr>\n",
       "    <tr>\n",
       "      <th>30</th>\n",
       "      <td>CE_06C</td>\n",
       "      <td>Data Stream Mining: Tools and Applications</td>\n",
       "      <td>https://ww2.amstat.org/meetings/jsm/2011/onlin...</td>\n",
       "      <td>ASA, Section on Statistical Computing</td>\n",
       "      <td>Continuing Education Course</td>\n",
       "      <td>206413</td>\n",
       "    </tr>\n",
       "    <tr>\n",
       "      <th>31</th>\n",
       "      <td>CE_01C</td>\n",
       "      <td>Foundations and Recent Advances in Longitudina...</td>\n",
       "      <td>https://ww2.amstat.org/meetings/jsm/2011/onlin...</td>\n",
       "      <td>ASA</td>\n",
       "      <td>Continuing Education Course</td>\n",
       "      <td>206845</td>\n",
       "    </tr>\n",
       "    <tr>\n",
       "      <th>32</th>\n",
       "      <td>CE_07C</td>\n",
       "      <td>Bayesian Inference</td>\n",
       "      <td>https://ww2.amstat.org/meetings/jsm/2011/onlin...</td>\n",
       "      <td>ASA, Section on Bayesian Statistical Science</td>\n",
       "      <td>Continuing Education Course</td>\n",
       "      <td>206427</td>\n",
       "    </tr>\n",
       "    <tr>\n",
       "      <th>33</th>\n",
       "      <td>CE_08C</td>\n",
       "      <td>Advanced Topics in Survey Sampling</td>\n",
       "      <td>https://ww2.amstat.org/meetings/jsm/2011/onlin...</td>\n",
       "      <td>ASA, Section on Survey Research Methods</td>\n",
       "      <td>Continuing Education Course</td>\n",
       "      <td>206442</td>\n",
       "    </tr>\n",
       "    <tr>\n",
       "      <th>34</th>\n",
       "      <td>CE_09C</td>\n",
       "      <td>Fundamental Statistics Concepts in Presenting ...</td>\n",
       "      <td>https://ww2.amstat.org/meetings/jsm/2011/onlin...</td>\n",
       "      <td>ASA, Section on Statistical Graphics</td>\n",
       "      <td>Continuing Education Course</td>\n",
       "      <td>206431</td>\n",
       "    </tr>\n",
       "    <tr>\n",
       "      <th>51</th>\n",
       "      <td>CE_10C</td>\n",
       "      <td>Risk Analysis in National Security</td>\n",
       "      <td>https://ww2.amstat.org/meetings/jsm/2011/onlin...</td>\n",
       "      <td>ASA, Section on Statistics in Defense and Nati...</td>\n",
       "      <td>Continuing Education Course</td>\n",
       "      <td>206392</td>\n",
       "    </tr>\n",
       "    <tr>\n",
       "      <th>52</th>\n",
       "      <td>9</td>\n",
       "      <td>Including Disease Models and Biomarkers in the...</td>\n",
       "      <td>https://ww2.amstat.org/meetings/jsm/2011/onlin...</td>\n",
       "      <td>Biopharmaceutical Section, International India...</td>\n",
       "      <td>Invited Papers</td>\n",
       "      <td>206379</td>\n",
       "    </tr>\n",
       "    <tr>\n",
       "      <th>53</th>\n",
       "      <td>10</td>\n",
       "      <td>Recent Advances in Reliability and Biostatistics</td>\n",
       "      <td>https://ww2.amstat.org/meetings/jsm/2011/onlin...</td>\n",
       "      <td>Council of Chapters, International Indian Stat...</td>\n",
       "      <td>Invited Papers</td>\n",
       "      <td>206381</td>\n",
       "    </tr>\n",
       "    <tr>\n",
       "      <th>54</th>\n",
       "      <td>7</td>\n",
       "      <td>Recent Advances in Statistical Geoinformatics ...</td>\n",
       "      <td>https://ww2.amstat.org/meetings/jsm/2011/onlin...</td>\n",
       "      <td>Environmental and Ecological Statistics, ENAR,...</td>\n",
       "      <td>Invited Papers</td>\n",
       "      <td>206322</td>\n",
       "    </tr>\n",
       "    <tr>\n",
       "      <th>55</th>\n",
       "      <td>14</td>\n",
       "      <td>Clinical Trials: How to Make the Right Decision</td>\n",
       "      <td>https://ww2.amstat.org/meetings/jsm/2011/onlin...</td>\n",
       "      <td>International Chinese Statistical Association,...</td>\n",
       "      <td>Topic Contributed Papers</td>\n",
       "      <td>206326</td>\n",
       "    </tr>\n",
       "    <tr>\n",
       "      <th>56</th>\n",
       "      <td>8</td>\n",
       "      <td>Consulting with Clients About Measure and Scal...</td>\n",
       "      <td>https://ww2.amstat.org/meetings/jsm/2011/onlin...</td>\n",
       "      <td>Section on Statistical Consulting</td>\n",
       "      <td>Invited Papers</td>\n",
       "      <td>206332</td>\n",
       "    </tr>\n",
       "    <tr>\n",
       "      <th>57</th>\n",
       "      <td>15</td>\n",
       "      <td>Recent Developments in Statistical Analysis of...</td>\n",
       "      <td>https://ww2.amstat.org/meetings/jsm/2011/onlin...</td>\n",
       "      <td>Biometrics Section, Section for Statistical Pr...</td>\n",
       "      <td>Topic Contributed Papers</td>\n",
       "      <td>206345</td>\n",
       "    </tr>\n",
       "    <tr>\n",
       "      <th>58</th>\n",
       "      <td>13</td>\n",
       "      <td>Federal Funding for Statistics in 2011</td>\n",
       "      <td>https://ww2.amstat.org/meetings/jsm/2011/onlin...</td>\n",
       "      <td>Committee on Federally Funded Research, Sectio...</td>\n",
       "      <td>Invited Panel</td>\n",
       "      <td>206348</td>\n",
       "    </tr>\n",
       "    <tr>\n",
       "      <th>59</th>\n",
       "      <td>23</td>\n",
       "      <td>Statipedia: A Platform for Collaboration Acros...</td>\n",
       "      <td>https://ww2.amstat.org/meetings/jsm/2011/onlin...</td>\n",
       "      <td>Section on Government Statistics</td>\n",
       "      <td>Topic Contributed Panel</td>\n",
       "      <td>206483</td>\n",
       "    </tr>\n",
       "    <tr>\n",
       "      <th>60</th>\n",
       "      <td>24</td>\n",
       "      <td>Teaching Statistics Online</td>\n",
       "      <td>https://ww2.amstat.org/meetings/jsm/2011/onlin...</td>\n",
       "      <td>Section on Statistical Education</td>\n",
       "      <td>Topic Contributed Panel</td>\n",
       "      <td>206498</td>\n",
       "    </tr>\n",
       "    <tr>\n",
       "      <th>61</th>\n",
       "      <td>1</td>\n",
       "      <td>Advancement in Hierarchical Models</td>\n",
       "      <td>https://ww2.amstat.org/meetings/jsm/2011/onlin...</td>\n",
       "      <td>Section on Statistical Computing, Section on S...</td>\n",
       "      <td>Invited Papers</td>\n",
       "      <td>206138</td>\n",
       "    </tr>\n",
       "    <tr>\n",
       "      <th>62</th>\n",
       "      <td>2</td>\n",
       "      <td>New Theoretical and Methodological Challenges ...</td>\n",
       "      <td>https://ww2.amstat.org/meetings/jsm/2011/onlin...</td>\n",
       "      <td>IMS, International Indian Statistical Association</td>\n",
       "      <td>Invited Papers</td>\n",
       "      <td>206147</td>\n",
       "    </tr>\n",
       "    <tr>\n",
       "      <th>63</th>\n",
       "      <td>11</td>\n",
       "      <td>The Role of Statistics in Comparative Effectiv...</td>\n",
       "      <td>https://ww2.amstat.org/meetings/jsm/2011/onlin...</td>\n",
       "      <td>Section on Health Policy Statistics, Section o...</td>\n",
       "      <td>Invited Panel</td>\n",
       "      <td>206164</td>\n",
       "    </tr>\n",
       "    <tr>\n",
       "      <th>64</th>\n",
       "      <td>3</td>\n",
       "      <td>Bayesian Methods for Disease Mapping and Outbr...</td>\n",
       "      <td>https://ww2.amstat.org/meetings/jsm/2011/onlin...</td>\n",
       "      <td>Section on Bayesian Statistical Science, Inter...</td>\n",
       "      <td>Invited Papers</td>\n",
       "      <td>206183</td>\n",
       "    </tr>\n",
       "    <tr>\n",
       "      <th>65</th>\n",
       "      <td>4</td>\n",
       "      <td>Recent Developments in Statistical Genetics an...</td>\n",
       "      <td>https://ww2.amstat.org/meetings/jsm/2011/onlin...</td>\n",
       "      <td>ENAR, International Indian Statistical Associa...</td>\n",
       "      <td>Invited Papers</td>\n",
       "      <td>206197</td>\n",
       "    </tr>\n",
       "    <tr>\n",
       "      <th>66</th>\n",
       "      <td>5</td>\n",
       "      <td>Topic Models</td>\n",
       "      <td>https://ww2.amstat.org/meetings/jsm/2011/onlin...</td>\n",
       "      <td>IMS, Section on Statistical Computing</td>\n",
       "      <td>Invited Papers</td>\n",
       "      <td>206212</td>\n",
       "    </tr>\n",
       "    <tr>\n",
       "      <th>67</th>\n",
       "      <td>12</td>\n",
       "      <td>Effective Global Statistical Capacity with Org...</td>\n",
       "      <td>https://ww2.amstat.org/meetings/jsm/2011/onlin...</td>\n",
       "      <td>Social Statistics Section, SSC, Scientific and...</td>\n",
       "      <td>Invited Panel</td>\n",
       "      <td>206295</td>\n",
       "    </tr>\n",
       "    <tr>\n",
       "      <th>68</th>\n",
       "      <td>6</td>\n",
       "      <td>Causal Inference in Infectious Diseases Research</td>\n",
       "      <td>https://ww2.amstat.org/meetings/jsm/2011/onlin...</td>\n",
       "      <td>Section on Statistics in Epidemiology, Section...</td>\n",
       "      <td>Invited Papers</td>\n",
       "      <td>206305</td>\n",
       "    </tr>\n",
       "    <tr>\n",
       "      <th>69</th>\n",
       "      <td>16</td>\n",
       "      <td>Methodological Research and Uncertainty Study ...</td>\n",
       "      <td>https://ww2.amstat.org/meetings/jsm/2011/onlin...</td>\n",
       "      <td>Section on Statistics and the Environment, Sec...</td>\n",
       "      <td>Topic Contributed Papers</td>\n",
       "      <td>206510</td>\n",
       "    </tr>\n",
       "    <tr>\n",
       "      <th>70</th>\n",
       "      <td>17</td>\n",
       "      <td>Address-Based Sampling: A Frame Discussion</td>\n",
       "      <td>https://ww2.amstat.org/meetings/jsm/2011/onlin...</td>\n",
       "      <td>Section on Survey Research Methods, Section on...</td>\n",
       "      <td>Topic Contributed Papers</td>\n",
       "      <td>206540</td>\n",
       "    </tr>\n",
       "    <tr>\n",
       "      <th>71</th>\n",
       "      <td>18</td>\n",
       "      <td>Statistics in Nursing Research</td>\n",
       "      <td>https://ww2.amstat.org/meetings/jsm/2011/onlin...</td>\n",
       "      <td>Section on Teaching of Statistics in the Healt...</td>\n",
       "      <td>Topic Contributed Papers</td>\n",
       "      <td>206547</td>\n",
       "    </tr>\n",
       "    <tr>\n",
       "      <th>72</th>\n",
       "      <td>25</td>\n",
       "      <td>Protein Structure and Biological Processes</td>\n",
       "      <td>https://ww2.amstat.org/meetings/jsm/2011/onlin...</td>\n",
       "      <td>Biometrics Section, WNAR</td>\n",
       "      <td>Contributed Papers</td>\n",
       "      <td>206558</td>\n",
       "    </tr>\n",
       "    <tr>\n",
       "      <th>...</th>\n",
       "      <td>...</td>\n",
       "      <td>...</td>\n",
       "      <td>...</td>\n",
       "      <td>...</td>\n",
       "      <td>...</td>\n",
       "      <td>...</td>\n",
       "    </tr>\n",
       "    <tr>\n",
       "      <th>941</th>\n",
       "      <td>671</td>\n",
       "      <td>Online and Open-Source Teaching</td>\n",
       "      <td>https://ww2.amstat.org/meetings/jsm/2011/onlin...</td>\n",
       "      <td>Section on Statistical Education, Section on T...</td>\n",
       "      <td>Contributed Papers</td>\n",
       "      <td>206791</td>\n",
       "    </tr>\n",
       "    <tr>\n",
       "      <th>942</th>\n",
       "      <td>672</td>\n",
       "      <td>Advances in Visualization</td>\n",
       "      <td>https://ww2.amstat.org/meetings/jsm/2011/onlin...</td>\n",
       "      <td>Section on Statistical Graphics, Section on St...</td>\n",
       "      <td>Contributed Papers</td>\n",
       "      <td>206792</td>\n",
       "    </tr>\n",
       "    <tr>\n",
       "      <th>943</th>\n",
       "      <td>661</td>\n",
       "      <td>Sampling and Sampling Distributions</td>\n",
       "      <td>https://ww2.amstat.org/meetings/jsm/2011/onlin...</td>\n",
       "      <td>Section on Statistical Computing, Section on S...</td>\n",
       "      <td>Contributed Papers</td>\n",
       "      <td>206622</td>\n",
       "    </tr>\n",
       "    <tr>\n",
       "      <th>944</th>\n",
       "      <td>656</td>\n",
       "      <td>Semiparametric Methods for Correlated Data Ana...</td>\n",
       "      <td>https://ww2.amstat.org/meetings/jsm/2011/onlin...</td>\n",
       "      <td>Biometrics Section, ENAR, Section on Statistic...</td>\n",
       "      <td>Contributed Papers</td>\n",
       "      <td>206550</td>\n",
       "    </tr>\n",
       "    <tr>\n",
       "      <th>945</th>\n",
       "      <td>659</td>\n",
       "      <td>Misspecification and Assumption-Free Methods i...</td>\n",
       "      <td>https://ww2.amstat.org/meetings/jsm/2011/onlin...</td>\n",
       "      <td>Biometrics Section, Section on Statistics in E...</td>\n",
       "      <td>Contributed Papers</td>\n",
       "      <td>206589</td>\n",
       "    </tr>\n",
       "    <tr>\n",
       "      <th>946</th>\n",
       "      <td>646</td>\n",
       "      <td>Clustering and Machine Learning</td>\n",
       "      <td>https://ww2.amstat.org/meetings/jsm/2011/onlin...</td>\n",
       "      <td>Section on Statistical Computing, Section on S...</td>\n",
       "      <td>Topic Contributed Papers</td>\n",
       "      <td>206365</td>\n",
       "    </tr>\n",
       "    <tr>\n",
       "      <th>947</th>\n",
       "      <td>647</td>\n",
       "      <td>Clinical Trial Designs in U.S. VA Cooperative ...</td>\n",
       "      <td>https://ww2.amstat.org/meetings/jsm/2011/onlin...</td>\n",
       "      <td>Section on Government Statistics, WNAR</td>\n",
       "      <td>Topic Contributed Papers</td>\n",
       "      <td>206461</td>\n",
       "    </tr>\n",
       "    <tr>\n",
       "      <th>948</th>\n",
       "      <td>640</td>\n",
       "      <td>Design and Analysis of Studies of Rare Variants</td>\n",
       "      <td>https://ww2.amstat.org/meetings/jsm/2011/onlin...</td>\n",
       "      <td>ENAR, International Indian Statistical Associa...</td>\n",
       "      <td>Invited Papers</td>\n",
       "      <td>206261</td>\n",
       "    </tr>\n",
       "    <tr>\n",
       "      <th>949</th>\n",
       "      <td>644</td>\n",
       "      <td>Training Statisticians to Solve Large, Complex...</td>\n",
       "      <td>https://ww2.amstat.org/meetings/jsm/2011/onlin...</td>\n",
       "      <td>Section on Statistical Education, Internationa...</td>\n",
       "      <td>Invited Panel</td>\n",
       "      <td>206347</td>\n",
       "    </tr>\n",
       "    <tr>\n",
       "      <th>950</th>\n",
       "      <td>638</td>\n",
       "      <td>Theory and Methods in Dynamic Modeling and Tim...</td>\n",
       "      <td>https://ww2.amstat.org/meetings/jsm/2011/onlin...</td>\n",
       "      <td>IMS, International Chinese Statistical Associa...</td>\n",
       "      <td>Invited Papers</td>\n",
       "      <td>206206</td>\n",
       "    </tr>\n",
       "    <tr>\n",
       "      <th>951</th>\n",
       "      <td>636</td>\n",
       "      <td>Sparsity, Nonstationarity, and Dimension Reduc...</td>\n",
       "      <td>https://ww2.amstat.org/meetings/jsm/2011/onlin...</td>\n",
       "      <td>Business and Economic Statistics Section, Inte...</td>\n",
       "      <td>Invited Papers</td>\n",
       "      <td>206144</td>\n",
       "    </tr>\n",
       "    <tr>\n",
       "      <th>952</th>\n",
       "      <td>635</td>\n",
       "      <td>New Development in Sufficient Dimension Reduction</td>\n",
       "      <td>https://ww2.amstat.org/meetings/jsm/2011/onlin...</td>\n",
       "      <td>Biometrics Section, International Chinese Stat...</td>\n",
       "      <td>Invited Papers</td>\n",
       "      <td>206126</td>\n",
       "    </tr>\n",
       "    <tr>\n",
       "      <th>953</th>\n",
       "      <td>639</td>\n",
       "      <td>Wald Lecture: Random Walks from Statistical Ph...</td>\n",
       "      <td>https://ww2.amstat.org/meetings/jsm/2011/onlin...</td>\n",
       "      <td>IMS, International Chinese Statistical Associa...</td>\n",
       "      <td>Invited Papers</td>\n",
       "      <td>206211</td>\n",
       "    </tr>\n",
       "    <tr>\n",
       "      <th>954</th>\n",
       "      <td>637</td>\n",
       "      <td>Bayesian Variable Selection in the Analysis of...</td>\n",
       "      <td>https://ww2.amstat.org/meetings/jsm/2011/onlin...</td>\n",
       "      <td>International Society of Bayesian Analysis, EN...</td>\n",
       "      <td>Invited Papers</td>\n",
       "      <td>206172</td>\n",
       "    </tr>\n",
       "    <tr>\n",
       "      <th>955</th>\n",
       "      <td>673</td>\n",
       "      <td>Advances in Dimension Reduction</td>\n",
       "      <td>https://ww2.amstat.org/meetings/jsm/2011/onlin...</td>\n",
       "      <td>Section on Statistical Learning and Data Minin...</td>\n",
       "      <td>Contributed Papers</td>\n",
       "      <td>206795</td>\n",
       "    </tr>\n",
       "    <tr>\n",
       "      <th>956</th>\n",
       "      <td>665</td>\n",
       "      <td>Weighting and Estimation</td>\n",
       "      <td>https://ww2.amstat.org/meetings/jsm/2011/onlin...</td>\n",
       "      <td>Section on Survey Research Methods, Section on...</td>\n",
       "      <td>Contributed Papers</td>\n",
       "      <td>206710</td>\n",
       "    </tr>\n",
       "    <tr>\n",
       "      <th>957</th>\n",
       "      <td>655</td>\n",
       "      <td>New Statistical Methods for Flexible Modeling</td>\n",
       "      <td>https://ww2.amstat.org/meetings/jsm/2011/onlin...</td>\n",
       "      <td>Biometrics Section</td>\n",
       "      <td>Contributed Papers</td>\n",
       "      <td>206530</td>\n",
       "    </tr>\n",
       "    <tr>\n",
       "      <th>958</th>\n",
       "      <td>658</td>\n",
       "      <td>Bayesian Methodology and Applications in Socia...</td>\n",
       "      <td>https://ww2.amstat.org/meetings/jsm/2011/onlin...</td>\n",
       "      <td>Section on Bayesian Statistical Science</td>\n",
       "      <td>Contributed Papers</td>\n",
       "      <td>206582</td>\n",
       "    </tr>\n",
       "    <tr>\n",
       "      <th>959</th>\n",
       "      <td>662</td>\n",
       "      <td>Applications of Nonparametric Methods</td>\n",
       "      <td>https://ww2.amstat.org/meetings/jsm/2011/onlin...</td>\n",
       "      <td>Section on Nonparametric Statistics</td>\n",
       "      <td>Contributed Papers</td>\n",
       "      <td>206645</td>\n",
       "    </tr>\n",
       "    <tr>\n",
       "      <th>960</th>\n",
       "      <td>652</td>\n",
       "      <td>Decisionmaking in Drug Development Using Model...</td>\n",
       "      <td>https://ww2.amstat.org/meetings/jsm/2011/onlin...</td>\n",
       "      <td>Biopharmaceutical Section</td>\n",
       "      <td>Topic Contributed Papers</td>\n",
       "      <td>206632</td>\n",
       "    </tr>\n",
       "    <tr>\n",
       "      <th>961</th>\n",
       "      <td>667</td>\n",
       "      <td>Special Topics in Analysis of Clinical Trials 2</td>\n",
       "      <td>https://ww2.amstat.org/meetings/jsm/2011/onlin...</td>\n",
       "      <td>Biopharmaceutical Section</td>\n",
       "      <td>Contributed Papers</td>\n",
       "      <td>206729</td>\n",
       "    </tr>\n",
       "    <tr>\n",
       "      <th>962</th>\n",
       "      <td>668</td>\n",
       "      <td>Special Topics in Biopharmaceutical Statistics 2</td>\n",
       "      <td>https://ww2.amstat.org/meetings/jsm/2011/onlin...</td>\n",
       "      <td>Biopharmaceutical Section</td>\n",
       "      <td>Contributed Papers</td>\n",
       "      <td>206733</td>\n",
       "    </tr>\n",
       "    <tr>\n",
       "      <th>963</th>\n",
       "      <td>664</td>\n",
       "      <td>Design and Analysis Involving Complex Samples</td>\n",
       "      <td>https://ww2.amstat.org/meetings/jsm/2011/onlin...</td>\n",
       "      <td>Section on Survey Research Methods</td>\n",
       "      <td>Contributed Papers</td>\n",
       "      <td>206693</td>\n",
       "    </tr>\n",
       "    <tr>\n",
       "      <th>964</th>\n",
       "      <td>663</td>\n",
       "      <td>Explorations of Distribution Characteristics</td>\n",
       "      <td>https://ww2.amstat.org/meetings/jsm/2011/onlin...</td>\n",
       "      <td>Section on Physical and Engineering Sciences</td>\n",
       "      <td>Contributed Papers</td>\n",
       "      <td>206671</td>\n",
       "    </tr>\n",
       "    <tr>\n",
       "      <th>965</th>\n",
       "      <td>670</td>\n",
       "      <td>Advances in Testing and Estimation</td>\n",
       "      <td>https://ww2.amstat.org/meetings/jsm/2011/onlin...</td>\n",
       "      <td>IMS</td>\n",
       "      <td>Contributed Papers</td>\n",
       "      <td>206761</td>\n",
       "    </tr>\n",
       "    <tr>\n",
       "      <th>966</th>\n",
       "      <td>653</td>\n",
       "      <td>Bayesian Modeling and Applications 2</td>\n",
       "      <td>https://ww2.amstat.org/meetings/jsm/2011/onlin...</td>\n",
       "      <td>Section on Bayesian Statistical Science</td>\n",
       "      <td>Topic Contributed Papers</td>\n",
       "      <td>206769</td>\n",
       "    </tr>\n",
       "    <tr>\n",
       "      <th>967</th>\n",
       "      <td>669</td>\n",
       "      <td>Volatility Modeling</td>\n",
       "      <td>https://ww2.amstat.org/meetings/jsm/2011/onlin...</td>\n",
       "      <td>Business and Economic Statistics Section</td>\n",
       "      <td>Contributed Papers</td>\n",
       "      <td>206756</td>\n",
       "    </tr>\n",
       "    <tr>\n",
       "      <th>968</th>\n",
       "      <td>645</td>\n",
       "      <td>Improving Designs and Analysis Methodologies i...</td>\n",
       "      <td>https://ww2.amstat.org/meetings/jsm/2011/onlin...</td>\n",
       "      <td>International Chinese Statistical Association</td>\n",
       "      <td>Topic Contributed Papers</td>\n",
       "      <td>206282</td>\n",
       "    </tr>\n",
       "    <tr>\n",
       "      <th>969</th>\n",
       "      <td>648</td>\n",
       "      <td>What Is the Big Deal About Balance? Assessment...</td>\n",
       "      <td>https://ww2.amstat.org/meetings/jsm/2011/onlin...</td>\n",
       "      <td>Section on Health Policy Statistics</td>\n",
       "      <td>Topic Contributed Papers</td>\n",
       "      <td>206465</td>\n",
       "    </tr>\n",
       "    <tr>\n",
       "      <th>970</th>\n",
       "      <td>649</td>\n",
       "      <td>Hierarchical Methods for Object Data: SAMSI Ob...</td>\n",
       "      <td>https://ww2.amstat.org/meetings/jsm/2011/onlin...</td>\n",
       "      <td>Section on Nonparametric Statistics</td>\n",
       "      <td>Topic Contributed Papers</td>\n",
       "      <td>206466</td>\n",
       "    </tr>\n",
       "  </tbody>\n",
       "</table>\n",
       "<p>710 rows × 6 columns</p>\n",
       "</div>"
      ],
      "text/plain": [
       "    Session_No                                      Session_Title  \\\n",
       "8       CE_01C  Foundations and Recent Advances in Longitudina...   \n",
       "9       CE_04C       Administrative Data for Statistical Purposes   \n",
       "10      CE_05C                         Wavelets in the Real World   \n",
       "30      CE_06C         Data Stream Mining: Tools and Applications   \n",
       "31      CE_01C  Foundations and Recent Advances in Longitudina...   \n",
       "32      CE_07C                                 Bayesian Inference   \n",
       "33      CE_08C                 Advanced Topics in Survey Sampling   \n",
       "34      CE_09C  Fundamental Statistics Concepts in Presenting ...   \n",
       "51      CE_10C                 Risk Analysis in National Security   \n",
       "52           9  Including Disease Models and Biomarkers in the...   \n",
       "53          10   Recent Advances in Reliability and Biostatistics   \n",
       "54           7  Recent Advances in Statistical Geoinformatics ...   \n",
       "55          14    Clinical Trials: How to Make the Right Decision   \n",
       "56           8  Consulting with Clients About Measure and Scal...   \n",
       "57          15  Recent Developments in Statistical Analysis of...   \n",
       "58          13             Federal Funding for Statistics in 2011   \n",
       "59          23  Statipedia: A Platform for Collaboration Acros...   \n",
       "60          24                         Teaching Statistics Online   \n",
       "61           1                 Advancement in Hierarchical Models   \n",
       "62           2  New Theoretical and Methodological Challenges ...   \n",
       "63          11  The Role of Statistics in Comparative Effectiv...   \n",
       "64           3  Bayesian Methods for Disease Mapping and Outbr...   \n",
       "65           4  Recent Developments in Statistical Genetics an...   \n",
       "66           5                                       Topic Models   \n",
       "67          12  Effective Global Statistical Capacity with Org...   \n",
       "68           6   Causal Inference in Infectious Diseases Research   \n",
       "69          16  Methodological Research and Uncertainty Study ...   \n",
       "70          17         Address-Based Sampling: A Frame Discussion   \n",
       "71          18                     Statistics in Nursing Research   \n",
       "72          25         Protein Structure and Biological Processes   \n",
       "..         ...                                                ...   \n",
       "941        671                    Online and Open-Source Teaching   \n",
       "942        672                          Advances in Visualization   \n",
       "943        661                Sampling and Sampling Distributions   \n",
       "944        656  Semiparametric Methods for Correlated Data Ana...   \n",
       "945        659  Misspecification and Assumption-Free Methods i...   \n",
       "946        646                    Clustering and Machine Learning   \n",
       "947        647  Clinical Trial Designs in U.S. VA Cooperative ...   \n",
       "948        640    Design and Analysis of Studies of Rare Variants   \n",
       "949        644  Training Statisticians to Solve Large, Complex...   \n",
       "950        638  Theory and Methods in Dynamic Modeling and Tim...   \n",
       "951        636  Sparsity, Nonstationarity, and Dimension Reduc...   \n",
       "952        635  New Development in Sufficient Dimension Reduction   \n",
       "953        639  Wald Lecture: Random Walks from Statistical Ph...   \n",
       "954        637  Bayesian Variable Selection in the Analysis of...   \n",
       "955        673                    Advances in Dimension Reduction   \n",
       "956        665                           Weighting and Estimation   \n",
       "957        655      New Statistical Methods for Flexible Modeling   \n",
       "958        658  Bayesian Methodology and Applications in Socia...   \n",
       "959        662              Applications of Nonparametric Methods   \n",
       "960        652  Decisionmaking in Drug Development Using Model...   \n",
       "961        667    Special Topics in Analysis of Clinical Trials 2   \n",
       "962        668   Special Topics in Biopharmaceutical Statistics 2   \n",
       "963        664      Design and Analysis Involving Complex Samples   \n",
       "964        663       Explorations of Distribution Characteristics   \n",
       "965        670                 Advances in Testing and Estimation   \n",
       "966        653               Bayesian Modeling and Applications 2   \n",
       "967        669                                Volatility Modeling   \n",
       "968        645  Improving Designs and Analysis Methodologies i...   \n",
       "969        648  What Is the Big Deal About Balance? Assessment...   \n",
       "970        649  Hierarchical Methods for Object Data: SAMSI Ob...   \n",
       "\n",
       "                                           Session_URL  \\\n",
       "8    https://ww2.amstat.org/meetings/jsm/2011/onlin...   \n",
       "9    https://ww2.amstat.org/meetings/jsm/2011/onlin...   \n",
       "10   https://ww2.amstat.org/meetings/jsm/2011/onlin...   \n",
       "30   https://ww2.amstat.org/meetings/jsm/2011/onlin...   \n",
       "31   https://ww2.amstat.org/meetings/jsm/2011/onlin...   \n",
       "32   https://ww2.amstat.org/meetings/jsm/2011/onlin...   \n",
       "33   https://ww2.amstat.org/meetings/jsm/2011/onlin...   \n",
       "34   https://ww2.amstat.org/meetings/jsm/2011/onlin...   \n",
       "51   https://ww2.amstat.org/meetings/jsm/2011/onlin...   \n",
       "52   https://ww2.amstat.org/meetings/jsm/2011/onlin...   \n",
       "53   https://ww2.amstat.org/meetings/jsm/2011/onlin...   \n",
       "54   https://ww2.amstat.org/meetings/jsm/2011/onlin...   \n",
       "55   https://ww2.amstat.org/meetings/jsm/2011/onlin...   \n",
       "56   https://ww2.amstat.org/meetings/jsm/2011/onlin...   \n",
       "57   https://ww2.amstat.org/meetings/jsm/2011/onlin...   \n",
       "58   https://ww2.amstat.org/meetings/jsm/2011/onlin...   \n",
       "59   https://ww2.amstat.org/meetings/jsm/2011/onlin...   \n",
       "60   https://ww2.amstat.org/meetings/jsm/2011/onlin...   \n",
       "61   https://ww2.amstat.org/meetings/jsm/2011/onlin...   \n",
       "62   https://ww2.amstat.org/meetings/jsm/2011/onlin...   \n",
       "63   https://ww2.amstat.org/meetings/jsm/2011/onlin...   \n",
       "64   https://ww2.amstat.org/meetings/jsm/2011/onlin...   \n",
       "65   https://ww2.amstat.org/meetings/jsm/2011/onlin...   \n",
       "66   https://ww2.amstat.org/meetings/jsm/2011/onlin...   \n",
       "67   https://ww2.amstat.org/meetings/jsm/2011/onlin...   \n",
       "68   https://ww2.amstat.org/meetings/jsm/2011/onlin...   \n",
       "69   https://ww2.amstat.org/meetings/jsm/2011/onlin...   \n",
       "70   https://ww2.amstat.org/meetings/jsm/2011/onlin...   \n",
       "71   https://ww2.amstat.org/meetings/jsm/2011/onlin...   \n",
       "72   https://ww2.amstat.org/meetings/jsm/2011/onlin...   \n",
       "..                                                 ...   \n",
       "941  https://ww2.amstat.org/meetings/jsm/2011/onlin...   \n",
       "942  https://ww2.amstat.org/meetings/jsm/2011/onlin...   \n",
       "943  https://ww2.amstat.org/meetings/jsm/2011/onlin...   \n",
       "944  https://ww2.amstat.org/meetings/jsm/2011/onlin...   \n",
       "945  https://ww2.amstat.org/meetings/jsm/2011/onlin...   \n",
       "946  https://ww2.amstat.org/meetings/jsm/2011/onlin...   \n",
       "947  https://ww2.amstat.org/meetings/jsm/2011/onlin...   \n",
       "948  https://ww2.amstat.org/meetings/jsm/2011/onlin...   \n",
       "949  https://ww2.amstat.org/meetings/jsm/2011/onlin...   \n",
       "950  https://ww2.amstat.org/meetings/jsm/2011/onlin...   \n",
       "951  https://ww2.amstat.org/meetings/jsm/2011/onlin...   \n",
       "952  https://ww2.amstat.org/meetings/jsm/2011/onlin...   \n",
       "953  https://ww2.amstat.org/meetings/jsm/2011/onlin...   \n",
       "954  https://ww2.amstat.org/meetings/jsm/2011/onlin...   \n",
       "955  https://ww2.amstat.org/meetings/jsm/2011/onlin...   \n",
       "956  https://ww2.amstat.org/meetings/jsm/2011/onlin...   \n",
       "957  https://ww2.amstat.org/meetings/jsm/2011/onlin...   \n",
       "958  https://ww2.amstat.org/meetings/jsm/2011/onlin...   \n",
       "959  https://ww2.amstat.org/meetings/jsm/2011/onlin...   \n",
       "960  https://ww2.amstat.org/meetings/jsm/2011/onlin...   \n",
       "961  https://ww2.amstat.org/meetings/jsm/2011/onlin...   \n",
       "962  https://ww2.amstat.org/meetings/jsm/2011/onlin...   \n",
       "963  https://ww2.amstat.org/meetings/jsm/2011/onlin...   \n",
       "964  https://ww2.amstat.org/meetings/jsm/2011/onlin...   \n",
       "965  https://ww2.amstat.org/meetings/jsm/2011/onlin...   \n",
       "966  https://ww2.amstat.org/meetings/jsm/2011/onlin...   \n",
       "967  https://ww2.amstat.org/meetings/jsm/2011/onlin...   \n",
       "968  https://ww2.amstat.org/meetings/jsm/2011/onlin...   \n",
       "969  https://ww2.amstat.org/meetings/jsm/2011/onlin...   \n",
       "970  https://ww2.amstat.org/meetings/jsm/2011/onlin...   \n",
       "\n",
       "                                              Sponsors  \\\n",
       "8                                                  ASA   \n",
       "9                                                  ASA   \n",
       "10            ASA, Section on Nonparametric Statistics   \n",
       "30               ASA, Section on Statistical Computing   \n",
       "31                                                 ASA   \n",
       "32        ASA, Section on Bayesian Statistical Science   \n",
       "33             ASA, Section on Survey Research Methods   \n",
       "34                ASA, Section on Statistical Graphics   \n",
       "51   ASA, Section on Statistics in Defense and Nati...   \n",
       "52   Biopharmaceutical Section, International India...   \n",
       "53   Council of Chapters, International Indian Stat...   \n",
       "54   Environmental and Ecological Statistics, ENAR,...   \n",
       "55   International Chinese Statistical Association,...   \n",
       "56                   Section on Statistical Consulting   \n",
       "57   Biometrics Section, Section for Statistical Pr...   \n",
       "58   Committee on Federally Funded Research, Sectio...   \n",
       "59                    Section on Government Statistics   \n",
       "60                    Section on Statistical Education   \n",
       "61   Section on Statistical Computing, Section on S...   \n",
       "62   IMS, International Indian Statistical Association   \n",
       "63   Section on Health Policy Statistics, Section o...   \n",
       "64   Section on Bayesian Statistical Science, Inter...   \n",
       "65   ENAR, International Indian Statistical Associa...   \n",
       "66               IMS, Section on Statistical Computing   \n",
       "67   Social Statistics Section, SSC, Scientific and...   \n",
       "68   Section on Statistics in Epidemiology, Section...   \n",
       "69   Section on Statistics and the Environment, Sec...   \n",
       "70   Section on Survey Research Methods, Section on...   \n",
       "71   Section on Teaching of Statistics in the Healt...   \n",
       "72                            Biometrics Section, WNAR   \n",
       "..                                                 ...   \n",
       "941  Section on Statistical Education, Section on T...   \n",
       "942  Section on Statistical Graphics, Section on St...   \n",
       "943  Section on Statistical Computing, Section on S...   \n",
       "944  Biometrics Section, ENAR, Section on Statistic...   \n",
       "945  Biometrics Section, Section on Statistics in E...   \n",
       "946  Section on Statistical Computing, Section on S...   \n",
       "947             Section on Government Statistics, WNAR   \n",
       "948  ENAR, International Indian Statistical Associa...   \n",
       "949  Section on Statistical Education, Internationa...   \n",
       "950  IMS, International Chinese Statistical Associa...   \n",
       "951  Business and Economic Statistics Section, Inte...   \n",
       "952  Biometrics Section, International Chinese Stat...   \n",
       "953  IMS, International Chinese Statistical Associa...   \n",
       "954  International Society of Bayesian Analysis, EN...   \n",
       "955  Section on Statistical Learning and Data Minin...   \n",
       "956  Section on Survey Research Methods, Section on...   \n",
       "957                                 Biometrics Section   \n",
       "958            Section on Bayesian Statistical Science   \n",
       "959                Section on Nonparametric Statistics   \n",
       "960                          Biopharmaceutical Section   \n",
       "961                          Biopharmaceutical Section   \n",
       "962                          Biopharmaceutical Section   \n",
       "963                 Section on Survey Research Methods   \n",
       "964       Section on Physical and Engineering Sciences   \n",
       "965                                                IMS   \n",
       "966            Section on Bayesian Statistical Science   \n",
       "967           Business and Economic Statistics Section   \n",
       "968      International Chinese Statistical Association   \n",
       "969                Section on Health Policy Statistics   \n",
       "970                Section on Nonparametric Statistics   \n",
       "\n",
       "                            Type Session_ID  \n",
       "8    Continuing Education Course     206444  \n",
       "9    Continuing Education Course     206415  \n",
       "10   Continuing Education Course     206416  \n",
       "30   Continuing Education Course     206413  \n",
       "31   Continuing Education Course     206845  \n",
       "32   Continuing Education Course     206427  \n",
       "33   Continuing Education Course     206442  \n",
       "34   Continuing Education Course     206431  \n",
       "51   Continuing Education Course     206392  \n",
       "52                Invited Papers     206379  \n",
       "53                Invited Papers     206381  \n",
       "54                Invited Papers     206322  \n",
       "55      Topic Contributed Papers     206326  \n",
       "56                Invited Papers     206332  \n",
       "57      Topic Contributed Papers     206345  \n",
       "58                 Invited Panel     206348  \n",
       "59       Topic Contributed Panel     206483  \n",
       "60       Topic Contributed Panel     206498  \n",
       "61                Invited Papers     206138  \n",
       "62                Invited Papers     206147  \n",
       "63                 Invited Panel     206164  \n",
       "64                Invited Papers     206183  \n",
       "65                Invited Papers     206197  \n",
       "66                Invited Papers     206212  \n",
       "67                 Invited Panel     206295  \n",
       "68                Invited Papers     206305  \n",
       "69      Topic Contributed Papers     206510  \n",
       "70      Topic Contributed Papers     206540  \n",
       "71      Topic Contributed Papers     206547  \n",
       "72            Contributed Papers     206558  \n",
       "..                           ...        ...  \n",
       "941           Contributed Papers     206791  \n",
       "942           Contributed Papers     206792  \n",
       "943           Contributed Papers     206622  \n",
       "944           Contributed Papers     206550  \n",
       "945           Contributed Papers     206589  \n",
       "946     Topic Contributed Papers     206365  \n",
       "947     Topic Contributed Papers     206461  \n",
       "948               Invited Papers     206261  \n",
       "949                Invited Panel     206347  \n",
       "950               Invited Papers     206206  \n",
       "951               Invited Papers     206144  \n",
       "952               Invited Papers     206126  \n",
       "953               Invited Papers     206211  \n",
       "954               Invited Papers     206172  \n",
       "955           Contributed Papers     206795  \n",
       "956           Contributed Papers     206710  \n",
       "957           Contributed Papers     206530  \n",
       "958           Contributed Papers     206582  \n",
       "959           Contributed Papers     206645  \n",
       "960     Topic Contributed Papers     206632  \n",
       "961           Contributed Papers     206729  \n",
       "962           Contributed Papers     206733  \n",
       "963           Contributed Papers     206693  \n",
       "964           Contributed Papers     206671  \n",
       "965           Contributed Papers     206761  \n",
       "966     Topic Contributed Papers     206769  \n",
       "967           Contributed Papers     206756  \n",
       "968     Topic Contributed Papers     206282  \n",
       "969     Topic Contributed Papers     206465  \n",
       "970     Topic Contributed Papers     206466  \n",
       "\n",
       "[710 rows x 6 columns]"
      ]
     },
     "execution_count": 13,
     "metadata": {},
     "output_type": "execute_result"
    }
   ],
   "source": [
    "df[df['Session_No'].apply(lambda x: bool(re.search(r'(?<!\\d)\\d{1,3}(?!\\d)',x)))]"
   ]
  },
  {
   "cell_type": "code",
   "execution_count": 23,
   "metadata": {
    "collapsed": false
   },
   "outputs": [
    {
     "data": {
      "text/plain": [
       "'https://ww2.amstat.org/meetings/jsm/2011/onlineprogram/ActivityDetails.cfm?SessionID=206379'"
      ]
     },
     "execution_count": 23,
     "metadata": {},
     "output_type": "execute_result"
    }
   ],
   "source": [
    "test = df['Session_URL'].iloc[52]\n",
    "test"
   ]
  },
  {
   "cell_type": "code",
   "execution_count": 24,
   "metadata": {
    "collapsed": true
   },
   "outputs": [],
   "source": [
    "r = requests.get(test)\n",
    "soup = BeautifulSoup(r.text, 'lxml')"
   ]
  },
  {
   "cell_type": "code",
   "execution_count": 28,
   "metadata": {
    "collapsed": false
   },
   "outputs": [
    {
     "data": {
      "text/plain": [
       "[' 9 !']"
      ]
     },
     "execution_count": 28,
     "metadata": {},
     "output_type": "execute_result"
    }
   ],
   "source": [
    "[soup.find_all('tr')[1].find('b').text]"
   ]
  },
  {
   "cell_type": "markdown",
   "metadata": {},
   "source": [
    "# Run Code to extract workshops and abstract_urls"
   ]
  },
  {
   "cell_type": "code",
   "execution_count": 29,
   "metadata": {
    "collapsed": true
   },
   "outputs": [],
   "source": [
    "# dataframe of abstracts to scrape with new urls\n",
    "session_url = []\n",
    "abstract_url = []\n",
    "abstract_title = []\n",
    "session_no_v2 = []\n",
    "\n",
    "#dataframe of abstracts already written in the session\n",
    "workshop_abstract = []\n",
    "workshop_session_no = []\n",
    "workshop_session_url = []\n",
    "\n",
    "for link in session_linkToAbstract:\n",
    "    r = requests.get(link)\n",
    "    soup = BeautifulSoup(r.text, 'lxml')\n",
    "    \n",
    "    # extract abstract titles and links\n",
    "    abstract_links = [item.get('href') for item in soup.find_all('a') if re.search('AbstractDetails', str(item.get('href')))]\n",
    "    \n",
    "    if len(abstract_links) == 0:\n",
    "        try:\n",
    "            abstract_workshop = re.sub(r'(\\n|\\r|\\t)', '', soup.find_all('tr')[5].text)\n",
    "            id_no = soup.find_all('tr')[1].find('b').text.strip()\n",
    "            \n",
    "            workshop_abstract.append(abstract_workshop)\n",
    "            workshop_session_no.append(id_no)\n",
    "            workshop_session_url.append(link)\n",
    "        except:\n",
    "            continue\n",
    "    \n",
    "    else:\n",
    "        abstract_titles = [item.text for item in soup.find_all('a') \n",
    "            if re.search('AbstractDetails', str(item.get('href')))]\n",
    "\n",
    "        # map back to session id and original link for later joining\n",
    "        session_ids = [soup.find_all('tr')[1].find('b').text] * len(abstract_links)\n",
    "        original_link = [link] * len(abstract_links)\n",
    "\n",
    "        # create list of \n",
    "        session_url = session_url + original_link\n",
    "        abstract_url = abstract_url + abstract_links\n",
    "        abstract_title = abstract_title + abstract_titles\n",
    "        session_no_v2 = session_no_v2 + session_ids\n",
    "\n",
    "    "
   ]
  },
  {
   "cell_type": "code",
   "execution_count": 30,
   "metadata": {
    "collapsed": false
   },
   "outputs": [
    {
     "data": {
      "text/plain": [
       "True"
      ]
     },
     "execution_count": 30,
     "metadata": {},
     "output_type": "execute_result"
    }
   ],
   "source": [
    "len(session_url) == len(abstract_url) == len(abstract_title) == len(session_no_v2)"
   ]
  },
  {
   "cell_type": "code",
   "execution_count": 31,
   "metadata": {
    "collapsed": false
   },
   "outputs": [
    {
     "data": {
      "text/plain": [
       "5230"
      ]
     },
     "execution_count": 31,
     "metadata": {},
     "output_type": "execute_result"
    }
   ],
   "source": [
    "len(session_url)"
   ]
  },
  {
   "cell_type": "code",
   "execution_count": 32,
   "metadata": {
    "collapsed": false
   },
   "outputs": [
    {
     "data": {
      "text/plain": [
       "True"
      ]
     },
     "execution_count": 32,
     "metadata": {},
     "output_type": "execute_result"
    }
   ],
   "source": [
    "len(workshop_abstract) == len(workshop_session_no) == len(workshop_session_url)"
   ]
  },
  {
   "cell_type": "code",
   "execution_count": 33,
   "metadata": {
    "collapsed": false
   },
   "outputs": [
    {
     "data": {
      "text/plain": [
       "35"
      ]
     },
     "execution_count": 33,
     "metadata": {},
     "output_type": "execute_result"
    }
   ],
   "source": [
    "len(workshop_abstract)"
   ]
  },
  {
   "cell_type": "code",
   "execution_count": 34,
   "metadata": {
    "collapsed": false
   },
   "outputs": [],
   "source": [
    "df_abstracts = pd.DataFrame({'Session_URL': session_url,\n",
    "                            'Abstract_URL' : abstract_url,\n",
    "                            'Abstract_Title': abstract_title,\n",
    "                            'Session_No_v2': session_no_v2})"
   ]
  },
  {
   "cell_type": "code",
   "execution_count": 35,
   "metadata": {
    "collapsed": true
   },
   "outputs": [],
   "source": [
    "df_abstracts['Session_ID'] = df_abstracts['Session_URL'].apply(lambda x: re.sub(r'https\\S+((\\d){6})', r'\\1', x))\n",
    "df_abstracts['Abstract_URL'] = df_abstracts['Abstract_URL'].apply(lambda x: url + x)"
   ]
  },
  {
   "cell_type": "code",
   "execution_count": 36,
   "metadata": {
    "collapsed": false
   },
   "outputs": [
    {
     "data": {
      "text/html": [
       "<div>\n",
       "<table border=\"1\" class=\"dataframe\">\n",
       "  <thead>\n",
       "    <tr style=\"text-align: right;\">\n",
       "      <th></th>\n",
       "      <th>Abstract_Title</th>\n",
       "      <th>Abstract_URL</th>\n",
       "      <th>Session_No_v2</th>\n",
       "      <th>Session_URL</th>\n",
       "      <th>Session_ID</th>\n",
       "    </tr>\n",
       "  </thead>\n",
       "  <tbody>\n",
       "    <tr>\n",
       "      <th>0</th>\n",
       "      <td>The Use of Drug Disease Models and Biomarkers ...</td>\n",
       "      <td>https://ww2.amstat.org/meetings/jsm/2011/onlin...</td>\n",
       "      <td>9 !</td>\n",
       "      <td>https://ww2.amstat.org/meetings/jsm/2011/onlin...</td>\n",
       "      <td>206379</td>\n",
       "    </tr>\n",
       "  </tbody>\n",
       "</table>\n",
       "</div>"
      ],
      "text/plain": [
       "                                      Abstract_Title  \\\n",
       "0  The Use of Drug Disease Models and Biomarkers ...   \n",
       "\n",
       "                                        Abstract_URL Session_No_v2  \\\n",
       "0  https://ww2.amstat.org/meetings/jsm/2011/onlin...           9 !   \n",
       "\n",
       "                                         Session_URL Session_ID  \n",
       "0  https://ww2.amstat.org/meetings/jsm/2011/onlin...     206379  "
      ]
     },
     "execution_count": 36,
     "metadata": {},
     "output_type": "execute_result"
    }
   ],
   "source": [
    "df_abstracts.head(1)"
   ]
  },
  {
   "cell_type": "code",
   "execution_count": 37,
   "metadata": {
    "collapsed": true
   },
   "outputs": [],
   "source": [
    "df_workshops = pd.DataFrame({'Session_No': workshop_session_no,\n",
    "                            'Abstract_Text': workshop_abstract,\n",
    "                            'Session_URL': workshop_session_url})\n"
   ]
  },
  {
   "cell_type": "code",
   "execution_count": 38,
   "metadata": {
    "collapsed": false
   },
   "outputs": [],
   "source": [
    "df_workshops['Session_ID']= df_workshops['Session_URL'].apply(lambda x:re.sub(r'https\\S+((\\d){6})', r'\\1', x))\n",
    "df_workshops = df_workshops[df_workshops['Abstract_Text'].str.contains('Organizer\\(s\\)|Chair\\(s\\)') == False]"
   ]
  },
  {
   "cell_type": "code",
   "execution_count": 39,
   "metadata": {
    "collapsed": false
   },
   "outputs": [
    {
     "data": {
      "text/html": [
       "<div>\n",
       "<table border=\"1\" class=\"dataframe\">\n",
       "  <thead>\n",
       "    <tr style=\"text-align: right;\">\n",
       "      <th></th>\n",
       "      <th>Abstract_Text</th>\n",
       "      <th>Session_No</th>\n",
       "      <th>Session_URL</th>\n",
       "      <th>Session_ID</th>\n",
       "    </tr>\n",
       "  </thead>\n",
       "  <tbody>\n",
       "    <tr>\n",
       "      <th>0</th>\n",
       "      <td>We first present linear mixed models for conti...</td>\n",
       "      <td>CE_01C</td>\n",
       "      <td>https://ww2.amstat.org/meetings/jsm/2011/onlin...</td>\n",
       "      <td>206444</td>\n",
       "    </tr>\n",
       "    <tr>\n",
       "      <th>1</th>\n",
       "      <td>There is a growing interest in developing regi...</td>\n",
       "      <td>CE_04C</td>\n",
       "      <td>https://ww2.amstat.org/meetings/jsm/2011/onlin...</td>\n",
       "      <td>206415</td>\n",
       "    </tr>\n",
       "    <tr>\n",
       "      <th>2</th>\n",
       "      <td>Statistical modeling with wavelets has become ...</td>\n",
       "      <td>CE_05C</td>\n",
       "      <td>https://ww2.amstat.org/meetings/jsm/2011/onlin...</td>\n",
       "      <td>206416</td>\n",
       "    </tr>\n",
       "  </tbody>\n",
       "</table>\n",
       "</div>"
      ],
      "text/plain": [
       "                                       Abstract_Text Session_No  \\\n",
       "0  We first present linear mixed models for conti...     CE_01C   \n",
       "1  There is a growing interest in developing regi...     CE_04C   \n",
       "2  Statistical modeling with wavelets has become ...     CE_05C   \n",
       "\n",
       "                                         Session_URL Session_ID  \n",
       "0  https://ww2.amstat.org/meetings/jsm/2011/onlin...     206444  \n",
       "1  https://ww2.amstat.org/meetings/jsm/2011/onlin...     206415  \n",
       "2  https://ww2.amstat.org/meetings/jsm/2011/onlin...     206416  "
      ]
     },
     "execution_count": 39,
     "metadata": {},
     "output_type": "execute_result"
    }
   ],
   "source": [
    "df_workshops.head(3)"
   ]
  },
  {
   "cell_type": "code",
   "execution_count": 40,
   "metadata": {
    "collapsed": false,
    "scrolled": true
   },
   "outputs": [],
   "source": [
    "df_abstracts.drop_duplicates(subset = 'Abstract_URL', inplace = True)\n",
    "df_abstracts.reset_index(drop = True, inplace = True)"
   ]
  },
  {
   "cell_type": "code",
   "execution_count": 41,
   "metadata": {
    "collapsed": true
   },
   "outputs": [],
   "source": [
    "df_abstracts.to_excel(r'{}\\2011Abstracts.xlsx'.format(dest))\n",
    "df_workshops.to_excel(r'{}\\2011Workshops.xlsx'.format(dest))"
   ]
  },
  {
   "cell_type": "markdown",
   "metadata": {},
   "source": [
    "# Test extraction of abstract info here"
   ]
  },
  {
   "cell_type": "code",
   "execution_count": 42,
   "metadata": {
    "collapsed": false
   },
   "outputs": [
    {
     "data": {
      "text/plain": [
       "'https://ww2.amstat.org/meetings/jsm/2011/onlineprogram/AbstractDetails.cfm?abstractid=300369'"
      ]
     },
     "execution_count": 42,
     "metadata": {},
     "output_type": "execute_result"
    }
   ],
   "source": [
    "test = df_abstracts['Abstract_URL'].iloc[0]\n",
    "test"
   ]
  },
  {
   "cell_type": "code",
   "execution_count": 43,
   "metadata": {
    "collapsed": true
   },
   "outputs": [],
   "source": [
    "r = requests.get(test)\n",
    "soup = BeautifulSoup(r.text, 'lxml')"
   ]
  },
  {
   "cell_type": "code",
   "execution_count": 47,
   "metadata": {
    "collapsed": false,
    "scrolled": true
   },
   "outputs": [
    {
     "data": {
      "text/plain": [
       "\"Drug disease models can be leveraged to improve trial design. For example, virtual patient responses can be simulated from drug disease models and used to assess a design's performance. If a trial performs poorly under this scenario of truth, the design needs to be modified. Knowledge of drug disease models can also be leveraged in the selection of final data analysis models and the definition of prior distributions if a Bayesian analysis is employed. Adaptive designs require simulation to understand the operating characteristics of the design, and the use of both drug disease models and biomarkers can improve performance. In this presentation, several examples (fixed designs and adaptive designs) will be presented where drug disease models and biomarkers have been used to optimize design. \""
      ]
     },
     "execution_count": 47,
     "metadata": {},
     "output_type": "execute_result"
    }
   ],
   "source": [
    "re.sub(r'\\r|\\n|\\t', '', soup.find_all('tr')[11].find('p').text)"
   ]
  },
  {
   "cell_type": "markdown",
   "metadata": {},
   "source": [
    "# Code to extract abstract details from abstract URLs"
   ]
  },
  {
   "cell_type": "code",
   "execution_count": 48,
   "metadata": {
    "collapsed": false
   },
   "outputs": [],
   "source": [
    "abs_num = []\n",
    "abs_keyword = []\n",
    "abs_type = []\n",
    "abs_text = []\n",
    "\n",
    "for link in df_abstracts['Abstract_URL']:\n",
    "    r = requests.get(link)\n",
    "    soup = BeautifulSoup(r.text, 'lxml')\n",
    "    \n",
    "    # abstract number\n",
    "    try:\n",
    "        number = re.sub(r'\\S+abstractid=(\\d+)', r'\\1', link)\n",
    "        abs_num.append(number)\n",
    "    except:\n",
    "        abs_num.append(None)\n",
    "    \n",
    "    # abstract keywords\n",
    "    try:\n",
    "        keywords = [item.text for item in soup.find_all('a') if re.search('keyword', str(item.get('href')))]\n",
    "        keywords = ', '.join(keywords)\n",
    "        abs_keyword.append(keywords)\n",
    "    except:\n",
    "        abs_keyword.append(None)\n",
    "        \n",
    "    \n",
    "    # abstract type\n",
    "    try:\n",
    "        talk_type = re.sub(r'Type:|\\n|\\r|\\t', '', soup.find_all('tr')[2].text)\n",
    "        abs_type.append(talk_type)\n",
    "    except:\n",
    "        abs_type.append(None)\n",
    "    \n",
    "    # abstract text\n",
    "    try:\n",
    "        abstract_text = re.sub(r'\\r|\\n|\\t', '', soup.find_all('tr')[11].find('p').text)\n",
    "        abs_text.append(abstract_text)\n",
    "    except:\n",
    "        abs_text.append(None)\n",
    "    "
   ]
  },
  {
   "cell_type": "code",
   "execution_count": 49,
   "metadata": {
    "collapsed": true
   },
   "outputs": [],
   "source": [
    "df_abstracts['Abstract_ID'] = abs_num\n",
    "df_abstracts['Abstract_Keywords'] = abs_keyword\n",
    "df_abstracts['Abstract_Type'] = abs_type\n",
    "df_abstracts['Abstract_Text'] = abs_text"
   ]
  },
  {
   "cell_type": "code",
   "execution_count": 50,
   "metadata": {
    "collapsed": true
   },
   "outputs": [],
   "source": [
    "df_abstracts.to_excel(r'{}\\2011Abstracts.xlsx'.format(dest))"
   ]
  },
  {
   "cell_type": "code",
   "execution_count": 51,
   "metadata": {
    "collapsed": false,
    "scrolled": true
   },
   "outputs": [
    {
     "data": {
      "text/html": [
       "<div>\n",
       "<table border=\"1\" class=\"dataframe\">\n",
       "  <thead>\n",
       "    <tr style=\"text-align: right;\">\n",
       "      <th></th>\n",
       "      <th>Abstract_Title</th>\n",
       "      <th>Abstract_URL</th>\n",
       "      <th>Session_No_v2</th>\n",
       "      <th>Session_URL</th>\n",
       "      <th>Session_ID</th>\n",
       "      <th>Abstract_ID</th>\n",
       "      <th>Abstract_Keywords</th>\n",
       "      <th>Abstract_Type</th>\n",
       "      <th>Abstract_Text</th>\n",
       "    </tr>\n",
       "  </thead>\n",
       "  <tbody>\n",
       "    <tr>\n",
       "      <th>0</th>\n",
       "      <td>The Use of Drug Disease Models and Biomarkers ...</td>\n",
       "      <td>https://ww2.amstat.org/meetings/jsm/2011/onlin...</td>\n",
       "      <td>9 !</td>\n",
       "      <td>https://ww2.amstat.org/meetings/jsm/2011/onlin...</td>\n",
       "      <td>206379</td>\n",
       "      <td>300369</td>\n",
       "      <td>modeling, biomarkers, simulation, design, adap...</td>\n",
       "      <td>Invited</td>\n",
       "      <td>Drug disease models can be leveraged to improv...</td>\n",
       "    </tr>\n",
       "  </tbody>\n",
       "</table>\n",
       "</div>"
      ],
      "text/plain": [
       "                                      Abstract_Title  \\\n",
       "0  The Use of Drug Disease Models and Biomarkers ...   \n",
       "\n",
       "                                        Abstract_URL Session_No_v2  \\\n",
       "0  https://ww2.amstat.org/meetings/jsm/2011/onlin...           9 !   \n",
       "\n",
       "                                         Session_URL Session_ID Abstract_ID  \\\n",
       "0  https://ww2.amstat.org/meetings/jsm/2011/onlin...     206379      300369   \n",
       "\n",
       "                                   Abstract_Keywords Abstract_Type  \\\n",
       "0  modeling, biomarkers, simulation, design, adap...       Invited   \n",
       "\n",
       "                                       Abstract_Text  \n",
       "0  Drug disease models can be leveraged to improv...  "
      ]
     },
     "execution_count": 51,
     "metadata": {},
     "output_type": "execute_result"
    }
   ],
   "source": [
    "df_abstracts.head(1)"
   ]
  },
  {
   "cell_type": "code",
   "execution_count": 52,
   "metadata": {
    "collapsed": false
   },
   "outputs": [],
   "source": [
    "df_details = df_workshops.append(df_abstracts)"
   ]
  },
  {
   "cell_type": "code",
   "execution_count": 53,
   "metadata": {
    "collapsed": false
   },
   "outputs": [
    {
     "data": {
      "text/html": [
       "<div>\n",
       "<table border=\"1\" class=\"dataframe\">\n",
       "  <thead>\n",
       "    <tr style=\"text-align: right;\">\n",
       "      <th></th>\n",
       "      <th>Session_No</th>\n",
       "      <th>Session_Title</th>\n",
       "      <th>Session_URL</th>\n",
       "      <th>Sponsors</th>\n",
       "      <th>Type</th>\n",
       "      <th>Session_ID</th>\n",
       "    </tr>\n",
       "  </thead>\n",
       "  <tbody>\n",
       "  </tbody>\n",
       "</table>\n",
       "</div>"
      ],
      "text/plain": [
       "Empty DataFrame\n",
       "Columns: [Session_No, Session_Title, Session_URL, Sponsors, Type, Session_ID]\n",
       "Index: []"
      ]
     },
     "execution_count": 53,
     "metadata": {},
     "output_type": "execute_result"
    }
   ],
   "source": [
    "df.head(0)"
   ]
  },
  {
   "cell_type": "code",
   "execution_count": 54,
   "metadata": {
    "collapsed": false
   },
   "outputs": [],
   "source": [
    "df_final = df_details.merge(df[['Session_Title', 'Sponsors', 'Type', 'Session_ID']], on = 'Session_ID', how= 'outer')"
   ]
  },
  {
   "cell_type": "code",
   "execution_count": 55,
   "metadata": {
    "collapsed": false
   },
   "outputs": [],
   "source": [
    "df_final['Unique'] = df_final['Session_ID'].map(str) + df_final['Abstract_ID'].map(str)"
   ]
  },
  {
   "cell_type": "code",
   "execution_count": 56,
   "metadata": {
    "collapsed": true
   },
   "outputs": [],
   "source": [
    "df_final.drop_duplicates(subset= 'Unique', inplace = True)\n",
    "df_final.reset_index(drop = True, inplace = True)"
   ]
  },
  {
   "cell_type": "code",
   "execution_count": 57,
   "metadata": {
    "collapsed": false
   },
   "outputs": [],
   "source": [
    "df_final['Session_No'] = df_final['Session_No'].apply(lambda x: x if bool(str(x).startswith('CE') or str(x)[0].isdigit()) else \"\")"
   ]
  },
  {
   "cell_type": "code",
   "execution_count": 58,
   "metadata": {
    "collapsed": true
   },
   "outputs": [],
   "source": [
    "df_final['Session_No_Keep'] = df_final['Session_No_v2'].combine_first(df_final['Session_No'])"
   ]
  },
  {
   "cell_type": "code",
   "execution_count": 59,
   "metadata": {
    "collapsed": false
   },
   "outputs": [],
   "source": [
    "del df_final['Session_No']\n",
    "del df_final['Session_No_v2']"
   ]
  },
  {
   "cell_type": "code",
   "execution_count": 60,
   "metadata": {
    "collapsed": false
   },
   "outputs": [],
   "source": [
    "df_final.rename(columns = {'Session_No_Keep': 'Session_No'}, inplace=True)"
   ]
  },
  {
   "cell_type": "code",
   "execution_count": 61,
   "metadata": {
    "collapsed": false
   },
   "outputs": [],
   "source": [
    "new_dest = r'C:\\Users\\Thaunga\\Scripts\\02. Presentations\\JSM\\Final Data'\n",
    "df_final.to_excel(r'{}\\2011_JSM_data.xlsx'.format(new_dest))"
   ]
  },
  {
   "cell_type": "code",
   "execution_count": null,
   "metadata": {
    "collapsed": true
   },
   "outputs": [],
   "source": []
  }
 ],
 "metadata": {
  "kernelspec": {
   "display_name": "Python 3",
   "language": "python",
   "name": "python3"
  },
  "language_info": {
   "codemirror_mode": {
    "name": "ipython",
    "version": 3
   },
   "file_extension": ".py",
   "mimetype": "text/x-python",
   "name": "python",
   "nbconvert_exporter": "python",
   "pygments_lexer": "ipython3",
   "version": "3.5.2"
  }
 },
 "nbformat": 4,
 "nbformat_minor": 2
}
