{
 "cells": [
  {
   "cell_type": "markdown",
   "metadata": {},
   "source": [
    "# I. Import Needed Libraries"
   ]
  },
  {
   "cell_type": "markdown",
   "metadata": {},
   "source": [
    "Selenium: accesses and controls web browser to submit search and locate web elements by xpath\n",
    "\n",
    "CSV: reads and writes CSV files\n",
    "\n",
    "re: regular expression for pattern matching\n",
    "\n",
    "requests: makes HTTP requests\n",
    "\n",
    "BeautifulSoup:parses HTML\n",
    "\n",
    "pandas: data analysis library to manage dataframes\n"
   ]
  },
  {
   "cell_type": "code",
   "execution_count": 1,
   "metadata": {
    "collapsed": false
   },
   "outputs": [
    {
     "name": "stdout",
     "output_type": "stream",
     "text": [
      "The history saving thread hit an unexpected error (DatabaseError('database disk image is malformed',)).History will not be written to the database.\n"
     ]
    }
   ],
   "source": [
    "from selenium import webdriver\n",
    "from selenium.webdriver.support.ui import Select\n",
    "from selenium.webdriver.common.by import By\n",
    "from selenium.webdriver.support.ui import WebDriverWait\n",
    "from selenium.webdriver.support import expected_conditions as EC\n",
    "\n",
    "import csv, re, requests\n",
    "from bs4 import BeautifulSoup\n",
    "import pandas as pd"
   ]
  },
  {
   "cell_type": "markdown",
   "metadata": {},
   "source": [
    "# II. Instantiate Browser Object "
   ]
  },
  {
   "cell_type": "code",
   "execution_count": 2,
   "metadata": {
    "collapsed": false
   },
   "outputs": [],
   "source": [
    "url = 'https://ww2.amstat.org/meetings/jsm/2017/onlineprogram/'\n",
    "\n",
    "# chromedriver needs to be in exectuable path or you need to map to where your chromedriver is\n",
    "browser = webdriver.Chrome()\n",
    "browser.get(url)\n"
   ]
  },
  {
   "cell_type": "markdown",
   "metadata": {},
   "source": [
    "# III. Navigate through webpage and scrape objects"
   ]
  },
  {
   "cell_type": "markdown",
   "metadata": {},
   "source": [
    "### Creat xpaths for needed items"
   ]
  },
  {
   "cell_type": "code",
   "execution_count": 3,
   "metadata": {
    "collapsed": false
   },
   "outputs": [],
   "source": [
    "xpath_search = '//*[@id=\"ui-accordion-accordion-panel-0\"]/table/tbody/tr/td/form/input[3]'\n",
    "xpath_session = '//*[@id=\"bottom\"]/table/tbody/tr[1]/td/table/tbody/tr[1]/td[1]/a[contains(@href, \"SessionID\")]'\n",
    "# '//tbody//tr[1]//td[1]//a[contains(@href, \"SessionID\")]'\n",
    "xpath_titles = '//tbody//tr[2]//td//b'\n",
    "xpath_sponsors = '//tbody//tr[3]//td'\n",
    "xpath_type = '//tbody//tr/td[4]'"
   ]
  },
  {
   "cell_type": "markdown",
   "metadata": {},
   "source": [
    "### Click search with empty fields"
   ]
  },
  {
   "cell_type": "code",
   "execution_count": 4,
   "metadata": {
    "collapsed": false
   },
   "outputs": [],
   "source": [
    "# wouldn't click on this page so had to execute script instead of standard click() method\n",
    "element = browser.find_element_by_xpath(xpath_search)\n",
    "browser.execute_script(\"arguments[0].click();\", element)\n",
    "\n",
    "\n",
    "# browser.find_element_by_xpath(xpath_search).click()\n",
    "# wait = WebDriverWait(browser, 30)\n",
    "# wait.until(EC.presence_of_element_located((By.XPATH, xpath_search)))\n",
    "# browser.find_element_by_xpath(xpath_search).click()"
   ]
  },
  {
   "cell_type": "markdown",
   "metadata": {},
   "source": [
    "### Create lists of each field needed"
   ]
  },
  {
   "cell_type": "code",
   "execution_count": 9,
   "metadata": {
    "collapsed": false
   },
   "outputs": [],
   "source": [
    "sessions = [item.text for item in browser.find_elements_by_xpath(xpath_session) if 'Session' not in item.text]\n",
    "titles = [item.text for item in browser.find_elements_by_xpath(xpath_titles)]\n",
    "sponsors = [item.text.replace('\\n', ', ') for item in browser.find_elements_by_xpath(xpath_sponsors) \n",
    "            if item.text != 'Sponsor(s)']\n",
    "\n",
    "session_linkToAbstract = [item.get_attribute('href') for item in browser.find_elements_by_xpath(xpath_session)]"
   ]
  },
  {
   "cell_type": "code",
   "execution_count": 10,
   "metadata": {
    "collapsed": false
   },
   "outputs": [],
   "source": [
    "session_type = [item.split(' — ')[1] for item in titles]\n",
    "titles = [item.split(' — ')[0] for item in titles]"
   ]
  },
  {
   "cell_type": "code",
   "execution_count": 11,
   "metadata": {
    "collapsed": false
   },
   "outputs": [
    {
     "data": {
      "text/plain": [
       "True"
      ]
     },
     "execution_count": 11,
     "metadata": {},
     "output_type": "execute_result"
    }
   ],
   "source": [
    "len(sessions) == len(titles) == len(sponsors) == len(session_linkToAbstract) == len(session_type)"
   ]
  },
  {
   "cell_type": "code",
   "execution_count": 12,
   "metadata": {
    "collapsed": true
   },
   "outputs": [],
   "source": [
    "df = pd.DataFrame({'Session_No' : sessions,\n",
    "                   'Session_Title' : titles,\n",
    "                   'Sponsors': sponsors,\n",
    "                   'Type': session_type,\n",
    "                   'Session_URL': session_linkToAbstract                   \n",
    "                  })"
   ]
  },
  {
   "cell_type": "code",
   "execution_count": 13,
   "metadata": {
    "collapsed": true
   },
   "outputs": [],
   "source": [
    "df['Session_ID'] = df['Session_URL'].apply(lambda x: re.sub(r'https\\S+((\\d){6})', r'\\1', x))"
   ]
  },
  {
   "cell_type": "code",
   "execution_count": 14,
   "metadata": {
    "collapsed": false
   },
   "outputs": [
    {
     "data": {
      "text/html": [
       "<div>\n",
       "<table border=\"1\" class=\"dataframe\">\n",
       "  <thead>\n",
       "    <tr style=\"text-align: right;\">\n",
       "      <th></th>\n",
       "      <th>Session_No</th>\n",
       "      <th>Session_Title</th>\n",
       "      <th>Session_URL</th>\n",
       "      <th>Sponsors</th>\n",
       "      <th>Type</th>\n",
       "      <th>Session_ID</th>\n",
       "    </tr>\n",
       "  </thead>\n",
       "  <tbody>\n",
       "    <tr>\n",
       "      <th>0</th>\n",
       "      <td>214967</td>\n",
       "      <td>ASA Board of Directors Meeting (Closed)</td>\n",
       "      <td>https://ww2.amstat.org/meetings/jsm/2017/onlin...</td>\n",
       "      <td>ASA Board of Directors</td>\n",
       "      <td>Other Cmte/Business</td>\n",
       "      <td>214967</td>\n",
       "    </tr>\n",
       "  </tbody>\n",
       "</table>\n",
       "</div>"
      ],
      "text/plain": [
       "  Session_No                            Session_Title  \\\n",
       "0     214967  ASA Board of Directors Meeting (Closed)   \n",
       "\n",
       "                                         Session_URL                Sponsors  \\\n",
       "0  https://ww2.amstat.org/meetings/jsm/2017/onlin...  ASA Board of Directors   \n",
       "\n",
       "                  Type Session_ID  \n",
       "0  Other Cmte/Business     214967  "
      ]
     },
     "execution_count": 14,
     "metadata": {},
     "output_type": "execute_result"
    }
   ],
   "source": [
    "df.head(1)"
   ]
  },
  {
   "cell_type": "code",
   "execution_count": 15,
   "metadata": {
    "collapsed": false
   },
   "outputs": [],
   "source": [
    "df.drop_duplicates(subset = 'Session_URL', inplace = True)\n",
    "df.reset_index(inplace = True, drop= True)"
   ]
  },
  {
   "cell_type": "code",
   "execution_count": 16,
   "metadata": {
    "collapsed": false
   },
   "outputs": [],
   "source": [
    "dest = r'C:\\Users\\Thaunga\\Scripts\\02. Presentations\\JSM\\Datasets'\n",
    "df.to_excel(r'{}\\2017Sessions.xlsx'.format(dest))"
   ]
  },
  {
   "cell_type": "markdown",
   "metadata": {},
   "source": [
    "# Test Code for this year's object locations (xpaths)"
   ]
  },
  {
   "cell_type": "code",
   "execution_count": 17,
   "metadata": {
    "collapsed": false,
    "scrolled": true
   },
   "outputs": [
    {
     "data": {
      "text/html": [
       "<div>\n",
       "<table border=\"1\" class=\"dataframe\">\n",
       "  <thead>\n",
       "    <tr style=\"text-align: right;\">\n",
       "      <th></th>\n",
       "      <th>Session_No</th>\n",
       "      <th>Session_Title</th>\n",
       "      <th>Session_URL</th>\n",
       "      <th>Sponsors</th>\n",
       "      <th>Type</th>\n",
       "      <th>Session_ID</th>\n",
       "    </tr>\n",
       "  </thead>\n",
       "  <tbody>\n",
       "    <tr>\n",
       "      <th>7</th>\n",
       "      <td>CE_01C</td>\n",
       "      <td>Master the Tidyverse: An Introduction to R for...</td>\n",
       "      <td>https://ww2.amstat.org/meetings/jsm/2017/onlin...</td>\n",
       "      <td>ASA</td>\n",
       "      <td>Professional Development Continuing Education ...</td>\n",
       "      <td>214574</td>\n",
       "    </tr>\n",
       "    <tr>\n",
       "      <th>8</th>\n",
       "      <td>CE_02C</td>\n",
       "      <td>Longitudinal and Incomplete Data (ADDED FEE)</td>\n",
       "      <td>https://ww2.amstat.org/meetings/jsm/2017/onlin...</td>\n",
       "      <td>ASA , Biometrics Section</td>\n",
       "      <td>Professional Development Continuing Education ...</td>\n",
       "      <td>214043</td>\n",
       "    </tr>\n",
       "    <tr>\n",
       "      <th>9</th>\n",
       "      <td>CE_03C</td>\n",
       "      <td>Bayesian Designs for Phase I-II Clinical Trial...</td>\n",
       "      <td>https://ww2.amstat.org/meetings/jsm/2017/onlin...</td>\n",
       "      <td>ASA , Biometrics Section , Section on Bayesian...</td>\n",
       "      <td>Professional Development Continuing Education ...</td>\n",
       "      <td>214044</td>\n",
       "    </tr>\n",
       "    <tr>\n",
       "      <th>10</th>\n",
       "      <td>CE_04C</td>\n",
       "      <td>An Introduction to the Joint Modeling of Longi...</td>\n",
       "      <td>https://ww2.amstat.org/meetings/jsm/2017/onlin...</td>\n",
       "      <td>ASA , Biometrics Section</td>\n",
       "      <td>Professional Development Continuing Education ...</td>\n",
       "      <td>214046</td>\n",
       "    </tr>\n",
       "    <tr>\n",
       "      <th>11</th>\n",
       "      <td>CE_05C</td>\n",
       "      <td>Bayesian Thinking: Fundamentals, Computation, ...</td>\n",
       "      <td>https://ww2.amstat.org/meetings/jsm/2017/onlin...</td>\n",
       "      <td>ASA</td>\n",
       "      <td>Professional Development Continuing Education ...</td>\n",
       "      <td>214062</td>\n",
       "    </tr>\n",
       "    <tr>\n",
       "      <th>12</th>\n",
       "      <td>CE_06C</td>\n",
       "      <td>Propensity Score Methods and Their Application...</td>\n",
       "      <td>https://ww2.amstat.org/meetings/jsm/2017/onlin...</td>\n",
       "      <td>ASA</td>\n",
       "      <td>Professional Development Continuing Education ...</td>\n",
       "      <td>214070</td>\n",
       "    </tr>\n",
       "    <tr>\n",
       "      <th>15</th>\n",
       "      <td>CE_07C</td>\n",
       "      <td>Network Meta-Analysis (ADDED FEE)</td>\n",
       "      <td>https://ww2.amstat.org/meetings/jsm/2017/onlin...</td>\n",
       "      <td>ASA , Health Policy Statistics Section</td>\n",
       "      <td>Professional Development Continuing Education ...</td>\n",
       "      <td>214071</td>\n",
       "    </tr>\n",
       "    <tr>\n",
       "      <th>16</th>\n",
       "      <td>CE_40P</td>\n",
       "      <td>Preparing Statisticians for Leadership: How to...</td>\n",
       "      <td>https://ww2.amstat.org/meetings/jsm/2017/onlin...</td>\n",
       "      <td>ASA</td>\n",
       "      <td>Professional Development Personal Skills Devel...</td>\n",
       "      <td>214612</td>\n",
       "    </tr>\n",
       "    <tr>\n",
       "      <th>26</th>\n",
       "      <td>CE_40P</td>\n",
       "      <td>Preparing Statisticians for Leadership: How to...</td>\n",
       "      <td>https://ww2.amstat.org/meetings/jsm/2017/onlin...</td>\n",
       "      <td>ASA</td>\n",
       "      <td>Professional Development Personal Skills Devel...</td>\n",
       "      <td>214613</td>\n",
       "    </tr>\n",
       "    <tr>\n",
       "      <th>29</th>\n",
       "      <td>CE_01C</td>\n",
       "      <td>Master the Tidyverse: An Introduction to R for...</td>\n",
       "      <td>https://ww2.amstat.org/meetings/jsm/2017/onlin...</td>\n",
       "      <td>ASA</td>\n",
       "      <td>Professional Development Continuing Education ...</td>\n",
       "      <td>214575</td>\n",
       "    </tr>\n",
       "    <tr>\n",
       "      <th>30</th>\n",
       "      <td>CE_08C</td>\n",
       "      <td>Bayesian and Frequentist Adaptive Methods for ...</td>\n",
       "      <td>https://ww2.amstat.org/meetings/jsm/2017/onlin...</td>\n",
       "      <td>ASA , Section on Bayesian Statistical Science</td>\n",
       "      <td>Professional Development Continuing Education ...</td>\n",
       "      <td>214037</td>\n",
       "    </tr>\n",
       "    <tr>\n",
       "      <th>31</th>\n",
       "      <td>CE_09C</td>\n",
       "      <td>Regression Modeling Strategies (ADDED FEE)</td>\n",
       "      <td>https://ww2.amstat.org/meetings/jsm/2017/onlin...</td>\n",
       "      <td>ASA , Biometrics Section</td>\n",
       "      <td>Professional Development Continuing Education ...</td>\n",
       "      <td>214045</td>\n",
       "    </tr>\n",
       "    <tr>\n",
       "      <th>32</th>\n",
       "      <td>CE_10C</td>\n",
       "      <td>Precision Medicine Through Optimal Treatment R...</td>\n",
       "      <td>https://ww2.amstat.org/meetings/jsm/2017/onlin...</td>\n",
       "      <td>ASA , Biometrics Section</td>\n",
       "      <td>Professional Development Continuing Education ...</td>\n",
       "      <td>214053</td>\n",
       "    </tr>\n",
       "    <tr>\n",
       "      <th>33</th>\n",
       "      <td>CE_11C</td>\n",
       "      <td>Preparing Statistician/Statistics Graduates to...</td>\n",
       "      <td>https://ww2.amstat.org/meetings/jsm/2017/onlin...</td>\n",
       "      <td>ASA , Quality and Productivity Section , Secti...</td>\n",
       "      <td>Professional Development Continuing Education ...</td>\n",
       "      <td>214069</td>\n",
       "    </tr>\n",
       "    <tr>\n",
       "      <th>34</th>\n",
       "      <td>CE_12C</td>\n",
       "      <td>Statistical Analysis with Missing Data (ADDED ...</td>\n",
       "      <td>https://ww2.amstat.org/meetings/jsm/2017/onlin...</td>\n",
       "      <td>ASA , Biometrics Section</td>\n",
       "      <td>Professional Development Continuing Education ...</td>\n",
       "      <td>214072</td>\n",
       "    </tr>\n",
       "    <tr>\n",
       "      <th>35</th>\n",
       "      <td>CE_13C</td>\n",
       "      <td>Bayesian Time Series Analysis and Forecasting ...</td>\n",
       "      <td>https://ww2.amstat.org/meetings/jsm/2017/onlin...</td>\n",
       "      <td>ASA , Section on Bayesian Statistical Science</td>\n",
       "      <td>Professional Development Continuing Education ...</td>\n",
       "      <td>214093</td>\n",
       "    </tr>\n",
       "    <tr>\n",
       "      <th>43</th>\n",
       "      <td>CE_42P</td>\n",
       "      <td>JSM Presentation Skills Workshop</td>\n",
       "      <td>https://ww2.amstat.org/meetings/jsm/2017/onlin...</td>\n",
       "      <td>ASA</td>\n",
       "      <td>Professional Development Personal Skills Devel...</td>\n",
       "      <td>214616</td>\n",
       "    </tr>\n",
       "    <tr>\n",
       "      <th>49</th>\n",
       "      <td>1</td>\n",
       "      <td>SPAIG Committee Speaker with Lunch (Added Fee)</td>\n",
       "      <td>https://ww2.amstat.org/meetings/jsm/2017/onlin...</td>\n",
       "      <td>Stats. Partnerships Among Academe, Indust. &amp; G...</td>\n",
       "      <td>Roundtables Speaker with Lunch</td>\n",
       "      <td>214441</td>\n",
       "    </tr>\n",
       "    <tr>\n",
       "      <th>59</th>\n",
       "      <td>2 * !</td>\n",
       "      <td>Phase Variation (Curve Registration) in Functi...</td>\n",
       "      <td>https://ww2.amstat.org/meetings/jsm/2017/onlin...</td>\n",
       "      <td>Section on Nonparametric Statistics , Section ...</td>\n",
       "      <td>Invited Papers</td>\n",
       "      <td>213692</td>\n",
       "    </tr>\n",
       "    <tr>\n",
       "      <th>60</th>\n",
       "      <td>3 * !</td>\n",
       "      <td>Statistical Methods for Health Economics and A...</td>\n",
       "      <td>https://ww2.amstat.org/meetings/jsm/2017/onlin...</td>\n",
       "      <td>Health Policy Statistics Section , Business an...</td>\n",
       "      <td>Invited Papers</td>\n",
       "      <td>213762</td>\n",
       "    </tr>\n",
       "    <tr>\n",
       "      <th>61</th>\n",
       "      <td>4 * !</td>\n",
       "      <td>Safety Evaluation, Data Sources, and Statistic...</td>\n",
       "      <td>https://ww2.amstat.org/meetings/jsm/2017/onlin...</td>\n",
       "      <td>ENAR</td>\n",
       "      <td>Invited Papers</td>\n",
       "      <td>213776</td>\n",
       "    </tr>\n",
       "    <tr>\n",
       "      <th>62</th>\n",
       "      <td>5 !</td>\n",
       "      <td>New Developments in Functional Data</td>\n",
       "      <td>https://ww2.amstat.org/meetings/jsm/2017/onlin...</td>\n",
       "      <td>IMS , Section on Nonparametric Statistics</td>\n",
       "      <td>Invited Papers</td>\n",
       "      <td>213781</td>\n",
       "    </tr>\n",
       "    <tr>\n",
       "      <th>63</th>\n",
       "      <td>6 * !</td>\n",
       "      <td>New Methods and Software for Adaptive Designs</td>\n",
       "      <td>https://ww2.amstat.org/meetings/jsm/2017/onlin...</td>\n",
       "      <td>Biopharmaceutical Section , Biometrics Section...</td>\n",
       "      <td>Invited Papers</td>\n",
       "      <td>213809</td>\n",
       "    </tr>\n",
       "    <tr>\n",
       "      <th>64</th>\n",
       "      <td>7 * !</td>\n",
       "      <td>New Developments in Predictive Modeling of Hig...</td>\n",
       "      <td>https://ww2.amstat.org/meetings/jsm/2017/onlin...</td>\n",
       "      <td>Council of Chapters , Section on Statistical L...</td>\n",
       "      <td>Invited Papers</td>\n",
       "      <td>213831</td>\n",
       "    </tr>\n",
       "    <tr>\n",
       "      <th>65</th>\n",
       "      <td>8 * !</td>\n",
       "      <td>Statistics and the Reproducibility Crisis</td>\n",
       "      <td>https://ww2.amstat.org/meetings/jsm/2017/onlin...</td>\n",
       "      <td>The American Statistician , Section for Statis...</td>\n",
       "      <td>Invited Papers</td>\n",
       "      <td>213832</td>\n",
       "    </tr>\n",
       "    <tr>\n",
       "      <th>66</th>\n",
       "      <td>9 *</td>\n",
       "      <td>When Location Is Random: Advances in Statistic...</td>\n",
       "      <td>https://ww2.amstat.org/meetings/jsm/2017/onlin...</td>\n",
       "      <td>Section on Statistics and the Environment , Se...</td>\n",
       "      <td>Invited Papers</td>\n",
       "      <td>213865</td>\n",
       "    </tr>\n",
       "    <tr>\n",
       "      <th>67</th>\n",
       "      <td>10 * !</td>\n",
       "      <td>General-Purpose Fast Accurate Bayesian Computa...</td>\n",
       "      <td>https://ww2.amstat.org/meetings/jsm/2017/onlin...</td>\n",
       "      <td>International Society for Bayesian Analysis (I...</td>\n",
       "      <td>Invited Papers</td>\n",
       "      <td>213897</td>\n",
       "    </tr>\n",
       "    <tr>\n",
       "      <th>68</th>\n",
       "      <td>11 *</td>\n",
       "      <td>Environmental Surveys: A Hot Spot for Statisti...</td>\n",
       "      <td>https://ww2.amstat.org/meetings/jsm/2017/onlin...</td>\n",
       "      <td>Government Statistics Section , Section on Sta...</td>\n",
       "      <td>Invited Papers</td>\n",
       "      <td>213915</td>\n",
       "    </tr>\n",
       "    <tr>\n",
       "      <th>69</th>\n",
       "      <td>12 * !</td>\n",
       "      <td>Bridging BFF (Bayesian/Fiducial/Frequentist) I...</td>\n",
       "      <td>https://ww2.amstat.org/meetings/jsm/2017/onlin...</td>\n",
       "      <td>IMS , Section on Bayesian Statistical Science ...</td>\n",
       "      <td>Invited Papers</td>\n",
       "      <td>213918</td>\n",
       "    </tr>\n",
       "    <tr>\n",
       "      <th>70</th>\n",
       "      <td>13 * !</td>\n",
       "      <td>Big Data and Biology in Mental Health Statistics</td>\n",
       "      <td>https://ww2.amstat.org/meetings/jsm/2017/onlin...</td>\n",
       "      <td>Mental Health Statistics Section , Section on ...</td>\n",
       "      <td>Invited Papers</td>\n",
       "      <td>213934</td>\n",
       "    </tr>\n",
       "    <tr>\n",
       "      <th>...</th>\n",
       "      <td>...</td>\n",
       "      <td>...</td>\n",
       "      <td>...</td>\n",
       "      <td>...</td>\n",
       "      <td>...</td>\n",
       "      <td>...</td>\n",
       "    </tr>\n",
       "    <tr>\n",
       "      <th>988</th>\n",
       "      <td>642 * !</td>\n",
       "      <td>Data-Driven Modeling in Medical and Health Pol...</td>\n",
       "      <td>https://ww2.amstat.org/meetings/jsm/2017/onlin...</td>\n",
       "      <td>Section on Statistics in Epidemiology , Health...</td>\n",
       "      <td>Invited Papers</td>\n",
       "      <td>213967</td>\n",
       "    </tr>\n",
       "    <tr>\n",
       "      <th>989</th>\n",
       "      <td>643 * !</td>\n",
       "      <td>Journal of Uncertainty Quantification Invited ...</td>\n",
       "      <td>https://ww2.amstat.org/meetings/jsm/2017/onlin...</td>\n",
       "      <td>Journal on Uncertainty Quantification</td>\n",
       "      <td>Invited Papers</td>\n",
       "      <td>213997</td>\n",
       "    </tr>\n",
       "    <tr>\n",
       "      <th>990</th>\n",
       "      <td>644 !</td>\n",
       "      <td>Advancing Statistics in Universities: Deans' V...</td>\n",
       "      <td>https://ww2.amstat.org/meetings/jsm/2017/onlin...</td>\n",
       "      <td>ASA Caucus of Academic Representatives , IMS</td>\n",
       "      <td>Invited Panel</td>\n",
       "      <td>213964</td>\n",
       "    </tr>\n",
       "    <tr>\n",
       "      <th>991</th>\n",
       "      <td>645 *</td>\n",
       "      <td>Causal Mediation Analysis in Advanced Settings...</td>\n",
       "      <td>https://ww2.amstat.org/meetings/jsm/2017/onlin...</td>\n",
       "      <td>Mental Health Statistics Section , Biometrics ...</td>\n",
       "      <td>Topic Contributed Papers</td>\n",
       "      <td>213812</td>\n",
       "    </tr>\n",
       "    <tr>\n",
       "      <th>992</th>\n",
       "      <td>646 *</td>\n",
       "      <td>Big Data with Bite-Sized Solutions</td>\n",
       "      <td>https://ww2.amstat.org/meetings/jsm/2017/onlin...</td>\n",
       "      <td>Section for Statistical Programmers and Analys...</td>\n",
       "      <td>Topic Contributed Papers</td>\n",
       "      <td>213998</td>\n",
       "    </tr>\n",
       "    <tr>\n",
       "      <th>993</th>\n",
       "      <td>647 * !</td>\n",
       "      <td>Ernest Seglie's Many Contributions to the Use ...</td>\n",
       "      <td>https://ww2.amstat.org/meetings/jsm/2017/onlin...</td>\n",
       "      <td>Section on Statistics in Defense and National ...</td>\n",
       "      <td>Topic Contributed Papers</td>\n",
       "      <td>214104</td>\n",
       "    </tr>\n",
       "    <tr>\n",
       "      <th>994</th>\n",
       "      <td>648 * !</td>\n",
       "      <td>Environmental Statistics on Smart Phones</td>\n",
       "      <td>https://ww2.amstat.org/meetings/jsm/2017/onlin...</td>\n",
       "      <td>Section on Statistics and the Environment</td>\n",
       "      <td>Topic Contributed Papers</td>\n",
       "      <td>214120</td>\n",
       "    </tr>\n",
       "    <tr>\n",
       "      <th>995</th>\n",
       "      <td>649 * !</td>\n",
       "      <td>Advances in Finite Mixture Modeling and Model-...</td>\n",
       "      <td>https://ww2.amstat.org/meetings/jsm/2017/onlin...</td>\n",
       "      <td>Section on Statistical Computing</td>\n",
       "      <td>Topic Contributed Papers</td>\n",
       "      <td>214131</td>\n",
       "    </tr>\n",
       "    <tr>\n",
       "      <th>996</th>\n",
       "      <td>650 *</td>\n",
       "      <td>On the Use of Computer-Intensive Methods in Ph...</td>\n",
       "      <td>https://ww2.amstat.org/meetings/jsm/2017/onlin...</td>\n",
       "      <td>Biopharmaceutical Section</td>\n",
       "      <td>Topic Contributed Papers</td>\n",
       "      <td>214154</td>\n",
       "    </tr>\n",
       "    <tr>\n",
       "      <th>997</th>\n",
       "      <td>651 * !</td>\n",
       "      <td>Perception and Use of Adaptive Designs in Indu...</td>\n",
       "      <td>https://ww2.amstat.org/meetings/jsm/2017/onlin...</td>\n",
       "      <td>Biopharmaceutical Section</td>\n",
       "      <td>Topic Contributed Papers</td>\n",
       "      <td>214178</td>\n",
       "    </tr>\n",
       "    <tr>\n",
       "      <th>998</th>\n",
       "      <td>652 *</td>\n",
       "      <td>Improving Efficiency and Maintaining High Data...</td>\n",
       "      <td>https://ww2.amstat.org/meetings/jsm/2017/onlin...</td>\n",
       "      <td>Survey Research Methods Section</td>\n",
       "      <td>Topic Contributed Papers</td>\n",
       "      <td>214181</td>\n",
       "    </tr>\n",
       "    <tr>\n",
       "      <th>999</th>\n",
       "      <td>653 * !</td>\n",
       "      <td>Optimization Methods with Biological Applications</td>\n",
       "      <td>https://ww2.amstat.org/meetings/jsm/2017/onlin...</td>\n",
       "      <td>Biometrics Section , Section on Statistics in ...</td>\n",
       "      <td>Topic Contributed Papers</td>\n",
       "      <td>214213</td>\n",
       "    </tr>\n",
       "    <tr>\n",
       "      <th>1000</th>\n",
       "      <td>654 * !</td>\n",
       "      <td>Teaching Introductory Statistics Using Simulat...</td>\n",
       "      <td>https://ww2.amstat.org/meetings/jsm/2017/onlin...</td>\n",
       "      <td>Section on Statistical Education , Statistics ...</td>\n",
       "      <td>Topic Contributed Papers</td>\n",
       "      <td>214222</td>\n",
       "    </tr>\n",
       "    <tr>\n",
       "      <th>1001</th>\n",
       "      <td>655 * !</td>\n",
       "      <td>Statistical Analysis of Naturalistic Driving S...</td>\n",
       "      <td>https://ww2.amstat.org/meetings/jsm/2017/onlin...</td>\n",
       "      <td>Transportation Statistics Interest Group , Sec...</td>\n",
       "      <td>Topic Contributed Papers</td>\n",
       "      <td>214224</td>\n",
       "    </tr>\n",
       "    <tr>\n",
       "      <th>1002</th>\n",
       "      <td>656</td>\n",
       "      <td>Introducing Bayesian Statistics at Courses of ...</td>\n",
       "      <td>https://ww2.amstat.org/meetings/jsm/2017/onlin...</td>\n",
       "      <td>Section on Bayesian Statistical Science , Sect...</td>\n",
       "      <td>Topic Contributed Papers</td>\n",
       "      <td>214244</td>\n",
       "    </tr>\n",
       "    <tr>\n",
       "      <th>1003</th>\n",
       "      <td>657 * !</td>\n",
       "      <td>The Leadership Journey for Statisticians</td>\n",
       "      <td>https://ww2.amstat.org/meetings/jsm/2017/onlin...</td>\n",
       "      <td>Section on Statistical Consulting , Section fo...</td>\n",
       "      <td>Topic Contributed Panel</td>\n",
       "      <td>214226</td>\n",
       "    </tr>\n",
       "    <tr>\n",
       "      <th>1004</th>\n",
       "      <td>658</td>\n",
       "      <td>Biometrics Data Mining</td>\n",
       "      <td>https://ww2.amstat.org/meetings/jsm/2017/onlin...</td>\n",
       "      <td>Biometrics Section</td>\n",
       "      <td>Contributed Papers</td>\n",
       "      <td>214265</td>\n",
       "    </tr>\n",
       "    <tr>\n",
       "      <th>1005</th>\n",
       "      <td>659 * !</td>\n",
       "      <td>Clinical Trial Research</td>\n",
       "      <td>https://ww2.amstat.org/meetings/jsm/2017/onlin...</td>\n",
       "      <td>Biopharmaceutical Section</td>\n",
       "      <td>Contributed Papers</td>\n",
       "      <td>214283</td>\n",
       "    </tr>\n",
       "    <tr>\n",
       "      <th>1006</th>\n",
       "      <td>660 * !</td>\n",
       "      <td>Biomarkers in Clinical Research and Development</td>\n",
       "      <td>https://ww2.amstat.org/meetings/jsm/2017/onlin...</td>\n",
       "      <td>Biopharmaceutical Section , Section on Statist...</td>\n",
       "      <td>Contributed Papers</td>\n",
       "      <td>214293</td>\n",
       "    </tr>\n",
       "    <tr>\n",
       "      <th>1007</th>\n",
       "      <td>661</td>\n",
       "      <td>Statistical Approaches to High-Dimensional Mod...</td>\n",
       "      <td>https://ww2.amstat.org/meetings/jsm/2017/onlin...</td>\n",
       "      <td>ENAR , Section on Statistics in Genomics and G...</td>\n",
       "      <td>Contributed Papers</td>\n",
       "      <td>214303</td>\n",
       "    </tr>\n",
       "    <tr>\n",
       "      <th>1008</th>\n",
       "      <td>662</td>\n",
       "      <td>State, County, and Local Government Statistics</td>\n",
       "      <td>https://ww2.amstat.org/meetings/jsm/2017/onlin...</td>\n",
       "      <td>Government Statistics Section</td>\n",
       "      <td>Contributed Papers</td>\n",
       "      <td>214312</td>\n",
       "    </tr>\n",
       "    <tr>\n",
       "      <th>1009</th>\n",
       "      <td>663</td>\n",
       "      <td>New Developments in Modern Statistical Estimat...</td>\n",
       "      <td>https://ww2.amstat.org/meetings/jsm/2017/onlin...</td>\n",
       "      <td>IMS</td>\n",
       "      <td>Contributed Papers</td>\n",
       "      <td>214320</td>\n",
       "    </tr>\n",
       "    <tr>\n",
       "      <th>1010</th>\n",
       "      <td>664</td>\n",
       "      <td>Three Pillars of Successful Health Studies: In...</td>\n",
       "      <td>https://ww2.amstat.org/meetings/jsm/2017/onlin...</td>\n",
       "      <td>Health Policy Statistics Section , Internation...</td>\n",
       "      <td>Contributed Papers</td>\n",
       "      <td>214343</td>\n",
       "    </tr>\n",
       "    <tr>\n",
       "      <th>1011</th>\n",
       "      <td>665 *</td>\n",
       "      <td>Spatial Methods for Weather, Climate, and Health</td>\n",
       "      <td>https://ww2.amstat.org/meetings/jsm/2017/onlin...</td>\n",
       "      <td>Section on Statistics and the Environment</td>\n",
       "      <td>Contributed Papers</td>\n",
       "      <td>214357</td>\n",
       "    </tr>\n",
       "    <tr>\n",
       "      <th>1012</th>\n",
       "      <td>666</td>\n",
       "      <td>Prediction and Calibration</td>\n",
       "      <td>https://ww2.amstat.org/meetings/jsm/2017/onlin...</td>\n",
       "      <td>Section on Statistics in Epidemiology , Sectio...</td>\n",
       "      <td>Contributed Papers</td>\n",
       "      <td>214364</td>\n",
       "    </tr>\n",
       "    <tr>\n",
       "      <th>1013</th>\n",
       "      <td>667</td>\n",
       "      <td>Statistical Genetics</td>\n",
       "      <td>https://ww2.amstat.org/meetings/jsm/2017/onlin...</td>\n",
       "      <td>Section on Statistics in Genomics and Genetics</td>\n",
       "      <td>Contributed Papers</td>\n",
       "      <td>214374</td>\n",
       "    </tr>\n",
       "    <tr>\n",
       "      <th>1014</th>\n",
       "      <td>668</td>\n",
       "      <td>Estimation with Statistical Models</td>\n",
       "      <td>https://ww2.amstat.org/meetings/jsm/2017/onlin...</td>\n",
       "      <td>Survey Research Methods Section</td>\n",
       "      <td>Contributed Papers</td>\n",
       "      <td>214391</td>\n",
       "    </tr>\n",
       "    <tr>\n",
       "      <th>1015</th>\n",
       "      <td>669</td>\n",
       "      <td>Recent Advances in Nonparametric Statistics</td>\n",
       "      <td>https://ww2.amstat.org/meetings/jsm/2017/onlin...</td>\n",
       "      <td>Section on Nonparametric Statistics</td>\n",
       "      <td>Contributed Papers</td>\n",
       "      <td>214399</td>\n",
       "    </tr>\n",
       "    <tr>\n",
       "      <th>1016</th>\n",
       "      <td>670</td>\n",
       "      <td>Statistical Computing in Data Science</td>\n",
       "      <td>https://ww2.amstat.org/meetings/jsm/2017/onlin...</td>\n",
       "      <td>Section on Statistical Computing , Section for...</td>\n",
       "      <td>Contributed Papers</td>\n",
       "      <td>214410</td>\n",
       "    </tr>\n",
       "    <tr>\n",
       "      <th>1017</th>\n",
       "      <td>671 *</td>\n",
       "      <td>Environmental and Ecological Monitoring</td>\n",
       "      <td>https://ww2.amstat.org/meetings/jsm/2017/onlin...</td>\n",
       "      <td>Section on Statistics and the Environment</td>\n",
       "      <td>Contributed Papers</td>\n",
       "      <td>214440</td>\n",
       "    </tr>\n",
       "  </tbody>\n",
       "</table>\n",
       "<p>716 rows × 6 columns</p>\n",
       "</div>"
      ],
      "text/plain": [
       "     Session_No                                      Session_Title  \\\n",
       "7        CE_01C  Master the Tidyverse: An Introduction to R for...   \n",
       "8        CE_02C       Longitudinal and Incomplete Data (ADDED FEE)   \n",
       "9        CE_03C  Bayesian Designs for Phase I-II Clinical Trial...   \n",
       "10       CE_04C  An Introduction to the Joint Modeling of Longi...   \n",
       "11       CE_05C  Bayesian Thinking: Fundamentals, Computation, ...   \n",
       "12       CE_06C  Propensity Score Methods and Their Application...   \n",
       "15       CE_07C                  Network Meta-Analysis (ADDED FEE)   \n",
       "16       CE_40P  Preparing Statisticians for Leadership: How to...   \n",
       "26       CE_40P  Preparing Statisticians for Leadership: How to...   \n",
       "29       CE_01C  Master the Tidyverse: An Introduction to R for...   \n",
       "30       CE_08C  Bayesian and Frequentist Adaptive Methods for ...   \n",
       "31       CE_09C         Regression Modeling Strategies (ADDED FEE)   \n",
       "32       CE_10C  Precision Medicine Through Optimal Treatment R...   \n",
       "33       CE_11C  Preparing Statistician/Statistics Graduates to...   \n",
       "34       CE_12C  Statistical Analysis with Missing Data (ADDED ...   \n",
       "35       CE_13C  Bayesian Time Series Analysis and Forecasting ...   \n",
       "43       CE_42P                   JSM Presentation Skills Workshop   \n",
       "49            1     SPAIG Committee Speaker with Lunch (Added Fee)   \n",
       "59        2 * !  Phase Variation (Curve Registration) in Functi...   \n",
       "60        3 * !  Statistical Methods for Health Economics and A...   \n",
       "61        4 * !  Safety Evaluation, Data Sources, and Statistic...   \n",
       "62          5 !                New Developments in Functional Data   \n",
       "63        6 * !      New Methods and Software for Adaptive Designs   \n",
       "64        7 * !  New Developments in Predictive Modeling of Hig...   \n",
       "65        8 * !          Statistics and the Reproducibility Crisis   \n",
       "66          9 *  When Location Is Random: Advances in Statistic...   \n",
       "67       10 * !  General-Purpose Fast Accurate Bayesian Computa...   \n",
       "68         11 *  Environmental Surveys: A Hot Spot for Statisti...   \n",
       "69       12 * !  Bridging BFF (Bayesian/Fiducial/Frequentist) I...   \n",
       "70       13 * !   Big Data and Biology in Mental Health Statistics   \n",
       "...         ...                                                ...   \n",
       "988     642 * !  Data-Driven Modeling in Medical and Health Pol...   \n",
       "989     643 * !  Journal of Uncertainty Quantification Invited ...   \n",
       "990       644 !  Advancing Statistics in Universities: Deans' V...   \n",
       "991       645 *  Causal Mediation Analysis in Advanced Settings...   \n",
       "992       646 *                 Big Data with Bite-Sized Solutions   \n",
       "993     647 * !  Ernest Seglie's Many Contributions to the Use ...   \n",
       "994     648 * !           Environmental Statistics on Smart Phones   \n",
       "995     649 * !  Advances in Finite Mixture Modeling and Model-...   \n",
       "996       650 *  On the Use of Computer-Intensive Methods in Ph...   \n",
       "997     651 * !  Perception and Use of Adaptive Designs in Indu...   \n",
       "998       652 *  Improving Efficiency and Maintaining High Data...   \n",
       "999     653 * !  Optimization Methods with Biological Applications   \n",
       "1000    654 * !  Teaching Introductory Statistics Using Simulat...   \n",
       "1001    655 * !  Statistical Analysis of Naturalistic Driving S...   \n",
       "1002        656  Introducing Bayesian Statistics at Courses of ...   \n",
       "1003    657 * !           The Leadership Journey for Statisticians   \n",
       "1004        658                             Biometrics Data Mining   \n",
       "1005    659 * !                            Clinical Trial Research   \n",
       "1006    660 * !    Biomarkers in Clinical Research and Development   \n",
       "1007        661  Statistical Approaches to High-Dimensional Mod...   \n",
       "1008        662     State, County, and Local Government Statistics   \n",
       "1009        663  New Developments in Modern Statistical Estimat...   \n",
       "1010        664  Three Pillars of Successful Health Studies: In...   \n",
       "1011      665 *   Spatial Methods for Weather, Climate, and Health   \n",
       "1012        666                         Prediction and Calibration   \n",
       "1013        667                               Statistical Genetics   \n",
       "1014        668                 Estimation with Statistical Models   \n",
       "1015        669        Recent Advances in Nonparametric Statistics   \n",
       "1016        670              Statistical Computing in Data Science   \n",
       "1017      671 *            Environmental and Ecological Monitoring   \n",
       "\n",
       "                                            Session_URL  \\\n",
       "7     https://ww2.amstat.org/meetings/jsm/2017/onlin...   \n",
       "8     https://ww2.amstat.org/meetings/jsm/2017/onlin...   \n",
       "9     https://ww2.amstat.org/meetings/jsm/2017/onlin...   \n",
       "10    https://ww2.amstat.org/meetings/jsm/2017/onlin...   \n",
       "11    https://ww2.amstat.org/meetings/jsm/2017/onlin...   \n",
       "12    https://ww2.amstat.org/meetings/jsm/2017/onlin...   \n",
       "15    https://ww2.amstat.org/meetings/jsm/2017/onlin...   \n",
       "16    https://ww2.amstat.org/meetings/jsm/2017/onlin...   \n",
       "26    https://ww2.amstat.org/meetings/jsm/2017/onlin...   \n",
       "29    https://ww2.amstat.org/meetings/jsm/2017/onlin...   \n",
       "30    https://ww2.amstat.org/meetings/jsm/2017/onlin...   \n",
       "31    https://ww2.amstat.org/meetings/jsm/2017/onlin...   \n",
       "32    https://ww2.amstat.org/meetings/jsm/2017/onlin...   \n",
       "33    https://ww2.amstat.org/meetings/jsm/2017/onlin...   \n",
       "34    https://ww2.amstat.org/meetings/jsm/2017/onlin...   \n",
       "35    https://ww2.amstat.org/meetings/jsm/2017/onlin...   \n",
       "43    https://ww2.amstat.org/meetings/jsm/2017/onlin...   \n",
       "49    https://ww2.amstat.org/meetings/jsm/2017/onlin...   \n",
       "59    https://ww2.amstat.org/meetings/jsm/2017/onlin...   \n",
       "60    https://ww2.amstat.org/meetings/jsm/2017/onlin...   \n",
       "61    https://ww2.amstat.org/meetings/jsm/2017/onlin...   \n",
       "62    https://ww2.amstat.org/meetings/jsm/2017/onlin...   \n",
       "63    https://ww2.amstat.org/meetings/jsm/2017/onlin...   \n",
       "64    https://ww2.amstat.org/meetings/jsm/2017/onlin...   \n",
       "65    https://ww2.amstat.org/meetings/jsm/2017/onlin...   \n",
       "66    https://ww2.amstat.org/meetings/jsm/2017/onlin...   \n",
       "67    https://ww2.amstat.org/meetings/jsm/2017/onlin...   \n",
       "68    https://ww2.amstat.org/meetings/jsm/2017/onlin...   \n",
       "69    https://ww2.amstat.org/meetings/jsm/2017/onlin...   \n",
       "70    https://ww2.amstat.org/meetings/jsm/2017/onlin...   \n",
       "...                                                 ...   \n",
       "988   https://ww2.amstat.org/meetings/jsm/2017/onlin...   \n",
       "989   https://ww2.amstat.org/meetings/jsm/2017/onlin...   \n",
       "990   https://ww2.amstat.org/meetings/jsm/2017/onlin...   \n",
       "991   https://ww2.amstat.org/meetings/jsm/2017/onlin...   \n",
       "992   https://ww2.amstat.org/meetings/jsm/2017/onlin...   \n",
       "993   https://ww2.amstat.org/meetings/jsm/2017/onlin...   \n",
       "994   https://ww2.amstat.org/meetings/jsm/2017/onlin...   \n",
       "995   https://ww2.amstat.org/meetings/jsm/2017/onlin...   \n",
       "996   https://ww2.amstat.org/meetings/jsm/2017/onlin...   \n",
       "997   https://ww2.amstat.org/meetings/jsm/2017/onlin...   \n",
       "998   https://ww2.amstat.org/meetings/jsm/2017/onlin...   \n",
       "999   https://ww2.amstat.org/meetings/jsm/2017/onlin...   \n",
       "1000  https://ww2.amstat.org/meetings/jsm/2017/onlin...   \n",
       "1001  https://ww2.amstat.org/meetings/jsm/2017/onlin...   \n",
       "1002  https://ww2.amstat.org/meetings/jsm/2017/onlin...   \n",
       "1003  https://ww2.amstat.org/meetings/jsm/2017/onlin...   \n",
       "1004  https://ww2.amstat.org/meetings/jsm/2017/onlin...   \n",
       "1005  https://ww2.amstat.org/meetings/jsm/2017/onlin...   \n",
       "1006  https://ww2.amstat.org/meetings/jsm/2017/onlin...   \n",
       "1007  https://ww2.amstat.org/meetings/jsm/2017/onlin...   \n",
       "1008  https://ww2.amstat.org/meetings/jsm/2017/onlin...   \n",
       "1009  https://ww2.amstat.org/meetings/jsm/2017/onlin...   \n",
       "1010  https://ww2.amstat.org/meetings/jsm/2017/onlin...   \n",
       "1011  https://ww2.amstat.org/meetings/jsm/2017/onlin...   \n",
       "1012  https://ww2.amstat.org/meetings/jsm/2017/onlin...   \n",
       "1013  https://ww2.amstat.org/meetings/jsm/2017/onlin...   \n",
       "1014  https://ww2.amstat.org/meetings/jsm/2017/onlin...   \n",
       "1015  https://ww2.amstat.org/meetings/jsm/2017/onlin...   \n",
       "1016  https://ww2.amstat.org/meetings/jsm/2017/onlin...   \n",
       "1017  https://ww2.amstat.org/meetings/jsm/2017/onlin...   \n",
       "\n",
       "                                               Sponsors  \\\n",
       "7                                                   ASA   \n",
       "8                              ASA , Biometrics Section   \n",
       "9     ASA , Biometrics Section , Section on Bayesian...   \n",
       "10                             ASA , Biometrics Section   \n",
       "11                                                  ASA   \n",
       "12                                                  ASA   \n",
       "15               ASA , Health Policy Statistics Section   \n",
       "16                                                  ASA   \n",
       "26                                                  ASA   \n",
       "29                                                  ASA   \n",
       "30        ASA , Section on Bayesian Statistical Science   \n",
       "31                             ASA , Biometrics Section   \n",
       "32                             ASA , Biometrics Section   \n",
       "33    ASA , Quality and Productivity Section , Secti...   \n",
       "34                             ASA , Biometrics Section   \n",
       "35        ASA , Section on Bayesian Statistical Science   \n",
       "43                                                  ASA   \n",
       "49    Stats. Partnerships Among Academe, Indust. & G...   \n",
       "59    Section on Nonparametric Statistics , Section ...   \n",
       "60    Health Policy Statistics Section , Business an...   \n",
       "61                                                 ENAR   \n",
       "62            IMS , Section on Nonparametric Statistics   \n",
       "63    Biopharmaceutical Section , Biometrics Section...   \n",
       "64    Council of Chapters , Section on Statistical L...   \n",
       "65    The American Statistician , Section for Statis...   \n",
       "66    Section on Statistics and the Environment , Se...   \n",
       "67    International Society for Bayesian Analysis (I...   \n",
       "68    Government Statistics Section , Section on Sta...   \n",
       "69    IMS , Section on Bayesian Statistical Science ...   \n",
       "70    Mental Health Statistics Section , Section on ...   \n",
       "...                                                 ...   \n",
       "988   Section on Statistics in Epidemiology , Health...   \n",
       "989               Journal on Uncertainty Quantification   \n",
       "990        ASA Caucus of Academic Representatives , IMS   \n",
       "991   Mental Health Statistics Section , Biometrics ...   \n",
       "992   Section for Statistical Programmers and Analys...   \n",
       "993   Section on Statistics in Defense and National ...   \n",
       "994           Section on Statistics and the Environment   \n",
       "995                    Section on Statistical Computing   \n",
       "996                           Biopharmaceutical Section   \n",
       "997                           Biopharmaceutical Section   \n",
       "998                     Survey Research Methods Section   \n",
       "999   Biometrics Section , Section on Statistics in ...   \n",
       "1000  Section on Statistical Education , Statistics ...   \n",
       "1001  Transportation Statistics Interest Group , Sec...   \n",
       "1002  Section on Bayesian Statistical Science , Sect...   \n",
       "1003  Section on Statistical Consulting , Section fo...   \n",
       "1004                                 Biometrics Section   \n",
       "1005                          Biopharmaceutical Section   \n",
       "1006  Biopharmaceutical Section , Section on Statist...   \n",
       "1007  ENAR , Section on Statistics in Genomics and G...   \n",
       "1008                      Government Statistics Section   \n",
       "1009                                                IMS   \n",
       "1010  Health Policy Statistics Section , Internation...   \n",
       "1011          Section on Statistics and the Environment   \n",
       "1012  Section on Statistics in Epidemiology , Sectio...   \n",
       "1013     Section on Statistics in Genomics and Genetics   \n",
       "1014                    Survey Research Methods Section   \n",
       "1015                Section on Nonparametric Statistics   \n",
       "1016  Section on Statistical Computing , Section for...   \n",
       "1017          Section on Statistics and the Environment   \n",
       "\n",
       "                                                   Type Session_ID  \n",
       "7     Professional Development Continuing Education ...     214574  \n",
       "8     Professional Development Continuing Education ...     214043  \n",
       "9     Professional Development Continuing Education ...     214044  \n",
       "10    Professional Development Continuing Education ...     214046  \n",
       "11    Professional Development Continuing Education ...     214062  \n",
       "12    Professional Development Continuing Education ...     214070  \n",
       "15    Professional Development Continuing Education ...     214071  \n",
       "16    Professional Development Personal Skills Devel...     214612  \n",
       "26    Professional Development Personal Skills Devel...     214613  \n",
       "29    Professional Development Continuing Education ...     214575  \n",
       "30    Professional Development Continuing Education ...     214037  \n",
       "31    Professional Development Continuing Education ...     214045  \n",
       "32    Professional Development Continuing Education ...     214053  \n",
       "33    Professional Development Continuing Education ...     214069  \n",
       "34    Professional Development Continuing Education ...     214072  \n",
       "35    Professional Development Continuing Education ...     214093  \n",
       "43    Professional Development Personal Skills Devel...     214616  \n",
       "49                       Roundtables Speaker with Lunch     214441  \n",
       "59                                       Invited Papers     213692  \n",
       "60                                       Invited Papers     213762  \n",
       "61                                       Invited Papers     213776  \n",
       "62                                       Invited Papers     213781  \n",
       "63                                       Invited Papers     213809  \n",
       "64                                       Invited Papers     213831  \n",
       "65                                       Invited Papers     213832  \n",
       "66                                       Invited Papers     213865  \n",
       "67                                       Invited Papers     213897  \n",
       "68                                       Invited Papers     213915  \n",
       "69                                       Invited Papers     213918  \n",
       "70                                       Invited Papers     213934  \n",
       "...                                                 ...        ...  \n",
       "988                                      Invited Papers     213967  \n",
       "989                                      Invited Papers     213997  \n",
       "990                                       Invited Panel     213964  \n",
       "991                            Topic Contributed Papers     213812  \n",
       "992                            Topic Contributed Papers     213998  \n",
       "993                            Topic Contributed Papers     214104  \n",
       "994                            Topic Contributed Papers     214120  \n",
       "995                            Topic Contributed Papers     214131  \n",
       "996                            Topic Contributed Papers     214154  \n",
       "997                            Topic Contributed Papers     214178  \n",
       "998                            Topic Contributed Papers     214181  \n",
       "999                            Topic Contributed Papers     214213  \n",
       "1000                           Topic Contributed Papers     214222  \n",
       "1001                           Topic Contributed Papers     214224  \n",
       "1002                           Topic Contributed Papers     214244  \n",
       "1003                            Topic Contributed Panel     214226  \n",
       "1004                                 Contributed Papers     214265  \n",
       "1005                                 Contributed Papers     214283  \n",
       "1006                                 Contributed Papers     214293  \n",
       "1007                                 Contributed Papers     214303  \n",
       "1008                                 Contributed Papers     214312  \n",
       "1009                                 Contributed Papers     214320  \n",
       "1010                                 Contributed Papers     214343  \n",
       "1011                                 Contributed Papers     214357  \n",
       "1012                                 Contributed Papers     214364  \n",
       "1013                                 Contributed Papers     214374  \n",
       "1014                                 Contributed Papers     214391  \n",
       "1015                                 Contributed Papers     214399  \n",
       "1016                                 Contributed Papers     214410  \n",
       "1017                                 Contributed Papers     214440  \n",
       "\n",
       "[716 rows x 6 columns]"
      ]
     },
     "execution_count": 17,
     "metadata": {},
     "output_type": "execute_result"
    }
   ],
   "source": [
    "df[df['Session_No'].apply(lambda x: bool(re.search(r'(?<!\\d)\\d{1,3}(?!\\d)',x)))]"
   ]
  },
  {
   "cell_type": "code",
   "execution_count": 34,
   "metadata": {
    "collapsed": false
   },
   "outputs": [
    {
     "data": {
      "text/plain": [
       "'https://ww2.amstat.org/meetings/jsm/2017/onlineprogram/ActivityDetails.cfm?SessionID=214441'"
      ]
     },
     "execution_count": 34,
     "metadata": {},
     "output_type": "execute_result"
    }
   ],
   "source": [
    "test = df['Session_URL'].iloc[49]\n",
    "test"
   ]
  },
  {
   "cell_type": "code",
   "execution_count": 35,
   "metadata": {
    "collapsed": true
   },
   "outputs": [],
   "source": [
    "r = requests.get(test)\n",
    "soup = BeautifulSoup(r.text, 'lxml')"
   ]
  },
  {
   "cell_type": "code",
   "execution_count": 39,
   "metadata": {
    "collapsed": false
   },
   "outputs": [
    {
     "data": {
      "text/plain": [
       "[' 1 ']"
      ]
     },
     "execution_count": 39,
     "metadata": {},
     "output_type": "execute_result"
    }
   ],
   "source": [
    "[soup.find_all('tr')[3].find('b').text]"
   ]
  },
  {
   "cell_type": "markdown",
   "metadata": {},
   "source": [
    "# Run Code to extract workshops and abstract_urls"
   ]
  },
  {
   "cell_type": "code",
   "execution_count": 40,
   "metadata": {
    "collapsed": true
   },
   "outputs": [],
   "source": [
    "# dataframe of abstracts to scrape with new urls\n",
    "session_url = []\n",
    "abstract_url = []\n",
    "abstract_title = []\n",
    "session_no_v2 = []\n",
    "\n",
    "#dataframe of abstracts already written in the session\n",
    "workshop_abstract = []\n",
    "workshop_session_no = []\n",
    "workshop_session_url = []\n",
    "\n",
    "for link in session_linkToAbstract:\n",
    "    r = requests.get(link)\n",
    "    soup = BeautifulSoup(r.text, 'lxml')\n",
    "    \n",
    "    # extract abstract titles and links\n",
    "    abstract_links = [item.get('href') for item in soup.find_all('a') if re.search('AbstractDetails', str(item.get('href')))]\n",
    "    \n",
    "    if len(abstract_links) == 0:\n",
    "        try:\n",
    "            abstract_workshop = re.sub(r'(\\n|\\r|\\t)', '', soup.find_all('tr')[6].text)\n",
    "            id_no = soup.find_all('tr')[3].find('b').text.strip()\n",
    "            \n",
    "            workshop_abstract.append(abstract_workshop)\n",
    "            workshop_session_no.append(id_no)\n",
    "            workshop_session_url.append(link)\n",
    "        except:\n",
    "            continue\n",
    "    \n",
    "    else:\n",
    "        abstract_titles = [item.text for item in soup.find_all('a') \n",
    "            if re.search('AbstractDetails', str(item.get('href')))]\n",
    "\n",
    "        # map back to session id and original link for later joining\n",
    "        session_ids = [soup.find_all('tr')[3].find('b').text] * len(abstract_links)\n",
    "        original_link = [link] * len(abstract_links)\n",
    "\n",
    "        # create list of \n",
    "        session_url = session_url + original_link\n",
    "        abstract_url = abstract_url + abstract_links\n",
    "        abstract_title = abstract_title + abstract_titles\n",
    "        session_no_v2 = session_no_v2 + session_ids\n",
    "\n",
    "    "
   ]
  },
  {
   "cell_type": "code",
   "execution_count": 41,
   "metadata": {
    "collapsed": false
   },
   "outputs": [
    {
     "data": {
      "text/plain": [
       "True"
      ]
     },
     "execution_count": 41,
     "metadata": {},
     "output_type": "execute_result"
    }
   ],
   "source": [
    "len(session_url) == len(abstract_url) == len(abstract_title) == len(session_no_v2)"
   ]
  },
  {
   "cell_type": "code",
   "execution_count": 42,
   "metadata": {
    "collapsed": false
   },
   "outputs": [
    {
     "data": {
      "text/plain": [
       "3319"
      ]
     },
     "execution_count": 42,
     "metadata": {},
     "output_type": "execute_result"
    }
   ],
   "source": [
    "len(session_url)"
   ]
  },
  {
   "cell_type": "code",
   "execution_count": 43,
   "metadata": {
    "collapsed": false
   },
   "outputs": [
    {
     "data": {
      "text/plain": [
       "True"
      ]
     },
     "execution_count": 43,
     "metadata": {},
     "output_type": "execute_result"
    }
   ],
   "source": [
    "len(workshop_abstract) == len(workshop_session_no) == len(workshop_session_url)"
   ]
  },
  {
   "cell_type": "code",
   "execution_count": 44,
   "metadata": {
    "collapsed": false
   },
   "outputs": [
    {
     "data": {
      "text/plain": [
       "355"
      ]
     },
     "execution_count": 44,
     "metadata": {},
     "output_type": "execute_result"
    }
   ],
   "source": [
    "len(workshop_abstract)"
   ]
  },
  {
   "cell_type": "code",
   "execution_count": 45,
   "metadata": {
    "collapsed": false
   },
   "outputs": [],
   "source": [
    "df_abstracts = pd.DataFrame({'Session_URL': session_url,\n",
    "                            'Abstract_URL' : abstract_url,\n",
    "                            'Abstract_Title': abstract_title,\n",
    "                            'Session_No_v2': session_no_v2})"
   ]
  },
  {
   "cell_type": "code",
   "execution_count": 46,
   "metadata": {
    "collapsed": true
   },
   "outputs": [],
   "source": [
    "df_abstracts['Session_ID'] = df_abstracts['Session_URL'].apply(lambda x: re.sub(r'https\\S+((\\d){6})', r'\\1', x))\n",
    "df_abstracts['Abstract_URL'] = df_abstracts['Abstract_URL'].apply(lambda x: url + x)"
   ]
  },
  {
   "cell_type": "code",
   "execution_count": 47,
   "metadata": {
    "collapsed": false
   },
   "outputs": [
    {
     "data": {
      "text/html": [
       "<div>\n",
       "<table border=\"1\" class=\"dataframe\">\n",
       "  <thead>\n",
       "    <tr style=\"text-align: right;\">\n",
       "      <th></th>\n",
       "      <th>Abstract_Title</th>\n",
       "      <th>Abstract_URL</th>\n",
       "      <th>Session_No_v2</th>\n",
       "      <th>Session_URL</th>\n",
       "      <th>Session_ID</th>\n",
       "    </tr>\n",
       "  </thead>\n",
       "  <tbody>\n",
       "    <tr>\n",
       "      <th>0</th>\n",
       "      <td>Asian Initiative: Career Development and Leade...</td>\n",
       "      <td>https://ww2.amstat.org/meetings/jsm/2017/onlin...</td>\n",
       "      <td>214819</td>\n",
       "      <td>https://ww2.amstat.org/meetings/jsm/2017/onlin...</td>\n",
       "      <td>214819</td>\n",
       "    </tr>\n",
       "  </tbody>\n",
       "</table>\n",
       "</div>"
      ],
      "text/plain": [
       "                                      Abstract_Title  \\\n",
       "0  Asian Initiative: Career Development and Leade...   \n",
       "\n",
       "                                        Abstract_URL Session_No_v2  \\\n",
       "0  https://ww2.amstat.org/meetings/jsm/2017/onlin...       214819    \n",
       "\n",
       "                                         Session_URL Session_ID  \n",
       "0  https://ww2.amstat.org/meetings/jsm/2017/onlin...     214819  "
      ]
     },
     "execution_count": 47,
     "metadata": {},
     "output_type": "execute_result"
    }
   ],
   "source": [
    "df_abstracts.head(1)"
   ]
  },
  {
   "cell_type": "code",
   "execution_count": 48,
   "metadata": {
    "collapsed": true
   },
   "outputs": [],
   "source": [
    "df_workshops = pd.DataFrame({'Session_No': workshop_session_no,\n",
    "                            'Abstract_Text': workshop_abstract,\n",
    "                            'Session_URL': workshop_session_url})\n"
   ]
  },
  {
   "cell_type": "code",
   "execution_count": 49,
   "metadata": {
    "collapsed": false
   },
   "outputs": [],
   "source": [
    "df_workshops['Session_ID']= df_workshops['Session_URL'].apply(lambda x:re.sub(r'https\\S+((\\d){6})', r'\\1', x))\n",
    "df_workshops = df_workshops[df_workshops['Abstract_Text'].str.contains('Organizer\\(s\\)|Chair\\(s\\)') == False]"
   ]
  },
  {
   "cell_type": "code",
   "execution_count": 50,
   "metadata": {
    "collapsed": false
   },
   "outputs": [
    {
     "data": {
      "text/html": [
       "<div>\n",
       "<table border=\"1\" class=\"dataframe\">\n",
       "  <thead>\n",
       "    <tr style=\"text-align: right;\">\n",
       "      <th></th>\n",
       "      <th>Abstract_Text</th>\n",
       "      <th>Session_No</th>\n",
       "      <th>Session_URL</th>\n",
       "      <th>Session_ID</th>\n",
       "    </tr>\n",
       "  </thead>\n",
       "  <tbody>\n",
       "    <tr>\n",
       "      <th>1</th>\n",
       "      <td></td>\n",
       "      <td>214832</td>\n",
       "      <td>https://ww2.amstat.org/meetings/jsm/2017/onlin...</td>\n",
       "      <td>214832</td>\n",
       "    </tr>\n",
       "    <tr>\n",
       "      <th>2</th>\n",
       "      <td></td>\n",
       "      <td>214856</td>\n",
       "      <td>https://ww2.amstat.org/meetings/jsm/2017/onlin...</td>\n",
       "      <td>214856</td>\n",
       "    </tr>\n",
       "    <tr>\n",
       "      <th>3</th>\n",
       "      <td></td>\n",
       "      <td>214889</td>\n",
       "      <td>https://ww2.amstat.org/meetings/jsm/2017/onlin...</td>\n",
       "      <td>214889</td>\n",
       "    </tr>\n",
       "  </tbody>\n",
       "</table>\n",
       "</div>"
      ],
      "text/plain": [
       "  Abstract_Text Session_No                                        Session_URL  \\\n",
       "1                   214832  https://ww2.amstat.org/meetings/jsm/2017/onlin...   \n",
       "2                   214856  https://ww2.amstat.org/meetings/jsm/2017/onlin...   \n",
       "3                   214889  https://ww2.amstat.org/meetings/jsm/2017/onlin...   \n",
       "\n",
       "  Session_ID  \n",
       "1     214832  \n",
       "2     214856  \n",
       "3     214889  "
      ]
     },
     "execution_count": 50,
     "metadata": {},
     "output_type": "execute_result"
    }
   ],
   "source": [
    "df_workshops.head(3)"
   ]
  },
  {
   "cell_type": "code",
   "execution_count": 51,
   "metadata": {
    "collapsed": false,
    "scrolled": true
   },
   "outputs": [],
   "source": [
    "df_abstracts.drop_duplicates(subset = 'Abstract_URL', inplace = True)\n",
    "df_abstracts.reset_index(drop = True, inplace = True)"
   ]
  },
  {
   "cell_type": "code",
   "execution_count": 52,
   "metadata": {
    "collapsed": false
   },
   "outputs": [],
   "source": [
    "df_abstracts.to_excel(r'{}\\2017Abstracts.xlsx'.format(dest))\n",
    "df_workshops.to_excel(r'{}\\2017Workshops.xlsx'.format(dest))"
   ]
  },
  {
   "cell_type": "markdown",
   "metadata": {},
   "source": [
    "# Test extraction of abstract info here"
   ]
  },
  {
   "cell_type": "code",
   "execution_count": 60,
   "metadata": {
    "collapsed": false
   },
   "outputs": [
    {
     "data": {
      "text/plain": [
       "'https://ww2.amstat.org/meetings/jsm/2017/onlineprogram/AbstractDetails.cfm?abstractid=322317'"
      ]
     },
     "execution_count": 60,
     "metadata": {},
     "output_type": "execute_result"
    }
   ],
   "source": [
    "test = df_abstracts['Abstract_URL'].iloc[2]\n",
    "test"
   ]
  },
  {
   "cell_type": "code",
   "execution_count": 62,
   "metadata": {
    "collapsed": true
   },
   "outputs": [],
   "source": [
    "r = requests.get(test)\n",
    "soup = BeautifulSoup(r.text, 'lxml')"
   ]
  },
  {
   "cell_type": "code",
   "execution_count": 66,
   "metadata": {
    "collapsed": false,
    "scrolled": true
   },
   "outputs": [
    {
     "data": {
      "text/plain": [
       "'We introduce a novel functional clustering method, the Bagging Voronoi K-Mediod Aligment (BVKMA) algorithm, which simultaneously clusters and aligns spatially dependent curves. It is a nonparametric statistical method that does not rely on distributional or dependency structure assumptions. The method is motivated by and applied to varved (annually laminated) sediment data from lake Kassjoen in northern Sweden, aiming to infer on past environmental and climate changes. The resulting clusters and their time dynamics show great potential for seasonal climate interpretation, in particular for winter climate changes. '"
      ]
     },
     "execution_count": 66,
     "metadata": {},
     "output_type": "execute_result"
    }
   ],
   "source": [
    "re.sub(r'\\r|\\n|\\t', '', soup.find_all('tr')[12].find('p').text)"
   ]
  },
  {
   "cell_type": "markdown",
   "metadata": {},
   "source": [
    "# Code to extract abstract details from abstract URLs"
   ]
  },
  {
   "cell_type": "code",
   "execution_count": 67,
   "metadata": {
    "collapsed": false
   },
   "outputs": [],
   "source": [
    "abs_num = []\n",
    "abs_keyword = []\n",
    "abs_type = []\n",
    "abs_text = []\n",
    "\n",
    "for link in df_abstracts['Abstract_URL']:\n",
    "    r = requests.get(link)\n",
    "    soup = BeautifulSoup(r.text, 'lxml')\n",
    "    \n",
    "    # abstract number\n",
    "    try:\n",
    "        number = re.sub(r'\\S+abstractid=(\\d+)', r'\\1', link)\n",
    "        abs_num.append(number)\n",
    "    except:\n",
    "        abs_num.append(None)\n",
    "    \n",
    "    # abstract keywords\n",
    "    try:\n",
    "        keywords = [item.text for item in soup.find_all('a') if re.search('KeyWordSearch', str(item.get('href')))]\n",
    "        keywords = ', '.join(keywords)\n",
    "        abs_keyword.append(keywords)\n",
    "    except:\n",
    "        abs_keyword.append(None)\n",
    "        \n",
    "    \n",
    "    # abstract type\n",
    "    try:\n",
    "        talk_type = re.sub(r'Type:|\\n|\\r|\\t', '', soup.find_all('tr')[4].text)\n",
    "        abs_type.append(talk_type)\n",
    "    except:\n",
    "        abs_type.append(None)\n",
    "    \n",
    "    # abstract text\n",
    "    try:\n",
    "        abstract_text = re.sub(r'\\r|\\n|\\t', '', soup.find_all('tr')[12].find('p').text)\n",
    "        abs_text.append(abstract_text)\n",
    "    except:\n",
    "        abs_text.append(None)\n",
    "    "
   ]
  },
  {
   "cell_type": "code",
   "execution_count": 68,
   "metadata": {
    "collapsed": true
   },
   "outputs": [],
   "source": [
    "df_abstracts['Abstract_ID'] = abs_num\n",
    "df_abstracts['Abstract_Keywords'] = abs_keyword\n",
    "df_abstracts['Abstract_Type'] = abs_type\n",
    "df_abstracts['Abstract_Text'] = abs_text"
   ]
  },
  {
   "cell_type": "code",
   "execution_count": 69,
   "metadata": {
    "collapsed": true
   },
   "outputs": [],
   "source": [
    "df_abstracts.to_excel(r'{}\\2017Abstracts.xlsx'.format(dest))"
   ]
  },
  {
   "cell_type": "code",
   "execution_count": 70,
   "metadata": {
    "collapsed": false,
    "scrolled": true
   },
   "outputs": [
    {
     "data": {
      "text/html": [
       "<div>\n",
       "<table border=\"1\" class=\"dataframe\">\n",
       "  <thead>\n",
       "    <tr style=\"text-align: right;\">\n",
       "      <th></th>\n",
       "      <th>Abstract_Title</th>\n",
       "      <th>Abstract_URL</th>\n",
       "      <th>Session_No_v2</th>\n",
       "      <th>Session_URL</th>\n",
       "      <th>Session_ID</th>\n",
       "      <th>Abstract_ID</th>\n",
       "      <th>Abstract_Keywords</th>\n",
       "      <th>Abstract_Type</th>\n",
       "      <th>Abstract_Text</th>\n",
       "    </tr>\n",
       "  </thead>\n",
       "  <tbody>\n",
       "    <tr>\n",
       "      <th>0</th>\n",
       "      <td>Asian Initiative: Career Development and Leade...</td>\n",
       "      <td>https://ww2.amstat.org/meetings/jsm/2017/onlin...</td>\n",
       "      <td>214819</td>\n",
       "      <td>https://ww2.amstat.org/meetings/jsm/2017/onlin...</td>\n",
       "      <td>214819</td>\n",
       "      <td>325513</td>\n",
       "      <td></td>\n",
       "      <td>Other</td>\n",
       "      <td>Representatives from IISA, ICSA, KISS, and ASA...</td>\n",
       "    </tr>\n",
       "  </tbody>\n",
       "</table>\n",
       "</div>"
      ],
      "text/plain": [
       "                                      Abstract_Title  \\\n",
       "0  Asian Initiative: Career Development and Leade...   \n",
       "\n",
       "                                        Abstract_URL Session_No_v2  \\\n",
       "0  https://ww2.amstat.org/meetings/jsm/2017/onlin...       214819    \n",
       "\n",
       "                                         Session_URL Session_ID Abstract_ID  \\\n",
       "0  https://ww2.amstat.org/meetings/jsm/2017/onlin...     214819      325513   \n",
       "\n",
       "  Abstract_Keywords Abstract_Type  \\\n",
       "0                           Other   \n",
       "\n",
       "                                       Abstract_Text  \n",
       "0  Representatives from IISA, ICSA, KISS, and ASA...  "
      ]
     },
     "execution_count": 70,
     "metadata": {},
     "output_type": "execute_result"
    }
   ],
   "source": [
    "df_abstracts.head(1)"
   ]
  },
  {
   "cell_type": "code",
   "execution_count": 71,
   "metadata": {
    "collapsed": false
   },
   "outputs": [],
   "source": [
    "df_workshops['Abstract_Text'] = df_workshops['Abstract_Text'].apply(lambda x: '' if bool(re.search(r'Chair\\(s\\):|Organizer\\(s\\)', x)) else x)\n",
    "\n"
   ]
  },
  {
   "cell_type": "code",
   "execution_count": 72,
   "metadata": {
    "collapsed": false
   },
   "outputs": [],
   "source": [
    "df_details = df_workshops.append(df_abstracts)"
   ]
  },
  {
   "cell_type": "code",
   "execution_count": 73,
   "metadata": {
    "collapsed": false
   },
   "outputs": [
    {
     "data": {
      "text/html": [
       "<div>\n",
       "<table border=\"1\" class=\"dataframe\">\n",
       "  <thead>\n",
       "    <tr style=\"text-align: right;\">\n",
       "      <th></th>\n",
       "      <th>Session_No</th>\n",
       "      <th>Session_Title</th>\n",
       "      <th>Session_URL</th>\n",
       "      <th>Sponsors</th>\n",
       "      <th>Type</th>\n",
       "      <th>Session_ID</th>\n",
       "    </tr>\n",
       "  </thead>\n",
       "  <tbody>\n",
       "  </tbody>\n",
       "</table>\n",
       "</div>"
      ],
      "text/plain": [
       "Empty DataFrame\n",
       "Columns: [Session_No, Session_Title, Session_URL, Sponsors, Type, Session_ID]\n",
       "Index: []"
      ]
     },
     "execution_count": 73,
     "metadata": {},
     "output_type": "execute_result"
    }
   ],
   "source": [
    "df.head(0)"
   ]
  },
  {
   "cell_type": "code",
   "execution_count": 74,
   "metadata": {
    "collapsed": false
   },
   "outputs": [],
   "source": [
    "df_final = df_details.merge(df[['Session_Title', 'Sponsors', 'Type', 'Session_ID']], on = 'Session_ID', how= 'outer')"
   ]
  },
  {
   "cell_type": "code",
   "execution_count": 75,
   "metadata": {
    "collapsed": false
   },
   "outputs": [],
   "source": [
    "df_final['Unique'] = df_final['Session_ID'].map(str) + df_final['Abstract_ID'].map(str)"
   ]
  },
  {
   "cell_type": "code",
   "execution_count": 76,
   "metadata": {
    "collapsed": true
   },
   "outputs": [],
   "source": [
    "df_final.drop_duplicates(subset= 'Unique', inplace = True)\n",
    "df_final.reset_index(drop = True, inplace = True)"
   ]
  },
  {
   "cell_type": "code",
   "execution_count": 77,
   "metadata": {
    "collapsed": false
   },
   "outputs": [],
   "source": [
    "df_final['Session_No'] = df_final['Session_No'].apply(lambda x: x if bool(str(x).startswith('CE') or str(x)[0].isdigit()) else \"\")"
   ]
  },
  {
   "cell_type": "code",
   "execution_count": 78,
   "metadata": {
    "collapsed": true
   },
   "outputs": [],
   "source": [
    "df_final['Session_No_Keep'] = df_final['Session_No_v2'].combine_first(df_final['Session_No'])"
   ]
  },
  {
   "cell_type": "code",
   "execution_count": 79,
   "metadata": {
    "collapsed": false
   },
   "outputs": [],
   "source": [
    "del df_final['Session_No']\n",
    "del df_final['Session_No_v2']"
   ]
  },
  {
   "cell_type": "code",
   "execution_count": 80,
   "metadata": {
    "collapsed": false
   },
   "outputs": [],
   "source": [
    "df_final.rename(columns = {'Session_No_Keep': 'Session_No'}, inplace=True)"
   ]
  },
  {
   "cell_type": "code",
   "execution_count": 81,
   "metadata": {
    "collapsed": false
   },
   "outputs": [],
   "source": [
    "new_dest = r'C:\\Users\\Thaunga\\Scripts\\02. Presentations\\JSM\\Final Data'\n",
    "df_final.to_excel(r'{}\\2017_JSM_data.xlsx'.format(new_dest))"
   ]
  },
  {
   "cell_type": "code",
   "execution_count": null,
   "metadata": {
    "collapsed": true
   },
   "outputs": [],
   "source": []
  }
 ],
 "metadata": {
  "kernelspec": {
   "display_name": "Python 3",
   "language": "python",
   "name": "python3"
  },
  "language_info": {
   "codemirror_mode": {
    "name": "ipython",
    "version": 3
   },
   "file_extension": ".py",
   "mimetype": "text/x-python",
   "name": "python",
   "nbconvert_exporter": "python",
   "pygments_lexer": "ipython3",
   "version": "3.5.2"
  }
 },
 "nbformat": 4,
 "nbformat_minor": 2
}
