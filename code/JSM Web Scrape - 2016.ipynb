{
 "cells": [
  {
   "cell_type": "markdown",
   "metadata": {},
   "source": [
    "# I. Import Needed Libraries"
   ]
  },
  {
   "cell_type": "markdown",
   "metadata": {},
   "source": [
    "Selenium: accesses and controls web browser to submit search and locate web elements by xpath\n",
    "\n",
    "CSV: reads and writes CSV files\n",
    "\n",
    "re: regular expression for pattern matching\n",
    "\n",
    "requests: makes HTTP requests\n",
    "\n",
    "BeautifulSoup:parses HTML\n",
    "\n",
    "pandas: data analysis library to manage dataframes\n"
   ]
  },
  {
   "cell_type": "code",
   "execution_count": 1,
   "metadata": {
    "collapsed": false
   },
   "outputs": [
    {
     "name": "stdout",
     "output_type": "stream",
     "text": [
      "The history saving thread hit an unexpected error (DatabaseError('database disk image is malformed',)).History will not be written to the database.\n"
     ]
    }
   ],
   "source": [
    "from selenium import webdriver\n",
    "from selenium.webdriver.support.ui import Select\n",
    "from selenium.webdriver.common.by import By\n",
    "from selenium.webdriver.support.ui import WebDriverWait\n",
    "from selenium.webdriver.support import expected_conditions as EC\n",
    "\n",
    "import csv, re, requests\n",
    "from bs4 import BeautifulSoup\n",
    "import pandas as pd"
   ]
  },
  {
   "cell_type": "markdown",
   "metadata": {},
   "source": [
    "# II. Instantiate Browser Object "
   ]
  },
  {
   "cell_type": "code",
   "execution_count": 2,
   "metadata": {
    "collapsed": false
   },
   "outputs": [],
   "source": [
    "url = 'https://ww2.amstat.org/meetings/jsm/2016/onlineprogram/'\n",
    "\n",
    "# chromedriver needs to be in exectuable path or you need to map to where your chromedriver is\n",
    "browser = webdriver.Chrome()\n",
    "browser.get(url)\n"
   ]
  },
  {
   "cell_type": "markdown",
   "metadata": {},
   "source": [
    "# III. Navigate through webpage and scrape objects"
   ]
  },
  {
   "cell_type": "markdown",
   "metadata": {},
   "source": [
    "### Creat xpaths for needed items"
   ]
  },
  {
   "cell_type": "code",
   "execution_count": 53,
   "metadata": {
    "collapsed": false
   },
   "outputs": [],
   "source": [
    "xpath_search = '//*[@id=\"ui-accordion-accordion-panel-0\"]/table/tbody/tr/td/form/input[3]'\n",
    "xpath_session = '//*[@id=\"bottom\"]/table/tbody/tr[1]/td/table/tbody/tr[1]/td[1]/a[contains(@href, \"SessionID\")]'\n",
    "# '//tbody//tr[1]//td[1]//a[contains(@href, \"SessionID\")]'\n",
    "xpath_titles = '//tbody//tr[2]//td//b'\n",
    "xpath_sponsors = '//tbody//tr[3]//td'\n",
    "xpath_type = '//tbody//tr/td[4]'"
   ]
  },
  {
   "cell_type": "markdown",
   "metadata": {},
   "source": [
    "### Click search with empty fields"
   ]
  },
  {
   "cell_type": "code",
   "execution_count": 4,
   "metadata": {
    "collapsed": false
   },
   "outputs": [],
   "source": [
    "# wouldn't click on this page so had to execute script instead of standard click() method\n",
    "element = browser.find_element_by_xpath(xpath_search)\n",
    "browser.execute_script(\"arguments[0].click();\", element)\n",
    "\n",
    "\n",
    "# browser.find_element_by_xpath(xpath_search).click()\n",
    "# wait = WebDriverWait(browser, 30)\n",
    "# wait.until(EC.presence_of_element_located((By.XPATH, xpath_search)))\n",
    "# browser.find_element_by_xpath(xpath_search).click()"
   ]
  },
  {
   "cell_type": "markdown",
   "metadata": {},
   "source": [
    "### Create lists of each field needed"
   ]
  },
  {
   "cell_type": "code",
   "execution_count": 56,
   "metadata": {
    "collapsed": false
   },
   "outputs": [],
   "source": [
    "sessions = [item.text for item in browser.find_elements_by_xpath(xpath_session) if 'Session' not in item.text]\n",
    "titles = [item.text for item in browser.find_elements_by_xpath(xpath_titles)]\n",
    "sponsors = [item.text.replace('\\n', ', ') for item in browser.find_elements_by_xpath(xpath_sponsors) \n",
    "            if item.text != 'Sponsor(s)']\n",
    "\n",
    "session_linkToAbstract = [item.get_attribute('href') for item in browser.find_elements_by_xpath(xpath_session)]"
   ]
  },
  {
   "cell_type": "code",
   "execution_count": 61,
   "metadata": {
    "collapsed": false
   },
   "outputs": [],
   "source": [
    "session_type = [item.split(' — ')[1] for item in titles]\n",
    "titles = [item.split(' — ')[0] for item in titles]"
   ]
  },
  {
   "cell_type": "code",
   "execution_count": 64,
   "metadata": {
    "collapsed": false
   },
   "outputs": [
    {
     "data": {
      "text/plain": [
       "True"
      ]
     },
     "execution_count": 64,
     "metadata": {},
     "output_type": "execute_result"
    }
   ],
   "source": [
    "len(sessions) == len(titles) == len(sponsors) == len(session_linkToAbstract) == len(session_type)"
   ]
  },
  {
   "cell_type": "code",
   "execution_count": 65,
   "metadata": {
    "collapsed": true
   },
   "outputs": [],
   "source": [
    "df = pd.DataFrame({'Session_No' : sessions,\n",
    "                   'Session_Title' : titles,\n",
    "                   'Sponsors': sponsors,\n",
    "                   'Type': session_type,\n",
    "                   'Session_URL': session_linkToAbstract                   \n",
    "                  })"
   ]
  },
  {
   "cell_type": "code",
   "execution_count": 66,
   "metadata": {
    "collapsed": true
   },
   "outputs": [],
   "source": [
    "df['Session_ID'] = df['Session_URL'].apply(lambda x: re.sub(r'https\\S+((\\d){6})', r'\\1', x))"
   ]
  },
  {
   "cell_type": "code",
   "execution_count": 67,
   "metadata": {
    "collapsed": false
   },
   "outputs": [
    {
     "data": {
      "text/html": [
       "<div>\n",
       "<table border=\"1\" class=\"dataframe\">\n",
       "  <thead>\n",
       "    <tr style=\"text-align: right;\">\n",
       "      <th></th>\n",
       "      <th>Session_No</th>\n",
       "      <th>Session_Title</th>\n",
       "      <th>Session_URL</th>\n",
       "      <th>Sponsors</th>\n",
       "      <th>Type</th>\n",
       "      <th>Session_ID</th>\n",
       "    </tr>\n",
       "  </thead>\n",
       "  <tbody>\n",
       "    <tr>\n",
       "      <th>0</th>\n",
       "      <td>213714</td>\n",
       "      <td>Committee on Applied Statisticians Meeting</td>\n",
       "      <td>https://ww2.amstat.org/meetings/jsm/2016/onlin...</td>\n",
       "      <td>Committee on Applied Statisticians</td>\n",
       "      <td>Other Cmte/Business</td>\n",
       "      <td>213714</td>\n",
       "    </tr>\n",
       "  </tbody>\n",
       "</table>\n",
       "</div>"
      ],
      "text/plain": [
       "  Session_No                               Session_Title  \\\n",
       "0     213714  Committee on Applied Statisticians Meeting   \n",
       "\n",
       "                                         Session_URL  \\\n",
       "0  https://ww2.amstat.org/meetings/jsm/2016/onlin...   \n",
       "\n",
       "                             Sponsors                 Type Session_ID  \n",
       "0  Committee on Applied Statisticians  Other Cmte/Business     213714  "
      ]
     },
     "execution_count": 67,
     "metadata": {},
     "output_type": "execute_result"
    }
   ],
   "source": [
    "df.head(1)"
   ]
  },
  {
   "cell_type": "code",
   "execution_count": 68,
   "metadata": {
    "collapsed": false
   },
   "outputs": [],
   "source": [
    "df.drop_duplicates(subset = 'Session_URL', inplace = True)\n",
    "df.reset_index(inplace = True, drop= True)"
   ]
  },
  {
   "cell_type": "code",
   "execution_count": 69,
   "metadata": {
    "collapsed": false
   },
   "outputs": [],
   "source": [
    "dest = r'C:\\Users\\Thaunga\\Scripts\\02. Presentations\\JSM\\Datasets'\n",
    "df.to_excel(r'{}\\2016Sessions.xlsx'.format(dest))"
   ]
  },
  {
   "cell_type": "markdown",
   "metadata": {},
   "source": [
    "# Test Code for this year's object locations (xpaths)"
   ]
  },
  {
   "cell_type": "code",
   "execution_count": 70,
   "metadata": {
    "collapsed": false,
    "scrolled": true
   },
   "outputs": [
    {
     "data": {
      "text/html": [
       "<div>\n",
       "<table border=\"1\" class=\"dataframe\">\n",
       "  <thead>\n",
       "    <tr style=\"text-align: right;\">\n",
       "      <th></th>\n",
       "      <th>Session_No</th>\n",
       "      <th>Session_Title</th>\n",
       "      <th>Session_URL</th>\n",
       "      <th>Sponsors</th>\n",
       "      <th>Type</th>\n",
       "      <th>Session_ID</th>\n",
       "    </tr>\n",
       "  </thead>\n",
       "  <tbody>\n",
       "    <tr>\n",
       "      <th>8</th>\n",
       "      <td>CE_02C</td>\n",
       "      <td>Best Practices in Data Visualization: Present ...</td>\n",
       "      <td>https://ww2.amstat.org/meetings/jsm/2016/onlin...</td>\n",
       "      <td>ASA</td>\n",
       "      <td>Professional Development Continuing Education ...</td>\n",
       "      <td>212647</td>\n",
       "    </tr>\n",
       "    <tr>\n",
       "      <th>9</th>\n",
       "      <td>CE_43P</td>\n",
       "      <td>Effective Collaboration, Part I (ADDED FEE)</td>\n",
       "      <td>https://ww2.amstat.org/meetings/jsm/2016/onlin...</td>\n",
       "      <td>ASA</td>\n",
       "      <td>Professional Development Personal Skills Devel...</td>\n",
       "      <td>213251</td>\n",
       "    </tr>\n",
       "    <tr>\n",
       "      <th>11</th>\n",
       "      <td>CE_01C</td>\n",
       "      <td>Introduction to Bayesian Methods, Computation,...</td>\n",
       "      <td>https://ww2.amstat.org/meetings/jsm/2016/onlin...</td>\n",
       "      <td>ASA</td>\n",
       "      <td>Professional Development Continuing Education ...</td>\n",
       "      <td>213231</td>\n",
       "    </tr>\n",
       "    <tr>\n",
       "      <th>12</th>\n",
       "      <td>CE_03C</td>\n",
       "      <td>Applied Longitudinal Analysis (ADDED FEE)</td>\n",
       "      <td>https://ww2.amstat.org/meetings/jsm/2016/onlin...</td>\n",
       "      <td>ASA , Biometrics Section</td>\n",
       "      <td>Professional Development Continuing Education ...</td>\n",
       "      <td>212630</td>\n",
       "    </tr>\n",
       "    <tr>\n",
       "      <th>13</th>\n",
       "      <td>CE_04C</td>\n",
       "      <td>A Primer to Web Scraping with R (ADDED FEE)</td>\n",
       "      <td>https://ww2.amstat.org/meetings/jsm/2016/onlin...</td>\n",
       "      <td>ASA</td>\n",
       "      <td>Professional Development Continuing Education ...</td>\n",
       "      <td>213233</td>\n",
       "    </tr>\n",
       "    <tr>\n",
       "      <th>14</th>\n",
       "      <td>CE_05C</td>\n",
       "      <td>Advanced Topics in Survey Sampling (ADDED FEE)</td>\n",
       "      <td>https://ww2.amstat.org/meetings/jsm/2016/onlin...</td>\n",
       "      <td>ASA , Survey Research Methods Section</td>\n",
       "      <td>Professional Development Continuing Education ...</td>\n",
       "      <td>212433</td>\n",
       "    </tr>\n",
       "    <tr>\n",
       "      <th>15</th>\n",
       "      <td>CE_06C</td>\n",
       "      <td>Statistical Analysis of Financial Data with R ...</td>\n",
       "      <td>https://ww2.amstat.org/meetings/jsm/2016/onlin...</td>\n",
       "      <td>ASA , Business and Economic Statistics Section</td>\n",
       "      <td>Professional Development Continuing Education ...</td>\n",
       "      <td>212653</td>\n",
       "    </tr>\n",
       "    <tr>\n",
       "      <th>18</th>\n",
       "      <td>CE_07C</td>\n",
       "      <td>Introduction to Bayesian Inference with Stan a...</td>\n",
       "      <td>https://ww2.amstat.org/meetings/jsm/2016/onlin...</td>\n",
       "      <td>ASA</td>\n",
       "      <td>Professional Development Continuing Education ...</td>\n",
       "      <td>213234</td>\n",
       "    </tr>\n",
       "    <tr>\n",
       "      <th>19</th>\n",
       "      <td>CE_44P</td>\n",
       "      <td>Preparing Statisticians for Leadership: How to...</td>\n",
       "      <td>https://ww2.amstat.org/meetings/jsm/2016/onlin...</td>\n",
       "      <td>ASA</td>\n",
       "      <td>Professional Development Personal Skills Devel...</td>\n",
       "      <td>213253</td>\n",
       "    </tr>\n",
       "    <tr>\n",
       "      <th>32</th>\n",
       "      <td>CE_08C</td>\n",
       "      <td>An Example-Driven Hands-On Introduction to Rcp...</td>\n",
       "      <td>https://ww2.amstat.org/meetings/jsm/2016/onlin...</td>\n",
       "      <td>ASA</td>\n",
       "      <td>Professional Development Continuing Education ...</td>\n",
       "      <td>213235</td>\n",
       "    </tr>\n",
       "    <tr>\n",
       "      <th>33</th>\n",
       "      <td>CE_44P</td>\n",
       "      <td>Preparing Statisticians for Leadership: How to...</td>\n",
       "      <td>https://ww2.amstat.org/meetings/jsm/2016/onlin...</td>\n",
       "      <td>ASA</td>\n",
       "      <td>Professional Development Personal Skills Devel...</td>\n",
       "      <td>213254</td>\n",
       "    </tr>\n",
       "    <tr>\n",
       "      <th>36</th>\n",
       "      <td>CE_01C</td>\n",
       "      <td>Introduction to Bayesian Methods, Computation,...</td>\n",
       "      <td>https://ww2.amstat.org/meetings/jsm/2016/onlin...</td>\n",
       "      <td>ASA</td>\n",
       "      <td>Professional Development Continuing Education ...</td>\n",
       "      <td>213232</td>\n",
       "    </tr>\n",
       "    <tr>\n",
       "      <th>37</th>\n",
       "      <td>CE_09C</td>\n",
       "      <td>Regression Modeling Strategies (ADDED FEE)</td>\n",
       "      <td>https://ww2.amstat.org/meetings/jsm/2016/onlin...</td>\n",
       "      <td>ASA , Biometrics Section</td>\n",
       "      <td>Professional Development Continuing Education ...</td>\n",
       "      <td>212631</td>\n",
       "    </tr>\n",
       "    <tr>\n",
       "      <th>38</th>\n",
       "      <td>CE_10C</td>\n",
       "      <td>Introduction to Statistical Learning for Unsup...</td>\n",
       "      <td>https://ww2.amstat.org/meetings/jsm/2016/onlin...</td>\n",
       "      <td>ASA , Section on Statistical Learning and Data...</td>\n",
       "      <td>Professional Development Continuing Education ...</td>\n",
       "      <td>212648</td>\n",
       "    </tr>\n",
       "    <tr>\n",
       "      <th>39</th>\n",
       "      <td>CE_11C</td>\n",
       "      <td>Monte Carlo and Bayesian Computation with R (A...</td>\n",
       "      <td>https://ww2.amstat.org/meetings/jsm/2016/onlin...</td>\n",
       "      <td>ASA</td>\n",
       "      <td>Professional Development Continuing Education ...</td>\n",
       "      <td>212641</td>\n",
       "    </tr>\n",
       "    <tr>\n",
       "      <th>40</th>\n",
       "      <td>CE_12C</td>\n",
       "      <td>Managing Statistical Consulting Projects: Less...</td>\n",
       "      <td>https://ww2.amstat.org/meetings/jsm/2016/onlin...</td>\n",
       "      <td>ASA</td>\n",
       "      <td>Professional Development Continuing Education ...</td>\n",
       "      <td>213236</td>\n",
       "    </tr>\n",
       "    <tr>\n",
       "      <th>44</th>\n",
       "      <td>CE_47P</td>\n",
       "      <td>JSM Presentation Skills Workshop (Open to JSM ...</td>\n",
       "      <td>https://ww2.amstat.org/meetings/jsm/2016/onlin...</td>\n",
       "      <td>JSM</td>\n",
       "      <td>Professional Development Personal Skills Devel...</td>\n",
       "      <td>213656</td>\n",
       "    </tr>\n",
       "    <tr>\n",
       "      <th>51</th>\n",
       "      <td>1</td>\n",
       "      <td>SPAIG Committee Speaker with Lunch (Added Fee)</td>\n",
       "      <td>https://ww2.amstat.org/meetings/jsm/2016/onlin...</td>\n",
       "      <td>SPAIG Committee</td>\n",
       "      <td>Roundtables Speaker with Lunch</td>\n",
       "      <td>213128</td>\n",
       "    </tr>\n",
       "    <tr>\n",
       "      <th>62</th>\n",
       "      <td>CE_13C</td>\n",
       "      <td>Making Quantitative Decisions During the Clini...</td>\n",
       "      <td>https://ww2.amstat.org/meetings/jsm/2016/onlin...</td>\n",
       "      <td>ASA , Biopharmaceutical Section</td>\n",
       "      <td>Professional Development Continuing Education ...</td>\n",
       "      <td>212623</td>\n",
       "    </tr>\n",
       "    <tr>\n",
       "      <th>63</th>\n",
       "      <td>CE_43P</td>\n",
       "      <td>Effective Collaboration, Part II (ADDED FEE)</td>\n",
       "      <td>https://ww2.amstat.org/meetings/jsm/2016/onlin...</td>\n",
       "      <td>ASA</td>\n",
       "      <td>Professional Development Personal Skills Devel...</td>\n",
       "      <td>213252</td>\n",
       "    </tr>\n",
       "    <tr>\n",
       "      <th>66</th>\n",
       "      <td>2 * !</td>\n",
       "      <td>Novel Statistical Methods in Imaging</td>\n",
       "      <td>https://ww2.amstat.org/meetings/jsm/2016/onlin...</td>\n",
       "      <td>Section on Statistics in Imaging , Internation...</td>\n",
       "      <td>Invited Papers</td>\n",
       "      <td>212331</td>\n",
       "    </tr>\n",
       "    <tr>\n",
       "      <th>67</th>\n",
       "      <td>3 * !</td>\n",
       "      <td>Integrative Genomics Analytics for Personalize...</td>\n",
       "      <td>https://ww2.amstat.org/meetings/jsm/2016/onlin...</td>\n",
       "      <td>WNAR , ENAR</td>\n",
       "      <td>Invited Papers</td>\n",
       "      <td>212333</td>\n",
       "    </tr>\n",
       "    <tr>\n",
       "      <th>68</th>\n",
       "      <td>4</td>\n",
       "      <td>High-Dimensional Bayesian Statistics: Spike-an...</td>\n",
       "      <td>https://ww2.amstat.org/meetings/jsm/2016/onlin...</td>\n",
       "      <td>Section on Bayesian Statistical Science , Inte...</td>\n",
       "      <td>Invited Papers</td>\n",
       "      <td>212341</td>\n",
       "    </tr>\n",
       "    <tr>\n",
       "      <th>69</th>\n",
       "      <td>5 *</td>\n",
       "      <td>Survey Costs and Survey Designs: Trade-Offs an...</td>\n",
       "      <td>https://ww2.amstat.org/meetings/jsm/2016/onlin...</td>\n",
       "      <td>Government Statistics Section , Survey Researc...</td>\n",
       "      <td>Invited Papers</td>\n",
       "      <td>212371</td>\n",
       "    </tr>\n",
       "    <tr>\n",
       "      <th>70</th>\n",
       "      <td>6 *</td>\n",
       "      <td>Open Source Statistical Software for Data Science</td>\n",
       "      <td>https://ww2.amstat.org/meetings/jsm/2016/onlin...</td>\n",
       "      <td>Journal of Statistical Software , Section for ...</td>\n",
       "      <td>Invited Papers</td>\n",
       "      <td>212387</td>\n",
       "    </tr>\n",
       "    <tr>\n",
       "      <th>71</th>\n",
       "      <td>7 * !</td>\n",
       "      <td>Statistical Learning of Health Care Systems</td>\n",
       "      <td>https://ww2.amstat.org/meetings/jsm/2016/onlin...</td>\n",
       "      <td>Health Policy Statistics Section , Committee o...</td>\n",
       "      <td>Invited Papers</td>\n",
       "      <td>212491</td>\n",
       "    </tr>\n",
       "    <tr>\n",
       "      <th>72</th>\n",
       "      <td>8 * !</td>\n",
       "      <td>Issues in Predictive Biomarker in Oncology Dru...</td>\n",
       "      <td>https://ww2.amstat.org/meetings/jsm/2016/onlin...</td>\n",
       "      <td>Biopharmaceutical Section , Committee on Appli...</td>\n",
       "      <td>Invited Papers</td>\n",
       "      <td>212494</td>\n",
       "    </tr>\n",
       "    <tr>\n",
       "      <th>73</th>\n",
       "      <td>9 !</td>\n",
       "      <td>Random Fields in Statistics and Applications</td>\n",
       "      <td>https://ww2.amstat.org/meetings/jsm/2016/onlin...</td>\n",
       "      <td>IMS , Royal Statistical Society</td>\n",
       "      <td>Invited Papers</td>\n",
       "      <td>212524</td>\n",
       "    </tr>\n",
       "    <tr>\n",
       "      <th>74</th>\n",
       "      <td>10</td>\n",
       "      <td>Statistical Methods in Integrative Genomics</td>\n",
       "      <td>https://ww2.amstat.org/meetings/jsm/2016/onlin...</td>\n",
       "      <td>ENAR , Section on Statistics in Imaging</td>\n",
       "      <td>Invited Papers</td>\n",
       "      <td>212527</td>\n",
       "    </tr>\n",
       "    <tr>\n",
       "      <th>75</th>\n",
       "      <td>11 * !</td>\n",
       "      <td>Statistical Climatology</td>\n",
       "      <td>https://ww2.amstat.org/meetings/jsm/2016/onlin...</td>\n",
       "      <td>Section on Statistics and the Environment</td>\n",
       "      <td>Invited Papers</td>\n",
       "      <td>212541</td>\n",
       "    </tr>\n",
       "    <tr>\n",
       "      <th>...</th>\n",
       "      <td>...</td>\n",
       "      <td>...</td>\n",
       "      <td>...</td>\n",
       "      <td>...</td>\n",
       "      <td>...</td>\n",
       "      <td>...</td>\n",
       "    </tr>\n",
       "    <tr>\n",
       "      <th>1054</th>\n",
       "      <td>680 * !</td>\n",
       "      <td>Statistical Aspects in Cancer Immunotherapy De...</td>\n",
       "      <td>https://ww2.amstat.org/meetings/jsm/2016/onlin...</td>\n",
       "      <td>International Chinese Statistical Association</td>\n",
       "      <td>Topic Contributed Papers</td>\n",
       "      <td>212675</td>\n",
       "    </tr>\n",
       "    <tr>\n",
       "      <th>1055</th>\n",
       "      <td>681 * !</td>\n",
       "      <td>Importance of Quantitative Imaging Biomarkers ...</td>\n",
       "      <td>https://ww2.amstat.org/meetings/jsm/2016/onlin...</td>\n",
       "      <td>Section on Statistics in Imaging</td>\n",
       "      <td>Topic Contributed Papers</td>\n",
       "      <td>212716</td>\n",
       "    </tr>\n",
       "    <tr>\n",
       "      <th>1056</th>\n",
       "      <td>682 * !</td>\n",
       "      <td>Modern Inference for Selected Models</td>\n",
       "      <td>https://ww2.amstat.org/meetings/jsm/2016/onlin...</td>\n",
       "      <td>ENAR , Biopharmaceutical Section , Internation...</td>\n",
       "      <td>Topic Contributed Papers</td>\n",
       "      <td>212722</td>\n",
       "    </tr>\n",
       "    <tr>\n",
       "      <th>1057</th>\n",
       "      <td>683 * !</td>\n",
       "      <td>Testing for Data Quality: Challenges in Practice</td>\n",
       "      <td>https://ww2.amstat.org/meetings/jsm/2016/onlin...</td>\n",
       "      <td>Government Statistics Section</td>\n",
       "      <td>Topic Contributed Papers</td>\n",
       "      <td>212774</td>\n",
       "    </tr>\n",
       "    <tr>\n",
       "      <th>1058</th>\n",
       "      <td>684 * !</td>\n",
       "      <td>Collecting and Analyzing Sensitive Data: Makin...</td>\n",
       "      <td>https://ww2.amstat.org/meetings/jsm/2016/onlin...</td>\n",
       "      <td>Survey Research Methods Section</td>\n",
       "      <td>Topic Contributed Papers</td>\n",
       "      <td>212775</td>\n",
       "    </tr>\n",
       "    <tr>\n",
       "      <th>1059</th>\n",
       "      <td>685 *</td>\n",
       "      <td>Integrated Analysis of Transcriptomics Data in...</td>\n",
       "      <td>https://ww2.amstat.org/meetings/jsm/2016/onlin...</td>\n",
       "      <td>Biopharmaceutical Section</td>\n",
       "      <td>Topic Contributed Papers</td>\n",
       "      <td>212784</td>\n",
       "    </tr>\n",
       "    <tr>\n",
       "      <th>1060</th>\n",
       "      <td>686 * !</td>\n",
       "      <td>Statistics for Social Good</td>\n",
       "      <td>https://ww2.amstat.org/meetings/jsm/2016/onlin...</td>\n",
       "      <td>Social Statistics Section</td>\n",
       "      <td>Topic Contributed Papers</td>\n",
       "      <td>212787</td>\n",
       "    </tr>\n",
       "    <tr>\n",
       "      <th>1061</th>\n",
       "      <td>687 * !</td>\n",
       "      <td>The Power of Historical Data-Borrowing Methods...</td>\n",
       "      <td>https://ww2.amstat.org/meetings/jsm/2016/onlin...</td>\n",
       "      <td>Biopharmaceutical Section</td>\n",
       "      <td>Topic Contributed Papers</td>\n",
       "      <td>212790</td>\n",
       "    </tr>\n",
       "    <tr>\n",
       "      <th>1062</th>\n",
       "      <td>688</td>\n",
       "      <td>Personalized Intervention Based on Health Care...</td>\n",
       "      <td>https://ww2.amstat.org/meetings/jsm/2016/onlin...</td>\n",
       "      <td>Health Policy Statistics Section , Biopharmace...</td>\n",
       "      <td>Topic Contributed Papers</td>\n",
       "      <td>212809</td>\n",
       "    </tr>\n",
       "    <tr>\n",
       "      <th>1063</th>\n",
       "      <td>689 *</td>\n",
       "      <td>Recent Developments in Restricted Mean Surviva...</td>\n",
       "      <td>https://ww2.amstat.org/meetings/jsm/2016/onlin...</td>\n",
       "      <td>Biometrics Section , Biopharmaceutical Section</td>\n",
       "      <td>Topic Contributed Papers</td>\n",
       "      <td>212829</td>\n",
       "    </tr>\n",
       "    <tr>\n",
       "      <th>1064</th>\n",
       "      <td>690 *</td>\n",
       "      <td>Working with Statistically Trained Nonstatisti...</td>\n",
       "      <td>https://ww2.amstat.org/meetings/jsm/2016/onlin...</td>\n",
       "      <td>Section on Teaching of Statistics in the Healt...</td>\n",
       "      <td>Topic Contributed Papers</td>\n",
       "      <td>212830</td>\n",
       "    </tr>\n",
       "    <tr>\n",
       "      <th>1065</th>\n",
       "      <td>691</td>\n",
       "      <td>Modern Biosurveillance at the Edge of Online S...</td>\n",
       "      <td>https://ww2.amstat.org/meetings/jsm/2016/onlin...</td>\n",
       "      <td>Section on Statistics and the Environment , Se...</td>\n",
       "      <td>Topic Contributed Papers</td>\n",
       "      <td>212848</td>\n",
       "    </tr>\n",
       "    <tr>\n",
       "      <th>1066</th>\n",
       "      <td>692</td>\n",
       "      <td>Statistical Methods for Ecology</td>\n",
       "      <td>https://ww2.amstat.org/meetings/jsm/2016/onlin...</td>\n",
       "      <td>Section on Statistics and the Environment</td>\n",
       "      <td>Contributed Papers</td>\n",
       "      <td>212886</td>\n",
       "    </tr>\n",
       "    <tr>\n",
       "      <th>1067</th>\n",
       "      <td>693 * !</td>\n",
       "      <td>Computational Issues in Modeling</td>\n",
       "      <td>https://ww2.amstat.org/meetings/jsm/2016/onlin...</td>\n",
       "      <td>Section on Statistical Computing</td>\n",
       "      <td>Contributed Papers</td>\n",
       "      <td>212891</td>\n",
       "    </tr>\n",
       "    <tr>\n",
       "      <th>1068</th>\n",
       "      <td>694</td>\n",
       "      <td>Useful Classroom Activities</td>\n",
       "      <td>https://ww2.amstat.org/meetings/jsm/2016/onlin...</td>\n",
       "      <td>Section on Statistical Education , Statistics ...</td>\n",
       "      <td>Contributed Papers</td>\n",
       "      <td>212909</td>\n",
       "    </tr>\n",
       "    <tr>\n",
       "      <th>1069</th>\n",
       "      <td>695</td>\n",
       "      <td>Methods and Applications of Statistical Graphics</td>\n",
       "      <td>https://ww2.amstat.org/meetings/jsm/2016/onlin...</td>\n",
       "      <td>Section on Statistical Graphics , Section for ...</td>\n",
       "      <td>Contributed Papers</td>\n",
       "      <td>212913</td>\n",
       "    </tr>\n",
       "    <tr>\n",
       "      <th>1070</th>\n",
       "      <td>696 *</td>\n",
       "      <td>Novel Applications of Statistical Methods to E...</td>\n",
       "      <td>https://ww2.amstat.org/meetings/jsm/2016/onlin...</td>\n",
       "      <td>Section on Statistics in Epidemiology , Biopha...</td>\n",
       "      <td>Contributed Papers</td>\n",
       "      <td>212920</td>\n",
       "    </tr>\n",
       "    <tr>\n",
       "      <th>1071</th>\n",
       "      <td>697</td>\n",
       "      <td>Model Selection in High Dimensions: Theory and...</td>\n",
       "      <td>https://ww2.amstat.org/meetings/jsm/2016/onlin...</td>\n",
       "      <td>Section on Statistical Learning and Data Science</td>\n",
       "      <td>Contributed Papers</td>\n",
       "      <td>212941</td>\n",
       "    </tr>\n",
       "    <tr>\n",
       "      <th>1072</th>\n",
       "      <td>698 * !</td>\n",
       "      <td>New Challenges in Complex Data Modeling II</td>\n",
       "      <td>https://ww2.amstat.org/meetings/jsm/2016/onlin...</td>\n",
       "      <td>Biometrics Section , Biopharmaceutical Section...</td>\n",
       "      <td>Contributed Papers</td>\n",
       "      <td>212946</td>\n",
       "    </tr>\n",
       "    <tr>\n",
       "      <th>1073</th>\n",
       "      <td>699 !</td>\n",
       "      <td>General Methodology and Applications in Biosta...</td>\n",
       "      <td>https://ww2.amstat.org/meetings/jsm/2016/onlin...</td>\n",
       "      <td>Biometrics Section , Biopharmaceutical Section...</td>\n",
       "      <td>Contributed Papers</td>\n",
       "      <td>212948</td>\n",
       "    </tr>\n",
       "    <tr>\n",
       "      <th>1074</th>\n",
       "      <td>700 * !</td>\n",
       "      <td>Survival Data: New Directions</td>\n",
       "      <td>https://ww2.amstat.org/meetings/jsm/2016/onlin...</td>\n",
       "      <td>Biometrics Section , Biopharmaceutical Section...</td>\n",
       "      <td>Contributed Papers</td>\n",
       "      <td>212950</td>\n",
       "    </tr>\n",
       "    <tr>\n",
       "      <th>1075</th>\n",
       "      <td>701</td>\n",
       "      <td>Advanced Statistical Methods for Marketing</td>\n",
       "      <td>https://ww2.amstat.org/meetings/jsm/2016/onlin...</td>\n",
       "      <td>Section on Statistics in Marketing</td>\n",
       "      <td>Contributed Papers</td>\n",
       "      <td>212951</td>\n",
       "    </tr>\n",
       "    <tr>\n",
       "      <th>1076</th>\n",
       "      <td>702 * !</td>\n",
       "      <td>Longitudinal Analysis in Clinical Trials</td>\n",
       "      <td>https://ww2.amstat.org/meetings/jsm/2016/onlin...</td>\n",
       "      <td>Biopharmaceutical Section</td>\n",
       "      <td>Contributed Papers</td>\n",
       "      <td>212957</td>\n",
       "    </tr>\n",
       "    <tr>\n",
       "      <th>1077</th>\n",
       "      <td>703 * !</td>\n",
       "      <td>Novel Approaches for Large-Scale Genetic Assoc...</td>\n",
       "      <td>https://ww2.amstat.org/meetings/jsm/2016/onlin...</td>\n",
       "      <td>Section on Statistics in Genomics and Genetics...</td>\n",
       "      <td>Contributed Papers</td>\n",
       "      <td>212965</td>\n",
       "    </tr>\n",
       "    <tr>\n",
       "      <th>1078</th>\n",
       "      <td>704 * !</td>\n",
       "      <td>Topics in Late-Phase Clinical Trial Research: ...</td>\n",
       "      <td>https://ww2.amstat.org/meetings/jsm/2016/onlin...</td>\n",
       "      <td>Biopharmaceutical Section</td>\n",
       "      <td>Contributed Papers</td>\n",
       "      <td>212995</td>\n",
       "    </tr>\n",
       "    <tr>\n",
       "      <th>1079</th>\n",
       "      <td>705</td>\n",
       "      <td>Methods for Item Missing and Unit Nonresponse</td>\n",
       "      <td>https://ww2.amstat.org/meetings/jsm/2016/onlin...</td>\n",
       "      <td>Survey Research Methods Section</td>\n",
       "      <td>Contributed Papers</td>\n",
       "      <td>212996</td>\n",
       "    </tr>\n",
       "    <tr>\n",
       "      <th>1080</th>\n",
       "      <td>706</td>\n",
       "      <td>Miscellaneous Topics in Business and Economics</td>\n",
       "      <td>https://ww2.amstat.org/meetings/jsm/2016/onlin...</td>\n",
       "      <td>Business and Economic Statistics Section</td>\n",
       "      <td>Contributed Papers</td>\n",
       "      <td>213021</td>\n",
       "    </tr>\n",
       "    <tr>\n",
       "      <th>1081</th>\n",
       "      <td>707</td>\n",
       "      <td>Innovations in Bayesian Statistics</td>\n",
       "      <td>https://ww2.amstat.org/meetings/jsm/2016/onlin...</td>\n",
       "      <td>Section on Bayesian Statistical Science , Inte...</td>\n",
       "      <td>Contributed Papers</td>\n",
       "      <td>213051</td>\n",
       "    </tr>\n",
       "    <tr>\n",
       "      <th>1082</th>\n",
       "      <td>708</td>\n",
       "      <td>Nonresponse and Propensity Scores</td>\n",
       "      <td>https://ww2.amstat.org/meetings/jsm/2016/onlin...</td>\n",
       "      <td>Government Statistics Section , Survey Researc...</td>\n",
       "      <td>Contributed Papers</td>\n",
       "      <td>213058</td>\n",
       "    </tr>\n",
       "    <tr>\n",
       "      <th>1083</th>\n",
       "      <td>709 !</td>\n",
       "      <td>Nonparametric Methods with Nonstandard Assumpt...</td>\n",
       "      <td>https://ww2.amstat.org/meetings/jsm/2016/onlin...</td>\n",
       "      <td>Section on Nonparametric Statistics</td>\n",
       "      <td>Contributed Papers</td>\n",
       "      <td>213065</td>\n",
       "    </tr>\n",
       "  </tbody>\n",
       "</table>\n",
       "<p>760 rows × 6 columns</p>\n",
       "</div>"
      ],
      "text/plain": [
       "     Session_No                                      Session_Title  \\\n",
       "8        CE_02C  Best Practices in Data Visualization: Present ...   \n",
       "9        CE_43P        Effective Collaboration, Part I (ADDED FEE)   \n",
       "11       CE_01C  Introduction to Bayesian Methods, Computation,...   \n",
       "12       CE_03C          Applied Longitudinal Analysis (ADDED FEE)   \n",
       "13       CE_04C        A Primer to Web Scraping with R (ADDED FEE)   \n",
       "14       CE_05C     Advanced Topics in Survey Sampling (ADDED FEE)   \n",
       "15       CE_06C  Statistical Analysis of Financial Data with R ...   \n",
       "18       CE_07C  Introduction to Bayesian Inference with Stan a...   \n",
       "19       CE_44P  Preparing Statisticians for Leadership: How to...   \n",
       "32       CE_08C  An Example-Driven Hands-On Introduction to Rcp...   \n",
       "33       CE_44P  Preparing Statisticians for Leadership: How to...   \n",
       "36       CE_01C  Introduction to Bayesian Methods, Computation,...   \n",
       "37       CE_09C         Regression Modeling Strategies (ADDED FEE)   \n",
       "38       CE_10C  Introduction to Statistical Learning for Unsup...   \n",
       "39       CE_11C  Monte Carlo and Bayesian Computation with R (A...   \n",
       "40       CE_12C  Managing Statistical Consulting Projects: Less...   \n",
       "44       CE_47P  JSM Presentation Skills Workshop (Open to JSM ...   \n",
       "51            1     SPAIG Committee Speaker with Lunch (Added Fee)   \n",
       "62       CE_13C  Making Quantitative Decisions During the Clini...   \n",
       "63       CE_43P       Effective Collaboration, Part II (ADDED FEE)   \n",
       "66        2 * !               Novel Statistical Methods in Imaging   \n",
       "67        3 * !  Integrative Genomics Analytics for Personalize...   \n",
       "68            4  High-Dimensional Bayesian Statistics: Spike-an...   \n",
       "69          5 *  Survey Costs and Survey Designs: Trade-Offs an...   \n",
       "70          6 *  Open Source Statistical Software for Data Science   \n",
       "71        7 * !        Statistical Learning of Health Care Systems   \n",
       "72        8 * !  Issues in Predictive Biomarker in Oncology Dru...   \n",
       "73          9 !       Random Fields in Statistics and Applications   \n",
       "74           10        Statistical Methods in Integrative Genomics   \n",
       "75       11 * !                            Statistical Climatology   \n",
       "...         ...                                                ...   \n",
       "1054    680 * !  Statistical Aspects in Cancer Immunotherapy De...   \n",
       "1055    681 * !  Importance of Quantitative Imaging Biomarkers ...   \n",
       "1056    682 * !               Modern Inference for Selected Models   \n",
       "1057    683 * !   Testing for Data Quality: Challenges in Practice   \n",
       "1058    684 * !  Collecting and Analyzing Sensitive Data: Makin...   \n",
       "1059      685 *  Integrated Analysis of Transcriptomics Data in...   \n",
       "1060    686 * !                         Statistics for Social Good   \n",
       "1061    687 * !  The Power of Historical Data-Borrowing Methods...   \n",
       "1062        688  Personalized Intervention Based on Health Care...   \n",
       "1063      689 *  Recent Developments in Restricted Mean Surviva...   \n",
       "1064      690 *  Working with Statistically Trained Nonstatisti...   \n",
       "1065        691  Modern Biosurveillance at the Edge of Online S...   \n",
       "1066        692                    Statistical Methods for Ecology   \n",
       "1067    693 * !                   Computational Issues in Modeling   \n",
       "1068        694                        Useful Classroom Activities   \n",
       "1069        695   Methods and Applications of Statistical Graphics   \n",
       "1070      696 *  Novel Applications of Statistical Methods to E...   \n",
       "1071        697  Model Selection in High Dimensions: Theory and...   \n",
       "1072    698 * !         New Challenges in Complex Data Modeling II   \n",
       "1073      699 !  General Methodology and Applications in Biosta...   \n",
       "1074    700 * !                      Survival Data: New Directions   \n",
       "1075        701         Advanced Statistical Methods for Marketing   \n",
       "1076    702 * !           Longitudinal Analysis in Clinical Trials   \n",
       "1077    703 * !  Novel Approaches for Large-Scale Genetic Assoc...   \n",
       "1078    704 * !  Topics in Late-Phase Clinical Trial Research: ...   \n",
       "1079        705      Methods for Item Missing and Unit Nonresponse   \n",
       "1080        706     Miscellaneous Topics in Business and Economics   \n",
       "1081        707                 Innovations in Bayesian Statistics   \n",
       "1082        708                  Nonresponse and Propensity Scores   \n",
       "1083      709 !  Nonparametric Methods with Nonstandard Assumpt...   \n",
       "\n",
       "                                            Session_URL  \\\n",
       "8     https://ww2.amstat.org/meetings/jsm/2016/onlin...   \n",
       "9     https://ww2.amstat.org/meetings/jsm/2016/onlin...   \n",
       "11    https://ww2.amstat.org/meetings/jsm/2016/onlin...   \n",
       "12    https://ww2.amstat.org/meetings/jsm/2016/onlin...   \n",
       "13    https://ww2.amstat.org/meetings/jsm/2016/onlin...   \n",
       "14    https://ww2.amstat.org/meetings/jsm/2016/onlin...   \n",
       "15    https://ww2.amstat.org/meetings/jsm/2016/onlin...   \n",
       "18    https://ww2.amstat.org/meetings/jsm/2016/onlin...   \n",
       "19    https://ww2.amstat.org/meetings/jsm/2016/onlin...   \n",
       "32    https://ww2.amstat.org/meetings/jsm/2016/onlin...   \n",
       "33    https://ww2.amstat.org/meetings/jsm/2016/onlin...   \n",
       "36    https://ww2.amstat.org/meetings/jsm/2016/onlin...   \n",
       "37    https://ww2.amstat.org/meetings/jsm/2016/onlin...   \n",
       "38    https://ww2.amstat.org/meetings/jsm/2016/onlin...   \n",
       "39    https://ww2.amstat.org/meetings/jsm/2016/onlin...   \n",
       "40    https://ww2.amstat.org/meetings/jsm/2016/onlin...   \n",
       "44    https://ww2.amstat.org/meetings/jsm/2016/onlin...   \n",
       "51    https://ww2.amstat.org/meetings/jsm/2016/onlin...   \n",
       "62    https://ww2.amstat.org/meetings/jsm/2016/onlin...   \n",
       "63    https://ww2.amstat.org/meetings/jsm/2016/onlin...   \n",
       "66    https://ww2.amstat.org/meetings/jsm/2016/onlin...   \n",
       "67    https://ww2.amstat.org/meetings/jsm/2016/onlin...   \n",
       "68    https://ww2.amstat.org/meetings/jsm/2016/onlin...   \n",
       "69    https://ww2.amstat.org/meetings/jsm/2016/onlin...   \n",
       "70    https://ww2.amstat.org/meetings/jsm/2016/onlin...   \n",
       "71    https://ww2.amstat.org/meetings/jsm/2016/onlin...   \n",
       "72    https://ww2.amstat.org/meetings/jsm/2016/onlin...   \n",
       "73    https://ww2.amstat.org/meetings/jsm/2016/onlin...   \n",
       "74    https://ww2.amstat.org/meetings/jsm/2016/onlin...   \n",
       "75    https://ww2.amstat.org/meetings/jsm/2016/onlin...   \n",
       "...                                                 ...   \n",
       "1054  https://ww2.amstat.org/meetings/jsm/2016/onlin...   \n",
       "1055  https://ww2.amstat.org/meetings/jsm/2016/onlin...   \n",
       "1056  https://ww2.amstat.org/meetings/jsm/2016/onlin...   \n",
       "1057  https://ww2.amstat.org/meetings/jsm/2016/onlin...   \n",
       "1058  https://ww2.amstat.org/meetings/jsm/2016/onlin...   \n",
       "1059  https://ww2.amstat.org/meetings/jsm/2016/onlin...   \n",
       "1060  https://ww2.amstat.org/meetings/jsm/2016/onlin...   \n",
       "1061  https://ww2.amstat.org/meetings/jsm/2016/onlin...   \n",
       "1062  https://ww2.amstat.org/meetings/jsm/2016/onlin...   \n",
       "1063  https://ww2.amstat.org/meetings/jsm/2016/onlin...   \n",
       "1064  https://ww2.amstat.org/meetings/jsm/2016/onlin...   \n",
       "1065  https://ww2.amstat.org/meetings/jsm/2016/onlin...   \n",
       "1066  https://ww2.amstat.org/meetings/jsm/2016/onlin...   \n",
       "1067  https://ww2.amstat.org/meetings/jsm/2016/onlin...   \n",
       "1068  https://ww2.amstat.org/meetings/jsm/2016/onlin...   \n",
       "1069  https://ww2.amstat.org/meetings/jsm/2016/onlin...   \n",
       "1070  https://ww2.amstat.org/meetings/jsm/2016/onlin...   \n",
       "1071  https://ww2.amstat.org/meetings/jsm/2016/onlin...   \n",
       "1072  https://ww2.amstat.org/meetings/jsm/2016/onlin...   \n",
       "1073  https://ww2.amstat.org/meetings/jsm/2016/onlin...   \n",
       "1074  https://ww2.amstat.org/meetings/jsm/2016/onlin...   \n",
       "1075  https://ww2.amstat.org/meetings/jsm/2016/onlin...   \n",
       "1076  https://ww2.amstat.org/meetings/jsm/2016/onlin...   \n",
       "1077  https://ww2.amstat.org/meetings/jsm/2016/onlin...   \n",
       "1078  https://ww2.amstat.org/meetings/jsm/2016/onlin...   \n",
       "1079  https://ww2.amstat.org/meetings/jsm/2016/onlin...   \n",
       "1080  https://ww2.amstat.org/meetings/jsm/2016/onlin...   \n",
       "1081  https://ww2.amstat.org/meetings/jsm/2016/onlin...   \n",
       "1082  https://ww2.amstat.org/meetings/jsm/2016/onlin...   \n",
       "1083  https://ww2.amstat.org/meetings/jsm/2016/onlin...   \n",
       "\n",
       "                                               Sponsors  \\\n",
       "8                                                   ASA   \n",
       "9                                                   ASA   \n",
       "11                                                  ASA   \n",
       "12                             ASA , Biometrics Section   \n",
       "13                                                  ASA   \n",
       "14                ASA , Survey Research Methods Section   \n",
       "15       ASA , Business and Economic Statistics Section   \n",
       "18                                                  ASA   \n",
       "19                                                  ASA   \n",
       "32                                                  ASA   \n",
       "33                                                  ASA   \n",
       "36                                                  ASA   \n",
       "37                             ASA , Biometrics Section   \n",
       "38    ASA , Section on Statistical Learning and Data...   \n",
       "39                                                  ASA   \n",
       "40                                                  ASA   \n",
       "44                                                  JSM   \n",
       "51                                      SPAIG Committee   \n",
       "62                      ASA , Biopharmaceutical Section   \n",
       "63                                                  ASA   \n",
       "66    Section on Statistics in Imaging , Internation...   \n",
       "67                                          WNAR , ENAR   \n",
       "68    Section on Bayesian Statistical Science , Inte...   \n",
       "69    Government Statistics Section , Survey Researc...   \n",
       "70    Journal of Statistical Software , Section for ...   \n",
       "71    Health Policy Statistics Section , Committee o...   \n",
       "72    Biopharmaceutical Section , Committee on Appli...   \n",
       "73                      IMS , Royal Statistical Society   \n",
       "74              ENAR , Section on Statistics in Imaging   \n",
       "75            Section on Statistics and the Environment   \n",
       "...                                                 ...   \n",
       "1054      International Chinese Statistical Association   \n",
       "1055                   Section on Statistics in Imaging   \n",
       "1056  ENAR , Biopharmaceutical Section , Internation...   \n",
       "1057                      Government Statistics Section   \n",
       "1058                    Survey Research Methods Section   \n",
       "1059                          Biopharmaceutical Section   \n",
       "1060                          Social Statistics Section   \n",
       "1061                          Biopharmaceutical Section   \n",
       "1062  Health Policy Statistics Section , Biopharmace...   \n",
       "1063     Biometrics Section , Biopharmaceutical Section   \n",
       "1064  Section on Teaching of Statistics in the Healt...   \n",
       "1065  Section on Statistics and the Environment , Se...   \n",
       "1066          Section on Statistics and the Environment   \n",
       "1067                   Section on Statistical Computing   \n",
       "1068  Section on Statistical Education , Statistics ...   \n",
       "1069  Section on Statistical Graphics , Section for ...   \n",
       "1070  Section on Statistics in Epidemiology , Biopha...   \n",
       "1071   Section on Statistical Learning and Data Science   \n",
       "1072  Biometrics Section , Biopharmaceutical Section...   \n",
       "1073  Biometrics Section , Biopharmaceutical Section...   \n",
       "1074  Biometrics Section , Biopharmaceutical Section...   \n",
       "1075                 Section on Statistics in Marketing   \n",
       "1076                          Biopharmaceutical Section   \n",
       "1077  Section on Statistics in Genomics and Genetics...   \n",
       "1078                          Biopharmaceutical Section   \n",
       "1079                    Survey Research Methods Section   \n",
       "1080           Business and Economic Statistics Section   \n",
       "1081  Section on Bayesian Statistical Science , Inte...   \n",
       "1082  Government Statistics Section , Survey Researc...   \n",
       "1083                Section on Nonparametric Statistics   \n",
       "\n",
       "                                                   Type Session_ID  \n",
       "8     Professional Development Continuing Education ...     212647  \n",
       "9     Professional Development Personal Skills Devel...     213251  \n",
       "11    Professional Development Continuing Education ...     213231  \n",
       "12    Professional Development Continuing Education ...     212630  \n",
       "13    Professional Development Continuing Education ...     213233  \n",
       "14    Professional Development Continuing Education ...     212433  \n",
       "15    Professional Development Continuing Education ...     212653  \n",
       "18    Professional Development Continuing Education ...     213234  \n",
       "19    Professional Development Personal Skills Devel...     213253  \n",
       "32    Professional Development Continuing Education ...     213235  \n",
       "33    Professional Development Personal Skills Devel...     213254  \n",
       "36    Professional Development Continuing Education ...     213232  \n",
       "37    Professional Development Continuing Education ...     212631  \n",
       "38    Professional Development Continuing Education ...     212648  \n",
       "39    Professional Development Continuing Education ...     212641  \n",
       "40    Professional Development Continuing Education ...     213236  \n",
       "44    Professional Development Personal Skills Devel...     213656  \n",
       "51                       Roundtables Speaker with Lunch     213128  \n",
       "62    Professional Development Continuing Education ...     212623  \n",
       "63    Professional Development Personal Skills Devel...     213252  \n",
       "66                                       Invited Papers     212331  \n",
       "67                                       Invited Papers     212333  \n",
       "68                                       Invited Papers     212341  \n",
       "69                                       Invited Papers     212371  \n",
       "70                                       Invited Papers     212387  \n",
       "71                                       Invited Papers     212491  \n",
       "72                                       Invited Papers     212494  \n",
       "73                                       Invited Papers     212524  \n",
       "74                                       Invited Papers     212527  \n",
       "75                                       Invited Papers     212541  \n",
       "...                                                 ...        ...  \n",
       "1054                           Topic Contributed Papers     212675  \n",
       "1055                           Topic Contributed Papers     212716  \n",
       "1056                           Topic Contributed Papers     212722  \n",
       "1057                           Topic Contributed Papers     212774  \n",
       "1058                           Topic Contributed Papers     212775  \n",
       "1059                           Topic Contributed Papers     212784  \n",
       "1060                           Topic Contributed Papers     212787  \n",
       "1061                           Topic Contributed Papers     212790  \n",
       "1062                           Topic Contributed Papers     212809  \n",
       "1063                           Topic Contributed Papers     212829  \n",
       "1064                           Topic Contributed Papers     212830  \n",
       "1065                           Topic Contributed Papers     212848  \n",
       "1066                                 Contributed Papers     212886  \n",
       "1067                                 Contributed Papers     212891  \n",
       "1068                                 Contributed Papers     212909  \n",
       "1069                                 Contributed Papers     212913  \n",
       "1070                                 Contributed Papers     212920  \n",
       "1071                                 Contributed Papers     212941  \n",
       "1072                                 Contributed Papers     212946  \n",
       "1073                                 Contributed Papers     212948  \n",
       "1074                                 Contributed Papers     212950  \n",
       "1075                                 Contributed Papers     212951  \n",
       "1076                                 Contributed Papers     212957  \n",
       "1077                                 Contributed Papers     212965  \n",
       "1078                                 Contributed Papers     212995  \n",
       "1079                                 Contributed Papers     212996  \n",
       "1080                                 Contributed Papers     213021  \n",
       "1081                                 Contributed Papers     213051  \n",
       "1082                                 Contributed Papers     213058  \n",
       "1083                                 Contributed Papers     213065  \n",
       "\n",
       "[760 rows x 6 columns]"
      ]
     },
     "execution_count": 70,
     "metadata": {},
     "output_type": "execute_result"
    }
   ],
   "source": [
    "df[df['Session_No'].apply(lambda x: bool(re.search(r'(?<!\\d)\\d{1,3}(?!\\d)',x)))]"
   ]
  },
  {
   "cell_type": "code",
   "execution_count": 95,
   "metadata": {
    "collapsed": false
   },
   "outputs": [
    {
     "data": {
      "text/plain": [
       "'https://ww2.amstat.org/meetings/jsm/2016/onlineprogram/ActivityDetails.cfm?SessionID=212647'"
      ]
     },
     "execution_count": 95,
     "metadata": {},
     "output_type": "execute_result"
    }
   ],
   "source": [
    "test = df['Session_URL'].iloc[8]\n",
    "test"
   ]
  },
  {
   "cell_type": "code",
   "execution_count": 96,
   "metadata": {
    "collapsed": true
   },
   "outputs": [],
   "source": [
    "r = requests.get(test)\n",
    "soup = BeautifulSoup(r.text, 'lxml')"
   ]
  },
  {
   "cell_type": "code",
   "execution_count": 98,
   "metadata": {
    "collapsed": false
   },
   "outputs": [
    {
     "data": {
      "text/plain": [
       "\"Do you get questions about your data after you think you presented them clearly? Do people's eyes glaze over when you show them your results? In this presentation, learn how to apply simple guidelines to improve how you display your statistical data (results) visually. As with verbal communication, there exists a grammar and vocabulary of visual communication that will help you get your point across clearly, accurately, and even beautifully. This course is designed for anyone with a desire to communicate data clearly in a visual form. No prerequisite is required.\""
      ]
     },
     "execution_count": 98,
     "metadata": {},
     "output_type": "execute_result"
    }
   ],
   "source": [
    "re.sub(r'(\\n|\\r|\\t)', '', soup.find_all('tr')[5].text)"
   ]
  },
  {
   "cell_type": "markdown",
   "metadata": {},
   "source": [
    "# Run Code to extract workshops and abstract_urls"
   ]
  },
  {
   "cell_type": "code",
   "execution_count": 81,
   "metadata": {
    "collapsed": true
   },
   "outputs": [],
   "source": [
    "# dataframe of abstracts to scrape with new urls\n",
    "session_url = []\n",
    "abstract_url = []\n",
    "abstract_title = []\n",
    "session_no_v2 = []\n",
    "\n",
    "#dataframe of abstracts already written in the session\n",
    "workshop_abstract = []\n",
    "workshop_session_no = []\n",
    "workshop_session_url = []\n",
    "\n",
    "for link in session_linkToAbstract:\n",
    "    r = requests.get(link)\n",
    "    soup = BeautifulSoup(r.text, 'lxml')\n",
    "    \n",
    "    # extract abstract titles and links\n",
    "    abstract_links = [item.get('href') for item in soup.find_all('a') if re.search('AbstractDetails', str(item.get('href')))]\n",
    "    \n",
    "    if len(abstract_links) == 0:\n",
    "        try:\n",
    "            abstract_workshop = re.sub(r'(\\n|\\r|\\t)', '', soup.find_all('tr')[5].text)\n",
    "            id_no = soup.find_all('tr')[2].find('b').text.strip()\n",
    "            \n",
    "            workshop_abstract.append(abstract_workshop)\n",
    "            workshop_session_no.append(id_no)\n",
    "            workshop_session_url.append(link)\n",
    "        except:\n",
    "            continue\n",
    "    \n",
    "    else:\n",
    "        abstract_titles = [item.text for item in soup.find_all('a') \n",
    "            if re.search('AbstractDetails', str(item.get('href')))]\n",
    "\n",
    "        # map back to session id and original link for later joining\n",
    "        session_ids = [soup.find_all('tr')[2].find('b').text] * len(abstract_links)\n",
    "        original_link = [link] * len(abstract_links)\n",
    "\n",
    "        # create list of \n",
    "        session_url = session_url + original_link\n",
    "        abstract_url = abstract_url + abstract_links\n",
    "        abstract_title = abstract_title + abstract_titles\n",
    "        session_no_v2 = session_no_v2 + session_ids\n",
    "\n",
    "    "
   ]
  },
  {
   "cell_type": "code",
   "execution_count": 82,
   "metadata": {
    "collapsed": false
   },
   "outputs": [
    {
     "data": {
      "text/plain": [
       "True"
      ]
     },
     "execution_count": 82,
     "metadata": {},
     "output_type": "execute_result"
    }
   ],
   "source": [
    "len(session_url) == len(abstract_url) == len(abstract_title) == len(session_no_v2)"
   ]
  },
  {
   "cell_type": "code",
   "execution_count": 83,
   "metadata": {
    "collapsed": false
   },
   "outputs": [
    {
     "data": {
      "text/plain": [
       "3570"
      ]
     },
     "execution_count": 83,
     "metadata": {},
     "output_type": "execute_result"
    }
   ],
   "source": [
    "len(session_url)"
   ]
  },
  {
   "cell_type": "code",
   "execution_count": 84,
   "metadata": {
    "collapsed": false
   },
   "outputs": [
    {
     "data": {
      "text/plain": [
       "True"
      ]
     },
     "execution_count": 84,
     "metadata": {},
     "output_type": "execute_result"
    }
   ],
   "source": [
    "len(workshop_abstract) == len(workshop_session_no) == len(workshop_session_url)"
   ]
  },
  {
   "cell_type": "code",
   "execution_count": 85,
   "metadata": {
    "collapsed": false
   },
   "outputs": [
    {
     "data": {
      "text/plain": [
       "301"
      ]
     },
     "execution_count": 85,
     "metadata": {},
     "output_type": "execute_result"
    }
   ],
   "source": [
    "len(workshop_abstract)"
   ]
  },
  {
   "cell_type": "code",
   "execution_count": 86,
   "metadata": {
    "collapsed": false
   },
   "outputs": [],
   "source": [
    "df_abstracts = pd.DataFrame({'Session_URL': session_url,\n",
    "                            'Abstract_URL' : abstract_url,\n",
    "                            'Abstract_Title': abstract_title,\n",
    "                            'Session_No_v2': session_no_v2})"
   ]
  },
  {
   "cell_type": "code",
   "execution_count": 87,
   "metadata": {
    "collapsed": true
   },
   "outputs": [],
   "source": [
    "df_abstracts['Session_ID'] = df_abstracts['Session_URL'].apply(lambda x: re.sub(r'https\\S+((\\d){6})', r'\\1', x))\n",
    "df_abstracts['Abstract_URL'] = df_abstracts['Abstract_URL'].apply(lambda x: url + x)"
   ]
  },
  {
   "cell_type": "code",
   "execution_count": 88,
   "metadata": {
    "collapsed": false
   },
   "outputs": [
    {
     "data": {
      "text/html": [
       "<div>\n",
       "<table border=\"1\" class=\"dataframe\">\n",
       "  <thead>\n",
       "    <tr style=\"text-align: right;\">\n",
       "      <th></th>\n",
       "      <th>Abstract_Title</th>\n",
       "      <th>Abstract_URL</th>\n",
       "      <th>Session_No_v2</th>\n",
       "      <th>Session_URL</th>\n",
       "      <th>Session_ID</th>\n",
       "    </tr>\n",
       "  </thead>\n",
       "  <tbody>\n",
       "    <tr>\n",
       "      <th>0</th>\n",
       "      <td>Modeling Means and Variances Using Mixed-Effec...</td>\n",
       "      <td>https://ww2.amstat.org/meetings/jsm/2016/onlin...</td>\n",
       "      <td>1</td>\n",
       "      <td>https://ww2.amstat.org/meetings/jsm/2016/onlin...</td>\n",
       "      <td>213128</td>\n",
       "    </tr>\n",
       "  </tbody>\n",
       "</table>\n",
       "</div>"
      ],
      "text/plain": [
       "                                      Abstract_Title  \\\n",
       "0  Modeling Means and Variances Using Mixed-Effec...   \n",
       "\n",
       "                                        Abstract_URL Session_No_v2  \\\n",
       "0  https://ww2.amstat.org/meetings/jsm/2016/onlin...            1    \n",
       "\n",
       "                                         Session_URL Session_ID  \n",
       "0  https://ww2.amstat.org/meetings/jsm/2016/onlin...     213128  "
      ]
     },
     "execution_count": 88,
     "metadata": {},
     "output_type": "execute_result"
    }
   ],
   "source": [
    "df_abstracts.head(1)"
   ]
  },
  {
   "cell_type": "code",
   "execution_count": 89,
   "metadata": {
    "collapsed": true
   },
   "outputs": [],
   "source": [
    "df_workshops = pd.DataFrame({'Session_No': workshop_session_no,\n",
    "                            'Abstract_Text': workshop_abstract,\n",
    "                            'Session_URL': workshop_session_url})\n"
   ]
  },
  {
   "cell_type": "code",
   "execution_count": 90,
   "metadata": {
    "collapsed": false
   },
   "outputs": [],
   "source": [
    "df_workshops['Session_ID']= df_workshops['Session_URL'].apply(lambda x:re.sub(r'https\\S+((\\d){6})', r'\\1', x))\n",
    "df_workshops = df_workshops[df_workshops['Abstract_Text'].str.contains('Organizer\\(s\\)|Chair\\(s\\)') == False]"
   ]
  },
  {
   "cell_type": "code",
   "execution_count": 105,
   "metadata": {
    "collapsed": false
   },
   "outputs": [
    {
     "data": {
      "text/html": [
       "<div>\n",
       "<table border=\"1\" class=\"dataframe\">\n",
       "  <thead>\n",
       "    <tr style=\"text-align: right;\">\n",
       "      <th></th>\n",
       "      <th>Session_No</th>\n",
       "      <th>Session_URL</th>\n",
       "      <th>Session_ID</th>\n",
       "      <th>Abstract_Text</th>\n",
       "    </tr>\n",
       "  </thead>\n",
       "  <tbody>\n",
       "    <tr>\n",
       "      <th>0</th>\n",
       "      <td>213714</td>\n",
       "      <td>https://ww2.amstat.org/meetings/jsm/2016/onlin...</td>\n",
       "      <td>213714</td>\n",
       "      <td>Chair(s): Erin  Tanenbaum, NORC at the Univers...</td>\n",
       "    </tr>\n",
       "    <tr>\n",
       "      <th>1</th>\n",
       "      <td>213462</td>\n",
       "      <td>https://ww2.amstat.org/meetings/jsm/2016/onlin...</td>\n",
       "      <td>213462</td>\n",
       "      <td>Organizer(s): Leah J. Welty, Northwestern Univ...</td>\n",
       "    </tr>\n",
       "    <tr>\n",
       "      <th>2</th>\n",
       "      <td>CE_02C</td>\n",
       "      <td>https://ww2.amstat.org/meetings/jsm/2016/onlin...</td>\n",
       "      <td>212647</td>\n",
       "      <td>Do you get questions about your data after you...</td>\n",
       "    </tr>\n",
       "  </tbody>\n",
       "</table>\n",
       "</div>"
      ],
      "text/plain": [
       "  Session_No                                        Session_URL Session_ID  \\\n",
       "0     213714  https://ww2.amstat.org/meetings/jsm/2016/onlin...     213714   \n",
       "1     213462  https://ww2.amstat.org/meetings/jsm/2016/onlin...     213462   \n",
       "2     CE_02C  https://ww2.amstat.org/meetings/jsm/2016/onlin...     212647   \n",
       "\n",
       "                                       Abstract_Text  \n",
       "0  Chair(s): Erin  Tanenbaum, NORC at the Univers...  \n",
       "1  Organizer(s): Leah J. Welty, Northwestern Univ...  \n",
       "2  Do you get questions about your data after you...  "
      ]
     },
     "execution_count": 105,
     "metadata": {},
     "output_type": "execute_result"
    }
   ],
   "source": [
    "df_workshops.head(3)"
   ]
  },
  {
   "cell_type": "code",
   "execution_count": 106,
   "metadata": {
    "collapsed": false,
    "scrolled": true
   },
   "outputs": [],
   "source": [
    "df_abstracts.drop_duplicates(subset = 'Abstract_URL', inplace = True)\n",
    "df_abstracts.reset_index(drop = True, inplace = True)"
   ]
  },
  {
   "cell_type": "code",
   "execution_count": 108,
   "metadata": {
    "collapsed": false
   },
   "outputs": [],
   "source": [
    "df_abstracts.to_excel(r'{}\\2016Abstracts.xlsx'.format(dest))\n",
    "df_workshops.to_excel(r'{}\\2016Workshops.xlsx'.format(dest))"
   ]
  },
  {
   "cell_type": "markdown",
   "metadata": {},
   "source": [
    "# Test extraction of abstract info here"
   ]
  },
  {
   "cell_type": "code",
   "execution_count": 111,
   "metadata": {
    "collapsed": false
   },
   "outputs": [
    {
     "data": {
      "text/plain": [
       "'https://ww2.amstat.org/meetings/jsm/2016/onlineprogram/AbstractDetails.cfm?abstractid=319067'"
      ]
     },
     "execution_count": 111,
     "metadata": {},
     "output_type": "execute_result"
    }
   ],
   "source": [
    "test = df_abstracts['Abstract_URL'].iloc[0]\n",
    "test"
   ]
  },
  {
   "cell_type": "code",
   "execution_count": 112,
   "metadata": {
    "collapsed": true
   },
   "outputs": [],
   "source": [
    "r = requests.get(test)\n",
    "soup = BeautifulSoup(r.text, 'lxml')"
   ]
  },
  {
   "cell_type": "code",
   "execution_count": 119,
   "metadata": {
    "collapsed": false,
    "scrolled": true
   },
   "outputs": [
    {
     "data": {
      "text/plain": [
       "\"Intensive longitudinal data are increasingly encountered in many research areas. For example, ecological momentary assessment (EMA) and/or mobile health (mHealth) methods are often used to study subjective experiences within changing environmental contexts. In these studies, up to 40 observations are usually obtained for each subject over a period of a week or so, allowing one to characterize a subject's mean and variance and specify models for both. In this presentation, we focus on an adolescent smoking study using EMA where interest is on characterizing changes in mood variation. We describe how covariates can influence the mood variances and extend the statistical model by adding a subject-level random effect to the within-subject variance specification. This permits subjects to have influence on the mean, or location, and variability, or (square of the) scale, of their mood responses. Models for both continuous and ordinal outcomes are described and illustrated with examples. These mixed-effects location scale models have useful applications in many research areas in which interest centers on the joint modeling of the mean and variance structure. \""
      ]
     },
     "execution_count": 119,
     "metadata": {},
     "output_type": "execute_result"
    }
   ],
   "source": [
    "re.sub(r'\\r|\\n|\\t', '', soup.find_all('tr')[11].find('p').text)"
   ]
  },
  {
   "cell_type": "markdown",
   "metadata": {},
   "source": [
    "# Code to extract abstract details from abstract URLs"
   ]
  },
  {
   "cell_type": "code",
   "execution_count": 120,
   "metadata": {
    "collapsed": false
   },
   "outputs": [],
   "source": [
    "abs_num = []\n",
    "abs_keyword = []\n",
    "abs_type = []\n",
    "abs_text = []\n",
    "\n",
    "for link in df_abstracts['Abstract_URL']:\n",
    "    r = requests.get(link)\n",
    "    soup = BeautifulSoup(r.text, 'lxml')\n",
    "    \n",
    "    # abstract number\n",
    "    try:\n",
    "        number = re.sub(r'\\S+abstractid=(\\d+)', r'\\1', link)\n",
    "        abs_num.append(number)\n",
    "    except:\n",
    "        abs_num.append(None)\n",
    "    \n",
    "    # abstract keywords\n",
    "    try:\n",
    "        keywords = [item.text for item in soup.find_all('a') if re.search('KeyWordSearch', str(item.get('href')))]\n",
    "        keywords = ', '.join(keywords)\n",
    "        abs_keyword.append(keywords)\n",
    "    except:\n",
    "        abs_keyword.append(None)\n",
    "        \n",
    "    \n",
    "    # abstract type\n",
    "    try:\n",
    "        talk_type = re.sub(r'Type:|\\n|\\r|\\t', '', soup.find_all('tr')[3].text)\n",
    "        abs_type.append(talk_type)\n",
    "    except:\n",
    "        abs_type.append(None)\n",
    "    \n",
    "    # abstract text\n",
    "    try:\n",
    "        abstract_text = re.sub(r'\\r|\\n|\\t', '', soup.find_all('tr')[11].find('p').text)\n",
    "        abs_text.append(abstract_text)\n",
    "    except:\n",
    "        abs_text.append(None)\n",
    "    "
   ]
  },
  {
   "cell_type": "code",
   "execution_count": 121,
   "metadata": {
    "collapsed": true
   },
   "outputs": [],
   "source": [
    "df_abstracts['Abstract_ID'] = abs_num\n",
    "df_abstracts['Abstract_Keywords'] = abs_keyword\n",
    "df_abstracts['Abstract_Type'] = abs_type\n",
    "df_abstracts['Abstract_Text'] = abs_text"
   ]
  },
  {
   "cell_type": "code",
   "execution_count": 122,
   "metadata": {
    "collapsed": true
   },
   "outputs": [],
   "source": [
    "df_abstracts.to_excel(r'{}\\2016Abstracts.xlsx'.format(dest))"
   ]
  },
  {
   "cell_type": "code",
   "execution_count": 123,
   "metadata": {
    "collapsed": false,
    "scrolled": true
   },
   "outputs": [
    {
     "data": {
      "text/html": [
       "<div>\n",
       "<table border=\"1\" class=\"dataframe\">\n",
       "  <thead>\n",
       "    <tr style=\"text-align: right;\">\n",
       "      <th></th>\n",
       "      <th>Abstract_Title</th>\n",
       "      <th>Abstract_URL</th>\n",
       "      <th>Session_No_v2</th>\n",
       "      <th>Session_URL</th>\n",
       "      <th>Session_ID</th>\n",
       "      <th>Abstract_ID</th>\n",
       "      <th>Abstract_Keywords</th>\n",
       "      <th>Abstract_Type</th>\n",
       "      <th>Abstract_Text</th>\n",
       "    </tr>\n",
       "  </thead>\n",
       "  <tbody>\n",
       "    <tr>\n",
       "      <th>0</th>\n",
       "      <td>Modeling Means and Variances Using Mixed-Effec...</td>\n",
       "      <td>https://ww2.amstat.org/meetings/jsm/2016/onlin...</td>\n",
       "      <td>1</td>\n",
       "      <td>https://ww2.amstat.org/meetings/jsm/2016/onlin...</td>\n",
       "      <td>213128</td>\n",
       "      <td>319067</td>\n",
       "      <td>heterogeneity, mixed-effects models, variance ...</td>\n",
       "      <td>Roundtables</td>\n",
       "      <td>Intensive longitudinal data are increasingly e...</td>\n",
       "    </tr>\n",
       "  </tbody>\n",
       "</table>\n",
       "</div>"
      ],
      "text/plain": [
       "                                      Abstract_Title  \\\n",
       "0  Modeling Means and Variances Using Mixed-Effec...   \n",
       "\n",
       "                                        Abstract_URL Session_No_v2  \\\n",
       "0  https://ww2.amstat.org/meetings/jsm/2016/onlin...            1    \n",
       "\n",
       "                                         Session_URL Session_ID Abstract_ID  \\\n",
       "0  https://ww2.amstat.org/meetings/jsm/2016/onlin...     213128      319067   \n",
       "\n",
       "                                   Abstract_Keywords Abstract_Type  \\\n",
       "0  heterogeneity, mixed-effects models, variance ...   Roundtables   \n",
       "\n",
       "                                       Abstract_Text  \n",
       "0  Intensive longitudinal data are increasingly e...  "
      ]
     },
     "execution_count": 123,
     "metadata": {},
     "output_type": "execute_result"
    }
   ],
   "source": [
    "df_abstracts.head(1)"
   ]
  },
  {
   "cell_type": "code",
   "execution_count": 152,
   "metadata": {
    "collapsed": false
   },
   "outputs": [],
   "source": [
    "df_workshops['Abstract_Text'] = df_workshops['Abstract_Text'].apply(lambda x: '' if bool(re.search(r'Chair\\(s\\):|Organizer\\(s\\)', x)) else x)\n",
    "\n"
   ]
  },
  {
   "cell_type": "code",
   "execution_count": 154,
   "metadata": {
    "collapsed": false
   },
   "outputs": [],
   "source": [
    "df_details = df_workshops.append(df_abstracts)"
   ]
  },
  {
   "cell_type": "code",
   "execution_count": 155,
   "metadata": {
    "collapsed": false
   },
   "outputs": [
    {
     "data": {
      "text/html": [
       "<div>\n",
       "<table border=\"1\" class=\"dataframe\">\n",
       "  <thead>\n",
       "    <tr style=\"text-align: right;\">\n",
       "      <th></th>\n",
       "      <th>Session_No</th>\n",
       "      <th>Session_Title</th>\n",
       "      <th>Session_URL</th>\n",
       "      <th>Sponsors</th>\n",
       "      <th>Type</th>\n",
       "      <th>Session_ID</th>\n",
       "    </tr>\n",
       "  </thead>\n",
       "  <tbody>\n",
       "  </tbody>\n",
       "</table>\n",
       "</div>"
      ],
      "text/plain": [
       "Empty DataFrame\n",
       "Columns: [Session_No, Session_Title, Session_URL, Sponsors, Type, Session_ID]\n",
       "Index: []"
      ]
     },
     "execution_count": 155,
     "metadata": {},
     "output_type": "execute_result"
    }
   ],
   "source": [
    "df.head(0)"
   ]
  },
  {
   "cell_type": "code",
   "execution_count": 156,
   "metadata": {
    "collapsed": false
   },
   "outputs": [],
   "source": [
    "df_final = df_details.merge(df[['Session_Title', 'Sponsors', 'Type', 'Session_ID']], on = 'Session_ID', how= 'outer')"
   ]
  },
  {
   "cell_type": "code",
   "execution_count": 157,
   "metadata": {
    "collapsed": false
   },
   "outputs": [],
   "source": [
    "df_final['Unique'] = df_final['Session_ID'].map(str) + df_final['Abstract_ID'].map(str)"
   ]
  },
  {
   "cell_type": "code",
   "execution_count": 158,
   "metadata": {
    "collapsed": true
   },
   "outputs": [],
   "source": [
    "df_final.drop_duplicates(subset= 'Unique', inplace = True)\n",
    "df_final.reset_index(drop = True, inplace = True)"
   ]
  },
  {
   "cell_type": "code",
   "execution_count": 159,
   "metadata": {
    "collapsed": false
   },
   "outputs": [],
   "source": [
    "df_final['Session_No'] = df_final['Session_No'].apply(lambda x: x if bool(str(x).startswith('CE') or str(x)[0].isdigit()) else \"\")"
   ]
  },
  {
   "cell_type": "code",
   "execution_count": 160,
   "metadata": {
    "collapsed": true
   },
   "outputs": [],
   "source": [
    "df_final['Session_No_Keep'] = df_final['Session_No_v2'].combine_first(df_final['Session_No'])"
   ]
  },
  {
   "cell_type": "code",
   "execution_count": 161,
   "metadata": {
    "collapsed": false
   },
   "outputs": [],
   "source": [
    "del df_final['Session_No']\n",
    "del df_final['Session_No_v2']"
   ]
  },
  {
   "cell_type": "code",
   "execution_count": 162,
   "metadata": {
    "collapsed": false
   },
   "outputs": [],
   "source": [
    "df_final.rename(columns = {'Session_No_Keep': 'Session_No'}, inplace=True)"
   ]
  },
  {
   "cell_type": "code",
   "execution_count": 164,
   "metadata": {
    "collapsed": false
   },
   "outputs": [],
   "source": [
    "new_dest = r'C:\\Users\\Thaunga\\Scripts\\02. Presentations\\JSM\\Final Data'\n",
    "df_final.to_excel(r'{}\\2016_JSM_data.xlsx'.format(new_dest))"
   ]
  },
  {
   "cell_type": "code",
   "execution_count": null,
   "metadata": {
    "collapsed": true
   },
   "outputs": [],
   "source": []
  }
 ],
 "metadata": {
  "kernelspec": {
   "display_name": "Python 3",
   "language": "python",
   "name": "python3"
  },
  "language_info": {
   "codemirror_mode": {
    "name": "ipython",
    "version": 3
   },
   "file_extension": ".py",
   "mimetype": "text/x-python",
   "name": "python",
   "nbconvert_exporter": "python",
   "pygments_lexer": "ipython3",
   "version": "3.5.2"
  }
 },
 "nbformat": 4,
 "nbformat_minor": 2
}
