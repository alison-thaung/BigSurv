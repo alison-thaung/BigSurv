{
 "cells": [
  {
   "cell_type": "markdown",
   "metadata": {},
   "source": [
    "# I. Import Needed Libraries"
   ]
  },
  {
   "cell_type": "markdown",
   "metadata": {},
   "source": [
    "Selenium: accesses and controls web browser to submit search and locate web elements by xpath\n",
    "\n",
    "re: regular expression for pattern matching\n",
    "\n",
    "requests: makes HTTP requests\n",
    "\n",
    "BeautifulSoup:parses HTML\n",
    "\n",
    "pandas: data analysis library to manage dataframes\n"
   ]
  },
  {
   "cell_type": "code",
   "execution_count": 285,
   "metadata": {
    "collapsed": false
   },
   "outputs": [],
   "source": [
    "from selenium import webdriver\n",
    "from selenium.webdriver.support.ui import Select\n",
    "from selenium.webdriver.common.by import By\n",
    "from selenium.webdriver.support.ui import WebDriverWait\n",
    "from selenium.webdriver.support import expected_conditions as EC\n",
    "\n",
    "import re, requests\n",
    "from bs4 import BeautifulSoup\n",
    "import pandas as pd"
   ]
  },
  {
   "cell_type": "markdown",
   "metadata": {},
   "source": [
    "# II. Scrape for GovLoop website"
   ]
  },
  {
   "cell_type": "code",
   "execution_count": 121,
   "metadata": {
    "collapsed": false
   },
   "outputs": [],
   "source": [
    "url = r'https://www.govloop.com/community/blog/best-government-conferences-2018/'\n",
    "r = requests.get(url)\n",
    "soup = BeautifulSoup(r.text, 'lxml')"
   ]
  },
  {
   "cell_type": "code",
   "execution_count": 138,
   "metadata": {
    "collapsed": true
   },
   "outputs": [
    {
     "data": {
      "text/plain": [
       "['Association of Government Accountants (AGA) Financial Systems Summit (FSS)',\n",
       " 'National Council for Science and the Environment (NCSE) National Conference and Global Forum',\n",
       " 'New Partners For Smart Growth Conference',\n",
       " 'AcademyHealth National Health Policy Conference (NHPC)',\n",
       " 'Federal Networks Conference',\n",
       " 'Public Sector CIO Academy: California',\n",
       " 'Association of Government Accountants (AGA) National Leadership Training (NLT)',\n",
       " 'Climate Leadership Conference',\n",
       " 'International Wireless Communications Expo (IWCE)',\n",
       " 'American Society for Public Administration (ASPA) Annual Conference',\n",
       " 'South by Southwest (SXSW)',\n",
       " 'Federal Managers Association (FMA) National Convention and Management Training Seminar',\n",
       " 'Esri Federal GIS Conference',\n",
       " \"Digital Government Institute's (DGI) Discovery, Records & Information Management Conference\",\n",
       " 'Smart Cities Connect Conference and Expo',\n",
       " 'Transforming Local Government Conference',\n",
       " 'National Community Reinvestment Coalition (NCRC) Annual Conference',\n",
       " 'Nonprofit Technology Conference (NTC)',\n",
       " 'The AIIM Conference',\n",
       " 'National Public Employer Labor Relations Association (NPELRA) Annual Training Conference',\n",
       " 'RSA Conference',\n",
       " \"Advanced Learning Institute's (ALI) Strategic Internal Communications for Government\",\n",
       " 'National Council on Public History (NCPH) Annual Meeting',\n",
       " 'National Association of State Chief Information Officers (NASCIO) Midyear Conference',\n",
       " 'Professional Services Council (PSC) Annual Conference',\n",
       " 'GITEC Summit',\n",
       " 'GEOINT Symposium',\n",
       " 'Government Social Media Conference & Expo (GSMCON) ',\n",
       " 'National Environmental Justice Conference and Training Program',\n",
       " 'AGA and AFFIRM’s CFO/CIO Summit',\n",
       " 'Broadband Communities Summit',\n",
       " 'YTH Live: the youth + health + tech conference',\n",
       " 'Association for Talent Development (ATD) International Conference & Exposition',\n",
       " 'Government Finance Officers Association (GFOA) of the United States and Canada Annual Conference',\n",
       " \"National Rural Health Association's (NRHA) Health Equity Conference\",\n",
       " \"National Rural Health Association's (NRHA) Annual Rural Health Conference\",\n",
       " 'Federal Asian Pacific American Council (FAPAC) National Leadership Training Program',\n",
       " 'Association of Proposal Management Professionals (APMP) Bid & Proposal Con',\n",
       " \"Advanced Learning Institute's (ALI) Social, Video, and Mobile Communications for Government\",\n",
       " 'Code for America Summit',\n",
       " 'dg.o Conference: Digital Government Society (DGS) International Conference on Digital Government Research',\n",
       " 'Asian American Government Executives Network (AAGEN) Leadership Workshop',\n",
       " 'Government Fleet Expo & Conference',\n",
       " 'Society of Government Meeting Professionals (SGMP) National Education Conference & Expo (NEC)',\n",
       " 'M-Enabling Summit',\n",
       " 'Society of American Indian Government Employees (SAIGE) National Training Program',\n",
       " 'Public Relations Society of America (PRSA) Public Affairs and Government Summit',\n",
       " 'ServiceUnites: Conference on Volunteering and Service',\n",
       " \"National Disability Rights Network's P&A/CAP Annual Conference\",\n",
       " 'National Association of Government Communicators (NAGC) Communications School',\n",
       " 'National Association of the Deaf (NAD) Biennial Conference',\n",
       " 'Esri User Conference',\n",
       " 'EEOC’s EXCEL Conference',\n",
       " 'Federally Employed Women (FEW) National Training Program (NTP)',\n",
       " 'AHEAD Conference',\n",
       " 'League of United Latin American Citizens (LULAC) Convention & Federal Training Institute (FTI)',\n",
       " 'Association of Government Accountants (AGA) Professional Development Training (PDT)',\n",
       " 'World Congress 2018',\n",
       " 'Annual Conference on Independent Living',\n",
       " 'DEF CON Hacking Conference',\n",
       " 'Next Generation of Government Training Summit',\n",
       " 'Federal Dispute Resolution (FDR) Training',\n",
       " 'Blacks In Government (BIG) National Training Institute (NTI)',\n",
       " 'Armed Forces Communications and Electronics Association  (AFCEA) Homeland Security Conference and Federal Identity Forum & Exposition (FIFE)',\n",
       " 'Institute of Public Administration of Canada (IPAC) Annual Conference',\n",
       " 'Energy Exchange',\n",
       " 'Drupal GovCon',\n",
       " 'National Association of Telecommunications Officers and Advisors (NATOA) Annual Conference',\n",
       " 'African American Federal Executive Association (AAFEA) Annual Training Workshop',\n",
       " 'United States Conference on AIDS (USCA)',\n",
       " 'National Association of Government Web (NAGW) Professionals Annual Conference',\n",
       " 'Association of Government Accountants (AGA) Internal Control & Fraud Prevention Training (IC&FPT)',\n",
       " 'International Open Data Conference (IODC)',\n",
       " 'International City/County Management Association (ICMA) Annual Conference',\n",
       " 'Salesforce’s Dreamforce',\n",
       " 'National Image’s National Training Program',\n",
       " 'Out & Equal Workplace Summit',\n",
       " 'Behavior, Energy, and Climate Change (BECC) Conference',\n",
       " 'GLMA Annual Conference on LGBT Health',\n",
       " 'National Association of Schools of Public Affairs and Administration (NASPAA) Annual Conference',\n",
       " 'National Association of State Chief Information Officers (NASCIO) Annual Conference',\n",
       " 'Clarity2018',\n",
       " 'American Public Health Association (APHA) Annual Meeting & Expo',\n",
       " 'ARNOVA’s Annual Conference']"
      ]
     },
     "execution_count": 138,
     "metadata": {},
     "output_type": "execute_result"
    }
   ],
   "source": [
    "conferences = [re.sub(r'\\n', '', item.find('strong').text) for item in soup.find_all('p')[6:-27] if item.find('a') != None]\n",
    "conferences = [re.sub(r'\\xa0', ' ', item) for item in conferences]\n",
    "conferences"
   ]
  },
  {
   "cell_type": "code",
   "execution_count": 140,
   "metadata": {
    "collapsed": true
   },
   "outputs": [
    {
     "data": {
      "text/plain": [
       "['January 17, 2018 | Washington, D.C. or virtual | #FSS2018',\n",
       " 'January 23 – 24, 2018 | Washington, D.C. | #NCSE2018',\n",
       " 'February 1 – 3, 2018 | San Francisco, CA | #npsg',\n",
       " 'February 5 – 6, 2018 | Washington, D.C. | #NHPC18',\n",
       " 'February 12 – 13, 2018 | Washington, D.C.',\n",
       " 'February 27 – 28, 2018 | Sacramento, CA | #govtechlive',\n",
       " 'February 27 – 28, 2018 | Washington, D.C. or virtual',\n",
       " 'February 28 – March 2, 2018 | Denver, CO | #TheCLC',\n",
       " 'March 5 – 9, 2018 | Orlando, FL | #IWCE2018',\n",
       " 'March 9 – 13, 2018 | Denver, CO | #ASPA2018',\n",
       " 'March 9 – 18, 2018 | Austin, TX | #SXSW',\n",
       " 'March 11 – 14, 2018 | Alexandria, VA',\n",
       " 'March 20 – 21, 2018 | Washington, D.C. | #FedGIS',\n",
       " 'March 22, 2018 | Washington, D.C.',\n",
       " 'March 26 – 29, 2018 | Kansas City, MO | #smartcitiesconnect',\n",
       " 'April 3 – 6, 2018 | Tacoma, WA | #TLG2018',\n",
       " 'April 9 – 11, 2018 | Washington, D.C. | #JustEconomy',\n",
       " 'April 11 – 13, 2018 | New Orleans, LA | #18NTC',\n",
       " 'April 10 – 13, 2018 | San Antonio, TX | #AIIM18',\n",
       " 'April 15 – 19, 2018 | Charleston, SC | #NPELRAduck',\n",
       " 'April 16 – 20, 2018 | San Francisco, CA | #RSAC',\n",
       " 'April 17 – 19, 2018 | Washington, D.C. | #ALI_GovComms',\n",
       " 'April 18 – 21, 2018 | Las Vegas, NV | #ncph2018',\n",
       " 'April 22 – 24, 2018 | Baltimore, MD | #NASCIO18',\n",
       " 'April 22 – 24, 2018',\n",
       " 'April 22 – 243, 2018 | Annapolis, MD | #2018GITECSummit',\n",
       " 'April 22 – 25, 2018 | Tampa, FL',\n",
       " 'April 24 – 26, 2018 | Denver, CO | #GSMCON',\n",
       " 'April 25 – 27, 2018 | Washington, D.C. | #nejc2018',\n",
       " 'May 1, 2018 | Washington, D.C.',\n",
       " 'May 1 – 3, 2018 | Austin, TX | #bbcsum18',\n",
       " 'May 6 – 7, 2018 | San Francisco, CA | #ythlive',\n",
       " 'May 6 – 9, 2018',\n",
       " 'May 6 – 9, 2018 | St. Loui, MO | #GFOA2018',\n",
       " 'May 8, 2018',\n",
       " 'May 8 – 11, 2018 | New Orleans, LA',\n",
       " 'May 13 – 18, 2018 | Arlington, VA',\n",
       " 'May 15 – 18, 2018 | San Diego, CA',\n",
       " 'May 22 – 24, 2018 | Washington, D.C. | #ALI_IC',\n",
       " 'May 30 – June 1, 2018',\n",
       " 'May 30 – June 1, 2018',\n",
       " 'June date TBA, 2018 | Location TBA',\n",
       " 'June 4 – 7, 2018 | San Diego, CA',\n",
       " 'June 5 – 7, 2018 | Norfolk, VA | #SGMPNEC',\n",
       " 'June 11 – 13, 2018 | Washington, D.C. | #mEnabling18',\n",
       " 'June 11 – 14, 2018 | Green Bay, WI',\n",
       " 'June 15 – 16, 2018 | Kansas City, MO | #pagprsa',\n",
       " 'June 18 – 20, 2018 | Atlanta, GA | #ServiceUnites',\n",
       " 'June 18 – 21, 2018 | Baltimore, MD | #NDRN2018',\n",
       " 'June 19 – 21, 2018 | Ft. Myers, FL ',\n",
       " 'July 3 – 7, 2018 | Hartford, CT | #2018NAD',\n",
       " 'July 9 – 13, 2018 | San Diego, CA | #EsriUC',\n",
       " 'July 10 – 12, 2018 | Washington, D.C. | #EEOCEXCEL',\n",
       " 'July 16 – 20, 2018 | Atlanta, GA',\n",
       " 'July 16 – 21, 2018 | Albuquerque, NM',\n",
       " 'July 17 – 21, 2018 | Phoenix, AZ',\n",
       " 'July 22 – 25, 2018 | Orlando, FL or virtual',\n",
       " 'July 22 – 25, 2018 | Cleveland, OH | #NCMAwc',\n",
       " 'July 23 – 26, 2018 | Washington, D.C. | #NCIL2018',\n",
       " 'August 9 – 12, 2018 | Las Vegas, NV | #DEFCON',\n",
       " 'August 9 – 10, 2018 | Washington, D.C. | #NextGenGov',\n",
       " 'August 13 – 16, 2018 | Orlando, FL | #FDRtraining',\n",
       " 'August 13 – 16, 2018',\n",
       " 'August 15 – 17, 2018 | Washington, D.C. | #AFCEAHomeland & #FedID',\n",
       " 'August 19 – 22, 2018 | Quebec, Canada | #IPAC2018',\n",
       " 'August 21 – 23, 2018',\n",
       " 'August 22 – 24, 2018',\n",
       " 'August 26 – 27, 2018',\n",
       " 'September date TBA, 2018 | Location TBA',\n",
       " 'September 6 – 9, 2018 | Orlando, FL | #USCA',\n",
       " 'September 12 – 14, 2018 | Pittsburgh, PA | #NAGW2018',\n",
       " 'September 20 – 21, 2018',\n",
       " '',\n",
       " 'September 23 – 26, 2018 | Baltimore, MD | #ICMA18',\n",
       " 'September 25 – 28, 2018 | San Francisco, CA | #DF18',\n",
       " 'September date TBA, 2018 | Kansas City, KS',\n",
       " 'October 1 – 4, 2018 | Seattle, WA | #OESummit',\n",
       " 'October 7 – 10, 2018 | Washington, D.C. |  #BECC2018',\n",
       " 'October 10 – 13, 2018 | Las Vegas, NV | #GLMA2018',\n",
       " 'October 10 – 13, 2018 | Atlanta, GA | #NASPAA2018',\n",
       " 'October 20 – 23, 2018 | San Diego, CA | #NASCIO18',\n",
       " 'October 25 – 27, 2018 | Montreal, Canada| #Clarity2018',\n",
       " 'November 10 – 18, 2018 | San Diego, CA | #APHA2018',\n",
       " 'November 15 – 17, 2018 | Austin, TX | #arnova18']"
      ]
     },
     "execution_count": 140,
     "metadata": {},
     "output_type": "execute_result"
    }
   ],
   "source": [
    "info = [re.sub(r'\\n', '', item.find('em').text) for item in soup.find_all('p')[6:-27] if item.find('a') != None]\n",
    "info = [re.sub(r'\\xa0', ' ', item) for item in info]\n",
    "info"
   ]
  },
  {
   "cell_type": "code",
   "execution_count": 157,
   "metadata": {
    "collapsed": true
   },
   "outputs": [],
   "source": [
    "date = [item.split('|')[0] for item in info]\n",
    "location = [item.split('|')[1] if len(item.split('|')) > 2 else None for item in info]\n",
    "hashtag = [item.split('|')[-1].strip() if item.split('|')[-1].strip().startswith('#') else None for item in info]"
   ]
  },
  {
   "cell_type": "code",
   "execution_count": 158,
   "metadata": {
    "collapsed": false
   },
   "outputs": [],
   "source": [
    "descrip = [re.sub(r'\\n', '', item.text) for item in soup.find_all('p')[6:-27] if item.find('a') != None]\n",
    "descrip = [re.sub(r'\\xa0', ' ', item) for item in descrip]\n",
    "descrip = [item.split('|')[-1].strip() for item in descrip]\n",
    "descrip = [re.sub(r'#\\w*(.*)', r'\\1', item).strip() for item in descrip]"
   ]
  },
  {
   "cell_type": "code",
   "execution_count": 159,
   "metadata": {
    "collapsed": false
   },
   "outputs": [
    {
     "data": {
      "text/plain": [
       "True"
      ]
     },
     "execution_count": 159,
     "metadata": {},
     "output_type": "execute_result"
    }
   ],
   "source": [
    "len(conferences) == len(date) == len(location) == len(hashtag) == len(descrip)"
   ]
  },
  {
   "cell_type": "code",
   "execution_count": 160,
   "metadata": {
    "collapsed": false
   },
   "outputs": [],
   "source": [
    "df = pd.DataFrame({'Conferences': conferences,\n",
    "                  'Date': date,\n",
    "                  'Location': location,\n",
    "                  'Hashtag': hashtag,\n",
    "                  'Description': descrip})"
   ]
  },
  {
   "cell_type": "code",
   "execution_count": 162,
   "metadata": {
    "collapsed": true
   },
   "outputs": [],
   "source": [
    "dest = r'C:\\Users\\Thaunga\\Scripts\\05. BD\\Conferences'\n",
    "filename = r'2018Conferences.xlsx'\n",
    "df.to_excel(r'{}\\{}'.format(dest, filename))"
   ]
  },
  {
   "cell_type": "markdown",
   "metadata": {},
   "source": [
    "# III. Scrape from GovEvents"
   ]
  },
  {
   "cell_type": "code",
   "execution_count": 292,
   "metadata": {
    "collapsed": false,
    "scrolled": true
   },
   "outputs": [],
   "source": [
    "titles = []\n",
    "descriptions = []\n",
    "dates = []\n",
    "organizers = []\n",
    "locations = []\n",
    "\n",
    "for i in range(10):\n",
    "    url = r'https://www.govevents.com/listings.php?q=conference&agency=18&page={}'.format(i)\n",
    "    r = requests.get(url)\n",
    "    soup = BeautifulSoup(r.text, 'lxml')\n",
    "    \n",
    "    # get title of conference\n",
    "    title = [item.get('title') for item in soup.find_all('a') if (item.get('class') != None and 'pt-mbli' in item.get('class'))]\n",
    "    title = [item for item in title if item != None]\n",
    "    titles += title\n",
    "    \n",
    "    # get description of conferences\n",
    "    description = [item.text for item in soup.find_all('div') if \n",
    "               ((item.get('class') != None ) and 'short-description' in item.get('class'))]\n",
    "    descriptions += description\n",
    "    \n",
    "    # get date section info (includes date, organizer, location)\n",
    "    dateInfo = [item.text for item in soup.find_all('div') \n",
    "        if ((item.get('class') != None ) and 'date' in item.get('class'))]\n",
    "\n",
    "    dateInfo = [re.sub(r'(\\r|\\n)', '', item).strip() for item in dateInfo]\n",
    "    \n",
    "    # get dates\n",
    "    date = [re.search(r'(.*?)\\s\\s+', item).group(1) for item in dateInfo]\n",
    "    dates += date\n",
    "    \n",
    "    # get organizers\n",
    "    organizer = [re.search(r'Organizer:(.*?)Location', item).group(1).strip() if \n",
    "             re.search(r'Organizer:(.*?)Location', item) != None else None for item in dateInfo]\n",
    "    organizers += organizer\n",
    "    \n",
    "    # get location\n",
    "    location = [re.search(r'Location:(.*)', item).group(1).strip() if \n",
    "             re.search(r'Location:(.*)', item) != None else None for item in dateInfo]\n",
    "    \n",
    "    locations += location\n",
    "\n",
    "    "
   ]
  },
  {
   "cell_type": "code",
   "execution_count": 293,
   "metadata": {
    "collapsed": false
   },
   "outputs": [
    {
     "data": {
      "text/plain": [
       "True"
      ]
     },
     "execution_count": 293,
     "metadata": {},
     "output_type": "execute_result"
    }
   ],
   "source": [
    "len(titles) == len(descriptions) == len(dates) == len(organizers) == len(locations)"
   ]
  },
  {
   "cell_type": "code",
   "execution_count": 295,
   "metadata": {
    "collapsed": false
   },
   "outputs": [],
   "source": [
    "df2 = pd.DataFrame({'Conferences': titles,\n",
    "                  'Date': dates,\n",
    "                  'Description': descriptions,\n",
    "                  'Location': locations,\n",
    "                  'Organizers': organizers})"
   ]
  },
  {
   "cell_type": "code",
   "execution_count": 297,
   "metadata": {
    "collapsed": false
   },
   "outputs": [
    {
     "data": {
      "text/html": [
       "<div>\n",
       "<table border=\"1\" class=\"dataframe\">\n",
       "  <thead>\n",
       "    <tr style=\"text-align: right;\">\n",
       "      <th></th>\n",
       "      <th>Conferences</th>\n",
       "      <th>Date</th>\n",
       "      <th>Description</th>\n",
       "      <th>Location</th>\n",
       "      <th>Organizers</th>\n",
       "    </tr>\n",
       "  </thead>\n",
       "  <tbody>\n",
       "    <tr>\n",
       "      <th>0</th>\n",
       "      <td>Continuity of Operations (COOP) and Emergency ...</td>\n",
       "      <td>February 6-7, 2018</td>\n",
       "      <td>With the latest series of natural disasters in...</td>\n",
       "      <td>Washington, DC</td>\n",
       "      <td>Potomac Forum, Ltd</td>\n",
       "    </tr>\n",
       "    <tr>\n",
       "      <th>1</th>\n",
       "      <td>HIPAA Compliance Officer Training | HIPAA Prof...</td>\n",
       "      <td>February 8-9, 2018</td>\n",
       "      <td>Overview: This lesson will be addressing how p...</td>\n",
       "      <td>Washington, DC</td>\n",
       "      <td>GlobalCompliancePanel</td>\n",
       "    </tr>\n",
       "    <tr>\n",
       "      <th>2</th>\n",
       "      <td>Global Waste Management Symposium 2018</td>\n",
       "      <td>February 11-14, 2018</td>\n",
       "      <td>Global Waste Management Symposium (GWMS) is No...</td>\n",
       "      <td>Indian Wells, CA</td>\n",
       "      <td>Informa</td>\n",
       "    </tr>\n",
       "    <tr>\n",
       "      <th>3</th>\n",
       "      <td>6th Automated ISR &amp; Battle Management Symposium</td>\n",
       "      <td>February 13-14, 2018</td>\n",
       "      <td>The 6th Annual Automated ISR and Battle Manage...</td>\n",
       "      <td>Alexandria, VA</td>\n",
       "      <td>Defense Strategies Institute</td>\n",
       "    </tr>\n",
       "    <tr>\n",
       "      <th>4</th>\n",
       "      <td>Lifting the Curtain with Reverse Industry Day</td>\n",
       "      <td>February 21, 2018</td>\n",
       "      <td>The American Council for Technology and Indust...</td>\n",
       "      <td>Washington, DC</td>\n",
       "      <td>ACT-IAC</td>\n",
       "    </tr>\n",
       "  </tbody>\n",
       "</table>\n",
       "</div>"
      ],
      "text/plain": [
       "                                         Conferences                  Date  \\\n",
       "0  Continuity of Operations (COOP) and Emergency ...    February 6-7, 2018   \n",
       "1  HIPAA Compliance Officer Training | HIPAA Prof...    February 8-9, 2018   \n",
       "2             Global Waste Management Symposium 2018  February 11-14, 2018   \n",
       "3    6th Automated ISR & Battle Management Symposium  February 13-14, 2018   \n",
       "4      Lifting the Curtain with Reverse Industry Day     February 21, 2018   \n",
       "\n",
       "                                         Description          Location  \\\n",
       "0  With the latest series of natural disasters in...    Washington, DC   \n",
       "1  Overview: This lesson will be addressing how p...    Washington, DC   \n",
       "2  Global Waste Management Symposium (GWMS) is No...  Indian Wells, CA   \n",
       "3  The 6th Annual Automated ISR and Battle Manage...    Alexandria, VA   \n",
       "4  The American Council for Technology and Indust...    Washington, DC   \n",
       "\n",
       "                     Organizers  \n",
       "0            Potomac Forum, Ltd  \n",
       "1         GlobalCompliancePanel  \n",
       "2                       Informa  \n",
       "3  Defense Strategies Institute  \n",
       "4                       ACT-IAC  "
      ]
     },
     "execution_count": 297,
     "metadata": {},
     "output_type": "execute_result"
    }
   ],
   "source": [
    "df2.head()"
   ]
  },
  {
   "cell_type": "markdown",
   "metadata": {},
   "source": [
    "# IV. Concatenate data scraped from different websites"
   ]
  },
  {
   "cell_type": "code",
   "execution_count": 299,
   "metadata": {
    "collapsed": false
   },
   "outputs": [],
   "source": [
    "final_df = pd.concat([df,df2], axis=0, ignore_index=True)"
   ]
  },
  {
   "cell_type": "code",
   "execution_count": 300,
   "metadata": {
    "collapsed": true
   },
   "outputs": [],
   "source": [
    "final_df.to_excel('{}\\{}'.format(dest, filename))"
   ]
  },
  {
   "cell_type": "code",
   "execution_count": null,
   "metadata": {
    "collapsed": true
   },
   "outputs": [],
   "source": []
  }
 ],
 "metadata": {
  "kernelspec": {
   "display_name": "Python 3",
   "language": "python",
   "name": "python3"
  },
  "language_info": {
   "codemirror_mode": {
    "name": "ipython",
    "version": 3
   },
   "file_extension": ".py",
   "mimetype": "text/x-python",
   "name": "python",
   "nbconvert_exporter": "python",
   "pygments_lexer": "ipython3",
   "version": "3.5.2"
  }
 },
 "nbformat": 4,
 "nbformat_minor": 2
}
