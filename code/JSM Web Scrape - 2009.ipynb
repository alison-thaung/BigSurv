{
 "cells": [
  {
   "cell_type": "markdown",
   "metadata": {},
   "source": [
    "# I. Import Needed Libraries"
   ]
  },
  {
   "cell_type": "markdown",
   "metadata": {},
   "source": [
    "Selenium: accesses and controls web browser to submit search and locate web elements by xpath\n",
    "\n",
    "CSV: reads and writes CSV files\n",
    "\n",
    "re: regular expression for pattern matching\n",
    "\n",
    "requests: makes HTTP requests\n",
    "\n",
    "BeautifulSoup:parses HTML\n",
    "\n",
    "pandas: data analysis library to manage dataframes\n"
   ]
  },
  {
   "cell_type": "code",
   "execution_count": 1,
   "metadata": {
    "collapsed": false
   },
   "outputs": [
    {
     "name": "stdout",
     "output_type": "stream",
     "text": [
      "The history saving thread hit an unexpected error (DatabaseError('database disk image is malformed',)).History will not be written to the database.\n"
     ]
    }
   ],
   "source": [
    "from selenium import webdriver\n",
    "from selenium.webdriver.support.ui import Select\n",
    "from selenium.webdriver.common.by import By\n",
    "from selenium.webdriver.support.ui import WebDriverWait\n",
    "from selenium.webdriver.support import expected_conditions as EC\n",
    "\n",
    "import csv, re, requests\n",
    "from bs4 import BeautifulSoup\n",
    "import pandas as pd"
   ]
  },
  {
   "cell_type": "markdown",
   "metadata": {},
   "source": [
    "# II. Instantiate Browser Object "
   ]
  },
  {
   "cell_type": "code",
   "execution_count": 2,
   "metadata": {
    "collapsed": false
   },
   "outputs": [],
   "source": [
    "url = 'https://ww2.amstat.org/meetings/jsm/2009/onlineprogram/'\n",
    "\n",
    "# chromedriver needs to be in exectuable path or you need to map to where your chromedriver is\n",
    "browser = webdriver.Chrome()\n",
    "browser.get(url)\n"
   ]
  },
  {
   "cell_type": "markdown",
   "metadata": {},
   "source": [
    "# III. Navigate through webpage and scrape objects"
   ]
  },
  {
   "cell_type": "markdown",
   "metadata": {},
   "source": [
    "### Creat xpaths for needed items"
   ]
  },
  {
   "cell_type": "code",
   "execution_count": 24,
   "metadata": {
    "collapsed": true
   },
   "outputs": [],
   "source": [
    "xpath_search = '/html/body/table[2]/tbody/tr[2]/td/form/div/input[6]'\n",
    "xpath_session = '//tr//td[1]//a[contains(@href, \"activity_details\")]'\n",
    "xpath_titles = '//tr//td[2]'\n",
    "xpath_sponsors = '//tbody//tr//td[3]'\n",
    "xpath_type = '//tbody//tr/td[4]'"
   ]
  },
  {
   "cell_type": "markdown",
   "metadata": {},
   "source": [
    "### Click search with empty fields"
   ]
  },
  {
   "cell_type": "code",
   "execution_count": 21,
   "metadata": {
    "collapsed": true
   },
   "outputs": [
    {
     "ename": "NoSuchElementException",
     "evalue": "Message: no such element: Unable to locate element: {\"method\":\"xpath\",\"selector\":\"/html/body/table[2]/tbody/tr[2]/td/form/div/input[6]\"}\n  (Session info: chrome=63.0.3239.132)\n  (Driver info: chromedriver=2.27.440174 (e97a722caafc2d3a8b807ee115bfb307f7d2cfd9),platform=Windows NT 6.1.7601 SP1 x86_64)\n",
     "output_type": "error",
     "traceback": [
      "\u001b[0;31m---------------------------------------------------------------------------\u001b[0m",
      "\u001b[0;31mNoSuchElementException\u001b[0m                    Traceback (most recent call last)",
      "\u001b[0;32m<ipython-input-21-9b4dcc2b333d>\u001b[0m in \u001b[0;36m<module>\u001b[0;34m()\u001b[0m\n\u001b[1;32m      1\u001b[0m \u001b[1;31m# wouldn't click on this page so had to execute script instead of standard click() method\u001b[0m\u001b[1;33m\u001b[0m\u001b[1;33m\u001b[0m\u001b[0m\n\u001b[0;32m----> 2\u001b[0;31m \u001b[0melement\u001b[0m \u001b[1;33m=\u001b[0m \u001b[0mbrowser\u001b[0m\u001b[1;33m.\u001b[0m\u001b[0mfind_element_by_xpath\u001b[0m\u001b[1;33m(\u001b[0m\u001b[0mxpath_search\u001b[0m\u001b[1;33m)\u001b[0m\u001b[1;33m\u001b[0m\u001b[0m\n\u001b[0m\u001b[1;32m      3\u001b[0m \u001b[0mbrowser\u001b[0m\u001b[1;33m.\u001b[0m\u001b[0mexecute_script\u001b[0m\u001b[1;33m(\u001b[0m\u001b[1;34m\"arguments[0].click();\"\u001b[0m\u001b[1;33m,\u001b[0m \u001b[0melement\u001b[0m\u001b[1;33m)\u001b[0m\u001b[1;33m\u001b[0m\u001b[0m\n\u001b[1;32m      4\u001b[0m \u001b[1;33m\u001b[0m\u001b[0m\n\u001b[1;32m      5\u001b[0m \u001b[1;33m\u001b[0m\u001b[0m\n",
      "\u001b[0;32mc:\\users\\thaunga\\appdata\\local\\continuum\\anaconda2\\envs\\snakes\\lib\\site-packages\\selenium\\webdriver\\remote\\webdriver.py\u001b[0m in \u001b[0;36mfind_element_by_xpath\u001b[0;34m(self, xpath)\u001b[0m\n\u001b[1;32m    363\u001b[0m             \u001b[0mdriver\u001b[0m\u001b[1;33m.\u001b[0m\u001b[0mfind_element_by_xpath\u001b[0m\u001b[1;33m(\u001b[0m\u001b[1;34m'//div/td[1]'\u001b[0m\u001b[1;33m)\u001b[0m\u001b[1;33m\u001b[0m\u001b[0m\n\u001b[1;32m    364\u001b[0m         \"\"\"\n\u001b[0;32m--> 365\u001b[0;31m         \u001b[1;32mreturn\u001b[0m \u001b[0mself\u001b[0m\u001b[1;33m.\u001b[0m\u001b[0mfind_element\u001b[0m\u001b[1;33m(\u001b[0m\u001b[0mby\u001b[0m\u001b[1;33m=\u001b[0m\u001b[0mBy\u001b[0m\u001b[1;33m.\u001b[0m\u001b[0mXPATH\u001b[0m\u001b[1;33m,\u001b[0m \u001b[0mvalue\u001b[0m\u001b[1;33m=\u001b[0m\u001b[0mxpath\u001b[0m\u001b[1;33m)\u001b[0m\u001b[1;33m\u001b[0m\u001b[0m\n\u001b[0m\u001b[1;32m    366\u001b[0m \u001b[1;33m\u001b[0m\u001b[0m\n\u001b[1;32m    367\u001b[0m     \u001b[1;32mdef\u001b[0m \u001b[0mfind_elements_by_xpath\u001b[0m\u001b[1;33m(\u001b[0m\u001b[0mself\u001b[0m\u001b[1;33m,\u001b[0m \u001b[0mxpath\u001b[0m\u001b[1;33m)\u001b[0m\u001b[1;33m:\u001b[0m\u001b[1;33m\u001b[0m\u001b[0m\n",
      "\u001b[0;32mc:\\users\\thaunga\\appdata\\local\\continuum\\anaconda2\\envs\\snakes\\lib\\site-packages\\selenium\\webdriver\\remote\\webdriver.py\u001b[0m in \u001b[0;36mfind_element\u001b[0;34m(self, by, value)\u001b[0m\n\u001b[1;32m    841\u001b[0m         return self.execute(Command.FIND_ELEMENT, {\n\u001b[1;32m    842\u001b[0m             \u001b[1;34m'using'\u001b[0m\u001b[1;33m:\u001b[0m \u001b[0mby\u001b[0m\u001b[1;33m,\u001b[0m\u001b[1;33m\u001b[0m\u001b[0m\n\u001b[0;32m--> 843\u001b[0;31m             'value': value})['value']\n\u001b[0m\u001b[1;32m    844\u001b[0m \u001b[1;33m\u001b[0m\u001b[0m\n\u001b[1;32m    845\u001b[0m     \u001b[1;32mdef\u001b[0m \u001b[0mfind_elements\u001b[0m\u001b[1;33m(\u001b[0m\u001b[0mself\u001b[0m\u001b[1;33m,\u001b[0m \u001b[0mby\u001b[0m\u001b[1;33m=\u001b[0m\u001b[0mBy\u001b[0m\u001b[1;33m.\u001b[0m\u001b[0mID\u001b[0m\u001b[1;33m,\u001b[0m \u001b[0mvalue\u001b[0m\u001b[1;33m=\u001b[0m\u001b[1;32mNone\u001b[0m\u001b[1;33m)\u001b[0m\u001b[1;33m:\u001b[0m\u001b[1;33m\u001b[0m\u001b[0m\n",
      "\u001b[0;32mc:\\users\\thaunga\\appdata\\local\\continuum\\anaconda2\\envs\\snakes\\lib\\site-packages\\selenium\\webdriver\\remote\\webdriver.py\u001b[0m in \u001b[0;36mexecute\u001b[0;34m(self, driver_command, params)\u001b[0m\n\u001b[1;32m    306\u001b[0m         \u001b[0mresponse\u001b[0m \u001b[1;33m=\u001b[0m \u001b[0mself\u001b[0m\u001b[1;33m.\u001b[0m\u001b[0mcommand_executor\u001b[0m\u001b[1;33m.\u001b[0m\u001b[0mexecute\u001b[0m\u001b[1;33m(\u001b[0m\u001b[0mdriver_command\u001b[0m\u001b[1;33m,\u001b[0m \u001b[0mparams\u001b[0m\u001b[1;33m)\u001b[0m\u001b[1;33m\u001b[0m\u001b[0m\n\u001b[1;32m    307\u001b[0m         \u001b[1;32mif\u001b[0m \u001b[0mresponse\u001b[0m\u001b[1;33m:\u001b[0m\u001b[1;33m\u001b[0m\u001b[0m\n\u001b[0;32m--> 308\u001b[0;31m             \u001b[0mself\u001b[0m\u001b[1;33m.\u001b[0m\u001b[0merror_handler\u001b[0m\u001b[1;33m.\u001b[0m\u001b[0mcheck_response\u001b[0m\u001b[1;33m(\u001b[0m\u001b[0mresponse\u001b[0m\u001b[1;33m)\u001b[0m\u001b[1;33m\u001b[0m\u001b[0m\n\u001b[0m\u001b[1;32m    309\u001b[0m             response['value'] = self._unwrap_value(\n\u001b[1;32m    310\u001b[0m                 response.get('value', None))\n",
      "\u001b[0;32mc:\\users\\thaunga\\appdata\\local\\continuum\\anaconda2\\envs\\snakes\\lib\\site-packages\\selenium\\webdriver\\remote\\errorhandler.py\u001b[0m in \u001b[0;36mcheck_response\u001b[0;34m(self, response)\u001b[0m\n\u001b[1;32m    192\u001b[0m         \u001b[1;32melif\u001b[0m \u001b[0mexception_class\u001b[0m \u001b[1;33m==\u001b[0m \u001b[0mUnexpectedAlertPresentException\u001b[0m \u001b[1;32mand\u001b[0m \u001b[1;34m'alert'\u001b[0m \u001b[1;32min\u001b[0m \u001b[0mvalue\u001b[0m\u001b[1;33m:\u001b[0m\u001b[1;33m\u001b[0m\u001b[0m\n\u001b[1;32m    193\u001b[0m             \u001b[1;32mraise\u001b[0m \u001b[0mexception_class\u001b[0m\u001b[1;33m(\u001b[0m\u001b[0mmessage\u001b[0m\u001b[1;33m,\u001b[0m \u001b[0mscreen\u001b[0m\u001b[1;33m,\u001b[0m \u001b[0mstacktrace\u001b[0m\u001b[1;33m,\u001b[0m \u001b[0mvalue\u001b[0m\u001b[1;33m[\u001b[0m\u001b[1;34m'alert'\u001b[0m\u001b[1;33m]\u001b[0m\u001b[1;33m.\u001b[0m\u001b[0mget\u001b[0m\u001b[1;33m(\u001b[0m\u001b[1;34m'text'\u001b[0m\u001b[1;33m)\u001b[0m\u001b[1;33m)\u001b[0m\u001b[1;33m\u001b[0m\u001b[0m\n\u001b[0;32m--> 194\u001b[0;31m         \u001b[1;32mraise\u001b[0m \u001b[0mexception_class\u001b[0m\u001b[1;33m(\u001b[0m\u001b[0mmessage\u001b[0m\u001b[1;33m,\u001b[0m \u001b[0mscreen\u001b[0m\u001b[1;33m,\u001b[0m \u001b[0mstacktrace\u001b[0m\u001b[1;33m)\u001b[0m\u001b[1;33m\u001b[0m\u001b[0m\n\u001b[0m\u001b[1;32m    195\u001b[0m \u001b[1;33m\u001b[0m\u001b[0m\n\u001b[1;32m    196\u001b[0m     \u001b[1;32mdef\u001b[0m \u001b[0m_value_or_default\u001b[0m\u001b[1;33m(\u001b[0m\u001b[0mself\u001b[0m\u001b[1;33m,\u001b[0m \u001b[0mobj\u001b[0m\u001b[1;33m,\u001b[0m \u001b[0mkey\u001b[0m\u001b[1;33m,\u001b[0m \u001b[0mdefault\u001b[0m\u001b[1;33m)\u001b[0m\u001b[1;33m:\u001b[0m\u001b[1;33m\u001b[0m\u001b[0m\n",
      "\u001b[0;31mNoSuchElementException\u001b[0m: Message: no such element: Unable to locate element: {\"method\":\"xpath\",\"selector\":\"/html/body/table[2]/tbody/tr[2]/td/form/div/input[6]\"}\n  (Session info: chrome=63.0.3239.132)\n  (Driver info: chromedriver=2.27.440174 (e97a722caafc2d3a8b807ee115bfb307f7d2cfd9),platform=Windows NT 6.1.7601 SP1 x86_64)\n"
     ]
    }
   ],
   "source": [
    "# wouldn't click on this page so had to execute script instead of standard click() method\n",
    "element = browser.find_element_by_xpath(xpath_search)\n",
    "browser.execute_script(\"arguments[0].click();\", element)\n",
    "\n",
    "\n",
    "# browser.find_element_by_xpath(xpath_search).click()\n",
    "# wait = WebDriverWait(browser, 30)\n",
    "# wait.until(EC.presence_of_element_located((By.XPATH, xpath_search)))\n",
    "# browser.find_element_by_xpath(xpath_search).click()"
   ]
  },
  {
   "cell_type": "markdown",
   "metadata": {},
   "source": [
    "### Create lists of each field needed"
   ]
  },
  {
   "cell_type": "code",
   "execution_count": 46,
   "metadata": {
    "collapsed": false
   },
   "outputs": [],
   "source": [
    "sessions = [item.text for item in browser.find_elements_by_xpath(xpath_session) if 'Session' not in item.text]\n",
    "titles = [item.text for item in browser.find_elements_by_xpath(xpath_titles) if item.text != \"Title\"]\n",
    "sponsors = [item.text.replace('\\n', ', ') for item in browser.find_elements_by_xpath(xpath_sponsors) \n",
    "            if item.text != 'Sponsor']\n",
    "session_type = [re.sub(r'(\\n|\\r|\\t)', ' ', item.text) for item in browser.find_elements_by_xpath(xpath_type) \n",
    "                if item.text != \"Type\" ]\n",
    "session_linkToAbstract = [item.get_attribute('href') for item in browser.find_elements_by_xpath(xpath_session)]\n"
   ]
  },
  {
   "cell_type": "code",
   "execution_count": 47,
   "metadata": {
    "collapsed": false
   },
   "outputs": [
    {
     "data": {
      "text/plain": [
       "True"
      ]
     },
     "execution_count": 47,
     "metadata": {},
     "output_type": "execute_result"
    }
   ],
   "source": [
    "len(sessions) == len(titles) == len(sponsors) == len(session_linkToAbstract)"
   ]
  },
  {
   "cell_type": "code",
   "execution_count": 55,
   "metadata": {
    "collapsed": true
   },
   "outputs": [],
   "source": [
    "df = pd.DataFrame({'Session_No' : sessions,\n",
    "                   'Session_Title' : titles,\n",
    "                   'Sponsors': sponsors,\n",
    "                   'Type': session_type,\n",
    "                   'Session_URL': session_linkToAbstract                   \n",
    "                  })"
   ]
  },
  {
   "cell_type": "code",
   "execution_count": 56,
   "metadata": {
    "collapsed": true
   },
   "outputs": [],
   "source": [
    "df['Session_ID'] = df['Session_URL'].apply(lambda x: re.sub(r'https\\S+((\\d){6})', r'\\1', x))"
   ]
  },
  {
   "cell_type": "code",
   "execution_count": 57,
   "metadata": {
    "collapsed": false
   },
   "outputs": [
    {
     "data": {
      "text/html": [
       "<div>\n",
       "<table border=\"1\" class=\"dataframe\">\n",
       "  <thead>\n",
       "    <tr style=\"text-align: right;\">\n",
       "      <th></th>\n",
       "      <th>Session_No</th>\n",
       "      <th>Session_Title</th>\n",
       "      <th>Session_URL</th>\n",
       "      <th>Sponsors</th>\n",
       "      <th>Type</th>\n",
       "      <th>Session_ID</th>\n",
       "    </tr>\n",
       "  </thead>\n",
       "  <tbody>\n",
       "    <tr>\n",
       "      <th>0</th>\n",
       "      <td>204907</td>\n",
       "      <td>Cancelled: George Mason University Alumni Rece...</td>\n",
       "      <td>https://ww2.amstat.org/meetings/jsm/2009/onlin...</td>\n",
       "      <td>George Mason University</td>\n",
       "      <td>Other ICW</td>\n",
       "      <td>204907</td>\n",
       "    </tr>\n",
       "  </tbody>\n",
       "</table>\n",
       "</div>"
      ],
      "text/plain": [
       "  Session_No                                      Session_Title  \\\n",
       "0     204907  Cancelled: George Mason University Alumni Rece...   \n",
       "\n",
       "                                         Session_URL                 Sponsors  \\\n",
       "0  https://ww2.amstat.org/meetings/jsm/2009/onlin...  George Mason University   \n",
       "\n",
       "        Type Session_ID  \n",
       "0  Other ICW     204907  "
      ]
     },
     "execution_count": 57,
     "metadata": {},
     "output_type": "execute_result"
    }
   ],
   "source": [
    "df.head(1)"
   ]
  },
  {
   "cell_type": "code",
   "execution_count": 58,
   "metadata": {
    "collapsed": false
   },
   "outputs": [],
   "source": [
    "df.drop_duplicates(subset = 'Session_URL', inplace = True)\n",
    "df.reset_index(inplace = True, drop= True)"
   ]
  },
  {
   "cell_type": "code",
   "execution_count": 59,
   "metadata": {
    "collapsed": false
   },
   "outputs": [],
   "source": [
    "dest = r'C:\\Users\\Thaunga\\Scripts\\02. Presentations\\JSM\\Datasets'\n",
    "df.to_excel(r'{}\\2009Sessions.xlsx'.format(dest))"
   ]
  },
  {
   "cell_type": "markdown",
   "metadata": {},
   "source": [
    "# Test Code for this year's object locations (xpaths)"
   ]
  },
  {
   "cell_type": "code",
   "execution_count": 60,
   "metadata": {
    "collapsed": false
   },
   "outputs": [
    {
     "data": {
      "text/html": [
       "<div>\n",
       "<table border=\"1\" class=\"dataframe\">\n",
       "  <thead>\n",
       "    <tr style=\"text-align: right;\">\n",
       "      <th></th>\n",
       "      <th>Session_No</th>\n",
       "      <th>Session_Title</th>\n",
       "      <th>Session_URL</th>\n",
       "      <th>Sponsors</th>\n",
       "      <th>Type</th>\n",
       "      <th>Session_ID</th>\n",
       "    </tr>\n",
       "  </thead>\n",
       "  <tbody>\n",
       "    <tr>\n",
       "      <th>14</th>\n",
       "      <td>CE_01C</td>\n",
       "      <td>Analysis of Multivariate Survival Data</td>\n",
       "      <td>https://ww2.amstat.org/meetings/jsm/2009/onlin...</td>\n",
       "      <td>ASA</td>\n",
       "      <td>CE Course</td>\n",
       "      <td>204609</td>\n",
       "    </tr>\n",
       "    <tr>\n",
       "      <th>15</th>\n",
       "      <td>CE_02C</td>\n",
       "      <td>Missing Data in Longitudinal Studies: Strategi...</td>\n",
       "      <td>https://ww2.amstat.org/meetings/jsm/2009/onlin...</td>\n",
       "      <td>ASA, Biometrics Section</td>\n",
       "      <td>CE Course</td>\n",
       "      <td>204611</td>\n",
       "    </tr>\n",
       "    <tr>\n",
       "      <th>16</th>\n",
       "      <td>CE_03C</td>\n",
       "      <td>Design of Experiments: New Methods and How to ...</td>\n",
       "      <td>https://ww2.amstat.org/meetings/jsm/2009/onlin...</td>\n",
       "      <td>ASA, Section on Quality and Productivity</td>\n",
       "      <td>CE Course</td>\n",
       "      <td>204612</td>\n",
       "    </tr>\n",
       "    <tr>\n",
       "      <th>17</th>\n",
       "      <td>CE_04C</td>\n",
       "      <td>Longitudinal Data Analysis: Semiparametric and...</td>\n",
       "      <td>https://ww2.amstat.org/meetings/jsm/2009/onlin...</td>\n",
       "      <td>ASA, Biometrics Section</td>\n",
       "      <td>CE Course</td>\n",
       "      <td>204613</td>\n",
       "    </tr>\n",
       "    <tr>\n",
       "      <th>18</th>\n",
       "      <td>CE_05C</td>\n",
       "      <td>The Analysis of Cross-Classified Categorical Data</td>\n",
       "      <td>https://ww2.amstat.org/meetings/jsm/2009/onlin...</td>\n",
       "      <td>ASA, Section on Survey Research Methods</td>\n",
       "      <td>CE Course</td>\n",
       "      <td>204614</td>\n",
       "    </tr>\n",
       "    <tr>\n",
       "      <th>19</th>\n",
       "      <td>CE_06C</td>\n",
       "      <td>Applied Statistical Genetics for Population-Ba...</td>\n",
       "      <td>https://ww2.amstat.org/meetings/jsm/2009/onlin...</td>\n",
       "      <td>ASA, Section on Statistics in Epidemiology</td>\n",
       "      <td>CE Course</td>\n",
       "      <td>204615</td>\n",
       "    </tr>\n",
       "    <tr>\n",
       "      <th>20</th>\n",
       "      <td>CE_07C</td>\n",
       "      <td>Active Control Clinical Trials</td>\n",
       "      <td>https://ww2.amstat.org/meetings/jsm/2009/onlin...</td>\n",
       "      <td>ASA</td>\n",
       "      <td>CE Course</td>\n",
       "      <td>204616</td>\n",
       "    </tr>\n",
       "    <tr>\n",
       "      <th>40</th>\n",
       "      <td>CE_01C</td>\n",
       "      <td>Analysis of Multivariate Survival Data</td>\n",
       "      <td>https://ww2.amstat.org/meetings/jsm/2009/onlin...</td>\n",
       "      <td>ASA</td>\n",
       "      <td>CE Course</td>\n",
       "      <td>204610</td>\n",
       "    </tr>\n",
       "    <tr>\n",
       "      <th>41</th>\n",
       "      <td>CE_08C</td>\n",
       "      <td>New Developments of Traditional Multivariate A...</td>\n",
       "      <td>https://ww2.amstat.org/meetings/jsm/2009/onlin...</td>\n",
       "      <td>ASA</td>\n",
       "      <td>CE Course</td>\n",
       "      <td>204617</td>\n",
       "    </tr>\n",
       "    <tr>\n",
       "      <th>42</th>\n",
       "      <td>CE_09C</td>\n",
       "      <td>Semiparametric Regression</td>\n",
       "      <td>https://ww2.amstat.org/meetings/jsm/2009/onlin...</td>\n",
       "      <td>ASA</td>\n",
       "      <td>CE Course</td>\n",
       "      <td>204618</td>\n",
       "    </tr>\n",
       "    <tr>\n",
       "      <th>43</th>\n",
       "      <td>CE_10C</td>\n",
       "      <td>Tolerance Intervals: Theory, Applications, and...</td>\n",
       "      <td>https://ww2.amstat.org/meetings/jsm/2009/onlin...</td>\n",
       "      <td>ASA, Section on Physical and Engineering Sciences</td>\n",
       "      <td>CE Course</td>\n",
       "      <td>204619</td>\n",
       "    </tr>\n",
       "    <tr>\n",
       "      <th>44</th>\n",
       "      <td>CE_11C</td>\n",
       "      <td>Model-Based Survey Sampling: Theory and Practice</td>\n",
       "      <td>https://ww2.amstat.org/meetings/jsm/2009/onlin...</td>\n",
       "      <td>ASA, Section on Survey Research Methods</td>\n",
       "      <td>CE Course</td>\n",
       "      <td>204620</td>\n",
       "    </tr>\n",
       "    <tr>\n",
       "      <th>45</th>\n",
       "      <td>CE_12C</td>\n",
       "      <td>Hierarchical Modeling and Analysis of Spatial-...</td>\n",
       "      <td>https://ww2.amstat.org/meetings/jsm/2009/onlin...</td>\n",
       "      <td>ASA, Section on Bayesian Statistical Science</td>\n",
       "      <td>CE Course</td>\n",
       "      <td>204621</td>\n",
       "    </tr>\n",
       "    <tr>\n",
       "      <th>46</th>\n",
       "      <td>CE_13C</td>\n",
       "      <td>Models for Discrete Repeated Measures</td>\n",
       "      <td>https://ww2.amstat.org/meetings/jsm/2009/onlin...</td>\n",
       "      <td>ASA</td>\n",
       "      <td>CE Course</td>\n",
       "      <td>204622</td>\n",
       "    </tr>\n",
       "    <tr>\n",
       "      <th>65</th>\n",
       "      <td>38</td>\n",
       "      <td>Labor Markets and Firm Competitiveness</td>\n",
       "      <td>https://ww2.amstat.org/meetings/jsm/2009/onlin...</td>\n",
       "      <td>Business and Economic Statistics Section</td>\n",
       "      <td>Contributed Papers</td>\n",
       "      <td>204558</td>\n",
       "    </tr>\n",
       "    <tr>\n",
       "      <th>66</th>\n",
       "      <td>21</td>\n",
       "      <td>Building Emulators for Computer Models: Interf...</td>\n",
       "      <td>https://ww2.amstat.org/meetings/jsm/2009/onlin...</td>\n",
       "      <td>Section on Physical and Engineering Sciences, ...</td>\n",
       "      <td>Topic Contributed Papers</td>\n",
       "      <td>204587</td>\n",
       "    </tr>\n",
       "    <tr>\n",
       "      <th>67</th>\n",
       "      <td>39</td>\n",
       "      <td>* ! Estimation Issues in Surveys of Employment...</td>\n",
       "      <td>https://ww2.amstat.org/meetings/jsm/2009/onlin...</td>\n",
       "      <td>Section on Survey Research Methods, Section on...</td>\n",
       "      <td>Contributed Papers</td>\n",
       "      <td>204591</td>\n",
       "    </tr>\n",
       "    <tr>\n",
       "      <th>68</th>\n",
       "      <td>20</td>\n",
       "      <td>Machine Learning--Based Causal Inference: Towa...</td>\n",
       "      <td>https://ww2.amstat.org/meetings/jsm/2009/onlin...</td>\n",
       "      <td>Section on Statistics in Epidemiology</td>\n",
       "      <td>Topic Contributed Papers</td>\n",
       "      <td>204476</td>\n",
       "    </tr>\n",
       "    <tr>\n",
       "      <th>69</th>\n",
       "      <td>37</td>\n",
       "      <td>* Bayesian Diagnostics and Dynamic Models</td>\n",
       "      <td>https://ww2.amstat.org/meetings/jsm/2009/onlin...</td>\n",
       "      <td>Section on Bayesian Statistical Science</td>\n",
       "      <td>Contributed Papers</td>\n",
       "      <td>204517</td>\n",
       "    </tr>\n",
       "    <tr>\n",
       "      <th>70</th>\n",
       "      <td>23</td>\n",
       "      <td>* ! Guiding Young Professionals to Be Successf...</td>\n",
       "      <td>https://ww2.amstat.org/meetings/jsm/2009/onlin...</td>\n",
       "      <td>Committee on Career Development, Section on Go...</td>\n",
       "      <td>Topic Contributed Panel</td>\n",
       "      <td>204352</td>\n",
       "    </tr>\n",
       "    <tr>\n",
       "      <th>71</th>\n",
       "      <td>33</td>\n",
       "      <td>Variance Estimation in Complex Surveys</td>\n",
       "      <td>https://ww2.amstat.org/meetings/jsm/2009/onlin...</td>\n",
       "      <td>Section on Survey Research Methods</td>\n",
       "      <td>Contributed Papers</td>\n",
       "      <td>204378</td>\n",
       "    </tr>\n",
       "    <tr>\n",
       "      <th>72</th>\n",
       "      <td>34</td>\n",
       "      <td>* Statistical Methods for Modeling Infectious ...</td>\n",
       "      <td>https://ww2.amstat.org/meetings/jsm/2009/onlin...</td>\n",
       "      <td>Section on Statistics in Epidemiology</td>\n",
       "      <td>Contributed Papers</td>\n",
       "      <td>204388</td>\n",
       "    </tr>\n",
       "    <tr>\n",
       "      <th>73</th>\n",
       "      <td>17</td>\n",
       "      <td>* Propensity Scores and Bayesian Methods for H...</td>\n",
       "      <td>https://ww2.amstat.org/meetings/jsm/2009/onlin...</td>\n",
       "      <td>Biopharmaceutical Section, Section on Statisti...</td>\n",
       "      <td>Topic Contributed Papers</td>\n",
       "      <td>204415</td>\n",
       "    </tr>\n",
       "    <tr>\n",
       "      <th>74</th>\n",
       "      <td>35</td>\n",
       "      <td>Statistical Methods for Modeling Populations i...</td>\n",
       "      <td>https://ww2.amstat.org/meetings/jsm/2009/onlin...</td>\n",
       "      <td>Section on Statistics and the Environment</td>\n",
       "      <td>Contributed Papers</td>\n",
       "      <td>204397</td>\n",
       "    </tr>\n",
       "    <tr>\n",
       "      <th>75</th>\n",
       "      <td>36</td>\n",
       "      <td>Modern Computation in Experimental Design and ...</td>\n",
       "      <td>https://ww2.amstat.org/meetings/jsm/2009/onlin...</td>\n",
       "      <td>Section on Statistical Computing, Interface Fo...</td>\n",
       "      <td>Contributed Papers</td>\n",
       "      <td>204434</td>\n",
       "    </tr>\n",
       "    <tr>\n",
       "      <th>76</th>\n",
       "      <td>18</td>\n",
       "      <td>* ! Hot Research Projects: A Taste of the Futu...</td>\n",
       "      <td>https://ww2.amstat.org/meetings/jsm/2009/onlin...</td>\n",
       "      <td>Section on Government Statistics, Section on S...</td>\n",
       "      <td>Topic Contributed Papers</td>\n",
       "      <td>204455</td>\n",
       "    </tr>\n",
       "    <tr>\n",
       "      <th>77</th>\n",
       "      <td>19</td>\n",
       "      <td>The Impact of Mode and Other Factors on Data Q...</td>\n",
       "      <td>https://ww2.amstat.org/meetings/jsm/2009/onlin...</td>\n",
       "      <td>Section on Survey Research Methods</td>\n",
       "      <td>Topic Contributed Papers</td>\n",
       "      <td>204464</td>\n",
       "    </tr>\n",
       "    <tr>\n",
       "      <th>78</th>\n",
       "      <td>11</td>\n",
       "      <td>IMS Medallion Lecture I</td>\n",
       "      <td>https://ww2.amstat.org/meetings/jsm/2009/onlin...</td>\n",
       "      <td>IMS</td>\n",
       "      <td>Invited Papers</td>\n",
       "      <td>204256</td>\n",
       "    </tr>\n",
       "    <tr>\n",
       "      <th>79</th>\n",
       "      <td>24</td>\n",
       "      <td>Variable Selection and Missing Data Methods fo...</td>\n",
       "      <td>https://ww2.amstat.org/meetings/jsm/2009/onlin...</td>\n",
       "      <td>Biometrics Section, Section on Bayesian Statis...</td>\n",
       "      <td>Contributed Papers</td>\n",
       "      <td>204277</td>\n",
       "    </tr>\n",
       "    <tr>\n",
       "      <th>80</th>\n",
       "      <td>25</td>\n",
       "      <td>Meta-Analysis, Sensitivity Analysis, and Laten...</td>\n",
       "      <td>https://ww2.amstat.org/meetings/jsm/2009/onlin...</td>\n",
       "      <td>Biometrics Section, Section on Bayesian Statis...</td>\n",
       "      <td>Contributed Papers</td>\n",
       "      <td>204278</td>\n",
       "    </tr>\n",
       "    <tr>\n",
       "      <th>...</th>\n",
       "      <td>...</td>\n",
       "      <td>...</td>\n",
       "      <td>...</td>\n",
       "      <td>...</td>\n",
       "      <td>...</td>\n",
       "      <td>...</td>\n",
       "    </tr>\n",
       "    <tr>\n",
       "      <th>904</th>\n",
       "      <td>602</td>\n",
       "      <td>Resampling and Random Number Generation</td>\n",
       "      <td>https://ww2.amstat.org/meetings/jsm/2009/onlin...</td>\n",
       "      <td>Section on Statistical Computing, Interface Fo...</td>\n",
       "      <td>Contributed Papers</td>\n",
       "      <td>204436</td>\n",
       "    </tr>\n",
       "    <tr>\n",
       "      <th>905</th>\n",
       "      <td>594</td>\n",
       "      <td>* ! Modern Statistical Approaches to Phylogene...</td>\n",
       "      <td>https://ww2.amstat.org/meetings/jsm/2009/onlin...</td>\n",
       "      <td>Section on Bayesian Statistical Science</td>\n",
       "      <td>Topic Contributed Papers</td>\n",
       "      <td>204437</td>\n",
       "    </tr>\n",
       "    <tr>\n",
       "      <th>906</th>\n",
       "      <td>593</td>\n",
       "      <td>* ! Bayesian Philosophies and Practicalities</td>\n",
       "      <td>https://ww2.amstat.org/meetings/jsm/2009/onlin...</td>\n",
       "      <td>Section on Bayesian Statistical Science</td>\n",
       "      <td>Topic Contributed Papers</td>\n",
       "      <td>204433</td>\n",
       "    </tr>\n",
       "    <tr>\n",
       "      <th>907</th>\n",
       "      <td>592</td>\n",
       "      <td>Statistical Topics in the Study of Medical Dev...</td>\n",
       "      <td>https://ww2.amstat.org/meetings/jsm/2009/onlin...</td>\n",
       "      <td>Biopharmaceutical Section</td>\n",
       "      <td>Topic Contributed Papers</td>\n",
       "      <td>204419</td>\n",
       "    </tr>\n",
       "    <tr>\n",
       "      <th>908</th>\n",
       "      <td>610</td>\n",
       "      <td>Default, Multivariate Risk, and Copula Models</td>\n",
       "      <td>https://ww2.amstat.org/meetings/jsm/2009/onlin...</td>\n",
       "      <td>Business and Economic Statistics Section</td>\n",
       "      <td>Contributed Papers</td>\n",
       "      <td>204552</td>\n",
       "    </tr>\n",
       "    <tr>\n",
       "      <th>909</th>\n",
       "      <td>611</td>\n",
       "      <td>* Bayesian Modeling with Applications to Clima...</td>\n",
       "      <td>https://ww2.amstat.org/meetings/jsm/2009/onlin...</td>\n",
       "      <td>Section on Bayesian Statistical Science, Secti...</td>\n",
       "      <td>Contributed Papers</td>\n",
       "      <td>204595</td>\n",
       "    </tr>\n",
       "    <tr>\n",
       "      <th>910</th>\n",
       "      <td>604</td>\n",
       "      <td>Reliability and Other Topics</td>\n",
       "      <td>https://ww2.amstat.org/meetings/jsm/2009/onlin...</td>\n",
       "      <td>Section on Quality and Productivity, Section o...</td>\n",
       "      <td>Contributed Papers</td>\n",
       "      <td>204478</td>\n",
       "    </tr>\n",
       "    <tr>\n",
       "      <th>911</th>\n",
       "      <td>605</td>\n",
       "      <td>Dimension Reduction</td>\n",
       "      <td>https://ww2.amstat.org/meetings/jsm/2009/onlin...</td>\n",
       "      <td>Section on Nonparametric Statistics</td>\n",
       "      <td>Contributed Papers</td>\n",
       "      <td>204490</td>\n",
       "    </tr>\n",
       "    <tr>\n",
       "      <th>912</th>\n",
       "      <td>606</td>\n",
       "      <td>ROC Analysis</td>\n",
       "      <td>https://ww2.amstat.org/meetings/jsm/2009/onlin...</td>\n",
       "      <td>Biometrics Section</td>\n",
       "      <td>Contributed Papers</td>\n",
       "      <td>204535</td>\n",
       "    </tr>\n",
       "    <tr>\n",
       "      <th>913</th>\n",
       "      <td>607</td>\n",
       "      <td>FDR and Classification</td>\n",
       "      <td>https://ww2.amstat.org/meetings/jsm/2009/onlin...</td>\n",
       "      <td>Biometrics Section</td>\n",
       "      <td>Contributed Papers</td>\n",
       "      <td>204536</td>\n",
       "    </tr>\n",
       "    <tr>\n",
       "      <th>914</th>\n",
       "      <td>608</td>\n",
       "      <td>Miscellaneous Methodology III</td>\n",
       "      <td>https://ww2.amstat.org/meetings/jsm/2009/onlin...</td>\n",
       "      <td>IMS</td>\n",
       "      <td>Contributed Papers</td>\n",
       "      <td>204537</td>\n",
       "    </tr>\n",
       "    <tr>\n",
       "      <th>915</th>\n",
       "      <td>609</td>\n",
       "      <td>Missing Data and Microarray Analysis</td>\n",
       "      <td>https://ww2.amstat.org/meetings/jsm/2009/onlin...</td>\n",
       "      <td>Biometrics Section</td>\n",
       "      <td>Contributed Papers</td>\n",
       "      <td>204538</td>\n",
       "    </tr>\n",
       "    <tr>\n",
       "      <th>916</th>\n",
       "      <td>576</td>\n",
       "      <td>* Extending the Marginal Structural Model</td>\n",
       "      <td>https://ww2.amstat.org/meetings/jsm/2009/onlin...</td>\n",
       "      <td>Section on Statistics in Epidemiology</td>\n",
       "      <td>Invited Papers</td>\n",
       "      <td>204027</td>\n",
       "    </tr>\n",
       "    <tr>\n",
       "      <th>917</th>\n",
       "      <td>575</td>\n",
       "      <td>* Who Is Teaching the Statistics Courses?</td>\n",
       "      <td>https://ww2.amstat.org/meetings/jsm/2009/onlin...</td>\n",
       "      <td>Section on Statistical Education</td>\n",
       "      <td>Invited Papers</td>\n",
       "      <td>204022</td>\n",
       "    </tr>\n",
       "    <tr>\n",
       "      <th>918</th>\n",
       "      <td>574</td>\n",
       "      <td>* Statistical Issues and the Second Code of Li...</td>\n",
       "      <td>https://ww2.amstat.org/meetings/jsm/2009/onlin...</td>\n",
       "      <td>Biometrics Section, Section on Bayesian Statis...</td>\n",
       "      <td>Invited Papers</td>\n",
       "      <td>204016</td>\n",
       "    </tr>\n",
       "    <tr>\n",
       "      <th>919</th>\n",
       "      <td>585</td>\n",
       "      <td>* ! The Guatemalan Police Archive Project: Sam...</td>\n",
       "      <td>https://ww2.amstat.org/meetings/jsm/2009/onlin...</td>\n",
       "      <td>Social Statistics Section, Section on Governme...</td>\n",
       "      <td>Topic Contributed Papers</td>\n",
       "      <td>204017</td>\n",
       "    </tr>\n",
       "    <tr>\n",
       "      <th>920</th>\n",
       "      <td>573</td>\n",
       "      <td>* ! Nonparametric Regression Estimators in Sur...</td>\n",
       "      <td>https://ww2.amstat.org/meetings/jsm/2009/onlin...</td>\n",
       "      <td>Section on Survey Research Methods</td>\n",
       "      <td>Invited Papers</td>\n",
       "      <td>204014</td>\n",
       "    </tr>\n",
       "    <tr>\n",
       "      <th>921</th>\n",
       "      <td>577</td>\n",
       "      <td>* ! Collaborative and Value-Creating Processes...</td>\n",
       "      <td>https://ww2.amstat.org/meetings/jsm/2009/onlin...</td>\n",
       "      <td>Section on Statistical Computing, Interface Fo...</td>\n",
       "      <td>Invited Papers</td>\n",
       "      <td>204104</td>\n",
       "    </tr>\n",
       "    <tr>\n",
       "      <th>922</th>\n",
       "      <td>587</td>\n",
       "      <td>Methods, Computing, and Application of Copulas</td>\n",
       "      <td>https://ww2.amstat.org/meetings/jsm/2009/onlin...</td>\n",
       "      <td>Business and Economic Statistics Section, SSC</td>\n",
       "      <td>Topic Contributed Papers</td>\n",
       "      <td>204118</td>\n",
       "    </tr>\n",
       "    <tr>\n",
       "      <th>923</th>\n",
       "      <td>586</td>\n",
       "      <td>Recent Advances in Statistical Inference Using...</td>\n",
       "      <td>https://ww2.amstat.org/meetings/jsm/2009/onlin...</td>\n",
       "      <td>International Chinese Statistical Association</td>\n",
       "      <td>Topic Contributed Papers</td>\n",
       "      <td>204099</td>\n",
       "    </tr>\n",
       "    <tr>\n",
       "      <th>924</th>\n",
       "      <td>584</td>\n",
       "      <td>* ! The Federal Statistical System: Opportunit...</td>\n",
       "      <td>https://ww2.amstat.org/meetings/jsm/2009/onlin...</td>\n",
       "      <td>The National Academies, Section on Survey Rese...</td>\n",
       "      <td>Invited Panel</td>\n",
       "      <td>204157</td>\n",
       "    </tr>\n",
       "    <tr>\n",
       "      <th>925</th>\n",
       "      <td>578</td>\n",
       "      <td>* ! Measuring Financial and Real Sector Linkages</td>\n",
       "      <td>https://ww2.amstat.org/meetings/jsm/2009/onlin...</td>\n",
       "      <td>Business and Economic Statistics Section</td>\n",
       "      <td>Invited Papers</td>\n",
       "      <td>204147</td>\n",
       "    </tr>\n",
       "    <tr>\n",
       "      <th>926</th>\n",
       "      <td>588</td>\n",
       "      <td>! Data User Experience: Working with Data Prot...</td>\n",
       "      <td>https://ww2.amstat.org/meetings/jsm/2009/onlin...</td>\n",
       "      <td>Section on Government Statistics, Section on S...</td>\n",
       "      <td>Topic Contributed Papers</td>\n",
       "      <td>204151</td>\n",
       "    </tr>\n",
       "    <tr>\n",
       "      <th>927</th>\n",
       "      <td>589</td>\n",
       "      <td>* Statistical Consulting with Limited Resources</td>\n",
       "      <td>https://ww2.amstat.org/meetings/jsm/2009/onlin...</td>\n",
       "      <td>Section on Statistical Consulting</td>\n",
       "      <td>Topic Contributed Papers</td>\n",
       "      <td>204173</td>\n",
       "    </tr>\n",
       "    <tr>\n",
       "      <th>928</th>\n",
       "      <td>579</td>\n",
       "      <td>* ! Using National Center for Health Statistic...</td>\n",
       "      <td>https://ww2.amstat.org/meetings/jsm/2009/onlin...</td>\n",
       "      <td>Section on Health Policy Statistics, Section o...</td>\n",
       "      <td>Invited Papers</td>\n",
       "      <td>204184</td>\n",
       "    </tr>\n",
       "    <tr>\n",
       "      <th>929</th>\n",
       "      <td>598</td>\n",
       "      <td>Topics in Quality and Productivity</td>\n",
       "      <td>https://ww2.amstat.org/meetings/jsm/2009/onlin...</td>\n",
       "      <td>Section on Quality and Productivity</td>\n",
       "      <td>Contributed Papers</td>\n",
       "      <td>204182</td>\n",
       "    </tr>\n",
       "    <tr>\n",
       "      <th>930</th>\n",
       "      <td>580</td>\n",
       "      <td>Best of Statistics Surveys: The Open Access Jo...</td>\n",
       "      <td>https://ww2.amstat.org/meetings/jsm/2009/onlin...</td>\n",
       "      <td>ASA Special Interest Group on Statistical Lear...</td>\n",
       "      <td>Invited Papers</td>\n",
       "      <td>204219</td>\n",
       "    </tr>\n",
       "    <tr>\n",
       "      <th>931</th>\n",
       "      <td>581</td>\n",
       "      <td>* ! Case Studies in the Area of Dynamic Treatm...</td>\n",
       "      <td>https://ww2.amstat.org/meetings/jsm/2009/onlin...</td>\n",
       "      <td>ENAR, Biometrics Section, Biopharmaceutical Se...</td>\n",
       "      <td>Invited Papers</td>\n",
       "      <td>204230</td>\n",
       "    </tr>\n",
       "    <tr>\n",
       "      <th>932</th>\n",
       "      <td>597</td>\n",
       "      <td>* What Can I Do with an Undergraduate Degree i...</td>\n",
       "      <td>https://ww2.amstat.org/meetings/jsm/2009/onlin...</td>\n",
       "      <td>ASA-MAA Joint Committee on Undergraduate Stati...</td>\n",
       "      <td>Topic Contributed Panel</td>\n",
       "      <td>204202</td>\n",
       "    </tr>\n",
       "    <tr>\n",
       "      <th>933</th>\n",
       "      <td>590</td>\n",
       "      <td>* ! Statistics at West Point: No Lies</td>\n",
       "      <td>https://ww2.amstat.org/meetings/jsm/2009/onlin...</td>\n",
       "      <td>Section on Statistics in Defense and National ...</td>\n",
       "      <td>Topic Contributed Papers</td>\n",
       "      <td>204197</td>\n",
       "    </tr>\n",
       "  </tbody>\n",
       "</table>\n",
       "<p>653 rows × 6 columns</p>\n",
       "</div>"
      ],
      "text/plain": [
       "    Session_No                                      Session_Title  \\\n",
       "14      CE_01C             Analysis of Multivariate Survival Data   \n",
       "15      CE_02C  Missing Data in Longitudinal Studies: Strategi...   \n",
       "16      CE_03C  Design of Experiments: New Methods and How to ...   \n",
       "17      CE_04C  Longitudinal Data Analysis: Semiparametric and...   \n",
       "18      CE_05C  The Analysis of Cross-Classified Categorical Data   \n",
       "19      CE_06C  Applied Statistical Genetics for Population-Ba...   \n",
       "20      CE_07C                     Active Control Clinical Trials   \n",
       "40      CE_01C             Analysis of Multivariate Survival Data   \n",
       "41      CE_08C  New Developments of Traditional Multivariate A...   \n",
       "42      CE_09C                          Semiparametric Regression   \n",
       "43      CE_10C  Tolerance Intervals: Theory, Applications, and...   \n",
       "44      CE_11C   Model-Based Survey Sampling: Theory and Practice   \n",
       "45      CE_12C  Hierarchical Modeling and Analysis of Spatial-...   \n",
       "46      CE_13C              Models for Discrete Repeated Measures   \n",
       "65          38             Labor Markets and Firm Competitiveness   \n",
       "66          21  Building Emulators for Computer Models: Interf...   \n",
       "67          39  * ! Estimation Issues in Surveys of Employment...   \n",
       "68          20  Machine Learning--Based Causal Inference: Towa...   \n",
       "69          37          * Bayesian Diagnostics and Dynamic Models   \n",
       "70          23  * ! Guiding Young Professionals to Be Successf...   \n",
       "71          33             Variance Estimation in Complex Surveys   \n",
       "72          34  * Statistical Methods for Modeling Infectious ...   \n",
       "73          17  * Propensity Scores and Bayesian Methods for H...   \n",
       "74          35  Statistical Methods for Modeling Populations i...   \n",
       "75          36  Modern Computation in Experimental Design and ...   \n",
       "76          18  * ! Hot Research Projects: A Taste of the Futu...   \n",
       "77          19  The Impact of Mode and Other Factors on Data Q...   \n",
       "78          11                            IMS Medallion Lecture I   \n",
       "79          24  Variable Selection and Missing Data Methods fo...   \n",
       "80          25  Meta-Analysis, Sensitivity Analysis, and Laten...   \n",
       "..         ...                                                ...   \n",
       "904        602            Resampling and Random Number Generation   \n",
       "905        594  * ! Modern Statistical Approaches to Phylogene...   \n",
       "906        593       * ! Bayesian Philosophies and Practicalities   \n",
       "907        592  Statistical Topics in the Study of Medical Dev...   \n",
       "908        610      Default, Multivariate Risk, and Copula Models   \n",
       "909        611  * Bayesian Modeling with Applications to Clima...   \n",
       "910        604                       Reliability and Other Topics   \n",
       "911        605                                Dimension Reduction   \n",
       "912        606                                       ROC Analysis   \n",
       "913        607                             FDR and Classification   \n",
       "914        608                      Miscellaneous Methodology III   \n",
       "915        609               Missing Data and Microarray Analysis   \n",
       "916        576          * Extending the Marginal Structural Model   \n",
       "917        575          * Who Is Teaching the Statistics Courses?   \n",
       "918        574  * Statistical Issues and the Second Code of Li...   \n",
       "919        585  * ! The Guatemalan Police Archive Project: Sam...   \n",
       "920        573  * ! Nonparametric Regression Estimators in Sur...   \n",
       "921        577  * ! Collaborative and Value-Creating Processes...   \n",
       "922        587     Methods, Computing, and Application of Copulas   \n",
       "923        586  Recent Advances in Statistical Inference Using...   \n",
       "924        584  * ! The Federal Statistical System: Opportunit...   \n",
       "925        578   * ! Measuring Financial and Real Sector Linkages   \n",
       "926        588  ! Data User Experience: Working with Data Prot...   \n",
       "927        589    * Statistical Consulting with Limited Resources   \n",
       "928        579  * ! Using National Center for Health Statistic...   \n",
       "929        598                 Topics in Quality and Productivity   \n",
       "930        580  Best of Statistics Surveys: The Open Access Jo...   \n",
       "931        581  * ! Case Studies in the Area of Dynamic Treatm...   \n",
       "932        597  * What Can I Do with an Undergraduate Degree i...   \n",
       "933        590              * ! Statistics at West Point: No Lies   \n",
       "\n",
       "                                           Session_URL  \\\n",
       "14   https://ww2.amstat.org/meetings/jsm/2009/onlin...   \n",
       "15   https://ww2.amstat.org/meetings/jsm/2009/onlin...   \n",
       "16   https://ww2.amstat.org/meetings/jsm/2009/onlin...   \n",
       "17   https://ww2.amstat.org/meetings/jsm/2009/onlin...   \n",
       "18   https://ww2.amstat.org/meetings/jsm/2009/onlin...   \n",
       "19   https://ww2.amstat.org/meetings/jsm/2009/onlin...   \n",
       "20   https://ww2.amstat.org/meetings/jsm/2009/onlin...   \n",
       "40   https://ww2.amstat.org/meetings/jsm/2009/onlin...   \n",
       "41   https://ww2.amstat.org/meetings/jsm/2009/onlin...   \n",
       "42   https://ww2.amstat.org/meetings/jsm/2009/onlin...   \n",
       "43   https://ww2.amstat.org/meetings/jsm/2009/onlin...   \n",
       "44   https://ww2.amstat.org/meetings/jsm/2009/onlin...   \n",
       "45   https://ww2.amstat.org/meetings/jsm/2009/onlin...   \n",
       "46   https://ww2.amstat.org/meetings/jsm/2009/onlin...   \n",
       "65   https://ww2.amstat.org/meetings/jsm/2009/onlin...   \n",
       "66   https://ww2.amstat.org/meetings/jsm/2009/onlin...   \n",
       "67   https://ww2.amstat.org/meetings/jsm/2009/onlin...   \n",
       "68   https://ww2.amstat.org/meetings/jsm/2009/onlin...   \n",
       "69   https://ww2.amstat.org/meetings/jsm/2009/onlin...   \n",
       "70   https://ww2.amstat.org/meetings/jsm/2009/onlin...   \n",
       "71   https://ww2.amstat.org/meetings/jsm/2009/onlin...   \n",
       "72   https://ww2.amstat.org/meetings/jsm/2009/onlin...   \n",
       "73   https://ww2.amstat.org/meetings/jsm/2009/onlin...   \n",
       "74   https://ww2.amstat.org/meetings/jsm/2009/onlin...   \n",
       "75   https://ww2.amstat.org/meetings/jsm/2009/onlin...   \n",
       "76   https://ww2.amstat.org/meetings/jsm/2009/onlin...   \n",
       "77   https://ww2.amstat.org/meetings/jsm/2009/onlin...   \n",
       "78   https://ww2.amstat.org/meetings/jsm/2009/onlin...   \n",
       "79   https://ww2.amstat.org/meetings/jsm/2009/onlin...   \n",
       "80   https://ww2.amstat.org/meetings/jsm/2009/onlin...   \n",
       "..                                                 ...   \n",
       "904  https://ww2.amstat.org/meetings/jsm/2009/onlin...   \n",
       "905  https://ww2.amstat.org/meetings/jsm/2009/onlin...   \n",
       "906  https://ww2.amstat.org/meetings/jsm/2009/onlin...   \n",
       "907  https://ww2.amstat.org/meetings/jsm/2009/onlin...   \n",
       "908  https://ww2.amstat.org/meetings/jsm/2009/onlin...   \n",
       "909  https://ww2.amstat.org/meetings/jsm/2009/onlin...   \n",
       "910  https://ww2.amstat.org/meetings/jsm/2009/onlin...   \n",
       "911  https://ww2.amstat.org/meetings/jsm/2009/onlin...   \n",
       "912  https://ww2.amstat.org/meetings/jsm/2009/onlin...   \n",
       "913  https://ww2.amstat.org/meetings/jsm/2009/onlin...   \n",
       "914  https://ww2.amstat.org/meetings/jsm/2009/onlin...   \n",
       "915  https://ww2.amstat.org/meetings/jsm/2009/onlin...   \n",
       "916  https://ww2.amstat.org/meetings/jsm/2009/onlin...   \n",
       "917  https://ww2.amstat.org/meetings/jsm/2009/onlin...   \n",
       "918  https://ww2.amstat.org/meetings/jsm/2009/onlin...   \n",
       "919  https://ww2.amstat.org/meetings/jsm/2009/onlin...   \n",
       "920  https://ww2.amstat.org/meetings/jsm/2009/onlin...   \n",
       "921  https://ww2.amstat.org/meetings/jsm/2009/onlin...   \n",
       "922  https://ww2.amstat.org/meetings/jsm/2009/onlin...   \n",
       "923  https://ww2.amstat.org/meetings/jsm/2009/onlin...   \n",
       "924  https://ww2.amstat.org/meetings/jsm/2009/onlin...   \n",
       "925  https://ww2.amstat.org/meetings/jsm/2009/onlin...   \n",
       "926  https://ww2.amstat.org/meetings/jsm/2009/onlin...   \n",
       "927  https://ww2.amstat.org/meetings/jsm/2009/onlin...   \n",
       "928  https://ww2.amstat.org/meetings/jsm/2009/onlin...   \n",
       "929  https://ww2.amstat.org/meetings/jsm/2009/onlin...   \n",
       "930  https://ww2.amstat.org/meetings/jsm/2009/onlin...   \n",
       "931  https://ww2.amstat.org/meetings/jsm/2009/onlin...   \n",
       "932  https://ww2.amstat.org/meetings/jsm/2009/onlin...   \n",
       "933  https://ww2.amstat.org/meetings/jsm/2009/onlin...   \n",
       "\n",
       "                                              Sponsors  \\\n",
       "14                                                 ASA   \n",
       "15                             ASA, Biometrics Section   \n",
       "16            ASA, Section on Quality and Productivity   \n",
       "17                             ASA, Biometrics Section   \n",
       "18             ASA, Section on Survey Research Methods   \n",
       "19          ASA, Section on Statistics in Epidemiology   \n",
       "20                                                 ASA   \n",
       "40                                                 ASA   \n",
       "41                                                 ASA   \n",
       "42                                                 ASA   \n",
       "43   ASA, Section on Physical and Engineering Sciences   \n",
       "44             ASA, Section on Survey Research Methods   \n",
       "45        ASA, Section on Bayesian Statistical Science   \n",
       "46                                                 ASA   \n",
       "65            Business and Economic Statistics Section   \n",
       "66   Section on Physical and Engineering Sciences, ...   \n",
       "67   Section on Survey Research Methods, Section on...   \n",
       "68               Section on Statistics in Epidemiology   \n",
       "69             Section on Bayesian Statistical Science   \n",
       "70   Committee on Career Development, Section on Go...   \n",
       "71                  Section on Survey Research Methods   \n",
       "72               Section on Statistics in Epidemiology   \n",
       "73   Biopharmaceutical Section, Section on Statisti...   \n",
       "74           Section on Statistics and the Environment   \n",
       "75   Section on Statistical Computing, Interface Fo...   \n",
       "76   Section on Government Statistics, Section on S...   \n",
       "77                  Section on Survey Research Methods   \n",
       "78                                                 IMS   \n",
       "79   Biometrics Section, Section on Bayesian Statis...   \n",
       "80   Biometrics Section, Section on Bayesian Statis...   \n",
       "..                                                 ...   \n",
       "904  Section on Statistical Computing, Interface Fo...   \n",
       "905            Section on Bayesian Statistical Science   \n",
       "906            Section on Bayesian Statistical Science   \n",
       "907                          Biopharmaceutical Section   \n",
       "908           Business and Economic Statistics Section   \n",
       "909  Section on Bayesian Statistical Science, Secti...   \n",
       "910  Section on Quality and Productivity, Section o...   \n",
       "911                Section on Nonparametric Statistics   \n",
       "912                                 Biometrics Section   \n",
       "913                                 Biometrics Section   \n",
       "914                                                IMS   \n",
       "915                                 Biometrics Section   \n",
       "916              Section on Statistics in Epidemiology   \n",
       "917                   Section on Statistical Education   \n",
       "918  Biometrics Section, Section on Bayesian Statis...   \n",
       "919  Social Statistics Section, Section on Governme...   \n",
       "920                 Section on Survey Research Methods   \n",
       "921  Section on Statistical Computing, Interface Fo...   \n",
       "922      Business and Economic Statistics Section, SSC   \n",
       "923      International Chinese Statistical Association   \n",
       "924  The National Academies, Section on Survey Rese...   \n",
       "925           Business and Economic Statistics Section   \n",
       "926  Section on Government Statistics, Section on S...   \n",
       "927                  Section on Statistical Consulting   \n",
       "928  Section on Health Policy Statistics, Section o...   \n",
       "929                Section on Quality and Productivity   \n",
       "930  ASA Special Interest Group on Statistical Lear...   \n",
       "931  ENAR, Biometrics Section, Biopharmaceutical Se...   \n",
       "932  ASA-MAA Joint Committee on Undergraduate Stati...   \n",
       "933  Section on Statistics in Defense and National ...   \n",
       "\n",
       "                         Type Session_ID  \n",
       "14                  CE Course     204609  \n",
       "15                  CE Course     204611  \n",
       "16                  CE Course     204612  \n",
       "17                  CE Course     204613  \n",
       "18                  CE Course     204614  \n",
       "19                  CE Course     204615  \n",
       "20                  CE Course     204616  \n",
       "40                  CE Course     204610  \n",
       "41                  CE Course     204617  \n",
       "42                  CE Course     204618  \n",
       "43                  CE Course     204619  \n",
       "44                  CE Course     204620  \n",
       "45                  CE Course     204621  \n",
       "46                  CE Course     204622  \n",
       "65         Contributed Papers     204558  \n",
       "66   Topic Contributed Papers     204587  \n",
       "67         Contributed Papers     204591  \n",
       "68   Topic Contributed Papers     204476  \n",
       "69         Contributed Papers     204517  \n",
       "70    Topic Contributed Panel     204352  \n",
       "71         Contributed Papers     204378  \n",
       "72         Contributed Papers     204388  \n",
       "73   Topic Contributed Papers     204415  \n",
       "74         Contributed Papers     204397  \n",
       "75         Contributed Papers     204434  \n",
       "76   Topic Contributed Papers     204455  \n",
       "77   Topic Contributed Papers     204464  \n",
       "78             Invited Papers     204256  \n",
       "79         Contributed Papers     204277  \n",
       "80         Contributed Papers     204278  \n",
       "..                        ...        ...  \n",
       "904        Contributed Papers     204436  \n",
       "905  Topic Contributed Papers     204437  \n",
       "906  Topic Contributed Papers     204433  \n",
       "907  Topic Contributed Papers     204419  \n",
       "908        Contributed Papers     204552  \n",
       "909        Contributed Papers     204595  \n",
       "910        Contributed Papers     204478  \n",
       "911        Contributed Papers     204490  \n",
       "912        Contributed Papers     204535  \n",
       "913        Contributed Papers     204536  \n",
       "914        Contributed Papers     204537  \n",
       "915        Contributed Papers     204538  \n",
       "916            Invited Papers     204027  \n",
       "917            Invited Papers     204022  \n",
       "918            Invited Papers     204016  \n",
       "919  Topic Contributed Papers     204017  \n",
       "920            Invited Papers     204014  \n",
       "921            Invited Papers     204104  \n",
       "922  Topic Contributed Papers     204118  \n",
       "923  Topic Contributed Papers     204099  \n",
       "924             Invited Panel     204157  \n",
       "925            Invited Papers     204147  \n",
       "926  Topic Contributed Papers     204151  \n",
       "927  Topic Contributed Papers     204173  \n",
       "928            Invited Papers     204184  \n",
       "929        Contributed Papers     204182  \n",
       "930            Invited Papers     204219  \n",
       "931            Invited Papers     204230  \n",
       "932   Topic Contributed Panel     204202  \n",
       "933  Topic Contributed Papers     204197  \n",
       "\n",
       "[653 rows x 6 columns]"
      ]
     },
     "execution_count": 60,
     "metadata": {},
     "output_type": "execute_result"
    }
   ],
   "source": [
    "df[df['Session_No'].apply(lambda x: bool(re.search(r'(?<!\\d)\\d{1,3}(?!\\d)',x)))]"
   ]
  },
  {
   "cell_type": "code",
   "execution_count": 132,
   "metadata": {
    "collapsed": false
   },
   "outputs": [
    {
     "data": {
      "text/plain": [
       "'https://ww2.amstat.org/meetings/jsm/2009/onlineprogram/index.cfm?fuseaction=activity_details&sessionid=204843'"
      ]
     },
     "execution_count": 132,
     "metadata": {},
     "output_type": "execute_result"
    }
   ],
   "source": [
    "test = df['Session_URL'].iloc[1]\n",
    "test"
   ]
  },
  {
   "cell_type": "code",
   "execution_count": 133,
   "metadata": {
    "collapsed": true
   },
   "outputs": [],
   "source": [
    "r = requests.get(test)\n",
    "soup = BeautifulSoup(r.text, 'lxml')"
   ]
  },
  {
   "cell_type": "markdown",
   "metadata": {},
   "source": [
    "# Run Code to extract workshops and abstract_urls"
   ]
  },
  {
   "cell_type": "code",
   "execution_count": 80,
   "metadata": {
    "collapsed": true
   },
   "outputs": [],
   "source": [
    "# dataframe of abstracts to scrape with new urls\n",
    "session_url = []\n",
    "abstract_url = []\n",
    "abstract_title = []\n",
    "session_no_v2 = []\n",
    "\n",
    "#dataframe of abstracts already written in the session\n",
    "workshop_abstract = []\n",
    "workshop_session_no = []\n",
    "workshop_session_url = []\n",
    "\n",
    "for link in session_linkToAbstract:\n",
    "    r = requests.get(link)\n",
    "    soup = BeautifulSoup(r.text, 'lxml')\n",
    "    \n",
    "    # extract abstract titles and links\n",
    "    abstract_links = [item.get('href') for item in soup.find_all('a') if re.search('abstract_details', str(item.get('href')))]\n",
    "    \n",
    "    if len(abstract_links) == 0:\n",
    "        try:\n",
    "            abstract_workshop = re.sub(r'(\\n|\\r|\\t)', '', soup.find_all('tr')[9].text)\n",
    "            id_no = soup.find_all('tr')[5].find('strong').text.strip()\n",
    "\n",
    "            workshop_abstract.append(abstract_workshop)\n",
    "            workshop_session_no.append(id_no)\n",
    "            workshop_session_url.append(link)\n",
    "        except:\n",
    "            continue\n",
    "    \n",
    "    else:\n",
    "        abstract_titles = [item.text for item in soup.find_all('a') \n",
    "            if re.search('abstract_details', str(item.get('href')))]\n",
    "\n",
    "        # map back to session id and original link for later joining\n",
    "        session_ids = [soup.find_all('tr')[5].find('strong').text] * len(abstract_links)\n",
    "        original_link = [link] * len(abstract_links)\n",
    "\n",
    "        # create list of \n",
    "        session_url = session_url + original_link\n",
    "        abstract_url = abstract_url + abstract_links\n",
    "        abstract_title = abstract_title + abstract_titles\n",
    "        session_no_v2 = session_no_v2 + session_ids\n",
    "\n",
    "    "
   ]
  },
  {
   "cell_type": "code",
   "execution_count": 81,
   "metadata": {
    "collapsed": false
   },
   "outputs": [
    {
     "data": {
      "text/plain": [
       "True"
      ]
     },
     "execution_count": 81,
     "metadata": {},
     "output_type": "execute_result"
    }
   ],
   "source": [
    "len(session_url) == len(abstract_url) == len(abstract_title) == len(session_no_v2)"
   ]
  },
  {
   "cell_type": "code",
   "execution_count": 82,
   "metadata": {
    "collapsed": false
   },
   "outputs": [
    {
     "data": {
      "text/plain": [
       "2821"
      ]
     },
     "execution_count": 82,
     "metadata": {},
     "output_type": "execute_result"
    }
   ],
   "source": [
    "len(session_url)"
   ]
  },
  {
   "cell_type": "code",
   "execution_count": 83,
   "metadata": {
    "collapsed": false
   },
   "outputs": [
    {
     "data": {
      "text/plain": [
       "True"
      ]
     },
     "execution_count": 83,
     "metadata": {},
     "output_type": "execute_result"
    }
   ],
   "source": [
    "len(workshop_abstract) == len(workshop_session_no) == len(workshop_session_url)"
   ]
  },
  {
   "cell_type": "code",
   "execution_count": 84,
   "metadata": {
    "collapsed": false
   },
   "outputs": [
    {
     "data": {
      "text/plain": [
       "270"
      ]
     },
     "execution_count": 84,
     "metadata": {},
     "output_type": "execute_result"
    }
   ],
   "source": [
    "len(workshop_abstract)"
   ]
  },
  {
   "cell_type": "code",
   "execution_count": 85,
   "metadata": {
    "collapsed": false
   },
   "outputs": [],
   "source": [
    "df_abstracts = pd.DataFrame({'Session_URL': session_url,\n",
    "                            'Abstract_URL' : abstract_url,\n",
    "                            'Abstract_Title': abstract_title,\n",
    "                            'Session_No_v2': session_no_v2})"
   ]
  },
  {
   "cell_type": "code",
   "execution_count": 86,
   "metadata": {
    "collapsed": true
   },
   "outputs": [],
   "source": [
    "df_abstracts['Session_ID'] = df_abstracts['Session_URL'].apply(lambda x: re.sub(r'https\\S+((\\d){6})', r'\\1', x))\n",
    "df_abstracts['Abstract_URL'] = df_abstracts['Abstract_URL'].apply(lambda x: url + x)"
   ]
  },
  {
   "cell_type": "code",
   "execution_count": 87,
   "metadata": {
    "collapsed": false
   },
   "outputs": [
    {
     "data": {
      "text/html": [
       "<div>\n",
       "<table border=\"1\" class=\"dataframe\">\n",
       "  <thead>\n",
       "    <tr style=\"text-align: right;\">\n",
       "      <th></th>\n",
       "      <th>Abstract_Title</th>\n",
       "      <th>Abstract_URL</th>\n",
       "      <th>Session_No_v2</th>\n",
       "      <th>Session_URL</th>\n",
       "      <th>Session_ID</th>\n",
       "    </tr>\n",
       "  </thead>\n",
       "  <tbody>\n",
       "    <tr>\n",
       "      <th>0</th>\n",
       "      <td>A Wavelet Analysis of the Role of Volatility i...</td>\n",
       "      <td>https://ww2.amstat.org/meetings/jsm/2009/onlin...</td>\n",
       "      <td>38</td>\n",
       "      <td>https://ww2.amstat.org/meetings/jsm/2009/onlin...</td>\n",
       "      <td>204558</td>\n",
       "    </tr>\n",
       "  </tbody>\n",
       "</table>\n",
       "</div>"
      ],
      "text/plain": [
       "                                      Abstract_Title  \\\n",
       "0  A Wavelet Analysis of the Role of Volatility i...   \n",
       "\n",
       "                                        Abstract_URL Session_No_v2  \\\n",
       "0  https://ww2.amstat.org/meetings/jsm/2009/onlin...            38   \n",
       "\n",
       "                                         Session_URL Session_ID  \n",
       "0  https://ww2.amstat.org/meetings/jsm/2009/onlin...     204558  "
      ]
     },
     "execution_count": 87,
     "metadata": {},
     "output_type": "execute_result"
    }
   ],
   "source": [
    "df_abstracts.head(1)"
   ]
  },
  {
   "cell_type": "code",
   "execution_count": 88,
   "metadata": {
    "collapsed": true
   },
   "outputs": [],
   "source": [
    "df_workshops = pd.DataFrame({'Session_No': workshop_session_no,\n",
    "                            'Abstract_Text': workshop_abstract,\n",
    "                            'Session_URL': workshop_session_url})\n"
   ]
  },
  {
   "cell_type": "code",
   "execution_count": 89,
   "metadata": {
    "collapsed": false
   },
   "outputs": [],
   "source": [
    "df_workshops['Session_ID']= df_workshops['Session_URL'].apply(lambda x:re.sub(r'https\\S+((\\d){6})', r'\\1', x))\n",
    "df_workshops = df_workshops[df_workshops['Abstract_Text'].str.contains('Organizer\\(s\\)|Chair\\(s\\)') == False]"
   ]
  },
  {
   "cell_type": "code",
   "execution_count": 90,
   "metadata": {
    "collapsed": false
   },
   "outputs": [
    {
     "data": {
      "text/html": [
       "<div>\n",
       "<table border=\"1\" class=\"dataframe\">\n",
       "  <thead>\n",
       "    <tr style=\"text-align: right;\">\n",
       "      <th></th>\n",
       "      <th>Abstract_Text</th>\n",
       "      <th>Session_No</th>\n",
       "      <th>Session_URL</th>\n",
       "      <th>Session_ID</th>\n",
       "    </tr>\n",
       "  </thead>\n",
       "  <tbody>\n",
       "    <tr>\n",
       "      <th>0</th>\n",
       "      <td></td>\n",
       "      <td>,  -</td>\n",
       "      <td>https://ww2.amstat.org/meetings/jsm/2009/onlin...</td>\n",
       "      <td>204907</td>\n",
       "    </tr>\n",
       "    <tr>\n",
       "      <th>1</th>\n",
       "      <td>JSM 2009For information, contact jsm@amstat.or...</td>\n",
       "      <td>Thu, 7/30/09, 7:00 PM - 9:00 PM</td>\n",
       "      <td>https://ww2.amstat.org/meetings/jsm/2009/onlin...</td>\n",
       "      <td>204843</td>\n",
       "    </tr>\n",
       "    <tr>\n",
       "      <th>2</th>\n",
       "      <td>JSM 2009For information, contact jsm@amstat.or...</td>\n",
       "      <td>Fri, 7/31/09, 7:30 AM - 8:30 AM</td>\n",
       "      <td>https://ww2.amstat.org/meetings/jsm/2009/onlin...</td>\n",
       "      <td>204842</td>\n",
       "    </tr>\n",
       "  </tbody>\n",
       "</table>\n",
       "</div>"
      ],
      "text/plain": [
       "                                       Abstract_Text  \\\n",
       "0                                                      \n",
       "1  JSM 2009For information, contact jsm@amstat.or...   \n",
       "2  JSM 2009For information, contact jsm@amstat.or...   \n",
       "\n",
       "                        Session_No  \\\n",
       "0                             ,  -   \n",
       "1  Thu, 7/30/09, 7:00 PM - 9:00 PM   \n",
       "2  Fri, 7/31/09, 7:30 AM - 8:30 AM   \n",
       "\n",
       "                                         Session_URL Session_ID  \n",
       "0  https://ww2.amstat.org/meetings/jsm/2009/onlin...     204907  \n",
       "1  https://ww2.amstat.org/meetings/jsm/2009/onlin...     204843  \n",
       "2  https://ww2.amstat.org/meetings/jsm/2009/onlin...     204842  "
      ]
     },
     "execution_count": 90,
     "metadata": {},
     "output_type": "execute_result"
    }
   ],
   "source": [
    "df_workshops.head(3)"
   ]
  },
  {
   "cell_type": "code",
   "execution_count": 92,
   "metadata": {
    "collapsed": false,
    "scrolled": true
   },
   "outputs": [],
   "source": [
    "df_abstracts.drop_duplicates(subset = 'Abstract_URL', inplace = True)\n",
    "df_abstracts.reset_index(drop = True, inplace = True)"
   ]
  },
  {
   "cell_type": "code",
   "execution_count": 97,
   "metadata": {
    "collapsed": true
   },
   "outputs": [],
   "source": [
    "df_abstracts.to_excel(r'{}\\2009Abstracts.xlsx'.format(dest))\n",
    "df_workshops.to_excel(r'{}\\2009Workshops.xlsx'.format(dest))"
   ]
  },
  {
   "cell_type": "markdown",
   "metadata": {},
   "source": [
    "# Test extraction of abstract info here"
   ]
  },
  {
   "cell_type": "code",
   "execution_count": 98,
   "metadata": {
    "collapsed": false
   },
   "outputs": [
    {
     "data": {
      "text/plain": [
       "'https://ww2.amstat.org/meetings/jsm/2009/onlineprogram/index.cfm?fuseaction=abstract_details&abstractid=303586'"
      ]
     },
     "execution_count": 98,
     "metadata": {},
     "output_type": "execute_result"
    }
   ],
   "source": [
    "test = df_abstracts['Abstract_URL'].iloc[0]\n",
    "test"
   ]
  },
  {
   "cell_type": "code",
   "execution_count": 99,
   "metadata": {
    "collapsed": true
   },
   "outputs": [],
   "source": [
    "r = requests.get(test)\n",
    "soup = BeautifulSoup(r.text, 'lxml')"
   ]
  },
  {
   "cell_type": "code",
   "execution_count": 106,
   "metadata": {
    "collapsed": false,
    "scrolled": true
   },
   "outputs": [
    {
     "data": {
      "text/plain": [
       "'Much recent work has documented and sought to explain declining macroeconomic volatility in the U.S. since the mid-1980s, known as The Great Moderation. One popular avenue of research has attempted to link this decline to advances in inventory management. In this paper we make use of wavelet statistical methods to further investigate this link. Using a specialized version of a discrete wavelet transform allows decomposition of the variance of a time series, as well as the covariance between series, on a scale by scale basis. We apply these methods to monthly data on aggregate inventories and sales in the manufacturing sector as well as the durable and nondurable goods subsectors. Initial results support findings of changes in volatility for sales and output growth taking place in the 1980s, but provide little evidence of reduced inventory growth volatilities playing a significant role. '"
      ]
     },
     "execution_count": 106,
     "metadata": {},
     "output_type": "execute_result"
    }
   ],
   "source": [
    "re.sub(r'\\r|\\n|\\t', '', soup.find_all('tr')[14].find('p').text)"
   ]
  },
  {
   "cell_type": "markdown",
   "metadata": {},
   "source": [
    "# Code to extract abstract details from abstract URLs"
   ]
  },
  {
   "cell_type": "code",
   "execution_count": 107,
   "metadata": {
    "collapsed": false
   },
   "outputs": [],
   "source": [
    "abs_num = []\n",
    "abs_keyword = []\n",
    "abs_type = []\n",
    "abs_text = []\n",
    "\n",
    "for link in df_abstracts['Abstract_URL']:\n",
    "    r = requests.get(link)\n",
    "    soup = BeautifulSoup(r.text, 'lxml')\n",
    "    \n",
    "    # abstract number\n",
    "    try:\n",
    "        number = re.sub(r'\\S+abstractid=(\\d+)', r'\\1', link)\n",
    "        abs_num.append(number)\n",
    "    except:\n",
    "        abs_num.append(None)\n",
    "    \n",
    "    # abstract keywords\n",
    "    try:\n",
    "        keywords = [item.text for item in soup.find_all('a') if re.search('keyword', str(item.get('href')))]\n",
    "        keywords = ', '.join(keywords)\n",
    "        abs_keyword.append(keywords)\n",
    "    except:\n",
    "        abs_keyword.append(None)\n",
    "        \n",
    "    \n",
    "    # abstract type\n",
    "    try:\n",
    "        talk_type = re.sub(r'Type:|\\n|\\r|\\t', '', soup.find_all('tr')[5].text)\n",
    "        abs_type.append(talk_type)\n",
    "    except:\n",
    "        abs_type.append(None)\n",
    "    \n",
    "    # abstract text\n",
    "    try:\n",
    "        abstract_text = re.sub(r'\\r|\\n|\\t', '', soup.find_all('tr')[14].find('p').text)\n",
    "        abs_text.append(abstract_text)\n",
    "    except:\n",
    "        abs_text.append(None)\n",
    "    "
   ]
  },
  {
   "cell_type": "code",
   "execution_count": 108,
   "metadata": {
    "collapsed": true
   },
   "outputs": [],
   "source": [
    "df_abstracts['Abstract_ID'] = abs_num\n",
    "df_abstracts['Abstract_Keywords'] = abs_keyword\n",
    "df_abstracts['Abstract_Type'] = abs_type\n",
    "df_abstracts['Abstract_Text'] = abs_text"
   ]
  },
  {
   "cell_type": "code",
   "execution_count": 109,
   "metadata": {
    "collapsed": true
   },
   "outputs": [],
   "source": [
    "df_abstracts.to_excel(r'{}\\2009Abstracts.xlsx'.format(dest))"
   ]
  },
  {
   "cell_type": "code",
   "execution_count": 111,
   "metadata": {
    "collapsed": false,
    "scrolled": true
   },
   "outputs": [
    {
     "data": {
      "text/html": [
       "<div>\n",
       "<table border=\"1\" class=\"dataframe\">\n",
       "  <thead>\n",
       "    <tr style=\"text-align: right;\">\n",
       "      <th></th>\n",
       "      <th>Abstract_Title</th>\n",
       "      <th>Abstract_URL</th>\n",
       "      <th>Session_No_v2</th>\n",
       "      <th>Session_URL</th>\n",
       "      <th>Session_ID</th>\n",
       "      <th>Abstract_ID</th>\n",
       "      <th>Abstract_Keywords</th>\n",
       "      <th>Abstract_Type</th>\n",
       "      <th>Abstract_Text</th>\n",
       "    </tr>\n",
       "  </thead>\n",
       "  <tbody>\n",
       "    <tr>\n",
       "      <th>0</th>\n",
       "      <td>A Wavelet Analysis of the Role of Volatility i...</td>\n",
       "      <td>https://ww2.amstat.org/meetings/jsm/2009/onlin...</td>\n",
       "      <td>38</td>\n",
       "      <td>https://ww2.amstat.org/meetings/jsm/2009/onlin...</td>\n",
       "      <td>204558</td>\n",
       "      <td>303586</td>\n",
       "      <td>volatility, output growth, wavelet, inventorie...</td>\n",
       "      <td>Contributed</td>\n",
       "      <td>Much recent work has documented and sought to ...</td>\n",
       "    </tr>\n",
       "  </tbody>\n",
       "</table>\n",
       "</div>"
      ],
      "text/plain": [
       "                                      Abstract_Title  \\\n",
       "0  A Wavelet Analysis of the Role of Volatility i...   \n",
       "\n",
       "                                        Abstract_URL Session_No_v2  \\\n",
       "0  https://ww2.amstat.org/meetings/jsm/2009/onlin...            38   \n",
       "\n",
       "                                         Session_URL Session_ID Abstract_ID  \\\n",
       "0  https://ww2.amstat.org/meetings/jsm/2009/onlin...     204558      303586   \n",
       "\n",
       "                                   Abstract_Keywords Abstract_Type  \\\n",
       "0  volatility, output growth, wavelet, inventorie...   Contributed   \n",
       "\n",
       "                                       Abstract_Text  \n",
       "0  Much recent work has documented and sought to ...  "
      ]
     },
     "execution_count": 111,
     "metadata": {},
     "output_type": "execute_result"
    }
   ],
   "source": [
    "df_abstracts.head(1)"
   ]
  },
  {
   "cell_type": "code",
   "execution_count": 112,
   "metadata": {
    "collapsed": false
   },
   "outputs": [],
   "source": [
    "df_details = df_workshops.append(df_abstracts)"
   ]
  },
  {
   "cell_type": "code",
   "execution_count": 113,
   "metadata": {
    "collapsed": false
   },
   "outputs": [
    {
     "data": {
      "text/html": [
       "<div>\n",
       "<table border=\"1\" class=\"dataframe\">\n",
       "  <thead>\n",
       "    <tr style=\"text-align: right;\">\n",
       "      <th></th>\n",
       "      <th>Session_No</th>\n",
       "      <th>Session_Title</th>\n",
       "      <th>Session_URL</th>\n",
       "      <th>Sponsors</th>\n",
       "      <th>Type</th>\n",
       "      <th>Session_ID</th>\n",
       "    </tr>\n",
       "  </thead>\n",
       "  <tbody>\n",
       "  </tbody>\n",
       "</table>\n",
       "</div>"
      ],
      "text/plain": [
       "Empty DataFrame\n",
       "Columns: [Session_No, Session_Title, Session_URL, Sponsors, Type, Session_ID]\n",
       "Index: []"
      ]
     },
     "execution_count": 113,
     "metadata": {},
     "output_type": "execute_result"
    }
   ],
   "source": [
    "df.head(0)"
   ]
  },
  {
   "cell_type": "code",
   "execution_count": 114,
   "metadata": {
    "collapsed": false
   },
   "outputs": [],
   "source": [
    "df_final = df_details.merge(df[['Session_Title', 'Sponsors', 'Type', 'Session_ID']], on = 'Session_ID', how= 'outer')"
   ]
  },
  {
   "cell_type": "code",
   "execution_count": 115,
   "metadata": {
    "collapsed": false
   },
   "outputs": [],
   "source": [
    "df_final['Unique'] = df_final['Session_ID'].map(str) + df_final['Abstract_ID'].map(str)"
   ]
  },
  {
   "cell_type": "code",
   "execution_count": 116,
   "metadata": {
    "collapsed": true
   },
   "outputs": [],
   "source": [
    "df_final.drop_duplicates(subset= 'Unique', inplace = True)\n",
    "df_final.reset_index(drop = True, inplace = True)"
   ]
  },
  {
   "cell_type": "code",
   "execution_count": 145,
   "metadata": {
    "collapsed": false
   },
   "outputs": [],
   "source": [
    "df_final['Session_No'] = df_final['Session_No'].apply(lambda x: x if bool(str(x).startswith('CE') or str(x)[0].isdigit()) else \"\")"
   ]
  },
  {
   "cell_type": "code",
   "execution_count": 151,
   "metadata": {
    "collapsed": true
   },
   "outputs": [],
   "source": [
    "df_final['Session_No_Keep'] = df_final['Session_No_v2'].combine_first(df_final['Session_No'])"
   ]
  },
  {
   "cell_type": "code",
   "execution_count": 154,
   "metadata": {
    "collapsed": false
   },
   "outputs": [],
   "source": [
    "del df_final['Session_No']\n",
    "del df_final['Session_No_v2']"
   ]
  },
  {
   "cell_type": "code",
   "execution_count": 157,
   "metadata": {
    "collapsed": false
   },
   "outputs": [],
   "source": [
    "df_final.rename(columns = {'Session_No_Keep': 'Session_No'}, inplace=True)"
   ]
  },
  {
   "cell_type": "code",
   "execution_count": 158,
   "metadata": {
    "collapsed": false
   },
   "outputs": [],
   "source": [
    "new_dest = r'C:\\Users\\Thaunga\\Scripts\\02. Presentations\\JSM\\Final Data'\n",
    "df_final.to_excel(r'{}\\2009_JSM_data.xlsx'.format(new_dest))"
   ]
  },
  {
   "cell_type": "code",
   "execution_count": null,
   "metadata": {
    "collapsed": true
   },
   "outputs": [],
   "source": []
  }
 ],
 "metadata": {
  "kernelspec": {
   "display_name": "Python 3",
   "language": "python",
   "name": "python3"
  },
  "language_info": {
   "codemirror_mode": {
    "name": "ipython",
    "version": 3
   },
   "file_extension": ".py",
   "mimetype": "text/x-python",
   "name": "python",
   "nbconvert_exporter": "python",
   "pygments_lexer": "ipython3",
   "version": "3.5.2"
  }
 },
 "nbformat": 4,
 "nbformat_minor": 2
}
