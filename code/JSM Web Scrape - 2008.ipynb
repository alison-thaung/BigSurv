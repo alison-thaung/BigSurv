{
 "cells": [
  {
   "cell_type": "markdown",
   "metadata": {},
   "source": [
    "# I. Import Needed Libraries"
   ]
  },
  {
   "cell_type": "markdown",
   "metadata": {},
   "source": [
    "Selenium: accesses and controls web browser to submit search and locate web elements by xpath\n",
    "\n",
    "CSV: reads and writes CSV files\n",
    "\n",
    "re: regular expression for pattern matching\n",
    "\n",
    "requests: makes HTTP requests\n",
    "\n",
    "BeautifulSoup:parses HTML\n",
    "\n",
    "pandas: data analysis library to manage dataframes\n"
   ]
  },
  {
   "cell_type": "code",
   "execution_count": 1,
   "metadata": {
    "collapsed": false
   },
   "outputs": [
    {
     "name": "stdout",
     "output_type": "stream",
     "text": [
      "The history saving thread hit an unexpected error (DatabaseError('database disk image is malformed',)).History will not be written to the database.\n"
     ]
    }
   ],
   "source": [
    "from selenium import webdriver\n",
    "from selenium.webdriver.support.ui import Select\n",
    "from selenium.webdriver.common.by import By\n",
    "from selenium.webdriver.support.ui import WebDriverWait\n",
    "from selenium.webdriver.support import expected_conditions as EC\n",
    "\n",
    "import csv, re, requests\n",
    "from bs4 import BeautifulSoup\n",
    "import pandas as pd"
   ]
  },
  {
   "cell_type": "markdown",
   "metadata": {},
   "source": [
    "# II. Instantiate Browser Object "
   ]
  },
  {
   "cell_type": "code",
   "execution_count": 2,
   "metadata": {
    "collapsed": false
   },
   "outputs": [],
   "source": [
    "url = 'https://ww2.amstat.org/meetings/jsm/2008/onlineprogram/'\n",
    "\n",
    "# chromedriver needs to be in exectuable path or you need to map to where your chromedriver is\n",
    "browser = webdriver.Chrome()\n",
    "browser.get(url)\n"
   ]
  },
  {
   "cell_type": "markdown",
   "metadata": {},
   "source": [
    "# III. Navigate through webpage and scrape objects"
   ]
  },
  {
   "cell_type": "markdown",
   "metadata": {},
   "source": [
    "### Creat xpaths for needed items"
   ]
  },
  {
   "cell_type": "code",
   "execution_count": 3,
   "metadata": {
    "collapsed": true
   },
   "outputs": [],
   "source": [
    "xpath_search = '/html/body/table[2]/tbody/tr[2]/td/form/div/input[6]'\n",
    "xpath_session = '//tr//td[1]//a[contains(@href, \"activity_details\")]'\n",
    "xpath_titles = '//tr//td[2]'\n",
    "xpath_sponsors = '//tbody//tr//td[3]'\n",
    "xpath_type = '//tbody//tr/td[4]'"
   ]
  },
  {
   "cell_type": "markdown",
   "metadata": {},
   "source": [
    "### Click search with empty fields"
   ]
  },
  {
   "cell_type": "code",
   "execution_count": 4,
   "metadata": {
    "collapsed": true
   },
   "outputs": [],
   "source": [
    "# wouldn't click on this page so had to execute script instead of standard click() method\n",
    "element = browser.find_element_by_xpath(xpath_search)\n",
    "browser.execute_script(\"arguments[0].click();\", element)\n",
    "\n",
    "\n",
    "# browser.find_element_by_xpath(xpath_search).click()\n",
    "# wait = WebDriverWait(browser, 30)\n",
    "# wait.until(EC.presence_of_element_located((By.XPATH, xpath_search)))\n",
    "# browser.find_element_by_xpath(xpath_search).click()"
   ]
  },
  {
   "cell_type": "markdown",
   "metadata": {},
   "source": [
    "### Create lists of each field needed"
   ]
  },
  {
   "cell_type": "code",
   "execution_count": 15,
   "metadata": {
    "collapsed": false
   },
   "outputs": [],
   "source": [
    "sessions = [item.text for item in browser.find_elements_by_xpath(xpath_session) if 'Session' not in item.text]\n",
    "titles = [item.text for item in browser.find_elements_by_xpath(xpath_titles) if item.text != \"Title\"]\n",
    "sponsors = [item.text.replace('\\n', ', ') for item in browser.find_elements_by_xpath(xpath_sponsors) \n",
    "            if item.text != 'Sponsor']\n",
    "session_type = [re.sub(r'(\\n|\\r|\\t)', ' ', item.text) for item in browser.find_elements_by_xpath(xpath_type) \n",
    "                if item.text != \"Type\" ]\n",
    "session_linkToAbstract = [item.get_attribute('href') for item in browser.find_elements_by_xpath(xpath_session)]\n"
   ]
  },
  {
   "cell_type": "code",
   "execution_count": 16,
   "metadata": {
    "collapsed": false
   },
   "outputs": [
    {
     "data": {
      "text/plain": [
       "True"
      ]
     },
     "execution_count": 16,
     "metadata": {},
     "output_type": "execute_result"
    }
   ],
   "source": [
    "len(sessions) == len(titles) == len(sponsors) == len(session_linkToAbstract)"
   ]
  },
  {
   "cell_type": "code",
   "execution_count": 17,
   "metadata": {
    "collapsed": true
   },
   "outputs": [],
   "source": [
    "df = pd.DataFrame({'Session_No' : sessions,\n",
    "                   'Session_Title' : titles,\n",
    "                   'Sponsors': sponsors,\n",
    "                   'Type': session_type,\n",
    "                   'Session_URL': session_linkToAbstract                   \n",
    "                  })"
   ]
  },
  {
   "cell_type": "code",
   "execution_count": 18,
   "metadata": {
    "collapsed": true
   },
   "outputs": [],
   "source": [
    "df['Session_ID'] = df['Session_URL'].apply(lambda x: re.sub(r'https\\S+((\\d){6})', r'\\1', x))"
   ]
  },
  {
   "cell_type": "code",
   "execution_count": 19,
   "metadata": {
    "collapsed": false
   },
   "outputs": [
    {
     "data": {
      "text/html": [
       "<div>\n",
       "<table border=\"1\" class=\"dataframe\">\n",
       "  <thead>\n",
       "    <tr style=\"text-align: right;\">\n",
       "      <th></th>\n",
       "      <th>Session_No</th>\n",
       "      <th>Session_Title</th>\n",
       "      <th>Session_URL</th>\n",
       "      <th>Sponsors</th>\n",
       "      <th>Type</th>\n",
       "      <th>Session_ID</th>\n",
       "    </tr>\n",
       "  </thead>\n",
       "  <tbody>\n",
       "    <tr>\n",
       "      <th>0</th>\n",
       "      <td>203802</td>\n",
       "      <td>ASA Board of Directors Executive Committee Wor...</td>\n",
       "      <td>https://ww2.amstat.org/meetings/jsm/2008/onlin...</td>\n",
       "      <td>ASA Board of Directors</td>\n",
       "      <td>Other Cmte/Business</td>\n",
       "      <td>203802</td>\n",
       "    </tr>\n",
       "  </tbody>\n",
       "</table>\n",
       "</div>"
      ],
      "text/plain": [
       "  Session_No                                      Session_Title  \\\n",
       "0     203802  ASA Board of Directors Executive Committee Wor...   \n",
       "\n",
       "                                         Session_URL                Sponsors  \\\n",
       "0  https://ww2.amstat.org/meetings/jsm/2008/onlin...  ASA Board of Directors   \n",
       "\n",
       "                  Type Session_ID  \n",
       "0  Other Cmte/Business     203802  "
      ]
     },
     "execution_count": 19,
     "metadata": {},
     "output_type": "execute_result"
    }
   ],
   "source": [
    "df.head(1)"
   ]
  },
  {
   "cell_type": "code",
   "execution_count": 20,
   "metadata": {
    "collapsed": false
   },
   "outputs": [],
   "source": [
    "df.drop_duplicates(subset = 'Session_URL', inplace = True)\n",
    "df.reset_index(inplace = True, drop= True)"
   ]
  },
  {
   "cell_type": "code",
   "execution_count": 21,
   "metadata": {
    "collapsed": false
   },
   "outputs": [],
   "source": [
    "dest = r'C:\\Users\\Thaunga\\Scripts\\02. Presentations\\JSM\\Datasets'\n",
    "df.to_excel(r'{}\\2008Sessions.xlsx'.format(dest))"
   ]
  },
  {
   "cell_type": "markdown",
   "metadata": {},
   "source": [
    "# Test Code for this year's object locations (xpaths)"
   ]
  },
  {
   "cell_type": "code",
   "execution_count": 22,
   "metadata": {
    "collapsed": false
   },
   "outputs": [
    {
     "data": {
      "text/html": [
       "<div>\n",
       "<table border=\"1\" class=\"dataframe\">\n",
       "  <thead>\n",
       "    <tr style=\"text-align: right;\">\n",
       "      <th></th>\n",
       "      <th>Session_No</th>\n",
       "      <th>Session_Title</th>\n",
       "      <th>Session_URL</th>\n",
       "      <th>Sponsors</th>\n",
       "      <th>Type</th>\n",
       "      <th>Session_ID</th>\n",
       "    </tr>\n",
       "  </thead>\n",
       "  <tbody>\n",
       "    <tr>\n",
       "      <th>16</th>\n",
       "      <td>CE_02C</td>\n",
       "      <td>Genetic and Microarray Data Analysis</td>\n",
       "      <td>https://ww2.amstat.org/meetings/jsm/2008/onlin...</td>\n",
       "      <td>ASA</td>\n",
       "      <td>CE Course</td>\n",
       "      <td>203571</td>\n",
       "    </tr>\n",
       "    <tr>\n",
       "      <th>17</th>\n",
       "      <td>CE_03C</td>\n",
       "      <td>Optimal Experimental Designs</td>\n",
       "      <td>https://ww2.amstat.org/meetings/jsm/2008/onlin...</td>\n",
       "      <td>ASA, Section on Physical and Engineering Sciences</td>\n",
       "      <td>CE Course</td>\n",
       "      <td>203572</td>\n",
       "    </tr>\n",
       "    <tr>\n",
       "      <th>18</th>\n",
       "      <td>CE_04C</td>\n",
       "      <td>Regression Modeling Strategies</td>\n",
       "      <td>https://ww2.amstat.org/meetings/jsm/2008/onlin...</td>\n",
       "      <td>ASA</td>\n",
       "      <td>CE Course</td>\n",
       "      <td>203573</td>\n",
       "    </tr>\n",
       "    <tr>\n",
       "      <th>19</th>\n",
       "      <td>CE_05C</td>\n",
       "      <td>Hot Topics in Clinical Trials</td>\n",
       "      <td>https://ww2.amstat.org/meetings/jsm/2008/onlin...</td>\n",
       "      <td>Section on Teaching Statistics in the Health S...</td>\n",
       "      <td>CE Course</td>\n",
       "      <td>203574</td>\n",
       "    </tr>\n",
       "    <tr>\n",
       "      <th>20</th>\n",
       "      <td>CE_06C</td>\n",
       "      <td>Successful Data Mining in Practice</td>\n",
       "      <td>https://ww2.amstat.org/meetings/jsm/2008/onlin...</td>\n",
       "      <td>ASA</td>\n",
       "      <td>CE Course</td>\n",
       "      <td>203575</td>\n",
       "    </tr>\n",
       "    <tr>\n",
       "      <th>21</th>\n",
       "      <td>CE_01C</td>\n",
       "      <td>Generalized Linear Mixed Models: Theory and Ap...</td>\n",
       "      <td>https://ww2.amstat.org/meetings/jsm/2008/onlin...</td>\n",
       "      <td>ASA</td>\n",
       "      <td>CE Course</td>\n",
       "      <td>203553</td>\n",
       "    </tr>\n",
       "    <tr>\n",
       "      <th>39</th>\n",
       "      <td>CE_07C</td>\n",
       "      <td>Design and Analysis of Epidemiologic Studies o...</td>\n",
       "      <td>https://ww2.amstat.org/meetings/jsm/2008/onlin...</td>\n",
       "      <td>ASA, Section on Statistics in Epidemiology</td>\n",
       "      <td>CE Course</td>\n",
       "      <td>203576</td>\n",
       "    </tr>\n",
       "    <tr>\n",
       "      <th>41</th>\n",
       "      <td>CE_08C</td>\n",
       "      <td>Modern Practical Bayesian Clinical Trial Design</td>\n",
       "      <td>https://ww2.amstat.org/meetings/jsm/2008/onlin...</td>\n",
       "      <td>ASA, Section on Bayesian Statistical Science</td>\n",
       "      <td>CE Course</td>\n",
       "      <td>203577</td>\n",
       "    </tr>\n",
       "    <tr>\n",
       "      <th>42</th>\n",
       "      <td>CE_09C</td>\n",
       "      <td>Statistical Challenges in Proteomics</td>\n",
       "      <td>https://ww2.amstat.org/meetings/jsm/2008/onlin...</td>\n",
       "      <td>ASA, Biometrics Section</td>\n",
       "      <td>CE Course</td>\n",
       "      <td>203578</td>\n",
       "    </tr>\n",
       "    <tr>\n",
       "      <th>43</th>\n",
       "      <td>CE_10C</td>\n",
       "      <td>Systematically Improving Your Professional Pra...</td>\n",
       "      <td>https://ww2.amstat.org/meetings/jsm/2008/onlin...</td>\n",
       "      <td>Committee on Career Development, ASA</td>\n",
       "      <td>CE Course</td>\n",
       "      <td>203579</td>\n",
       "    </tr>\n",
       "    <tr>\n",
       "      <th>44</th>\n",
       "      <td>CE_11C</td>\n",
       "      <td>Principles of Statistical Design</td>\n",
       "      <td>https://ww2.amstat.org/meetings/jsm/2008/onlin...</td>\n",
       "      <td>ASA</td>\n",
       "      <td>CE Course</td>\n",
       "      <td>203580</td>\n",
       "    </tr>\n",
       "    <tr>\n",
       "      <th>45</th>\n",
       "      <td>CE_01C</td>\n",
       "      <td>Generalized Linear Mixed Models: Theory and Ap...</td>\n",
       "      <td>https://ww2.amstat.org/meetings/jsm/2008/onlin...</td>\n",
       "      <td>ASA</td>\n",
       "      <td>CE Course</td>\n",
       "      <td>203570</td>\n",
       "    </tr>\n",
       "    <tr>\n",
       "      <th>58</th>\n",
       "      <td>CE_12C</td>\n",
       "      <td>Sampling in Networks</td>\n",
       "      <td>https://ww2.amstat.org/meetings/jsm/2008/onlin...</td>\n",
       "      <td>Section on Survey Research Methods, ASA</td>\n",
       "      <td>CE Course</td>\n",
       "      <td>203581</td>\n",
       "    </tr>\n",
       "    <tr>\n",
       "      <th>64</th>\n",
       "      <td>34</td>\n",
       "      <td>* ! Issues Related to the Design of Clinical T...</td>\n",
       "      <td>https://ww2.amstat.org/meetings/jsm/2008/onlin...</td>\n",
       "      <td>Biopharmaceutical Section, Biometrics Section</td>\n",
       "      <td>Contributed Papers</td>\n",
       "      <td>203518</td>\n",
       "    </tr>\n",
       "    <tr>\n",
       "      <th>65</th>\n",
       "      <td>19</td>\n",
       "      <td>* Methodological Challenges Encountered at the...</td>\n",
       "      <td>https://ww2.amstat.org/meetings/jsm/2008/onlin...</td>\n",
       "      <td>Section on Statistics in Epidemiology, Section...</td>\n",
       "      <td>Topic Contributed Papers</td>\n",
       "      <td>203435</td>\n",
       "    </tr>\n",
       "    <tr>\n",
       "      <th>66</th>\n",
       "      <td>29</td>\n",
       "      <td>Applications in Health Promotion</td>\n",
       "      <td>https://ww2.amstat.org/meetings/jsm/2008/onlin...</td>\n",
       "      <td>Section on Health Policy Statistics, Section o...</td>\n",
       "      <td>Contributed Papers</td>\n",
       "      <td>203440</td>\n",
       "    </tr>\n",
       "    <tr>\n",
       "      <th>67</th>\n",
       "      <td>30</td>\n",
       "      <td>* ! Bayesian Models and Methods for Spatial an...</td>\n",
       "      <td>https://ww2.amstat.org/meetings/jsm/2008/onlin...</td>\n",
       "      <td>Section on Bayesian Statistical Science, Secti...</td>\n",
       "      <td>Contributed Papers</td>\n",
       "      <td>203447</td>\n",
       "    </tr>\n",
       "    <tr>\n",
       "      <th>68</th>\n",
       "      <td>20</td>\n",
       "      <td>* Data-Driven Methods on Survey Data</td>\n",
       "      <td>https://ww2.amstat.org/meetings/jsm/2008/onlin...</td>\n",
       "      <td>Section on Survey Research Methods, Section on...</td>\n",
       "      <td>Topic Contributed Papers</td>\n",
       "      <td>203461</td>\n",
       "    </tr>\n",
       "    <tr>\n",
       "      <th>69</th>\n",
       "      <td>31</td>\n",
       "      <td>Statistical Methods for Clinical Trials I</td>\n",
       "      <td>https://ww2.amstat.org/meetings/jsm/2008/onlin...</td>\n",
       "      <td>Biometrics Section, Biopharmaceutical Section</td>\n",
       "      <td>Contributed Papers</td>\n",
       "      <td>203474</td>\n",
       "    </tr>\n",
       "    <tr>\n",
       "      <th>70</th>\n",
       "      <td>32</td>\n",
       "      <td>* Methods in Statistical Genomics</td>\n",
       "      <td>https://ww2.amstat.org/meetings/jsm/2008/onlin...</td>\n",
       "      <td>ENAR, WNAR, Biometrics Section</td>\n",
       "      <td>Contributed Papers</td>\n",
       "      <td>203480</td>\n",
       "    </tr>\n",
       "    <tr>\n",
       "      <th>71</th>\n",
       "      <td>33</td>\n",
       "      <td>Likelihood-Based Methodology</td>\n",
       "      <td>https://ww2.amstat.org/meetings/jsm/2008/onlin...</td>\n",
       "      <td>Biometrics Section, Section on Nonparametric S...</td>\n",
       "      <td>Contributed Papers</td>\n",
       "      <td>203484</td>\n",
       "    </tr>\n",
       "    <tr>\n",
       "      <th>72</th>\n",
       "      <td>23</td>\n",
       "      <td>* Linear Modeling Methods for Education Statis...</td>\n",
       "      <td>https://ww2.amstat.org/meetings/jsm/2008/onlin...</td>\n",
       "      <td>Social Statistics Section, Section on Survey R...</td>\n",
       "      <td>Contributed Papers</td>\n",
       "      <td>203252</td>\n",
       "    </tr>\n",
       "    <tr>\n",
       "      <th>73</th>\n",
       "      <td>24</td>\n",
       "      <td>Psychometrics and Latent Class Analysis</td>\n",
       "      <td>https://ww2.amstat.org/meetings/jsm/2008/onlin...</td>\n",
       "      <td>Section on Survey Research Methods, Section on...</td>\n",
       "      <td>Contributed Papers</td>\n",
       "      <td>203254</td>\n",
       "    </tr>\n",
       "    <tr>\n",
       "      <th>74</th>\n",
       "      <td>21</td>\n",
       "      <td>! An Overview of K--16 Poster and Project Comp...</td>\n",
       "      <td>https://ww2.amstat.org/meetings/jsm/2008/onlin...</td>\n",
       "      <td>Section on Statistical Education</td>\n",
       "      <td>Topic Contributed Panel</td>\n",
       "      <td>203283</td>\n",
       "    </tr>\n",
       "    <tr>\n",
       "      <th>75</th>\n",
       "      <td>13</td>\n",
       "      <td>* Model-Based Inference and Gene Expression Ap...</td>\n",
       "      <td>https://ww2.amstat.org/meetings/jsm/2008/onlin...</td>\n",
       "      <td>Biometrics Section, Biopharmaceutical Section,...</td>\n",
       "      <td>Topic Contributed Papers</td>\n",
       "      <td>203304</td>\n",
       "    </tr>\n",
       "    <tr>\n",
       "      <th>76</th>\n",
       "      <td>25</td>\n",
       "      <td>* Spatial Variation and Risk Factors for Disease</td>\n",
       "      <td>https://ww2.amstat.org/meetings/jsm/2008/onlin...</td>\n",
       "      <td>Section on Statistics in Epidemiology, Section...</td>\n",
       "      <td>Contributed Papers</td>\n",
       "      <td>203307</td>\n",
       "    </tr>\n",
       "    <tr>\n",
       "      <th>77</th>\n",
       "      <td>26</td>\n",
       "      <td>* Applications of Survival Time Models</td>\n",
       "      <td>https://ww2.amstat.org/meetings/jsm/2008/onlin...</td>\n",
       "      <td>Section on Statistics in Epidemiology, Section...</td>\n",
       "      <td>Contributed Papers</td>\n",
       "      <td>203311</td>\n",
       "    </tr>\n",
       "    <tr>\n",
       "      <th>78</th>\n",
       "      <td>14</td>\n",
       "      <td>Study Design Issues in Medical Device Clinical...</td>\n",
       "      <td>https://ww2.amstat.org/meetings/jsm/2008/onlin...</td>\n",
       "      <td>Biopharmaceutical Section, WNAR, Biometrics Se...</td>\n",
       "      <td>Topic Contributed Papers</td>\n",
       "      <td>203319</td>\n",
       "    </tr>\n",
       "    <tr>\n",
       "      <th>79</th>\n",
       "      <td>15</td>\n",
       "      <td>Time Series I: Seasonal Adjustment</td>\n",
       "      <td>https://ww2.amstat.org/meetings/jsm/2008/onlin...</td>\n",
       "      <td>Business and Economics Statistics Section</td>\n",
       "      <td>Topic Contributed Papers</td>\n",
       "      <td>203323</td>\n",
       "    </tr>\n",
       "    <tr>\n",
       "      <th>80</th>\n",
       "      <td>27</td>\n",
       "      <td>Topics in Statistical Testing</td>\n",
       "      <td>https://ww2.amstat.org/meetings/jsm/2008/onlin...</td>\n",
       "      <td>IMS, Section on Nonparametric Statistics</td>\n",
       "      <td>Contributed Papers</td>\n",
       "      <td>203333</td>\n",
       "    </tr>\n",
       "    <tr>\n",
       "      <th>...</th>\n",
       "      <td>...</td>\n",
       "      <td>...</td>\n",
       "      <td>...</td>\n",
       "      <td>...</td>\n",
       "      <td>...</td>\n",
       "      <td>...</td>\n",
       "    </tr>\n",
       "    <tr>\n",
       "      <th>810</th>\n",
       "      <td>518</td>\n",
       "      <td>Improving the Quality of Survey Data</td>\n",
       "      <td>https://ww2.amstat.org/meetings/jsm/2008/onlin...</td>\n",
       "      <td>Section on Government Statistics, Section on S...</td>\n",
       "      <td>Contributed Papers</td>\n",
       "      <td>203445</td>\n",
       "    </tr>\n",
       "    <tr>\n",
       "      <th>811</th>\n",
       "      <td>520</td>\n",
       "      <td>Statistical Methods for QTL Mapping and Tiling...</td>\n",
       "      <td>https://ww2.amstat.org/meetings/jsm/2008/onlin...</td>\n",
       "      <td>Biometrics Section</td>\n",
       "      <td>Contributed Papers</td>\n",
       "      <td>203507</td>\n",
       "    </tr>\n",
       "    <tr>\n",
       "      <th>812</th>\n",
       "      <td>521</td>\n",
       "      <td>Methods for Integration of Genomic Data</td>\n",
       "      <td>https://ww2.amstat.org/meetings/jsm/2008/onlin...</td>\n",
       "      <td>Biometrics Section</td>\n",
       "      <td>Contributed Papers</td>\n",
       "      <td>203511</td>\n",
       "    </tr>\n",
       "    <tr>\n",
       "      <th>813</th>\n",
       "      <td>519</td>\n",
       "      <td>The Internet, Telecommunications, and Migration</td>\n",
       "      <td>https://ww2.amstat.org/meetings/jsm/2008/onlin...</td>\n",
       "      <td>Business and Economics Statistics Section</td>\n",
       "      <td>Contributed Papers</td>\n",
       "      <td>203496</td>\n",
       "    </tr>\n",
       "    <tr>\n",
       "      <th>814</th>\n",
       "      <td>506</td>\n",
       "      <td>* ! Surveys and Administrative Records: Data C...</td>\n",
       "      <td>https://ww2.amstat.org/meetings/jsm/2008/onlin...</td>\n",
       "      <td>Section on Survey Research Methods, Section on...</td>\n",
       "      <td>Topic Contributed Papers</td>\n",
       "      <td>203465</td>\n",
       "    </tr>\n",
       "    <tr>\n",
       "      <th>815</th>\n",
       "      <td>507</td>\n",
       "      <td>How To Publish Your Book with the ASA-SIAM Ser...</td>\n",
       "      <td>https://ww2.amstat.org/meetings/jsm/2008/onlin...</td>\n",
       "      <td>Section on Statistical Education</td>\n",
       "      <td>Topic Contributed Panel</td>\n",
       "      <td>203287</td>\n",
       "    </tr>\n",
       "    <tr>\n",
       "      <th>816</th>\n",
       "      <td>512</td>\n",
       "      <td>Linear Model Extensions and Related Multivaria...</td>\n",
       "      <td>https://ww2.amstat.org/meetings/jsm/2008/onlin...</td>\n",
       "      <td>Biometrics Section</td>\n",
       "      <td>Contributed Papers</td>\n",
       "      <td>203288</td>\n",
       "    </tr>\n",
       "    <tr>\n",
       "      <th>817</th>\n",
       "      <td>511</td>\n",
       "      <td>Analytic Methods with Noncontinuous Outcomes</td>\n",
       "      <td>https://ww2.amstat.org/meetings/jsm/2008/onlin...</td>\n",
       "      <td>Section on Survey Research Methods, Section on...</td>\n",
       "      <td>Contributed Papers</td>\n",
       "      <td>203280</td>\n",
       "    </tr>\n",
       "    <tr>\n",
       "      <th>818</th>\n",
       "      <td>500</td>\n",
       "      <td>* Hypothesis Testing in Neuroimaging</td>\n",
       "      <td>https://ww2.amstat.org/meetings/jsm/2008/onlin...</td>\n",
       "      <td>Biometrics Section, Biopharmaceutical Section,...</td>\n",
       "      <td>Topic Contributed Papers</td>\n",
       "      <td>203300</td>\n",
       "    </tr>\n",
       "    <tr>\n",
       "      <th>819</th>\n",
       "      <td>508</td>\n",
       "      <td>* Causal Inference and Factor Analysis in the ...</td>\n",
       "      <td>https://ww2.amstat.org/meetings/jsm/2008/onlin...</td>\n",
       "      <td>Social Statistics Section, Section on Governme...</td>\n",
       "      <td>Contributed Papers</td>\n",
       "      <td>203251</td>\n",
       "    </tr>\n",
       "    <tr>\n",
       "      <th>820</th>\n",
       "      <td>509</td>\n",
       "      <td>Clinical Trials Methodology</td>\n",
       "      <td>https://ww2.amstat.org/meetings/jsm/2008/onlin...</td>\n",
       "      <td>Biometrics Section, Section on Nonparametric S...</td>\n",
       "      <td>Contributed Papers</td>\n",
       "      <td>203262</td>\n",
       "    </tr>\n",
       "    <tr>\n",
       "      <th>821</th>\n",
       "      <td>510</td>\n",
       "      <td>Model-Based Estimation</td>\n",
       "      <td>https://ww2.amstat.org/meetings/jsm/2008/onlin...</td>\n",
       "      <td>Section on Survey Research Methods, Section on...</td>\n",
       "      <td>Contributed Papers</td>\n",
       "      <td>203273</td>\n",
       "    </tr>\n",
       "    <tr>\n",
       "      <th>822</th>\n",
       "      <td>503</td>\n",
       "      <td>* Bayesian Applications</td>\n",
       "      <td>https://ww2.amstat.org/meetings/jsm/2008/onlin...</td>\n",
       "      <td>Section on Bayesian Statistical Science</td>\n",
       "      <td>Topic Contributed Papers</td>\n",
       "      <td>203344</td>\n",
       "    </tr>\n",
       "    <tr>\n",
       "      <th>823</th>\n",
       "      <td>515</td>\n",
       "      <td>Inspection, Capability, and Classification Ana...</td>\n",
       "      <td>https://ww2.amstat.org/meetings/jsm/2008/onlin...</td>\n",
       "      <td>Section on Quality and Productivity, Section o...</td>\n",
       "      <td>Contributed Papers</td>\n",
       "      <td>203410</td>\n",
       "    </tr>\n",
       "    <tr>\n",
       "      <th>824</th>\n",
       "      <td>514</td>\n",
       "      <td>Inference</td>\n",
       "      <td>https://ww2.amstat.org/meetings/jsm/2008/onlin...</td>\n",
       "      <td>Section on Statistical Computing</td>\n",
       "      <td>Contributed Papers</td>\n",
       "      <td>203382</td>\n",
       "    </tr>\n",
       "    <tr>\n",
       "      <th>825</th>\n",
       "      <td>504</td>\n",
       "      <td>* ! Applications of Nonparametric Statistics o...</td>\n",
       "      <td>https://ww2.amstat.org/meetings/jsm/2008/onlin...</td>\n",
       "      <td>Section on Nonparametric Statistics, IMS</td>\n",
       "      <td>Topic Contributed Papers</td>\n",
       "      <td>203364</td>\n",
       "    </tr>\n",
       "    <tr>\n",
       "      <th>826</th>\n",
       "      <td>502</td>\n",
       "      <td>Statistical Applications in Business</td>\n",
       "      <td>https://ww2.amstat.org/meetings/jsm/2008/onlin...</td>\n",
       "      <td>Business and Economics Statistics Section</td>\n",
       "      <td>Topic Contributed Papers</td>\n",
       "      <td>203326</td>\n",
       "    </tr>\n",
       "    <tr>\n",
       "      <th>827</th>\n",
       "      <td>501</td>\n",
       "      <td>* Design and Inferences in Multiregional Clini...</td>\n",
       "      <td>https://ww2.amstat.org/meetings/jsm/2008/onlin...</td>\n",
       "      <td>Biopharmaceutical Section, Biometrics Section</td>\n",
       "      <td>Topic Contributed Papers</td>\n",
       "      <td>203312</td>\n",
       "    </tr>\n",
       "    <tr>\n",
       "      <th>828</th>\n",
       "      <td>513</td>\n",
       "      <td>* Linkage Analysis</td>\n",
       "      <td>https://ww2.amstat.org/meetings/jsm/2008/onlin...</td>\n",
       "      <td>Section on Statistics in Epidemiology, Biometr...</td>\n",
       "      <td>Contributed Papers</td>\n",
       "      <td>203318</td>\n",
       "    </tr>\n",
       "    <tr>\n",
       "      <th>829</th>\n",
       "      <td>490</td>\n",
       "      <td>* ! Advanced Modeling in Remote Sensing of the...</td>\n",
       "      <td>https://ww2.amstat.org/meetings/jsm/2008/onlin...</td>\n",
       "      <td>American Geophysical Union, Section on Physica...</td>\n",
       "      <td>Invited Papers</td>\n",
       "      <td>203081</td>\n",
       "    </tr>\n",
       "    <tr>\n",
       "      <th>830</th>\n",
       "      <td>499</td>\n",
       "      <td>! Teaching Introductory Statistics Online</td>\n",
       "      <td>https://ww2.amstat.org/meetings/jsm/2008/onlin...</td>\n",
       "      <td>Section on Statistical Education, Section on T...</td>\n",
       "      <td>Invited Panel</td>\n",
       "      <td>203071</td>\n",
       "    </tr>\n",
       "    <tr>\n",
       "      <th>831</th>\n",
       "      <td>489</td>\n",
       "      <td>! Stochastic Approximation Monte Carlo</td>\n",
       "      <td>https://ww2.amstat.org/meetings/jsm/2008/onlin...</td>\n",
       "      <td>Section on Bayesian Statistical Science, Secti...</td>\n",
       "      <td>Invited Papers</td>\n",
       "      <td>203056</td>\n",
       "    </tr>\n",
       "    <tr>\n",
       "      <th>832</th>\n",
       "      <td>493</td>\n",
       "      <td>Global Maximization in EM-Type Algorithms</td>\n",
       "      <td>https://ww2.amstat.org/meetings/jsm/2008/onlin...</td>\n",
       "      <td>Section on Statistical Computing, Section on B...</td>\n",
       "      <td>Invited Papers</td>\n",
       "      <td>203133</td>\n",
       "    </tr>\n",
       "    <tr>\n",
       "      <th>833</th>\n",
       "      <td>492</td>\n",
       "      <td>* Radiation Exposure Effects Research: Moving ...</td>\n",
       "      <td>https://ww2.amstat.org/meetings/jsm/2008/onlin...</td>\n",
       "      <td>Section on Statistics in Epidemiology, Section...</td>\n",
       "      <td>Invited Papers</td>\n",
       "      <td>203126</td>\n",
       "    </tr>\n",
       "    <tr>\n",
       "      <th>834</th>\n",
       "      <td>491</td>\n",
       "      <td>* Nutrition Surveys: Challenges in Design and ...</td>\n",
       "      <td>https://ww2.amstat.org/meetings/jsm/2008/onlin...</td>\n",
       "      <td>SSC, Section on Survey Research Methods, Socia...</td>\n",
       "      <td>Invited Papers</td>\n",
       "      <td>203098</td>\n",
       "    </tr>\n",
       "    <tr>\n",
       "      <th>835</th>\n",
       "      <td>496</td>\n",
       "      <td>* Statistical Methods and Applications of Soci...</td>\n",
       "      <td>https://ww2.amstat.org/meetings/jsm/2008/onlin...</td>\n",
       "      <td>Section on Health Policy Statistics, Section o...</td>\n",
       "      <td>Invited Papers</td>\n",
       "      <td>203206</td>\n",
       "    </tr>\n",
       "    <tr>\n",
       "      <th>836</th>\n",
       "      <td>494</td>\n",
       "      <td>* ! Imaging Biomarkers in Oncology</td>\n",
       "      <td>https://ww2.amstat.org/meetings/jsm/2008/onlin...</td>\n",
       "      <td>Biopharmaceutical Section, WNAR, Biometrics Se...</td>\n",
       "      <td>Invited Papers</td>\n",
       "      <td>203141</td>\n",
       "    </tr>\n",
       "    <tr>\n",
       "      <th>837</th>\n",
       "      <td>495</td>\n",
       "      <td>Statistical Analysis of Childhood Precursors o...</td>\n",
       "      <td>https://ww2.amstat.org/meetings/jsm/2008/onlin...</td>\n",
       "      <td>ENAR, Section on Statistics in Epidemiology, W...</td>\n",
       "      <td>Invited Papers</td>\n",
       "      <td>203157</td>\n",
       "    </tr>\n",
       "    <tr>\n",
       "      <th>838</th>\n",
       "      <td>497</td>\n",
       "      <td>* Advances in Variable Selection</td>\n",
       "      <td>https://ww2.amstat.org/meetings/jsm/2008/onlin...</td>\n",
       "      <td>IMS, SSC</td>\n",
       "      <td>Invited Papers</td>\n",
       "      <td>203221</td>\n",
       "    </tr>\n",
       "    <tr>\n",
       "      <th>839</th>\n",
       "      <td>498</td>\n",
       "      <td>* New Developments on Analysis of Correlated Data</td>\n",
       "      <td>https://ww2.amstat.org/meetings/jsm/2008/onlin...</td>\n",
       "      <td>WNAR, Biopharmaceutical Section, Biometrics Se...</td>\n",
       "      <td>Invited Papers</td>\n",
       "      <td>203227</td>\n",
       "    </tr>\n",
       "  </tbody>\n",
       "</table>\n",
       "<p>566 rows × 6 columns</p>\n",
       "</div>"
      ],
      "text/plain": [
       "    Session_No                                      Session_Title  \\\n",
       "16      CE_02C               Genetic and Microarray Data Analysis   \n",
       "17      CE_03C                       Optimal Experimental Designs   \n",
       "18      CE_04C                     Regression Modeling Strategies   \n",
       "19      CE_05C                      Hot Topics in Clinical Trials   \n",
       "20      CE_06C                 Successful Data Mining in Practice   \n",
       "21      CE_01C  Generalized Linear Mixed Models: Theory and Ap...   \n",
       "39      CE_07C  Design and Analysis of Epidemiologic Studies o...   \n",
       "41      CE_08C    Modern Practical Bayesian Clinical Trial Design   \n",
       "42      CE_09C               Statistical Challenges in Proteomics   \n",
       "43      CE_10C  Systematically Improving Your Professional Pra...   \n",
       "44      CE_11C                   Principles of Statistical Design   \n",
       "45      CE_01C  Generalized Linear Mixed Models: Theory and Ap...   \n",
       "58      CE_12C                               Sampling in Networks   \n",
       "64          34  * ! Issues Related to the Design of Clinical T...   \n",
       "65          19  * Methodological Challenges Encountered at the...   \n",
       "66          29                   Applications in Health Promotion   \n",
       "67          30  * ! Bayesian Models and Methods for Spatial an...   \n",
       "68          20               * Data-Driven Methods on Survey Data   \n",
       "69          31          Statistical Methods for Clinical Trials I   \n",
       "70          32                  * Methods in Statistical Genomics   \n",
       "71          33                       Likelihood-Based Methodology   \n",
       "72          23  * Linear Modeling Methods for Education Statis...   \n",
       "73          24            Psychometrics and Latent Class Analysis   \n",
       "74          21  ! An Overview of K--16 Poster and Project Comp...   \n",
       "75          13  * Model-Based Inference and Gene Expression Ap...   \n",
       "76          25   * Spatial Variation and Risk Factors for Disease   \n",
       "77          26             * Applications of Survival Time Models   \n",
       "78          14  Study Design Issues in Medical Device Clinical...   \n",
       "79          15                 Time Series I: Seasonal Adjustment   \n",
       "80          27                      Topics in Statistical Testing   \n",
       "..         ...                                                ...   \n",
       "810        518               Improving the Quality of Survey Data   \n",
       "811        520  Statistical Methods for QTL Mapping and Tiling...   \n",
       "812        521            Methods for Integration of Genomic Data   \n",
       "813        519    The Internet, Telecommunications, and Migration   \n",
       "814        506  * ! Surveys and Administrative Records: Data C...   \n",
       "815        507  How To Publish Your Book with the ASA-SIAM Ser...   \n",
       "816        512  Linear Model Extensions and Related Multivaria...   \n",
       "817        511       Analytic Methods with Noncontinuous Outcomes   \n",
       "818        500               * Hypothesis Testing in Neuroimaging   \n",
       "819        508  * Causal Inference and Factor Analysis in the ...   \n",
       "820        509                        Clinical Trials Methodology   \n",
       "821        510                             Model-Based Estimation   \n",
       "822        503                            * Bayesian Applications   \n",
       "823        515  Inspection, Capability, and Classification Ana...   \n",
       "824        514                                          Inference   \n",
       "825        504  * ! Applications of Nonparametric Statistics o...   \n",
       "826        502               Statistical Applications in Business   \n",
       "827        501  * Design and Inferences in Multiregional Clini...   \n",
       "828        513                                 * Linkage Analysis   \n",
       "829        490  * ! Advanced Modeling in Remote Sensing of the...   \n",
       "830        499          ! Teaching Introductory Statistics Online   \n",
       "831        489             ! Stochastic Approximation Monte Carlo   \n",
       "832        493          Global Maximization in EM-Type Algorithms   \n",
       "833        492  * Radiation Exposure Effects Research: Moving ...   \n",
       "834        491  * Nutrition Surveys: Challenges in Design and ...   \n",
       "835        496  * Statistical Methods and Applications of Soci...   \n",
       "836        494                 * ! Imaging Biomarkers in Oncology   \n",
       "837        495  Statistical Analysis of Childhood Precursors o...   \n",
       "838        497                   * Advances in Variable Selection   \n",
       "839        498  * New Developments on Analysis of Correlated Data   \n",
       "\n",
       "                                           Session_URL  \\\n",
       "16   https://ww2.amstat.org/meetings/jsm/2008/onlin...   \n",
       "17   https://ww2.amstat.org/meetings/jsm/2008/onlin...   \n",
       "18   https://ww2.amstat.org/meetings/jsm/2008/onlin...   \n",
       "19   https://ww2.amstat.org/meetings/jsm/2008/onlin...   \n",
       "20   https://ww2.amstat.org/meetings/jsm/2008/onlin...   \n",
       "21   https://ww2.amstat.org/meetings/jsm/2008/onlin...   \n",
       "39   https://ww2.amstat.org/meetings/jsm/2008/onlin...   \n",
       "41   https://ww2.amstat.org/meetings/jsm/2008/onlin...   \n",
       "42   https://ww2.amstat.org/meetings/jsm/2008/onlin...   \n",
       "43   https://ww2.amstat.org/meetings/jsm/2008/onlin...   \n",
       "44   https://ww2.amstat.org/meetings/jsm/2008/onlin...   \n",
       "45   https://ww2.amstat.org/meetings/jsm/2008/onlin...   \n",
       "58   https://ww2.amstat.org/meetings/jsm/2008/onlin...   \n",
       "64   https://ww2.amstat.org/meetings/jsm/2008/onlin...   \n",
       "65   https://ww2.amstat.org/meetings/jsm/2008/onlin...   \n",
       "66   https://ww2.amstat.org/meetings/jsm/2008/onlin...   \n",
       "67   https://ww2.amstat.org/meetings/jsm/2008/onlin...   \n",
       "68   https://ww2.amstat.org/meetings/jsm/2008/onlin...   \n",
       "69   https://ww2.amstat.org/meetings/jsm/2008/onlin...   \n",
       "70   https://ww2.amstat.org/meetings/jsm/2008/onlin...   \n",
       "71   https://ww2.amstat.org/meetings/jsm/2008/onlin...   \n",
       "72   https://ww2.amstat.org/meetings/jsm/2008/onlin...   \n",
       "73   https://ww2.amstat.org/meetings/jsm/2008/onlin...   \n",
       "74   https://ww2.amstat.org/meetings/jsm/2008/onlin...   \n",
       "75   https://ww2.amstat.org/meetings/jsm/2008/onlin...   \n",
       "76   https://ww2.amstat.org/meetings/jsm/2008/onlin...   \n",
       "77   https://ww2.amstat.org/meetings/jsm/2008/onlin...   \n",
       "78   https://ww2.amstat.org/meetings/jsm/2008/onlin...   \n",
       "79   https://ww2.amstat.org/meetings/jsm/2008/onlin...   \n",
       "80   https://ww2.amstat.org/meetings/jsm/2008/onlin...   \n",
       "..                                                 ...   \n",
       "810  https://ww2.amstat.org/meetings/jsm/2008/onlin...   \n",
       "811  https://ww2.amstat.org/meetings/jsm/2008/onlin...   \n",
       "812  https://ww2.amstat.org/meetings/jsm/2008/onlin...   \n",
       "813  https://ww2.amstat.org/meetings/jsm/2008/onlin...   \n",
       "814  https://ww2.amstat.org/meetings/jsm/2008/onlin...   \n",
       "815  https://ww2.amstat.org/meetings/jsm/2008/onlin...   \n",
       "816  https://ww2.amstat.org/meetings/jsm/2008/onlin...   \n",
       "817  https://ww2.amstat.org/meetings/jsm/2008/onlin...   \n",
       "818  https://ww2.amstat.org/meetings/jsm/2008/onlin...   \n",
       "819  https://ww2.amstat.org/meetings/jsm/2008/onlin...   \n",
       "820  https://ww2.amstat.org/meetings/jsm/2008/onlin...   \n",
       "821  https://ww2.amstat.org/meetings/jsm/2008/onlin...   \n",
       "822  https://ww2.amstat.org/meetings/jsm/2008/onlin...   \n",
       "823  https://ww2.amstat.org/meetings/jsm/2008/onlin...   \n",
       "824  https://ww2.amstat.org/meetings/jsm/2008/onlin...   \n",
       "825  https://ww2.amstat.org/meetings/jsm/2008/onlin...   \n",
       "826  https://ww2.amstat.org/meetings/jsm/2008/onlin...   \n",
       "827  https://ww2.amstat.org/meetings/jsm/2008/onlin...   \n",
       "828  https://ww2.amstat.org/meetings/jsm/2008/onlin...   \n",
       "829  https://ww2.amstat.org/meetings/jsm/2008/onlin...   \n",
       "830  https://ww2.amstat.org/meetings/jsm/2008/onlin...   \n",
       "831  https://ww2.amstat.org/meetings/jsm/2008/onlin...   \n",
       "832  https://ww2.amstat.org/meetings/jsm/2008/onlin...   \n",
       "833  https://ww2.amstat.org/meetings/jsm/2008/onlin...   \n",
       "834  https://ww2.amstat.org/meetings/jsm/2008/onlin...   \n",
       "835  https://ww2.amstat.org/meetings/jsm/2008/onlin...   \n",
       "836  https://ww2.amstat.org/meetings/jsm/2008/onlin...   \n",
       "837  https://ww2.amstat.org/meetings/jsm/2008/onlin...   \n",
       "838  https://ww2.amstat.org/meetings/jsm/2008/onlin...   \n",
       "839  https://ww2.amstat.org/meetings/jsm/2008/onlin...   \n",
       "\n",
       "                                              Sponsors  \\\n",
       "16                                                 ASA   \n",
       "17   ASA, Section on Physical and Engineering Sciences   \n",
       "18                                                 ASA   \n",
       "19   Section on Teaching Statistics in the Health S...   \n",
       "20                                                 ASA   \n",
       "21                                                 ASA   \n",
       "39          ASA, Section on Statistics in Epidemiology   \n",
       "41        ASA, Section on Bayesian Statistical Science   \n",
       "42                             ASA, Biometrics Section   \n",
       "43                Committee on Career Development, ASA   \n",
       "44                                                 ASA   \n",
       "45                                                 ASA   \n",
       "58             Section on Survey Research Methods, ASA   \n",
       "64       Biopharmaceutical Section, Biometrics Section   \n",
       "65   Section on Statistics in Epidemiology, Section...   \n",
       "66   Section on Health Policy Statistics, Section o...   \n",
       "67   Section on Bayesian Statistical Science, Secti...   \n",
       "68   Section on Survey Research Methods, Section on...   \n",
       "69       Biometrics Section, Biopharmaceutical Section   \n",
       "70                      ENAR, WNAR, Biometrics Section   \n",
       "71   Biometrics Section, Section on Nonparametric S...   \n",
       "72   Social Statistics Section, Section on Survey R...   \n",
       "73   Section on Survey Research Methods, Section on...   \n",
       "74                    Section on Statistical Education   \n",
       "75   Biometrics Section, Biopharmaceutical Section,...   \n",
       "76   Section on Statistics in Epidemiology, Section...   \n",
       "77   Section on Statistics in Epidemiology, Section...   \n",
       "78   Biopharmaceutical Section, WNAR, Biometrics Se...   \n",
       "79           Business and Economics Statistics Section   \n",
       "80            IMS, Section on Nonparametric Statistics   \n",
       "..                                                 ...   \n",
       "810  Section on Government Statistics, Section on S...   \n",
       "811                                 Biometrics Section   \n",
       "812                                 Biometrics Section   \n",
       "813          Business and Economics Statistics Section   \n",
       "814  Section on Survey Research Methods, Section on...   \n",
       "815                   Section on Statistical Education   \n",
       "816                                 Biometrics Section   \n",
       "817  Section on Survey Research Methods, Section on...   \n",
       "818  Biometrics Section, Biopharmaceutical Section,...   \n",
       "819  Social Statistics Section, Section on Governme...   \n",
       "820  Biometrics Section, Section on Nonparametric S...   \n",
       "821  Section on Survey Research Methods, Section on...   \n",
       "822            Section on Bayesian Statistical Science   \n",
       "823  Section on Quality and Productivity, Section o...   \n",
       "824                   Section on Statistical Computing   \n",
       "825           Section on Nonparametric Statistics, IMS   \n",
       "826          Business and Economics Statistics Section   \n",
       "827      Biopharmaceutical Section, Biometrics Section   \n",
       "828  Section on Statistics in Epidemiology, Biometr...   \n",
       "829  American Geophysical Union, Section on Physica...   \n",
       "830  Section on Statistical Education, Section on T...   \n",
       "831  Section on Bayesian Statistical Science, Secti...   \n",
       "832  Section on Statistical Computing, Section on B...   \n",
       "833  Section on Statistics in Epidemiology, Section...   \n",
       "834  SSC, Section on Survey Research Methods, Socia...   \n",
       "835  Section on Health Policy Statistics, Section o...   \n",
       "836  Biopharmaceutical Section, WNAR, Biometrics Se...   \n",
       "837  ENAR, Section on Statistics in Epidemiology, W...   \n",
       "838                                           IMS, SSC   \n",
       "839  WNAR, Biopharmaceutical Section, Biometrics Se...   \n",
       "\n",
       "                         Type Session_ID  \n",
       "16                  CE Course     203571  \n",
       "17                  CE Course     203572  \n",
       "18                  CE Course     203573  \n",
       "19                  CE Course     203574  \n",
       "20                  CE Course     203575  \n",
       "21                  CE Course     203553  \n",
       "39                  CE Course     203576  \n",
       "41                  CE Course     203577  \n",
       "42                  CE Course     203578  \n",
       "43                  CE Course     203579  \n",
       "44                  CE Course     203580  \n",
       "45                  CE Course     203570  \n",
       "58                  CE Course     203581  \n",
       "64         Contributed Papers     203518  \n",
       "65   Topic Contributed Papers     203435  \n",
       "66         Contributed Papers     203440  \n",
       "67         Contributed Papers     203447  \n",
       "68   Topic Contributed Papers     203461  \n",
       "69         Contributed Papers     203474  \n",
       "70         Contributed Papers     203480  \n",
       "71         Contributed Papers     203484  \n",
       "72         Contributed Papers     203252  \n",
       "73         Contributed Papers     203254  \n",
       "74    Topic Contributed Panel     203283  \n",
       "75   Topic Contributed Papers     203304  \n",
       "76         Contributed Papers     203307  \n",
       "77         Contributed Papers     203311  \n",
       "78   Topic Contributed Papers     203319  \n",
       "79   Topic Contributed Papers     203323  \n",
       "80         Contributed Papers     203333  \n",
       "..                        ...        ...  \n",
       "810        Contributed Papers     203445  \n",
       "811        Contributed Papers     203507  \n",
       "812        Contributed Papers     203511  \n",
       "813        Contributed Papers     203496  \n",
       "814  Topic Contributed Papers     203465  \n",
       "815   Topic Contributed Panel     203287  \n",
       "816        Contributed Papers     203288  \n",
       "817        Contributed Papers     203280  \n",
       "818  Topic Contributed Papers     203300  \n",
       "819        Contributed Papers     203251  \n",
       "820        Contributed Papers     203262  \n",
       "821        Contributed Papers     203273  \n",
       "822  Topic Contributed Papers     203344  \n",
       "823        Contributed Papers     203410  \n",
       "824        Contributed Papers     203382  \n",
       "825  Topic Contributed Papers     203364  \n",
       "826  Topic Contributed Papers     203326  \n",
       "827  Topic Contributed Papers     203312  \n",
       "828        Contributed Papers     203318  \n",
       "829            Invited Papers     203081  \n",
       "830             Invited Panel     203071  \n",
       "831            Invited Papers     203056  \n",
       "832            Invited Papers     203133  \n",
       "833            Invited Papers     203126  \n",
       "834            Invited Papers     203098  \n",
       "835            Invited Papers     203206  \n",
       "836            Invited Papers     203141  \n",
       "837            Invited Papers     203157  \n",
       "838            Invited Papers     203221  \n",
       "839            Invited Papers     203227  \n",
       "\n",
       "[566 rows x 6 columns]"
      ]
     },
     "execution_count": 22,
     "metadata": {},
     "output_type": "execute_result"
    }
   ],
   "source": [
    "df[df['Session_No'].apply(lambda x: bool(re.search(r'(?<!\\d)\\d{1,3}(?!\\d)',x)))]"
   ]
  },
  {
   "cell_type": "code",
   "execution_count": 52,
   "metadata": {
    "collapsed": false
   },
   "outputs": [
    {
     "data": {
      "text/plain": [
       "'https://ww2.amstat.org/meetings/jsm/2008/onlineprogram/index.cfm?fuseaction=activity_details&sessionid=203570'"
      ]
     },
     "execution_count": 52,
     "metadata": {},
     "output_type": "execute_result"
    }
   ],
   "source": [
    "test = df['Session_URL'].iloc[45]\n",
    "test"
   ]
  },
  {
   "cell_type": "code",
   "execution_count": 53,
   "metadata": {
    "collapsed": true
   },
   "outputs": [],
   "source": [
    "r = requests.get(test)\n",
    "soup = BeautifulSoup(r.text, 'lxml')"
   ]
  },
  {
   "cell_type": "code",
   "execution_count": 55,
   "metadata": {
    "collapsed": false
   },
   "outputs": [
    {
     "data": {
      "text/plain": [
       "[]"
      ]
     },
     "execution_count": 55,
     "metadata": {},
     "output_type": "execute_result"
    }
   ],
   "source": [
    "[item.get('href') for item in soup.find_all('a') if re.search('abstract_details', str(item.get('href')))]"
   ]
  },
  {
   "cell_type": "markdown",
   "metadata": {},
   "source": [
    "# Run Code to extract workshops and abstract_urls"
   ]
  },
  {
   "cell_type": "code",
   "execution_count": 32,
   "metadata": {
    "collapsed": true
   },
   "outputs": [],
   "source": [
    "# dataframe of abstracts to scrape with new urls\n",
    "session_url = []\n",
    "abstract_url = []\n",
    "abstract_title = []\n",
    "session_no_v2 = []\n",
    "\n",
    "#dataframe of abstracts already written in the session\n",
    "workshop_abstract = []\n",
    "workshop_session_no = []\n",
    "workshop_session_url = []\n",
    "\n",
    "for link in session_linkToAbstract:\n",
    "    r = requests.get(link)\n",
    "    soup = BeautifulSoup(r.text, 'lxml')\n",
    "    \n",
    "    # extract abstract titles and links\n",
    "    abstract_links = [item.get('href') for item in soup.find_all('a') if re.search('abstract_details', str(item.get('href')))]\n",
    "    \n",
    "    if len(abstract_links) == 0:\n",
    "        try:\n",
    "            abstract_workshop = re.sub(r'(\\n|\\r|\\t)', '', soup.find_all('tr')[9].text)\n",
    "            id_no = soup.find_all('tr')[5].find('strong').text.strip()\n",
    "\n",
    "            workshop_abstract.append(abstract_workshop)\n",
    "            workshop_session_no.append(id_no)\n",
    "            workshop_session_url.append(link)\n",
    "        except:\n",
    "            continue\n",
    "    \n",
    "    else:\n",
    "        abstract_titles = [item.text for item in soup.find_all('a') \n",
    "            if re.search('abstract_details', str(item.get('href')))]\n",
    "\n",
    "        # map back to session id and original link for later joining\n",
    "        session_ids = [soup.find_all('tr')[5].find('strong').text] * len(abstract_links)\n",
    "        original_link = [link] * len(abstract_links)\n",
    "\n",
    "        # create list of \n",
    "        session_url = session_url + original_link\n",
    "        abstract_url = abstract_url + abstract_links\n",
    "        abstract_title = abstract_title + abstract_titles\n",
    "        session_no_v2 = session_no_v2 + session_ids\n",
    "\n",
    "    "
   ]
  },
  {
   "cell_type": "code",
   "execution_count": 43,
   "metadata": {
    "collapsed": false
   },
   "outputs": [
    {
     "data": {
      "text/plain": [
       "True"
      ]
     },
     "execution_count": 43,
     "metadata": {},
     "output_type": "execute_result"
    }
   ],
   "source": [
    "len(session_url) == len(abstract_url) == len(abstract_title) == len(session_no_v2)"
   ]
  },
  {
   "cell_type": "code",
   "execution_count": 44,
   "metadata": {
    "collapsed": false
   },
   "outputs": [
    {
     "data": {
      "text/plain": [
       "2361"
      ]
     },
     "execution_count": 44,
     "metadata": {},
     "output_type": "execute_result"
    }
   ],
   "source": [
    "len(session_url)"
   ]
  },
  {
   "cell_type": "code",
   "execution_count": 45,
   "metadata": {
    "collapsed": false
   },
   "outputs": [
    {
     "data": {
      "text/plain": [
       "True"
      ]
     },
     "execution_count": 45,
     "metadata": {},
     "output_type": "execute_result"
    }
   ],
   "source": [
    "len(workshop_abstract) == len(workshop_session_no) == len(workshop_session_url)"
   ]
  },
  {
   "cell_type": "code",
   "execution_count": 46,
   "metadata": {
    "collapsed": false
   },
   "outputs": [
    {
     "data": {
      "text/plain": [
       "262"
      ]
     },
     "execution_count": 46,
     "metadata": {},
     "output_type": "execute_result"
    }
   ],
   "source": [
    "len(workshop_abstract)"
   ]
  },
  {
   "cell_type": "code",
   "execution_count": 47,
   "metadata": {
    "collapsed": false
   },
   "outputs": [],
   "source": [
    "df_abstracts = pd.DataFrame({'Session_URL': session_url,\n",
    "                            'Abstract_URL' : abstract_url,\n",
    "                            'Abstract_Title': abstract_title,\n",
    "                            'Session_No_v2': session_no_v2})"
   ]
  },
  {
   "cell_type": "code",
   "execution_count": 48,
   "metadata": {
    "collapsed": true
   },
   "outputs": [],
   "source": [
    "df_abstracts['Session_ID'] = df_abstracts['Session_URL'].apply(lambda x: re.sub(r'https\\S+((\\d){6})', r'\\1', x))\n",
    "df_abstracts['Abstract_URL'] = df_abstracts['Abstract_URL'].apply(lambda x: url + x)"
   ]
  },
  {
   "cell_type": "code",
   "execution_count": 49,
   "metadata": {
    "collapsed": false
   },
   "outputs": [
    {
     "data": {
      "text/html": [
       "<div>\n",
       "<table border=\"1\" class=\"dataframe\">\n",
       "  <thead>\n",
       "    <tr style=\"text-align: right;\">\n",
       "      <th></th>\n",
       "      <th>Abstract_Title</th>\n",
       "      <th>Abstract_URL</th>\n",
       "      <th>Session_No_v2</th>\n",
       "      <th>Session_URL</th>\n",
       "      <th>Session_ID</th>\n",
       "    </tr>\n",
       "  </thead>\n",
       "  <tbody>\n",
       "    <tr>\n",
       "      <th>0</th>\n",
       "      <td>Optimal Ray Design for Drug Combinations</td>\n",
       "      <td>https://ww2.amstat.org/meetings/jsm/2008/onlin...</td>\n",
       "      <td>34</td>\n",
       "      <td>https://ww2.amstat.org/meetings/jsm/2008/onlin...</td>\n",
       "      <td>203518</td>\n",
       "    </tr>\n",
       "  </tbody>\n",
       "</table>\n",
       "</div>"
      ],
      "text/plain": [
       "                             Abstract_Title  \\\n",
       "0  Optimal Ray Design for Drug Combinations   \n",
       "\n",
       "                                        Abstract_URL Session_No_v2  \\\n",
       "0  https://ww2.amstat.org/meetings/jsm/2008/onlin...            34   \n",
       "\n",
       "                                         Session_URL Session_ID  \n",
       "0  https://ww2.amstat.org/meetings/jsm/2008/onlin...     203518  "
      ]
     },
     "execution_count": 49,
     "metadata": {},
     "output_type": "execute_result"
    }
   ],
   "source": [
    "df_abstracts.head(1)"
   ]
  },
  {
   "cell_type": "code",
   "execution_count": 50,
   "metadata": {
    "collapsed": true
   },
   "outputs": [],
   "source": [
    "df_workshops = pd.DataFrame({'Session_No': workshop_session_no,\n",
    "                            'Abstract_Text': workshop_abstract,\n",
    "                            'Session_URL': workshop_session_url})\n"
   ]
  },
  {
   "cell_type": "code",
   "execution_count": 51,
   "metadata": {
    "collapsed": false
   },
   "outputs": [],
   "source": [
    "df_workshops['Session_ID']= df_workshops['Session_URL'].apply(lambda x:re.sub(r'https\\S+((\\d){6})', r'\\1', x))\n",
    "df_workshops = df_workshops[df_workshops['Abstract_Text'].str.contains('Organizer\\(s\\)|Chair\\(s\\)') == False]"
   ]
  },
  {
   "cell_type": "code",
   "execution_count": 42,
   "metadata": {
    "collapsed": false
   },
   "outputs": [
    {
     "data": {
      "text/html": [
       "<div>\n",
       "<table border=\"1\" class=\"dataframe\">\n",
       "  <thead>\n",
       "    <tr style=\"text-align: right;\">\n",
       "      <th></th>\n",
       "      <th>Abstract_Text</th>\n",
       "      <th>Session_No</th>\n",
       "      <th>Session_URL</th>\n",
       "      <th>Session_ID</th>\n",
       "    </tr>\n",
       "  </thead>\n",
       "  <tbody>\n",
       "    <tr>\n",
       "      <th>0</th>\n",
       "      <td></td>\n",
       "      <td>Thu, 7/31/08, 7:00 PM - 9:00 PM</td>\n",
       "      <td>https://ww2.amstat.org/meetings/jsm/2008/onlin...</td>\n",
       "      <td>203802</td>\n",
       "    </tr>\n",
       "    <tr>\n",
       "      <th>1</th>\n",
       "      <td></td>\n",
       "      <td>Fri, 8/1/08, 7:30 AM - 8:30 AM</td>\n",
       "      <td>https://ww2.amstat.org/meetings/jsm/2008/onlin...</td>\n",
       "      <td>203803</td>\n",
       "    </tr>\n",
       "    <tr>\n",
       "      <th>2</th>\n",
       "      <td></td>\n",
       "      <td>Fri, 8/1/08, 8:30 AM - 6:00 PM</td>\n",
       "      <td>https://ww2.amstat.org/meetings/jsm/2008/onlin...</td>\n",
       "      <td>203804</td>\n",
       "    </tr>\n",
       "  </tbody>\n",
       "</table>\n",
       "</div>"
      ],
      "text/plain": [
       "  Abstract_Text                       Session_No  \\\n",
       "0                Thu, 7/31/08, 7:00 PM - 9:00 PM   \n",
       "1                 Fri, 8/1/08, 7:30 AM - 8:30 AM   \n",
       "2                 Fri, 8/1/08, 8:30 AM - 6:00 PM   \n",
       "\n",
       "                                         Session_URL Session_ID  \n",
       "0  https://ww2.amstat.org/meetings/jsm/2008/onlin...     203802  \n",
       "1  https://ww2.amstat.org/meetings/jsm/2008/onlin...     203803  \n",
       "2  https://ww2.amstat.org/meetings/jsm/2008/onlin...     203804  "
      ]
     },
     "execution_count": 42,
     "metadata": {},
     "output_type": "execute_result"
    }
   ],
   "source": [
    "df_workshops.head(3)"
   ]
  },
  {
   "cell_type": "code",
   "execution_count": 56,
   "metadata": {
    "collapsed": false,
    "scrolled": true
   },
   "outputs": [],
   "source": [
    "df_abstracts.drop_duplicates(subset = 'Abstract_URL', inplace = True)\n",
    "df_abstracts.reset_index(drop = True, inplace = True)"
   ]
  },
  {
   "cell_type": "code",
   "execution_count": 57,
   "metadata": {
    "collapsed": true
   },
   "outputs": [],
   "source": [
    "df_abstracts.to_excel(r'{}\\2008Abstracts.xlsx'.format(dest))\n",
    "df_workshops.to_excel(r'{}\\2008Workshops.xlsx'.format(dest))"
   ]
  },
  {
   "cell_type": "markdown",
   "metadata": {},
   "source": [
    "# Test extraction of abstract info here"
   ]
  },
  {
   "cell_type": "code",
   "execution_count": 58,
   "metadata": {
    "collapsed": false
   },
   "outputs": [
    {
     "data": {
      "text/plain": [
       "'https://ww2.amstat.org/meetings/jsm/2008/onlineprogram/index.cfm?fuseaction=abstract_details&abstractid=302409'"
      ]
     },
     "execution_count": 58,
     "metadata": {},
     "output_type": "execute_result"
    }
   ],
   "source": [
    "test = df_abstracts['Abstract_URL'].iloc[0]\n",
    "test"
   ]
  },
  {
   "cell_type": "code",
   "execution_count": 59,
   "metadata": {
    "collapsed": true
   },
   "outputs": [],
   "source": [
    "r = requests.get(test)\n",
    "soup = BeautifulSoup(r.text, 'lxml')"
   ]
  },
  {
   "cell_type": "code",
   "execution_count": 63,
   "metadata": {
    "collapsed": false,
    "scrolled": true
   },
   "outputs": [
    {
     "data": {
      "text/plain": [
       "'When two drugs are studied as a mixture in the drug development, one expects the combination works better than any of the drugs works alone. To investigate this, we consider the fixed-ratio ray design that the ratio of drug A to drug B is fixed on a single ray for different doses and the observation will be collected on a few rays (ratios) in the whole experiment. The model under consideration is the nonlinear logistic model and the locally D-optimal design techniques will be applied to locate the optimal ray design which answers the following questions: how many rays are needed? What ratios should one chose? How many subjects should be located on each dose? We also consider the D-optimal design under some restrictions such as the total number of rays and the number of different doses on each ray is limited. Comparison of the optimal design to a random selected ray design is also made. '"
      ]
     },
     "execution_count": 63,
     "metadata": {},
     "output_type": "execute_result"
    }
   ],
   "source": [
    "re.sub(r'\\r|\\n|\\t', '', soup.find_all('tr')[14].find('p').text)"
   ]
  },
  {
   "cell_type": "markdown",
   "metadata": {},
   "source": [
    "# Code to extract abstract details from abstract URLs"
   ]
  },
  {
   "cell_type": "code",
   "execution_count": 64,
   "metadata": {
    "collapsed": false
   },
   "outputs": [],
   "source": [
    "abs_num = []\n",
    "abs_keyword = []\n",
    "abs_type = []\n",
    "abs_text = []\n",
    "\n",
    "for link in df_abstracts['Abstract_URL']:\n",
    "    r = requests.get(link)\n",
    "    soup = BeautifulSoup(r.text, 'lxml')\n",
    "    \n",
    "    # abstract number\n",
    "    try:\n",
    "        number = re.sub(r'\\S+abstractid=(\\d+)', r'\\1', link)\n",
    "        abs_num.append(number)\n",
    "    except:\n",
    "        abs_num.append(None)\n",
    "    \n",
    "    # abstract keywords\n",
    "    try:\n",
    "        keywords = [item.text for item in soup.find_all('a') if re.search('keyword', str(item.get('href')))]\n",
    "        keywords = ', '.join(keywords)\n",
    "        abs_keyword.append(keywords)\n",
    "    except:\n",
    "        abs_keyword.append(None)\n",
    "        \n",
    "    \n",
    "    # abstract type\n",
    "    try:\n",
    "        talk_type = re.sub(r'Type:|\\n|\\r|\\t', '', soup.find_all('tr')[5].text)\n",
    "        abs_type.append(talk_type)\n",
    "    except:\n",
    "        abs_type.append(None)\n",
    "    \n",
    "    # abstract text\n",
    "    try:\n",
    "        abstract_text = re.sub(r'\\r|\\n|\\t', '', soup.find_all('tr')[14].find('p').text)\n",
    "        abs_text.append(abstract_text)\n",
    "    except:\n",
    "        abs_text.append(None)\n",
    "    "
   ]
  },
  {
   "cell_type": "code",
   "execution_count": 65,
   "metadata": {
    "collapsed": true
   },
   "outputs": [],
   "source": [
    "df_abstracts['Abstract_ID'] = abs_num\n",
    "df_abstracts['Abstract_Keywords'] = abs_keyword\n",
    "df_abstracts['Abstract_Type'] = abs_type\n",
    "df_abstracts['Abstract_Text'] = abs_text"
   ]
  },
  {
   "cell_type": "code",
   "execution_count": 66,
   "metadata": {
    "collapsed": true
   },
   "outputs": [],
   "source": [
    "df_abstracts.to_excel(r'{}\\2008Abstracts.xlsx'.format(dest))"
   ]
  },
  {
   "cell_type": "code",
   "execution_count": 67,
   "metadata": {
    "collapsed": false,
    "scrolled": true
   },
   "outputs": [
    {
     "data": {
      "text/html": [
       "<div>\n",
       "<table border=\"1\" class=\"dataframe\">\n",
       "  <thead>\n",
       "    <tr style=\"text-align: right;\">\n",
       "      <th></th>\n",
       "      <th>Abstract_Title</th>\n",
       "      <th>Abstract_URL</th>\n",
       "      <th>Session_No_v2</th>\n",
       "      <th>Session_URL</th>\n",
       "      <th>Session_ID</th>\n",
       "      <th>Abstract_ID</th>\n",
       "      <th>Abstract_Keywords</th>\n",
       "      <th>Abstract_Type</th>\n",
       "      <th>Abstract_Text</th>\n",
       "    </tr>\n",
       "  </thead>\n",
       "  <tbody>\n",
       "    <tr>\n",
       "      <th>0</th>\n",
       "      <td>Optimal Ray Design for Drug Combinations</td>\n",
       "      <td>https://ww2.amstat.org/meetings/jsm/2008/onlin...</td>\n",
       "      <td>34</td>\n",
       "      <td>https://ww2.amstat.org/meetings/jsm/2008/onlin...</td>\n",
       "      <td>203518</td>\n",
       "      <td>302409</td>\n",
       "      <td>drug combination, fixed-ratio ray design, loca...</td>\n",
       "      <td>Contributed</td>\n",
       "      <td>When two drugs are studied as a mixture in the...</td>\n",
       "    </tr>\n",
       "  </tbody>\n",
       "</table>\n",
       "</div>"
      ],
      "text/plain": [
       "                             Abstract_Title  \\\n",
       "0  Optimal Ray Design for Drug Combinations   \n",
       "\n",
       "                                        Abstract_URL Session_No_v2  \\\n",
       "0  https://ww2.amstat.org/meetings/jsm/2008/onlin...            34   \n",
       "\n",
       "                                         Session_URL Session_ID Abstract_ID  \\\n",
       "0  https://ww2.amstat.org/meetings/jsm/2008/onlin...     203518      302409   \n",
       "\n",
       "                                   Abstract_Keywords Abstract_Type  \\\n",
       "0  drug combination, fixed-ratio ray design, loca...   Contributed   \n",
       "\n",
       "                                       Abstract_Text  \n",
       "0  When two drugs are studied as a mixture in the...  "
      ]
     },
     "execution_count": 67,
     "metadata": {},
     "output_type": "execute_result"
    }
   ],
   "source": [
    "df_abstracts.head(1)"
   ]
  },
  {
   "cell_type": "code",
   "execution_count": 68,
   "metadata": {
    "collapsed": false
   },
   "outputs": [],
   "source": [
    "df_details = df_workshops.append(df_abstracts)"
   ]
  },
  {
   "cell_type": "code",
   "execution_count": 69,
   "metadata": {
    "collapsed": false
   },
   "outputs": [
    {
     "data": {
      "text/html": [
       "<div>\n",
       "<table border=\"1\" class=\"dataframe\">\n",
       "  <thead>\n",
       "    <tr style=\"text-align: right;\">\n",
       "      <th></th>\n",
       "      <th>Session_No</th>\n",
       "      <th>Session_Title</th>\n",
       "      <th>Session_URL</th>\n",
       "      <th>Sponsors</th>\n",
       "      <th>Type</th>\n",
       "      <th>Session_ID</th>\n",
       "    </tr>\n",
       "  </thead>\n",
       "  <tbody>\n",
       "  </tbody>\n",
       "</table>\n",
       "</div>"
      ],
      "text/plain": [
       "Empty DataFrame\n",
       "Columns: [Session_No, Session_Title, Session_URL, Sponsors, Type, Session_ID]\n",
       "Index: []"
      ]
     },
     "execution_count": 69,
     "metadata": {},
     "output_type": "execute_result"
    }
   ],
   "source": [
    "df.head(0)"
   ]
  },
  {
   "cell_type": "code",
   "execution_count": 70,
   "metadata": {
    "collapsed": false
   },
   "outputs": [],
   "source": [
    "df_final = df_details.merge(df[['Session_Title', 'Sponsors', 'Type', 'Session_ID']], on = 'Session_ID', how= 'outer')"
   ]
  },
  {
   "cell_type": "code",
   "execution_count": 71,
   "metadata": {
    "collapsed": false
   },
   "outputs": [],
   "source": [
    "df_final['Unique'] = df_final['Session_ID'].map(str) + df_final['Abstract_ID'].map(str)"
   ]
  },
  {
   "cell_type": "code",
   "execution_count": 72,
   "metadata": {
    "collapsed": true
   },
   "outputs": [],
   "source": [
    "df_final.drop_duplicates(subset= 'Unique', inplace = True)\n",
    "df_final.reset_index(drop = True, inplace = True)"
   ]
  },
  {
   "cell_type": "code",
   "execution_count": 73,
   "metadata": {
    "collapsed": false
   },
   "outputs": [],
   "source": [
    "df_final['Session_No'] = df_final['Session_No'].apply(lambda x: x if bool(str(x).startswith('CE') or str(x)[0].isdigit()) else \"\")"
   ]
  },
  {
   "cell_type": "code",
   "execution_count": 74,
   "metadata": {
    "collapsed": true
   },
   "outputs": [],
   "source": [
    "df_final['Session_No_Keep'] = df_final['Session_No_v2'].combine_first(df_final['Session_No'])"
   ]
  },
  {
   "cell_type": "code",
   "execution_count": 75,
   "metadata": {
    "collapsed": false
   },
   "outputs": [],
   "source": [
    "del df_final['Session_No']\n",
    "del df_final['Session_No_v2']"
   ]
  },
  {
   "cell_type": "code",
   "execution_count": 76,
   "metadata": {
    "collapsed": false
   },
   "outputs": [],
   "source": [
    "df_final.rename(columns = {'Session_No_Keep': 'Session_No'}, inplace=True)"
   ]
  },
  {
   "cell_type": "code",
   "execution_count": 77,
   "metadata": {
    "collapsed": false
   },
   "outputs": [],
   "source": [
    "new_dest = r'C:\\Users\\Thaunga\\Scripts\\02. Presentations\\JSM\\Final Data'\n",
    "df_final.to_excel(r'{}\\2008_JSM_data.xlsx'.format(new_dest))"
   ]
  },
  {
   "cell_type": "code",
   "execution_count": null,
   "metadata": {
    "collapsed": true
   },
   "outputs": [],
   "source": []
  }
 ],
 "metadata": {
  "kernelspec": {
   "display_name": "Python 3",
   "language": "python",
   "name": "python3"
  },
  "language_info": {
   "codemirror_mode": {
    "name": "ipython",
    "version": 3
   },
   "file_extension": ".py",
   "mimetype": "text/x-python",
   "name": "python",
   "nbconvert_exporter": "python",
   "pygments_lexer": "ipython3",
   "version": "3.5.2"
  }
 },
 "nbformat": 4,
 "nbformat_minor": 2
}
